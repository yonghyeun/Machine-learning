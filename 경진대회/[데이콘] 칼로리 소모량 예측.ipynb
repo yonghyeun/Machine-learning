{
 "cells": [
  {
   "cell_type": "code",
   "execution_count": 238,
   "metadata": {},
   "outputs": [],
   "source": [
    "import pandas as pd\n",
    "import numpy as np\n",
    "import matplotlib.pyplot as plt\n",
    "import seaborn as sns\n",
    "\n",
    "from sklearn.model_selection import train_test_split,GridSearchCV, KFold,RandomizedSearchCV\n",
    "from sklearn.metrics import mean_squared_error\n",
    "\n",
    "from xgboost import XGBRegressor\n",
    "import xgboost as xgb\n",
    "import optuna\n",
    "\n",
    "import warnings"
   ]
  },
  {
   "cell_type": "code",
   "execution_count": 210,
   "metadata": {},
   "outputs": [],
   "source": [
    "warnings.filterwarnings(action = 'ignore')"
   ]
  },
  {
   "cell_type": "code",
   "execution_count": 261,
   "metadata": {},
   "outputs": [],
   "source": [
    "train = pd.read_csv('C:/Users/whileduck/Desktop/open/train.csv')\n",
    "test = pd.read_csv('C:/Users/whileduck/Desktop/open/test.csv')"
   ]
  },
  {
   "cell_type": "code",
   "execution_count": 262,
   "metadata": {},
   "outputs": [],
   "source": [
    "def min_max_scaling(x):\n",
    "    return (x - np.min(x)) / (max(x) - min(x))\n",
    "\n",
    "def scaler(df):\n",
    "    \n",
    "    cols = df.describe().columns\n",
    "    \n",
    "    for col in cols:\n",
    "        \n",
    "        if col != 'Calories_Burned':\n",
    "            df[col] = min_max_scaling(df[col])\n",
    "        \n",
    "    return df"
   ]
  },
  {
   "cell_type": "code",
   "execution_count": 263,
   "metadata": {},
   "outputs": [],
   "source": [
    "def preprocessing(df):\n",
    "    \n",
    "    df['height'] = df['Height(Feet)'] + df['Height(Remainder_Inches)'] * 0.12\n",
    "        \n",
    "    df = scaler(df)\n",
    "    df = df.drop(['ID','Height(Feet)','Height(Remainder_Inches)'], axis = 1)\n",
    "    \n",
    "    df = pd.get_dummies(df)\n",
    "    \n",
    "    \n",
    "    \n",
    "    return df"
   ]
  },
  {
   "cell_type": "code",
   "execution_count": 264,
   "metadata": {},
   "outputs": [],
   "source": [
    "df = preprocessing(train)\n",
    "test = preprocessing(test)"
   ]
  },
  {
   "cell_type": "code",
   "execution_count": 265,
   "metadata": {},
   "outputs": [],
   "source": [
    "X = df.drop('Calories_Burned',axis = 1)\n",
    "Y = df['Calories_Burned']"
   ]
  },
  {
   "cell_type": "code",
   "execution_count": 271,
   "metadata": {},
   "outputs": [
    {
     "name": "stderr",
     "output_type": "stream",
     "text": [
      "\u001b[32m[I 2023-04-15 00:56:36,519]\u001b[0m A new study created in memory with name: no-name-5ebe5f63-8b19-432d-8bf4-074beef2d238\u001b[0m\n",
      "\u001b[32m[I 2023-04-15 00:57:04,093]\u001b[0m Trial 0 finished with value: 2.715522758868214 and parameters: {'n_estimators': 475, 'max_depth': 8, 'learning_rate': 0.40034516024978795, 'subsample': 0.8956143777320931, 'colsample_bytree': 0.9496366810595533, 'gamma': 0.5064639560553709, 'reg_alpha': 0.8807472180219483, 'reg_lambda': 0.12245564276894386, 'min_child_weight': 280}. Best is trial 0 with value: 2.715522758868214.\u001b[0m\n",
      "\u001b[32m[I 2023-04-15 00:57:24,328]\u001b[0m Trial 1 finished with value: 3.165553652306867 and parameters: {'n_estimators': 400, 'max_depth': 6, 'learning_rate': 0.3861823686519149, 'subsample': 0.7430302972577711, 'colsample_bytree': 0.9234177720281542, 'gamma': 2.0478428943424234, 'reg_alpha': 0.8081801288539079, 'reg_lambda': 0.28678642523812176, 'min_child_weight': 265}. Best is trial 0 with value: 2.715522758868214.\u001b[0m\n",
      "\u001b[32m[I 2023-04-15 00:57:39,255]\u001b[0m Trial 2 finished with value: 2.7026467396259464 and parameters: {'n_estimators': 241, 'max_depth': 10, 'learning_rate': 0.40553816822975197, 'subsample': 0.5761190014944211, 'colsample_bytree': 0.7378930040753345, 'gamma': 1.924771088068984, 'reg_alpha': 0.13669087419693682, 'reg_lambda': 0.30555711344283953, 'min_child_weight': 142}. Best is trial 2 with value: 2.7026467396259464.\u001b[0m\n",
      "\u001b[32m[I 2023-04-15 00:58:19,729]\u001b[0m Trial 3 finished with value: 0.6016988269136554 and parameters: {'n_estimators': 569, 'max_depth': 8, 'learning_rate': 0.1559251946468971, 'subsample': 0.5773198926382174, 'colsample_bytree': 0.8586219694365917, 'gamma': 0.7744383982994374, 'reg_alpha': 0.7790196343189003, 'reg_lambda': 0.7753463165089306, 'min_child_weight': 15}. Best is trial 3 with value: 0.6016988269136554.\u001b[0m\n",
      "\u001b[32m[I 2023-04-15 00:58:58,446]\u001b[0m Trial 4 finished with value: 1.6161538342463104 and parameters: {'n_estimators': 742, 'max_depth': 8, 'learning_rate': 0.49799598596824246, 'subsample': 0.7253415549577895, 'colsample_bytree': 0.7206572027704725, 'gamma': 1.8991169037732019, 'reg_alpha': 0.8493364492206117, 'reg_lambda': 0.1975810340052861, 'min_child_weight': 147}. Best is trial 3 with value: 0.6016988269136554.\u001b[0m\n",
      "\u001b[32m[I 2023-04-15 00:59:11,649]\u001b[0m Trial 5 finished with value: 2.0974475060540896 and parameters: {'n_estimators': 281, 'max_depth': 7, 'learning_rate': 0.35731655373075644, 'subsample': 0.7665442460591448, 'colsample_bytree': 0.7059512579563244, 'gamma': 0.9541925704541909, 'reg_alpha': 0.9260002460783086, 'reg_lambda': 0.8726004834735123, 'min_child_weight': 130}. Best is trial 3 with value: 0.6016988269136554.\u001b[0m\n",
      "\u001b[32m[I 2023-04-15 00:59:23,472]\u001b[0m Trial 6 finished with value: 3.073566327539163 and parameters: {'n_estimators': 246, 'max_depth': 7, 'learning_rate': 0.40960312742826555, 'subsample': 0.60654675207223, 'colsample_bytree': 0.9525720711028127, 'gamma': 1.470023320825408, 'reg_alpha': 0.8889227567641239, 'reg_lambda': 0.15386678537490553, 'min_child_weight': 196}. Best is trial 3 with value: 0.6016988269136554.\u001b[0m\n",
      "\u001b[32m[I 2023-04-15 00:59:58,149]\u001b[0m Trial 7 finished with value: 2.9440913841247727 and parameters: {'n_estimators': 627, 'max_depth': 10, 'learning_rate': 0.18079006435338876, 'subsample': 0.9158907360995411, 'colsample_bytree': 0.8929113863432291, 'gamma': 2.6513398320333312, 'reg_alpha': 0.7410358649707147, 'reg_lambda': 0.009385470527818802, 'min_child_weight': 299}. Best is trial 3 with value: 0.6016988269136554.\u001b[0m\n",
      "\u001b[32m[I 2023-04-15 01:00:30,041]\u001b[0m Trial 8 finished with value: 2.254668710124001 and parameters: {'n_estimators': 497, 'max_depth': 9, 'learning_rate': 0.16893442361430788, 'subsample': 0.5466588589465153, 'colsample_bytree': 0.9856048402281932, 'gamma': 0.9044653532667812, 'reg_alpha': 0.813461002922437, 'reg_lambda': 0.7359221680942061, 'min_child_weight': 123}. Best is trial 3 with value: 0.6016988269136554.\u001b[0m\n",
      "\u001b[32m[I 2023-04-15 01:00:48,257]\u001b[0m Trial 9 finished with value: 1.2437827219234259 and parameters: {'n_estimators': 467, 'max_depth': 5, 'learning_rate': 0.29855573401129876, 'subsample': 0.5858529202937054, 'colsample_bytree': 0.7959070801834388, 'gamma': 1.9113396729587655, 'reg_alpha': 0.5100799952242924, 'reg_lambda': 0.9767823328086196, 'min_child_weight': 27}. Best is trial 3 with value: 0.6016988269136554.\u001b[0m\n",
      "\u001b[32m[I 2023-04-15 01:01:10,362]\u001b[0m Trial 10 finished with value: 1.3425036651811555 and parameters: {'n_estimators': 638, 'max_depth': 4, 'learning_rate': 0.12465909624630868, 'subsample': 0.5048861238379785, 'colsample_bytree': 0.8537815565877163, 'gamma': 0.010151494936958994, 'reg_alpha': 0.611925578835188, 'reg_lambda': 0.5908635206000178, 'min_child_weight': 17}. Best is trial 3 with value: 0.6016988269136554.\u001b[0m\n",
      "\u001b[32m[I 2023-04-15 01:01:30,808]\u001b[0m Trial 11 finished with value: 0.934816424304303 and parameters: {'n_estimators': 603, 'max_depth': 4, 'learning_rate': 0.25206786760073535, 'subsample': 0.634982522527852, 'colsample_bytree': 0.7920613374876604, 'gamma': 2.9188111877229637, 'reg_alpha': 0.47756675586089353, 'reg_lambda': 0.9778362709318379, 'min_child_weight': 4}. Best is trial 3 with value: 0.6016988269136554.\u001b[0m\n",
      "\u001b[32m[I 2023-04-15 01:01:47,185]\u001b[0m Trial 12 finished with value: 1.847381754431013 and parameters: {'n_estimators': 627, 'max_depth': 3, 'learning_rate': 0.22750967609495806, 'subsample': 0.6554851389297188, 'colsample_bytree': 0.8193249815793902, 'gamma': 2.582195241790534, 'reg_alpha': 0.34625317662869554, 'reg_lambda': 0.8035849579373548, 'min_child_weight': 65}. Best is trial 3 with value: 0.6016988269136554.\u001b[0m\n",
      "\u001b[32m[I 2023-04-15 01:02:18,420]\u001b[0m Trial 13 finished with value: 1.5106871280185241 and parameters: {'n_estimators': 800, 'max_depth': 5, 'learning_rate': 0.245247183779114, 'subsample': 0.647006314439202, 'colsample_bytree': 0.7852435524822814, 'gamma': 2.6760332841967758, 'reg_alpha': 0.6370148927369798, 'reg_lambda': 0.9885715565234998, 'min_child_weight': 74}. Best is trial 3 with value: 0.6016988269136554.\u001b[0m\n",
      "\u001b[32m[I 2023-04-15 01:02:36,162]\u001b[0m Trial 14 finished with value: 1.3563666046736895 and parameters: {'n_estimators': 590, 'max_depth': 3, 'learning_rate': 0.12693622383673017, 'subsample': 0.50369551837344, 'colsample_bytree': 0.8557387380502238, 'gamma': 2.817688739521452, 'reg_alpha': 0.44959393397871483, 'reg_lambda': 0.6224320950253952, 'min_child_weight': 4}. Best is trial 3 with value: 0.6016988269136554.\u001b[0m\n",
      "\u001b[32m[I 2023-04-15 01:02:54,183]\u001b[0m Trial 15 finished with value: 1.7276179249260075 and parameters: {'n_estimators': 365, 'max_depth': 6, 'learning_rate': 0.23474120924607494, 'subsample': 0.6658052734884996, 'colsample_bytree': 0.8777282539296526, 'gamma': 2.938573053572662, 'reg_alpha': 0.9848129367331209, 'reg_lambda': 0.7418082695192723, 'min_child_weight': 67}. Best is trial 3 with value: 0.6016988269136554.\u001b[0m\n",
      "\u001b[32m[I 2023-04-15 01:03:25,964]\u001b[0m Trial 16 finished with value: 2.9750589684667736 and parameters: {'n_estimators': 560, 'max_depth': 8, 'learning_rate': 0.11424744553172411, 'subsample': 0.6319832546676752, 'colsample_bytree': 0.8220083729208668, 'gamma': 1.2680174631345489, 'reg_alpha': 0.6776925704974381, 'reg_lambda': 0.8710373888257553, 'min_child_weight': 203}. Best is trial 3 with value: 0.6016988269136554.\u001b[0m\n",
      "\u001b[32m[I 2023-04-15 01:03:52,897]\u001b[0m Trial 17 finished with value: 1.2548684968072172 and parameters: {'n_estimators': 703, 'max_depth': 5, 'learning_rate': 0.19454253362489052, 'subsample': 0.7034412779451763, 'colsample_bytree': 0.7522077423868464, 'gamma': 2.3119989367418685, 'reg_alpha': 0.30815667742449937, 'reg_lambda': 0.5196665312289238, 'min_child_weight': 46}. Best is trial 3 with value: 0.6016988269136554.\u001b[0m\n",
      "\u001b[32m[I 2023-04-15 01:04:10,182]\u001b[0m Trial 18 finished with value: 2.1909594580016987 and parameters: {'n_estimators': 545, 'max_depth': 4, 'learning_rate': 0.2812414952636317, 'subsample': 0.5572220467484712, 'colsample_bytree': 0.7868093957939457, 'gamma': 1.5915056060119979, 'reg_alpha': 0.5883175263851517, 'reg_lambda': 0.6633555385870094, 'min_child_weight': 90}. Best is trial 3 with value: 0.6016988269136554.\u001b[0m\n",
      "\u001b[32m[I 2023-04-15 01:05:10,479]\u001b[0m Trial 19 finished with value: 0.5343453341816475 and parameters: {'n_estimators': 698, 'max_depth': 9, 'learning_rate': 0.15835824214869146, 'subsample': 0.7698365327102207, 'colsample_bytree': 0.8279949848445802, 'gamma': 2.3146462842929325, 'reg_alpha': 0.7481889604169711, 'reg_lambda': 0.8930163981136476, 'min_child_weight': 2}. Best is trial 19 with value: 0.5343453341816475.\u001b[0m\n",
      "\u001b[32m[I 2023-04-15 01:05:54,971]\u001b[0m Trial 20 finished with value: 1.504352046877059 and parameters: {'n_estimators': 701, 'max_depth': 9, 'learning_rate': 0.15496368804441327, 'subsample': 0.8062263872753969, 'colsample_bytree': 0.8376280367563889, 'gamma': 2.348261750327395, 'reg_alpha': 0.7186641320713827, 'reg_lambda': 0.47495294659867576, 'min_child_weight': 101}. Best is trial 19 with value: 0.5343453341816475.\u001b[0m\n",
      "\u001b[32m[I 2023-04-15 01:06:50,665]\u001b[0m Trial 21 finished with value: 0.5867554784632263 and parameters: {'n_estimators': 680, 'max_depth': 9, 'learning_rate': 0.10217826105419286, 'subsample': 0.6878217903457979, 'colsample_bytree': 0.7616885848971122, 'gamma': 2.8766826667699887, 'reg_alpha': 0.7634437777175485, 'reg_lambda': 0.902744432946444, 'min_child_weight': 1}. Best is trial 19 with value: 0.5343453341816475.\u001b[0m\n",
      "\u001b[32m[I 2023-04-15 01:07:37,598]\u001b[0m Trial 22 finished with value: 0.9796984311375982 and parameters: {'n_estimators': 684, 'max_depth': 9, 'learning_rate': 0.10317666085405339, 'subsample': 0.8050444138150966, 'colsample_bytree': 0.8796286183235246, 'gamma': 2.4074403316346165, 'reg_alpha': 0.7167762129007396, 'reg_lambda': 0.8667921506966241, 'min_child_weight': 39}. Best is trial 19 with value: 0.5343453341816475.\u001b[0m\n",
      "\u001b[32m[I 2023-04-15 01:08:33,377]\u001b[0m Trial 23 finished with value: 0.8993284324381035 and parameters: {'n_estimators': 800, 'max_depth': 9, 'learning_rate': 0.14853236606324885, 'subsample': 0.7044925985983205, 'colsample_bytree': 0.7586185720732364, 'gamma': 2.922689672307056, 'reg_alpha': 0.7624972152794592, 'reg_lambda': 0.7880297083206858, 'min_child_weight': 41}. Best is trial 19 with value: 0.5343453341816475.\u001b[0m\n",
      "\u001b[32m[I 2023-04-15 01:09:35,049]\u001b[0m Trial 24 finished with value: 0.5357878301734335 and parameters: {'n_estimators': 743, 'max_depth': 10, 'learning_rate': 0.10297116894626317, 'subsample': 0.981929276561879, 'colsample_bytree': 0.8177187603443647, 'gamma': 2.131518730834081, 'reg_alpha': 0.7861634167107385, 'reg_lambda': 0.9218105284779934, 'min_child_weight': 3}. Best is trial 19 with value: 0.5343453341816475.\u001b[0m\n",
      "\u001b[32m[I 2023-04-15 01:10:18,931]\u001b[0m Trial 25 finished with value: 2.2132892805803186 and parameters: {'n_estimators': 743, 'max_depth': 10, 'learning_rate': 0.10063170543798836, 'subsample': 0.8708714512247306, 'colsample_bytree': 0.8158208267940299, 'gamma': 2.2668081469291894, 'reg_alpha': 0.9892780535012629, 'reg_lambda': 0.9234289490601623, 'min_child_weight': 184}. Best is trial 19 with value: 0.5343453341816475.\u001b[0m\n",
      "\u001b[32m[I 2023-04-15 01:11:08,941]\u001b[0m Trial 26 finished with value: 0.8872284135309794 and parameters: {'n_estimators': 747, 'max_depth': 10, 'learning_rate': 0.2051638014686008, 'subsample': 0.9974790508024537, 'colsample_bytree': 0.7603744023304924, 'gamma': 2.5281459410532863, 'reg_alpha': 0.670809915295427, 'reg_lambda': 0.9047546446577278, 'min_child_weight': 52}. Best is trial 19 with value: 0.5343453341816475.\u001b[0m\n",
      "\u001b[32m[I 2023-04-15 01:11:59,719]\u001b[0m Trial 27 finished with value: 0.5452603595642401 and parameters: {'n_estimators': 662, 'max_depth': 9, 'learning_rate': 0.13900680248816047, 'subsample': 0.9628715755737967, 'colsample_bytree': 0.7727197861515622, 'gamma': 2.1496476826501416, 'reg_alpha': 0.8260880594660325, 'reg_lambda': 0.828459043345235, 'min_child_weight': 2}. Best is trial 19 with value: 0.5343453341816475.\u001b[0m\n",
      "\u001b[32m[I 2023-04-15 01:12:41,956]\u001b[0m Trial 28 finished with value: 1.3597645290882094 and parameters: {'n_estimators': 659, 'max_depth': 10, 'learning_rate': 0.19391020292861905, 'subsample': 0.994627070703022, 'colsample_bytree': 0.830960507821808, 'gamma': 2.1518634467755633, 'reg_alpha': 0.9073640715315145, 'reg_lambda': 0.8313126057309805, 'min_child_weight': 108}. Best is trial 19 with value: 0.5343453341816475.\u001b[0m\n",
      "\u001b[32m[I 2023-04-15 01:13:20,525]\u001b[0m Trial 29 finished with value: 0.7798902769386218 and parameters: {'n_estimators': 765, 'max_depth': 7, 'learning_rate': 0.1358928389701832, 'subsample': 0.9600031295797464, 'colsample_bytree': 0.8035713325849864, 'gamma': 1.7446296269937291, 'reg_alpha': 0.8459898909719133, 'reg_lambda': 0.6993239961833092, 'min_child_weight': 29}. Best is trial 19 with value: 0.5343453341816475.\u001b[0m\n",
      "\u001b[32m[I 2023-04-15 01:13:46,286]\u001b[0m Trial 30 finished with value: 2.4703808527647535 and parameters: {'n_estimators': 523, 'max_depth': 8, 'learning_rate': 0.14668069385585522, 'subsample': 0.8930375436924147, 'colsample_bytree': 0.7742004511583884, 'gamma': 2.0638571780365975, 'reg_alpha': 0.8636315391239812, 'reg_lambda': 0.8210902128794512, 'min_child_weight': 230}. Best is trial 19 with value: 0.5343453341816475.\u001b[0m\n",
      "\u001b[32m[I 2023-04-15 01:14:39,086]\u001b[0m Trial 31 finished with value: 0.5654330421621762 and parameters: {'n_estimators': 678, 'max_depth': 9, 'learning_rate': 0.10343155903592105, 'subsample': 0.933722632491471, 'colsample_bytree': 0.8067932684906732, 'gamma': 2.47491228638178, 'reg_alpha': 0.757419293783568, 'reg_lambda': 0.937262958150234, 'min_child_weight': 1}. Best is trial 19 with value: 0.5343453341816475.\u001b[0m\n",
      "\u001b[32m[I 2023-04-15 01:15:25,248]\u001b[0m Trial 32 finished with value: 0.7363854836932003 and parameters: {'n_estimators': 717, 'max_depth': 9, 'learning_rate': 0.1344052150761906, 'subsample': 0.9445583072713888, 'colsample_bytree': 0.8090238228039454, 'gamma': 2.4501302765192006, 'reg_alpha': 0.9359648176099522, 'reg_lambda': 0.9462693216525561, 'min_child_weight': 24}. Best is trial 19 with value: 0.5343453341816475.\u001b[0m\n",
      "\u001b[32m[I 2023-04-15 01:16:09,558]\u001b[0m Trial 33 finished with value: 0.9392858293171432 and parameters: {'n_estimators': 661, 'max_depth': 10, 'learning_rate': 0.17157465133139096, 'subsample': 0.96094902209704, 'colsample_bytree': 0.8384754924367653, 'gamma': 2.1666154161558, 'reg_alpha': 0.8288414538647145, 'reg_lambda': 0.9916299861091424, 'min_child_weight': 56}. Best is trial 19 with value: 0.5343453341816475.\u001b[0m\n",
      "\u001b[32m[I 2023-04-15 01:16:36,893]\u001b[0m Trial 34 finished with value: 1.401619154264125 and parameters: {'n_estimators': 456, 'max_depth': 9, 'learning_rate': 0.12393151948239521, 'subsample': 0.8644913769574475, 'colsample_bytree': 0.8066980037574912, 'gamma': 2.191809585312638, 'reg_alpha': 0.7705617062946424, 'reg_lambda': 0.8377960798070787, 'min_child_weight': 78}. Best is trial 19 with value: 0.5343453341816475.\u001b[0m\n",
      "\u001b[32m[I 2023-04-15 01:17:23,004]\u001b[0m Trial 35 finished with value: 0.6265293470669157 and parameters: {'n_estimators': 773, 'max_depth': 8, 'learning_rate': 0.1600567935634779, 'subsample': 0.931968088360373, 'colsample_bytree': 0.7754111940832215, 'gamma': 1.9841161515558694, 'reg_alpha': 0.8090272275938332, 'reg_lambda': 0.9321066177844405, 'min_child_weight': 16}. Best is trial 19 with value: 0.5343453341816475.\u001b[0m\n",
      "\u001b[32m[I 2023-04-15 01:18:10,293]\u001b[0m Trial 36 finished with value: 0.5375171921059696 and parameters: {'n_estimators': 717, 'max_depth': 8, 'learning_rate': 0.1342467372043572, 'subsample': 0.9715950039551946, 'colsample_bytree': 0.733929738288613, 'gamma': 1.8002725331466547, 'reg_alpha': 0.6940805183985495, 'reg_lambda': 0.7848402805766848, 'min_child_weight': 1}. Best is trial 19 with value: 0.5343453341816475.\u001b[0m\n",
      "\u001b[32m[I 2023-04-15 01:18:50,661]\u001b[0m Trial 37 finished with value: 0.7476588925425613 and parameters: {'n_estimators': 725, 'max_depth': 8, 'learning_rate': 0.17632816433166568, 'subsample': 0.9740835362428382, 'colsample_bytree': 0.7231352302696632, 'gamma': 1.815652564987991, 'reg_alpha': 0.7081553532838757, 'reg_lambda': 0.7555808211656838, 'min_child_weight': 34}. Best is trial 19 with value: 0.5343453341816475.\u001b[0m\n",
      "\u001b[32m[I 2023-04-15 01:19:10,629]\u001b[0m Trial 38 finished with value: 1.2816717996389406 and parameters: {'n_estimators': 407, 'max_depth': 7, 'learning_rate': 0.14675972909870602, 'subsample': 0.9082534671567268, 'colsample_bytree': 0.7317235882892595, 'gamma': 2.0225206224712746, 'reg_alpha': 0.8777060535953838, 'reg_lambda': 0.8660001468363978, 'min_child_weight': 52}. Best is trial 19 with value: 0.5343453341816475.\u001b[0m\n",
      "\u001b[32m[I 2023-04-15 01:20:06,893]\u001b[0m Trial 39 finished with value: 0.5658255025907405 and parameters: {'n_estimators': 768, 'max_depth': 10, 'learning_rate': 0.1271010989988115, 'subsample': 0.9837983304742537, 'colsample_bytree': 0.701135529522086, 'gamma': 1.6755395248886946, 'reg_alpha': 0.8023139215130107, 'reg_lambda': 0.789022980590988, 'min_child_weight': 14}. Best is trial 19 with value: 0.5343453341816475.\u001b[0m\n",
      "\u001b[32m[I 2023-04-15 01:20:36,018]\u001b[0m Trial 40 finished with value: 2.3882248582525856 and parameters: {'n_estimators': 598, 'max_depth': 8, 'learning_rate': 0.20489640136250242, 'subsample': 0.9522912117601975, 'colsample_bytree': 0.736588778130106, 'gamma': 1.8166961112821607, 'reg_alpha': 0.5717782573775164, 'reg_lambda': 0.7317758397402302, 'min_child_weight': 249}. Best is trial 19 with value: 0.5343453341816475.\u001b[0m\n",
      "\u001b[32m[I 2023-04-15 01:21:23,594]\u001b[0m Trial 41 finished with value: 0.5624096503362022 and parameters: {'n_estimators': 660, 'max_depth': 9, 'learning_rate': 0.11133542025364344, 'subsample': 0.9322012392674515, 'colsample_bytree': 0.7424499957527725, 'gamma': 2.2999060009293184, 'reg_alpha': 0.6850886754545872, 'reg_lambda': 0.9238152653997068, 'min_child_weight': 5}. Best is trial 19 with value: 0.5343453341816475.\u001b[0m\n",
      "\u001b[32m[I 2023-04-15 01:22:01,023]\u001b[0m Trial 42 finished with value: 1.810269688003792 and parameters: {'n_estimators': 636, 'max_depth': 10, 'learning_rate': 0.1605759493241714, 'subsample': 0.977301590994936, 'colsample_bytree': 0.7243843641278697, 'gamma': 2.0450429679760256, 'reg_alpha': 0.6804451912692948, 'reg_lambda': 0.8801432858251271, 'min_child_weight': 169}. Best is trial 19 with value: 0.5343453341816475.\u001b[0m\n",
      "\u001b[32m[I 2023-04-15 01:22:48,980]\u001b[0m Trial 43 finished with value: 0.6446841164017117 and parameters: {'n_estimators': 726, 'max_depth': 9, 'learning_rate': 0.12099015632495085, 'subsample': 0.9328224251656457, 'colsample_bytree': 0.7477280241685813, 'gamma': 2.2654455024111364, 'reg_alpha': 0.6375260306114577, 'reg_lambda': 0.8308273966031, 'min_child_weight': 17}. Best is trial 19 with value: 0.5343453341816475.\u001b[0m\n",
      "\u001b[32m[I 2023-04-15 01:23:25,526]\u001b[0m Trial 44 finished with value: 0.8224650216796766 and parameters: {'n_estimators': 663, 'max_depth': 8, 'learning_rate': 0.13879691910067257, 'subsample': 0.9996636729964761, 'colsample_bytree': 0.7107742829791853, 'gamma': 2.1623293199827627, 'reg_alpha': 0.8185665957890434, 'reg_lambda': 0.946034121012133, 'min_child_weight': 29}. Best is trial 19 with value: 0.5343453341816475.\u001b[0m\n",
      "\u001b[32m[I 2023-04-15 01:23:40,808]\u001b[0m Trial 45 finished with value: 0.7549087953587601 and parameters: {'n_estimators': 202, 'max_depth': 10, 'learning_rate': 0.1803077866383347, 'subsample': 0.9720414021829775, 'colsample_bytree': 0.740676952792942, 'gamma': 1.9013970656400772, 'reg_alpha': 0.7335500817831035, 'reg_lambda': 0.7887427994728383, 'min_child_weight': 15}. Best is trial 19 with value: 0.5343453341816475.\u001b[0m\n",
      "\u001b[32m[I 2023-04-15 01:24:27,561]\u001b[0m Trial 46 finished with value: 0.5837097066646862 and parameters: {'n_estimators': 607, 'max_depth': 9, 'learning_rate': 0.11817632843275475, 'subsample': 0.9160081658702335, 'colsample_bytree': 0.7751999639569764, 'gamma': 2.6602231477086025, 'reg_alpha': 0.7855292501841157, 'reg_lambda': 0.9976817925017448, 'min_child_weight': 2}. Best is trial 19 with value: 0.5343453341816475.\u001b[0m\n",
      "\u001b[32m[I 2023-04-15 01:25:02,339]\u001b[0m Trial 47 finished with value: 0.883884975706553 and parameters: {'n_estimators': 700, 'max_depth': 7, 'learning_rate': 0.1586079266842145, 'subsample': 0.95198094205688, 'colsample_bytree': 0.7122437326668627, 'gamma': 2.384893521645113, 'reg_alpha': 0.8582116349344551, 'reg_lambda': 0.8984244662840073, 'min_child_weight': 36}. Best is trial 19 with value: 0.5343453341816475.\u001b[0m\n",
      "\u001b[32m[I 2023-04-15 01:25:42,811]\u001b[0m Trial 48 finished with value: 1.6662944227344412 and parameters: {'n_estimators': 748, 'max_depth': 8, 'learning_rate': 0.13527868635371643, 'subsample': 0.8899822252518249, 'colsample_bytree': 0.7419004365685742, 'gamma': 1.4956215412508223, 'reg_alpha': 0.65029887412543, 'reg_lambda': 0.8533090126865904, 'min_child_weight': 131}. Best is trial 19 with value: 0.5343453341816475.\u001b[0m\n",
      "\u001b[32m[I 2023-04-15 01:26:02,415]\u001b[0m Trial 49 finished with value: 1.3935434946880119 and parameters: {'n_estimators': 321, 'max_depth': 9, 'learning_rate': 0.11791326770988061, 'subsample': 0.9157259299206802, 'colsample_bytree': 0.7988476729187708, 'gamma': 1.9409296108660525, 'reg_alpha': 0.9310121805483956, 'reg_lambda': 0.9475296136057457, 'min_child_weight': 61}. Best is trial 19 with value: 0.5343453341816475.\u001b[0m\n",
      "\u001b[32m[I 2023-04-15 01:26:48,650]\u001b[0m Trial 50 finished with value: 0.6805114932529351 and parameters: {'n_estimators': 639, 'max_depth': 10, 'learning_rate': 0.16914090527793124, 'subsample': 0.9708699744197397, 'colsample_bytree': 0.7671826451802508, 'gamma': 2.5593426853227017, 'reg_alpha': 0.7231369990431091, 'reg_lambda': 0.7973575987926792, 'min_child_weight': 21}. Best is trial 19 with value: 0.5343453341816475.\u001b[0m\n",
      "\u001b[32m[I 2023-04-15 01:27:38,456]\u001b[0m Trial 51 finished with value: 0.5722208561822184 and parameters: {'n_estimators': 681, 'max_depth': 9, 'learning_rate': 0.11600604164596678, 'subsample': 0.9377937880389888, 'colsample_bytree': 0.7902946010468015, 'gamma': 2.4834056024916613, 'reg_alpha': 0.7593303241509098, 'reg_lambda': 0.9187711191166187, 'min_child_weight': 4}. Best is trial 19 with value: 0.5343453341816475.\u001b[0m\n",
      "\u001b[32m[I 2023-04-15 01:28:23,984]\u001b[0m Trial 52 finished with value: 0.6012118875871273 and parameters: {'n_estimators': 649, 'max_depth': 9, 'learning_rate': 0.10628424252740838, 'subsample': 0.9333720664820577, 'colsample_bytree': 0.8261421962072935, 'gamma': 2.2642173064931645, 'reg_alpha': 0.6900619747744344, 'reg_lambda': 0.9617267961829391, 'min_child_weight': 12}. Best is trial 19 with value: 0.5343453341816475.\u001b[0m\n",
      "\u001b[32m[I 2023-04-15 01:29:01,156]\u001b[0m Trial 53 finished with value: 0.8403375477149974 and parameters: {'n_estimators': 573, 'max_depth': 9, 'learning_rate': 0.10065026736024046, 'subsample': 0.9632403413680846, 'colsample_bytree': 0.8461042453354569, 'gamma': 2.404643192839923, 'reg_alpha': 0.7991128437994783, 'reg_lambda': 0.9045855090924341, 'min_child_weight': 27}. Best is trial 19 with value: 0.5343453341816475.\u001b[0m\n",
      "\u001b[32m[I 2023-04-15 01:30:01,193]\u001b[0m Trial 54 finished with value: 0.5305623341511213 and parameters: {'n_estimators': 712, 'max_depth': 10, 'learning_rate': 0.139811608890231, 'subsample': 0.9822422864823424, 'colsample_bytree': 0.8135225283401107, 'gamma': 2.1031006343011995, 'reg_alpha': 0.7438587483883594, 'reg_lambda': 0.868623684800461, 'min_child_weight': 3}. Best is trial 54 with value: 0.5305623341511213.\u001b[0m\n",
      "\u001b[32m[I 2023-04-15 01:30:54,153]\u001b[0m Trial 55 finished with value: 0.7779382923829203 and parameters: {'n_estimators': 781, 'max_depth': 10, 'learning_rate': 0.1448922675485322, 'subsample': 0.9842611941142496, 'colsample_bytree': 0.7901733774718845, 'gamma': 2.082952441094241, 'reg_alpha': 0.6350861970690749, 'reg_lambda': 0.8600570704747363, 'min_child_weight': 40}. Best is trial 54 with value: 0.5305623341511213.\u001b[0m\n",
      "\u001b[32m[I 2023-04-15 01:31:39,286]\u001b[0m Trial 56 finished with value: 0.5858544619555988 and parameters: {'n_estimators': 619, 'max_depth': 10, 'learning_rate': 0.1362440331738105, 'subsample': 0.9979794601983175, 'colsample_bytree': 0.7834849899175924, 'gamma': 1.8700255007982372, 'reg_alpha': 0.583044827055975, 'reg_lambda': 0.7634473648574904, 'min_child_weight': 13}. Best is trial 54 with value: 0.5305623341511213.\u001b[0m\n",
      "\u001b[32m[I 2023-04-15 01:32:27,115]\u001b[0m Trial 57 finished with value: 1.2835200012225045 and parameters: {'n_estimators': 719, 'max_depth': 10, 'learning_rate': 0.15433552733176767, 'subsample': 0.750424459774325, 'colsample_bytree': 0.7515510425618923, 'gamma': 2.7532361365495293, 'reg_alpha': 0.7107997152625365, 'reg_lambda': 0.8186829173688992, 'min_child_weight': 78}. Best is trial 54 with value: 0.5305623341511213.\u001b[0m\n",
      "\u001b[32m[I 2023-04-15 01:33:06,166]\u001b[0m Trial 58 finished with value: 0.8896757442283564 and parameters: {'n_estimators': 697, 'max_depth': 8, 'learning_rate': 0.19016018883060473, 'subsample': 0.9798904344070526, 'colsample_bytree': 0.8191156512389487, 'gamma': 2.2881344162806583, 'reg_alpha': 0.853099380365904, 'reg_lambda': 0.8854918269819656, 'min_child_weight': 45}. Best is trial 54 with value: 0.5305623341511213.\u001b[0m\n",
      "\u001b[32m[I 2023-04-15 01:33:43,312]\u001b[0m Trial 59 finished with value: 2.7156854343736834 and parameters: {'n_estimators': 741, 'max_depth': 9, 'learning_rate': 0.21568516885354233, 'subsample': 0.9495448378610929, 'colsample_bytree': 0.7662709747268006, 'gamma': 1.9717017395411882, 'reg_alpha': 0.737643714871538, 'reg_lambda': 0.7127687984070745, 'min_child_weight': 293}. Best is trial 54 with value: 0.5305623341511213.\u001b[0m\n",
      "\u001b[32m[I 2023-04-15 01:34:31,160]\u001b[0m Trial 60 finished with value: 0.6404071267318099 and parameters: {'n_estimators': 712, 'max_depth': 10, 'learning_rate': 0.1673372235439278, 'subsample': 0.8734358053383232, 'colsample_bytree': 0.7529000944438408, 'gamma': 1.6532299893524631, 'reg_alpha': 0.7848286663191076, 'reg_lambda': 0.9720481275894648, 'min_child_weight': 26}. Best is trial 54 with value: 0.5305623341511213.\u001b[0m\n",
      "\u001b[32m[I 2023-04-15 01:34:59,690]\u001b[0m Trial 61 finished with value: 0.6924701280468123 and parameters: {'n_estimators': 674, 'max_depth': 6, 'learning_rate': 0.11176894326423248, 'subsample': 0.9251196826531197, 'colsample_bytree': 0.8133184274849424, 'gamma': 2.5786129079516487, 'reg_alpha': 0.7488853024471578, 'reg_lambda': 0.931329554579656, 'min_child_weight': 2}. Best is trial 54 with value: 0.5305623341511213.\u001b[0m\n",
      "\u001b[32m[I 2023-04-15 01:35:46,516]\u001b[0m Trial 62 finished with value: 0.5955303099219467 and parameters: {'n_estimators': 692, 'max_depth': 9, 'learning_rate': 0.12549651773376608, 'subsample': 0.9488210215934881, 'colsample_bytree': 0.80175427318679, 'gamma': 2.3708279098875504, 'reg_alpha': 0.6707648913846419, 'reg_lambda': 0.8516395216264594, 'min_child_weight': 10}. Best is trial 54 with value: 0.5305623341511213.\u001b[0m\n",
      "\u001b[32m[I 2023-04-15 01:36:50,206]\u001b[0m Trial 63 finished with value: 0.5223090717686433 and parameters: {'n_estimators': 790, 'max_depth': 9, 'learning_rate': 0.11312437675695931, 'subsample': 0.9070086441509289, 'colsample_bytree': 0.8271251885954382, 'gamma': 2.131631929567305, 'reg_alpha': 0.8254897451097152, 'reg_lambda': 0.964880161297258, 'min_child_weight': 3}. Best is trial 63 with value: 0.5223090717686433.\u001b[0m\n",
      "\u001b[32m[I 2023-04-15 01:37:40,420]\u001b[0m Trial 64 finished with value: 0.6536340833955744 and parameters: {'n_estimators': 796, 'max_depth': 9, 'learning_rate': 0.1458112701898052, 'subsample': 0.9061393933385252, 'colsample_bytree': 0.8480427490740925, 'gamma': 2.0984851200370427, 'reg_alpha': 0.8290428762185753, 'reg_lambda': 0.8909437217258019, 'min_child_weight': 22}. Best is trial 63 with value: 0.5223090717686433.\u001b[0m\n",
      "\u001b[32m[I 2023-04-15 01:38:18,393]\u001b[0m Trial 65 finished with value: 0.8174267763792885 and parameters: {'n_estimators': 754, 'max_depth': 8, 'learning_rate': 0.12860894886612906, 'subsample': 0.9663217847795191, 'colsample_bytree': 0.8332751154631557, 'gamma': 2.230839395189138, 'reg_alpha': 0.8731476690929594, 'reg_lambda': 0.9698644830970398, 'min_child_weight': 31}. Best is trial 63 with value: 0.5223090717686433.\u001b[0m\n",
      "\u001b[32m[I 2023-04-15 01:39:15,602]\u001b[0m Trial 66 finished with value: 0.544095235549656 and parameters: {'n_estimators': 733, 'max_depth': 10, 'learning_rate': 0.11356107807650219, 'subsample': 0.8531438731991249, 'colsample_bytree': 0.8614095321252275, 'gamma': 2.1228108590551393, 'reg_alpha': 0.8996955938533363, 'reg_lambda': 0.9148166446834094, 'min_child_weight': 9}. Best is trial 63 with value: 0.5223090717686433.\u001b[0m\n",
      "\u001b[32m[I 2023-04-15 01:40:06,890]\u001b[0m Trial 67 finished with value: 0.8366299996981346 and parameters: {'n_estimators': 782, 'max_depth': 10, 'learning_rate': 0.1848272693475136, 'subsample': 0.7959279549691856, 'colsample_bytree': 0.8639944754486852, 'gamma': 2.1340830680511274, 'reg_alpha': 0.8872643811447057, 'reg_lambda': 0.818042307287594, 'min_child_weight': 49}. Best is trial 63 with value: 0.5223090717686433.\u001b[0m\n",
      "\u001b[32m[I 2023-04-15 01:41:00,662]\u001b[0m Trial 68 finished with value: 0.5352776417637551 and parameters: {'n_estimators': 734, 'max_depth': 10, 'learning_rate': 0.13995595368751385, 'subsample': 0.8591837040498038, 'colsample_bytree': 0.8242287501991217, 'gamma': 1.9591360471222787, 'reg_alpha': 0.9573185569843508, 'reg_lambda': 0.9982404886280762, 'min_child_weight': 10}. Best is trial 63 with value: 0.5223090717686433.\u001b[0m\n",
      "\u001b[32m[I 2023-04-15 01:41:50,990]\u001b[0m Trial 69 finished with value: 0.8013684821603448 and parameters: {'n_estimators': 733, 'max_depth': 10, 'learning_rate': 0.1514347527253209, 'subsample': 0.8396393826803588, 'colsample_bytree': 0.8619531914602829, 'gamma': 1.9777842269583101, 'reg_alpha': 0.9616505159668782, 'reg_lambda': 0.8995746861008953, 'min_child_weight': 38}. Best is trial 63 with value: 0.5223090717686433.\u001b[0m\n",
      "\u001b[32m[I 2023-04-15 01:42:39,680]\u001b[0m Trial 70 finished with value: 1.1267622076797095 and parameters: {'n_estimators': 757, 'max_depth': 10, 'learning_rate': 0.10043796745798726, 'subsample': 0.8414961978435754, 'colsample_bytree': 0.8212642882264226, 'gamma': 1.7617790322577251, 'reg_alpha': 0.9248914308768135, 'reg_lambda': 0.9911455521937053, 'min_child_weight': 68}. Best is trial 63 with value: 0.5223090717686433.\u001b[0m\n",
      "\u001b[32m[I 2023-04-15 01:43:40,294]\u001b[0m Trial 71 finished with value: 0.5532870527426297 and parameters: {'n_estimators': 734, 'max_depth': 10, 'learning_rate': 0.13218365011514827, 'subsample': 0.8972400658281002, 'colsample_bytree': 0.8277108632916308, 'gamma': 2.0754989605363576, 'reg_alpha': 0.9064851268446484, 'reg_lambda': 0.9990296298184942, 'min_child_weight': 11}. Best is trial 63 with value: 0.5223090717686433.\u001b[0m\n",
      "\u001b[32m[I 2023-04-15 01:44:40,850]\u001b[0m Trial 72 finished with value: 0.6620834589180351 and parameters: {'n_estimators': 781, 'max_depth': 10, 'learning_rate': 0.14124860923214771, 'subsample': 0.921396377012558, 'colsample_bytree': 0.8422770411847751, 'gamma': 2.1894306584175682, 'reg_alpha': 0.8378257690486107, 'reg_lambda': 0.9599568722576639, 'min_child_weight': 23}. Best is trial 63 with value: 0.5223090717686433.\u001b[0m\n",
      "\u001b[32m[I 2023-04-15 01:45:43,345]\u001b[0m Trial 73 finished with value: 0.498371376314255 and parameters: {'n_estimators': 713, 'max_depth': 10, 'learning_rate': 0.11638763958053784, 'subsample': 0.96088253630415, 'colsample_bytree': 0.8346127300874772, 'gamma': 1.9121066176264705, 'reg_alpha': 0.9603621428995969, 'reg_lambda': 0.8628521361950747, 'min_child_weight': 1}. Best is trial 73 with value: 0.498371376314255.\u001b[0m\n",
      "\u001b[32m[I 2023-04-15 01:46:41,532]\u001b[0m Trial 74 finished with value: 0.534225297065453 and parameters: {'n_estimators': 761, 'max_depth': 10, 'learning_rate': 0.11292747278527296, 'subsample': 0.8866791227901017, 'colsample_bytree': 0.8364775696132163, 'gamma': 1.8811183399166365, 'reg_alpha': 0.9688685025287563, 'reg_lambda': 0.8719357577367896, 'min_child_weight': 11}. Best is trial 73 with value: 0.498371376314255.\u001b[0m\n",
      "\u001b[32m[I 2023-04-15 01:47:32,527]\u001b[0m Trial 75 finished with value: 0.5924977457947709 and parameters: {'n_estimators': 761, 'max_depth': 10, 'learning_rate': 0.12613805724495425, 'subsample': 0.8782308342961024, 'colsample_bytree': 0.8361183589504395, 'gamma': 1.7745344140501114, 'reg_alpha': 0.9652372409302594, 'reg_lambda': 0.875740233335565, 'min_child_weight': 19}. Best is trial 73 with value: 0.498371376314255.\u001b[0m\n",
      "\u001b[32m[I 2023-04-15 01:48:09,547]\u001b[0m Trial 76 finished with value: 1.8195676286579523 and parameters: {'n_estimators': 710, 'max_depth': 10, 'learning_rate': 0.16178866041384496, 'subsample': 0.9016234634029021, 'colsample_bytree': 0.8147023161359753, 'gamma': 1.9365251408474922, 'reg_alpha': 0.9822277719011707, 'reg_lambda': 0.7689162953359612, 'min_child_weight': 160}. Best is trial 73 with value: 0.498371376314255.\u001b[0m\n",
      "\u001b[32m[I 2023-04-15 01:48:59,351]\u001b[0m Trial 77 finished with value: 0.6612130061148952 and parameters: {'n_estimators': 800, 'max_depth': 10, 'learning_rate': 0.17560283124771953, 'subsample': 0.9480378589268836, 'colsample_bytree': 0.8288741398486561, 'gamma': 1.5610935474004772, 'reg_alpha': 0.9940543998934553, 'reg_lambda': 0.8521634499930847, 'min_child_weight': 34}. Best is trial 73 with value: 0.498371376314255.\u001b[0m\n",
      "\u001b[32m[I 2023-04-15 01:49:38,675]\u001b[0m Trial 78 finished with value: 2.120338497526467 and parameters: {'n_estimators': 767, 'max_depth': 10, 'learning_rate': 0.11395849024194647, 'subsample': 0.9877144964177192, 'colsample_bytree': 0.8501416353769923, 'gamma': 2.013547696632541, 'reg_alpha': 0.9516765003429529, 'reg_lambda': 0.9563936045787086, 'min_child_weight': 213}. Best is trial 73 with value: 0.498371376314255.\u001b[0m\n",
      "\u001b[32m[I 2023-04-15 01:50:22,608]\u001b[0m Trial 79 finished with value: 0.5560253851953283 and parameters: {'n_estimators': 712, 'max_depth': 9, 'learning_rate': 0.12296199687300195, 'subsample': 0.9176603868091469, 'colsample_bytree': 0.8397897508322022, 'gamma': 1.865426569623963, 'reg_alpha': 0.9279252445527022, 'reg_lambda': 0.9303157268031979, 'min_child_weight': 11}. Best is trial 73 with value: 0.498371376314255.\u001b[0m\n",
      "\u001b[32m[I 2023-04-15 01:51:26,235]\u001b[0m Trial 80 finished with value: 0.493582988479725 and parameters: {'n_estimators': 785, 'max_depth': 10, 'learning_rate': 0.15316868882450735, 'subsample': 0.8837397530058844, 'colsample_bytree': 0.8104605699563275, 'gamma': 1.849810262860675, 'reg_alpha': 0.950041173082163, 'reg_lambda': 0.8814057807959284, 'min_child_weight': 1}. Best is trial 80 with value: 0.493582988479725.\u001b[0m\n",
      "\u001b[32m[I 2023-04-15 01:52:17,280]\u001b[0m Trial 81 finished with value: 0.6040956652302824 and parameters: {'n_estimators': 783, 'max_depth': 10, 'learning_rate': 0.14722842838420158, 'subsample': 0.8810486903433447, 'colsample_bytree': 0.8075760455744625, 'gamma': 1.8533863895602543, 'reg_alpha': 0.9588555750923622, 'reg_lambda': 0.8743748861746354, 'min_child_weight': 20}. Best is trial 80 with value: 0.493582988479725.\u001b[0m\n",
      "\u001b[32m[I 2023-04-15 01:53:17,059]\u001b[0m Trial 82 finished with value: 0.4809740226948194 and parameters: {'n_estimators': 753, 'max_depth': 10, 'learning_rate': 0.13308388990265863, 'subsample': 0.9059989448554313, 'colsample_bytree': 0.7974906616951953, 'gamma': 1.6896272035459874, 'reg_alpha': 0.8845432907591179, 'reg_lambda': 0.810881097627782, 'min_child_weight': 2}. Best is trial 82 with value: 0.4809740226948194.\u001b[0m\n",
      "\u001b[32m[I 2023-04-15 01:54:13,311]\u001b[0m Trial 83 finished with value: 0.5205789177394105 and parameters: {'n_estimators': 751, 'max_depth': 10, 'learning_rate': 0.15277182883163218, 'subsample': 0.884249257728415, 'colsample_bytree': 0.8191330456602793, 'gamma': 1.907138343453297, 'reg_alpha': 0.9970458842561793, 'reg_lambda': 0.8425600608332385, 'min_child_weight': 8}. Best is trial 82 with value: 0.4809740226948194.\u001b[0m\n",
      "\u001b[32m[I 2023-04-15 01:55:08,345]\u001b[0m Trial 84 finished with value: 0.5006610939206556 and parameters: {'n_estimators': 750, 'max_depth': 10, 'learning_rate': 0.1640176844930317, 'subsample': 0.8909245648704073, 'colsample_bytree': 0.8241830845631236, 'gamma': 1.705399826398438, 'reg_alpha': 0.899126676613388, 'reg_lambda': 0.8359773474052361, 'min_child_weight': 9}. Best is trial 82 with value: 0.4809740226948194.\u001b[0m\n",
      "\u001b[32m[I 2023-04-15 01:55:58,937]\u001b[0m Trial 85 finished with value: 0.647870777322203 and parameters: {'n_estimators': 788, 'max_depth': 10, 'learning_rate': 0.15840025618877474, 'subsample': 0.8832865806538855, 'colsample_bytree': 0.8125324982892508, 'gamma': 1.6847472271530555, 'reg_alpha': 0.994115119651976, 'reg_lambda': 0.8067211074345199, 'min_child_weight': 28}. Best is trial 82 with value: 0.4809740226948194.\u001b[0m\n",
      "\u001b[32m[I 2023-04-15 01:56:48,044]\u001b[0m Trial 86 finished with value: 0.5818708850522568 and parameters: {'n_estimators': 750, 'max_depth': 10, 'learning_rate': 0.1666126608995991, 'subsample': 0.909620264099065, 'colsample_bytree': 0.7970856848547941, 'gamma': 1.7360263121730486, 'reg_alpha': 0.9064600832637617, 'reg_lambda': 0.8388884550556298, 'min_child_weight': 19}. Best is trial 82 with value: 0.4809740226948194.\u001b[0m\n",
      "\u001b[32m[I 2023-04-15 01:57:35,638]\u001b[0m Trial 87 finished with value: 0.7527960201573747 and parameters: {'n_estimators': 769, 'max_depth': 10, 'learning_rate': 0.17343307855284015, 'subsample': 0.8913462248186595, 'colsample_bytree': 0.835020508776275, 'gamma': 1.4494170463099887, 'reg_alpha': 0.8804734130020009, 'reg_lambda': 0.8070166005801632, 'min_child_weight': 44}. Best is trial 82 with value: 0.4809740226948194.\u001b[0m\n",
      "\u001b[32m[I 2023-04-15 01:58:25,223]\u001b[0m Trial 88 finished with value: 0.5335317704084543 and parameters: {'n_estimators': 758, 'max_depth': 9, 'learning_rate': 0.15289877481310835, 'subsample': 0.8779062833972918, 'colsample_bytree': 0.8213119106868714, 'gamma': 1.9063232953245282, 'reg_alpha': 0.9284373772975838, 'reg_lambda': 0.839241150084631, 'min_child_weight': 9}. Best is trial 82 with value: 0.4809740226948194.\u001b[0m\n",
      "\u001b[32m[I 2023-04-15 01:58:51,884]\u001b[0m Trial 89 finished with value: 0.7035269381718374 and parameters: {'n_estimators': 755, 'max_depth': 5, 'learning_rate': 0.18492883109063918, 'subsample': 0.897578309369904, 'colsample_bytree': 0.8033791957288778, 'gamma': 1.8948726128886324, 'reg_alpha': 0.9357364506394601, 'reg_lambda': 0.746396906124244, 'min_child_weight': 8}. Best is trial 82 with value: 0.4809740226948194.\u001b[0m\n",
      "\u001b[32m[I 2023-04-15 01:59:41,155]\u001b[0m Trial 90 finished with value: 0.7090484515620694 and parameters: {'n_estimators': 774, 'max_depth': 10, 'learning_rate': 0.15121737269811594, 'subsample': 0.867830735533285, 'colsample_bytree': 0.8171847378851278, 'gamma': 1.8238987308989436, 'reg_alpha': 0.9020756339435448, 'reg_lambda': 0.8372590044203226, 'min_child_weight': 32}. Best is trial 82 with value: 0.4809740226948194.\u001b[0m\n",
      "\u001b[32m[I 2023-04-15 02:00:33,586]\u001b[0m Trial 91 finished with value: 0.5370803791775011 and parameters: {'n_estimators': 793, 'max_depth': 9, 'learning_rate': 0.15535609672589645, 'subsample': 0.8815531134130786, 'colsample_bytree': 0.8254228784635811, 'gamma': 2.0262018887106605, 'reg_alpha': 0.8602821115830939, 'reg_lambda': 0.8905594153103172, 'min_child_weight': 8}. Best is trial 82 with value: 0.4809740226948194.\u001b[0m\n",
      "\u001b[32m[I 2023-04-15 02:01:23,150]\u001b[0m Trial 92 finished with value: 0.5052424782550529 and parameters: {'n_estimators': 692, 'max_depth': 9, 'learning_rate': 0.12945491597759518, 'subsample': 0.9008549485721341, 'colsample_bytree': 0.8106917536106872, 'gamma': 1.7316537586349932, 'reg_alpha': 0.980202469864667, 'reg_lambda': 0.7778319639458091, 'min_child_weight': 1}. Best is trial 82 with value: 0.4809740226948194.\u001b[0m\n",
      "\u001b[32m[I 2023-04-15 02:02:08,205]\u001b[0m Trial 93 finished with value: 0.5884921410615033 and parameters: {'n_estimators': 745, 'max_depth': 9, 'learning_rate': 0.126840055887968, 'subsample': 0.9065533612162691, 'colsample_bytree': 0.8107927139432838, 'gamma': 1.6067519907705805, 'reg_alpha': 0.979956551451093, 'reg_lambda': 0.7760905936501231, 'min_child_weight': 17}. Best is trial 82 with value: 0.4809740226948194.\u001b[0m\n",
      "\u001b[32m[I 2023-04-15 02:02:49,243]\u001b[0m Trial 94 finished with value: 0.5007176204095233 and parameters: {'n_estimators': 491, 'max_depth': 10, 'learning_rate': 0.11056218309887086, 'subsample': 0.8895084528212932, 'colsample_bytree': 0.795487512490754, 'gamma': 1.723160110183973, 'reg_alpha': 0.99622279964194, 'reg_lambda': 0.859080172421163, 'min_child_weight': 1}. Best is trial 82 with value: 0.4809740226948194.\u001b[0m\n",
      "\u001b[32m[I 2023-04-15 02:03:41,071]\u001b[0m Trial 95 finished with value: 0.5032082997593782 and parameters: {'n_estimators': 724, 'max_depth': 9, 'learning_rate': 0.14174958567730214, 'subsample': 0.8978595194936367, 'colsample_bytree': 0.7988503274223182, 'gamma': 1.7102334506849122, 'reg_alpha': 0.999460219525063, 'reg_lambda': 0.8070250507216755, 'min_child_weight': 1}. Best is trial 82 with value: 0.4809740226948194.\u001b[0m\n",
      "\u001b[32m[I 2023-04-15 02:03:55,642]\u001b[0m Trial 96 finished with value: 1.047541875636726 and parameters: {'n_estimators': 482, 'max_depth': 4, 'learning_rate': 0.13157194787775167, 'subsample': 0.9256698992532628, 'colsample_bytree': 0.7961442960590913, 'gamma': 1.7271741153030282, 'reg_alpha': 0.9902230673089834, 'reg_lambda': 0.7685488102705518, 'min_child_weight': 1}. Best is trial 82 with value: 0.4809740226948194.\u001b[0m\n",
      "\u001b[32m[I 2023-04-15 02:04:28,868]\u001b[0m Trial 97 finished with value: 0.7298915585088823 and parameters: {'n_estimators': 514, 'max_depth': 10, 'learning_rate': 0.10791450607061899, 'subsample': 0.8943608713136223, 'colsample_bytree': 0.7837529981817373, 'gamma': 1.6922683043349556, 'reg_alpha': 0.9982099094107257, 'reg_lambda': 0.8004318038510828, 'min_child_weight': 24}. Best is trial 82 with value: 0.4809740226948194.\u001b[0m\n",
      "\u001b[32m[I 2023-04-15 02:05:01,267]\u001b[0m Trial 98 finished with value: 0.51631575656173 and parameters: {'n_estimators': 396, 'max_depth': 10, 'learning_rate': 0.12066579349244506, 'subsample': 0.9144677338536281, 'colsample_bytree': 0.7945098905236606, 'gamma': 1.8054305784139266, 'reg_alpha': 0.9542753352348026, 'reg_lambda': 0.7306280390129797, 'min_child_weight': 1}. Best is trial 82 with value: 0.4809740226948194.\u001b[0m\n",
      "\u001b[32m[I 2023-04-15 02:05:28,134]\u001b[0m Trial 99 finished with value: 0.6993708025420557 and parameters: {'n_estimators': 449, 'max_depth': 9, 'learning_rate': 0.11817227476666727, 'subsample': 0.9122374487442733, 'colsample_bytree': 0.8015608090423184, 'gamma': 1.8092960939485814, 'reg_alpha': 0.9453807067552422, 'reg_lambda': 0.7366998828166494, 'min_child_weight': 18}. Best is trial 82 with value: 0.4809740226948194.\u001b[0m\n"
     ]
    },
    {
     "ename": "TypeError",
     "evalue": "'dict' object is not callable",
     "output_type": "error",
     "traceback": [
      "\u001b[1;31m---------------------------------------------------------------------------\u001b[0m",
      "\u001b[1;31mTypeError\u001b[0m                                 Traceback (most recent call last)",
      "\u001b[1;32m~\\AppData\\Local\\Temp\\ipykernel_24832\\1626670138.py\u001b[0m in \u001b[0;36m<module>\u001b[1;34m\u001b[0m\n\u001b[0;32m     62\u001b[0m \u001b[1;33m\u001b[0m\u001b[0m\n\u001b[0;32m     63\u001b[0m \u001b[1;31m# 하이퍼파라미터 최적값 출력\u001b[0m\u001b[1;33m\u001b[0m\u001b[1;33m\u001b[0m\u001b[0m\n\u001b[1;32m---> 64\u001b[1;33m \u001b[0mprint\u001b[0m\u001b[1;33m(\u001b[0m\u001b[0mstudy\u001b[0m\u001b[1;33m.\u001b[0m\u001b[0mbest_params\u001b[0m\u001b[1;33m(\u001b[0m\u001b[1;33m)\u001b[0m\u001b[1;33m)\u001b[0m\u001b[1;33m\u001b[0m\u001b[1;33m\u001b[0m\u001b[0m\n\u001b[0m",
      "\u001b[1;31mTypeError\u001b[0m: 'dict' object is not callable"
     ]
    }
   ],
   "source": [
    "def objective(trial):\n",
    "    # 하이퍼파라미터 탐색 범위\n",
    "    param = {\n",
    "        'n_estimators': trial.suggest_int('n_estimators', 200, 800),\n",
    "        'max_depth': trial.suggest_int('max_depth', 3, 10),\n",
    "        'learning_rate': trial.suggest_float('learning_rate', 0.1, 0.5),\n",
    "        'subsample': trial.suggest_float('subsample', 0.5, 1),\n",
    "        'colsample_bytree': trial.suggest_float('colsample_bytree', 0.7, 1),\n",
    "        'gamma': trial.suggest_float('gamma', 0, 3),\n",
    "        'reg_alpha': trial.suggest_float('reg_alpha', 1e-3, 1.0),\n",
    "        'reg_lambda': trial.suggest_float('reg_lambda', 1e-3, 1.0),\n",
    "        'min_child_weight': trial.suggest_int('min_child_weight', 1, 300)\n",
    "    }\n",
    "    \n",
    "    model = xgb.XGBRegressor(**param)\n",
    "    \n",
    "    # 모델 정의\n",
    "    \n",
    "    \n",
    "    valid_cv = KFold(n_splits = 5,\n",
    "                shuffle = True)\n",
    "    \n",
    "    \n",
    "    i = 0\n",
    "    \n",
    "    result_rmse = []\n",
    "    \n",
    "    while i !=5:\n",
    "        \n",
    "        x_train,x_test,y_train,y_test = train_test_split(X,Y, test_size = 0.2)\n",
    "        \n",
    "        \n",
    "        mse_list = []\n",
    "        \n",
    "        for train_idx, valid_idx in valid_cv.split(x_train):\n",
    "            \n",
    "            train_x , test_x = x_train.iloc[train_idx], y_train.iloc[train_idx]\n",
    "            valid_x , valid_y = x_train.iloc[valid_idx], y_train.iloc[valid_idx]\n",
    "            \n",
    "            # 모델 학습\n",
    "            model.fit(x_train, y_train)\n",
    "            \n",
    "            # 검증 데이터에 대한 예측값 계산\n",
    "            y_pred = model.predict(valid_x)\n",
    "            \n",
    "            # 검증 데이터에 대한 예측값과 실제값 사이의 평균 제곱 오차 계산\n",
    "            mse = mean_squared_error(valid_y, y_pred,\n",
    "                                        squared = False)\n",
    "            \n",
    "            mse_list.append(mse)\n",
    "            \n",
    "        i += 1\n",
    "        \n",
    "        result_rmse.append(np.mean(mse_list))\n",
    "                    \n",
    "    # 목적 함수 반환값\n",
    "    return np.mean(result_rmse)\n",
    "\n",
    "# study 객체 생성 및 실행\n",
    "study = optuna.create_study(direction='minimize')\n",
    "study.optimize(objective, n_trials=100)\n",
    "\n",
    "# 하이퍼파라미터 최적값 출력\n",
    "print(study.best_params())"
   ]
  },
  {
   "cell_type": "code",
   "execution_count": 273,
   "metadata": {},
   "outputs": [],
   "source": [
    "# best_parms = {'n_estimators': 753, 'max_depth': 10, 'learning_rate': 0.13308388990265863, \n",
    "#                 'subsample': 0.9059989448554313, 'colsample_bytree': 0.7974906616951953, 'gamma': 1.6896272035459874, \n",
    "#                 'reg_alpha': 0.8845432907591179, 'reg_lambda': 0.810881097627782, 'min_child_weight': 2}\n",
    "\n",
    "# model = XGBRegressor(**best_parms)"
   ]
  },
  {
   "cell_type": "code",
   "execution_count": 319,
   "metadata": {},
   "outputs": [],
   "source": [
    "best_parms = {'n_estimators': 800, 'max_depth': 10, 'learning_rate': 0.1, \n",
    "                'subsample': 0.90, 'colsample_bytree': 0.8, 'gamma': 1.5, \n",
    "                'reg_alpha': 0.9, 'reg_lambda': 0.8, 'min_child_weight': 2}\n",
    "\n",
    "model = XGBRegressor(**best_parms)"
   ]
  },
  {
   "cell_type": "code",
   "execution_count": 320,
   "metadata": {},
   "outputs": [],
   "source": [
    "x_train,x_test,y_train,y_test = train_test_split(X,Y, test_size = 0.2)"
   ]
  },
  {
   "cell_type": "code",
   "execution_count": 321,
   "metadata": {},
   "outputs": [
    {
     "data": {
      "text/plain": [
       "XGBRegressor(base_score=None, booster=None, callbacks=None,\n",
       "             colsample_bylevel=None, colsample_bynode=None,\n",
       "             colsample_bytree=0.8, early_stopping_rounds=None,\n",
       "             enable_categorical=False, eval_metric=None, feature_types=None,\n",
       "             gamma=1.5, gpu_id=None, grow_policy=None, importance_type=None,\n",
       "             interaction_constraints=None, learning_rate=0.1, max_bin=None,\n",
       "             max_cat_threshold=None, max_cat_to_onehot=None,\n",
       "             max_delta_step=None, max_depth=10, max_leaves=None,\n",
       "             min_child_weight=2, missing=nan, monotone_constraints=None,\n",
       "             n_estimators=800, n_jobs=None, num_parallel_tree=None,\n",
       "             predictor=None, random_state=None, ...)"
      ]
     },
     "execution_count": 321,
     "metadata": {},
     "output_type": "execute_result"
    }
   ],
   "source": [
    "model.fit(x_train,y_train)"
   ]
  },
  {
   "cell_type": "code",
   "execution_count": 322,
   "metadata": {},
   "outputs": [
    {
     "data": {
      "text/plain": [
       "2.1672865603837104"
      ]
     },
     "execution_count": 322,
     "metadata": {},
     "output_type": "execute_result"
    }
   ],
   "source": [
    "mean_squared_error(y_test,model.predict(x_test),\n",
    "                    squared = False)"
   ]
  },
  {
   "cell_type": "code",
   "execution_count": 314,
   "metadata": {},
   "outputs": [
    {
     "data": {
      "text/html": [
       "<div>\n",
       "<style scoped>\n",
       "    .dataframe tbody tr th:only-of-type {\n",
       "        vertical-align: middle;\n",
       "    }\n",
       "\n",
       "    .dataframe tbody tr th {\n",
       "        vertical-align: top;\n",
       "    }\n",
       "\n",
       "    .dataframe thead th {\n",
       "        text-align: right;\n",
       "    }\n",
       "</style>\n",
       "<table border=\"1\" class=\"dataframe\">\n",
       "  <thead>\n",
       "    <tr style=\"text-align: right;\">\n",
       "      <th></th>\n",
       "      <th>Exercise_Duration</th>\n",
       "      <th>Body_Temperature(F)</th>\n",
       "      <th>BPM</th>\n",
       "      <th>Weight(lb)</th>\n",
       "      <th>Age</th>\n",
       "      <th>height</th>\n",
       "      <th>Weight_Status_Normal Weight</th>\n",
       "      <th>Weight_Status_Obese</th>\n",
       "      <th>Weight_Status_Overweight</th>\n",
       "      <th>Gender_F</th>\n",
       "      <th>Gender_M</th>\n",
       "    </tr>\n",
       "  </thead>\n",
       "  <tbody>\n",
       "    <tr>\n",
       "      <th>0</th>\n",
       "      <td>0.862069</td>\n",
       "      <td>0.792208</td>\n",
       "      <td>0.714286</td>\n",
       "      <td>0.155242</td>\n",
       "      <td>0.423729</td>\n",
       "      <td>0.216216</td>\n",
       "      <td>1</td>\n",
       "      <td>0</td>\n",
       "      <td>0</td>\n",
       "      <td>1</td>\n",
       "      <td>0</td>\n",
       "    </tr>\n",
       "    <tr>\n",
       "      <th>1</th>\n",
       "      <td>0.965517</td>\n",
       "      <td>0.766234</td>\n",
       "      <td>0.785714</td>\n",
       "      <td>0.577621</td>\n",
       "      <td>0.016949</td>\n",
       "      <td>0.594595</td>\n",
       "      <td>0</td>\n",
       "      <td>0</td>\n",
       "      <td>1</td>\n",
       "      <td>0</td>\n",
       "      <td>1</td>\n",
       "    </tr>\n",
       "    <tr>\n",
       "      <th>2</th>\n",
       "      <td>0.344828</td>\n",
       "      <td>0.649351</td>\n",
       "      <td>0.410714</td>\n",
       "      <td>0.433468</td>\n",
       "      <td>0.644068</td>\n",
       "      <td>0.540541</td>\n",
       "      <td>1</td>\n",
       "      <td>0</td>\n",
       "      <td>0</td>\n",
       "      <td>0</td>\n",
       "      <td>1</td>\n",
       "    </tr>\n",
       "    <tr>\n",
       "      <th>3</th>\n",
       "      <td>0.793103</td>\n",
       "      <td>0.831169</td>\n",
       "      <td>0.732143</td>\n",
       "      <td>0.566532</td>\n",
       "      <td>0.254237</td>\n",
       "      <td>0.662162</td>\n",
       "      <td>0</td>\n",
       "      <td>0</td>\n",
       "      <td>1</td>\n",
       "      <td>0</td>\n",
       "      <td>1</td>\n",
       "    </tr>\n",
       "    <tr>\n",
       "      <th>4</th>\n",
       "      <td>0.965517</td>\n",
       "      <td>0.909091</td>\n",
       "      <td>0.875000</td>\n",
       "      <td>0.322077</td>\n",
       "      <td>0.796610</td>\n",
       "      <td>0.459459</td>\n",
       "      <td>1</td>\n",
       "      <td>0</td>\n",
       "      <td>0</td>\n",
       "      <td>1</td>\n",
       "      <td>0</td>\n",
       "    </tr>\n",
       "    <tr>\n",
       "      <th>...</th>\n",
       "      <td>...</td>\n",
       "      <td>...</td>\n",
       "      <td>...</td>\n",
       "      <td>...</td>\n",
       "      <td>...</td>\n",
       "      <td>...</td>\n",
       "      <td>...</td>\n",
       "      <td>...</td>\n",
       "      <td>...</td>\n",
       "      <td>...</td>\n",
       "      <td>...</td>\n",
       "    </tr>\n",
       "    <tr>\n",
       "      <th>7495</th>\n",
       "      <td>0.931034</td>\n",
       "      <td>0.857143</td>\n",
       "      <td>0.696429</td>\n",
       "      <td>0.477823</td>\n",
       "      <td>0.525424</td>\n",
       "      <td>0.662162</td>\n",
       "      <td>1</td>\n",
       "      <td>0</td>\n",
       "      <td>0</td>\n",
       "      <td>0</td>\n",
       "      <td>1</td>\n",
       "    </tr>\n",
       "    <tr>\n",
       "      <th>7496</th>\n",
       "      <td>0.103448</td>\n",
       "      <td>0.389610</td>\n",
       "      <td>0.303571</td>\n",
       "      <td>0.500000</td>\n",
       "      <td>0.084746</td>\n",
       "      <td>0.581081</td>\n",
       "      <td>0</td>\n",
       "      <td>0</td>\n",
       "      <td>1</td>\n",
       "      <td>0</td>\n",
       "      <td>1</td>\n",
       "    </tr>\n",
       "    <tr>\n",
       "      <th>7497</th>\n",
       "      <td>0.793103</td>\n",
       "      <td>0.792208</td>\n",
       "      <td>0.535714</td>\n",
       "      <td>0.233367</td>\n",
       "      <td>0.372881</td>\n",
       "      <td>0.256757</td>\n",
       "      <td>1</td>\n",
       "      <td>0</td>\n",
       "      <td>0</td>\n",
       "      <td>1</td>\n",
       "      <td>0</td>\n",
       "    </tr>\n",
       "    <tr>\n",
       "      <th>7498</th>\n",
       "      <td>0.241379</td>\n",
       "      <td>0.532468</td>\n",
       "      <td>0.285714</td>\n",
       "      <td>0.255544</td>\n",
       "      <td>0.474576</td>\n",
       "      <td>0.378378</td>\n",
       "      <td>1</td>\n",
       "      <td>0</td>\n",
       "      <td>0</td>\n",
       "      <td>1</td>\n",
       "      <td>0</td>\n",
       "    </tr>\n",
       "    <tr>\n",
       "      <th>7499</th>\n",
       "      <td>0.965517</td>\n",
       "      <td>0.857143</td>\n",
       "      <td>0.714286</td>\n",
       "      <td>0.189012</td>\n",
       "      <td>0.406780</td>\n",
       "      <td>0.216216</td>\n",
       "      <td>1</td>\n",
       "      <td>0</td>\n",
       "      <td>0</td>\n",
       "      <td>1</td>\n",
       "      <td>0</td>\n",
       "    </tr>\n",
       "  </tbody>\n",
       "</table>\n",
       "<p>7500 rows × 11 columns</p>\n",
       "</div>"
      ],
      "text/plain": [
       "      Exercise_Duration  Body_Temperature(F)       BPM  Weight(lb)       Age  \\\n",
       "0              0.862069             0.792208  0.714286    0.155242  0.423729   \n",
       "1              0.965517             0.766234  0.785714    0.577621  0.016949   \n",
       "2              0.344828             0.649351  0.410714    0.433468  0.644068   \n",
       "3              0.793103             0.831169  0.732143    0.566532  0.254237   \n",
       "4              0.965517             0.909091  0.875000    0.322077  0.796610   \n",
       "...                 ...                  ...       ...         ...       ...   \n",
       "7495           0.931034             0.857143  0.696429    0.477823  0.525424   \n",
       "7496           0.103448             0.389610  0.303571    0.500000  0.084746   \n",
       "7497           0.793103             0.792208  0.535714    0.233367  0.372881   \n",
       "7498           0.241379             0.532468  0.285714    0.255544  0.474576   \n",
       "7499           0.965517             0.857143  0.714286    0.189012  0.406780   \n",
       "\n",
       "        height  Weight_Status_Normal Weight  Weight_Status_Obese  \\\n",
       "0     0.216216                            1                    0   \n",
       "1     0.594595                            0                    0   \n",
       "2     0.540541                            1                    0   \n",
       "3     0.662162                            0                    0   \n",
       "4     0.459459                            1                    0   \n",
       "...        ...                          ...                  ...   \n",
       "7495  0.662162                            1                    0   \n",
       "7496  0.581081                            0                    0   \n",
       "7497  0.256757                            1                    0   \n",
       "7498  0.378378                            1                    0   \n",
       "7499  0.216216                            1                    0   \n",
       "\n",
       "      Weight_Status_Overweight  Gender_F  Gender_M  \n",
       "0                            0         1         0  \n",
       "1                            1         0         1  \n",
       "2                            0         0         1  \n",
       "3                            1         0         1  \n",
       "4                            0         1         0  \n",
       "...                        ...       ...       ...  \n",
       "7495                         0         0         1  \n",
       "7496                         1         0         1  \n",
       "7497                         0         1         0  \n",
       "7498                         0         1         0  \n",
       "7499                         0         1         0  \n",
       "\n",
       "[7500 rows x 11 columns]"
      ]
     },
     "execution_count": 314,
     "metadata": {},
     "output_type": "execute_result"
    }
   ],
   "source": [
    "test"
   ]
  },
  {
   "cell_type": "code",
   "execution_count": 323,
   "metadata": {},
   "outputs": [
    {
     "data": {
      "text/plain": [
       "XGBRegressor(base_score=None, booster=None, callbacks=None,\n",
       "             colsample_bylevel=None, colsample_bynode=None,\n",
       "             colsample_bytree=0.8, early_stopping_rounds=None,\n",
       "             enable_categorical=False, eval_metric=None, feature_types=None,\n",
       "             gamma=1.5, gpu_id=None, grow_policy=None, importance_type=None,\n",
       "             interaction_constraints=None, learning_rate=0.1, max_bin=None,\n",
       "             max_cat_threshold=None, max_cat_to_onehot=None,\n",
       "             max_delta_step=None, max_depth=10, max_leaves=None,\n",
       "             min_child_weight=2, missing=nan, monotone_constraints=None,\n",
       "             n_estimators=800, n_jobs=None, num_parallel_tree=None,\n",
       "             predictor=None, random_state=None, ...)"
      ]
     },
     "execution_count": 323,
     "metadata": {},
     "output_type": "execute_result"
    }
   ],
   "source": [
    "model.fit(X,Y)"
   ]
  },
  {
   "cell_type": "code",
   "execution_count": 324,
   "metadata": {},
   "outputs": [
    {
     "data": {
      "text/plain": [
       "array([184.03944 , 205.0208  ,  55.229362, ..., 140.1308  ,  35.691673,\n",
       "       202.98158 ], dtype=float32)"
      ]
     },
     "execution_count": 324,
     "metadata": {},
     "output_type": "execute_result"
    }
   ],
   "source": [
    "model.predict(test)"
   ]
  },
  {
   "cell_type": "code",
   "execution_count": 325,
   "metadata": {},
   "outputs": [],
   "source": [
    "sub = pd.read_csv('C:/Users/whileduck/Desktop/open/sample_submission.csv')"
   ]
  },
  {
   "cell_type": "code",
   "execution_count": 326,
   "metadata": {},
   "outputs": [],
   "source": [
    "sub['Calories_Burned'] = model.predict(test)\n",
    "\n",
    "sub = sub.set_index('ID')"
   ]
  },
  {
   "cell_type": "code",
   "execution_count": 327,
   "metadata": {},
   "outputs": [],
   "source": [
    "sub.to_csv('optuna_2.csv')"
   ]
  },
  {
   "cell_type": "code",
   "execution_count": 12,
   "metadata": {},
   "outputs": [
    {
     "data": {
      "text/plain": [
       "XGBRegressor(base_score=None, booster=None, callbacks=None,\n",
       "             colsample_bylevel=None, colsample_bynode=None,\n",
       "             colsample_bytree=0.8164485085575031, early_stopping_rounds=None,\n",
       "             enable_categorical=False, eval_metric=None, feature_types=None,\n",
       "             gamma=0.0002874864017069455, gpu_id=None, grow_policy=None,\n",
       "             importance_type=None, interaction_constraints=None,\n",
       "             learning_rate=0.09565910837368558, max_bin=None,\n",
       "             max_cat_threshold=None, max_cat_to_onehot=None,\n",
       "             max_delta_step=None, max_depth=10, max_leaves=None,\n",
       "             min_child_weight=225, missing=nan, monotone_constraints=None,\n",
       "             n_estimators=391, n_jobs=None, num_parallel_tree=None,\n",
       "             predictor=None, random_state=None, ...)"
      ]
     },
     "execution_count": 12,
     "metadata": {},
     "output_type": "execute_result"
    }
   ],
   "source": [
    "model.fit(x_train,y_train)"
   ]
  },
  {
   "cell_type": "code",
   "execution_count": 14,
   "metadata": {},
   "outputs": [
    {
     "data": {
      "text/plain": [
       "array([0.37533927, 0.5715646 , 0.10647854, ..., 0.16881195, 0.07902926,\n",
       "       0.47102004], dtype=float32)"
      ]
     },
     "execution_count": 14,
     "metadata": {},
     "output_type": "execute_result"
    }
   ],
   "source": [
    "model.predict(x_test)"
   ]
  },
  {
   "cell_type": "code",
   "execution_count": 15,
   "metadata": {},
   "outputs": [
    {
     "data": {
      "text/plain": [
       "2125    0.381271\n",
       "2214    0.585284\n",
       "6078    0.110368\n",
       "5757    0.404682\n",
       "2253    0.484950\n",
       "          ...   \n",
       "1649    0.688963\n",
       "1950    0.505017\n",
       "88      0.170569\n",
       "1911    0.073579\n",
       "2672    0.474916\n",
       "Name: Calories_Burned, Length: 1500, dtype: float64"
      ]
     },
     "execution_count": 15,
     "metadata": {},
     "output_type": "execute_result"
    }
   ],
   "source": [
    "y_test"
   ]
  }
 ],
 "metadata": {
  "kernelspec": {
   "display_name": "base",
   "language": "python",
   "name": "python3"
  },
  "language_info": {
   "codemirror_mode": {
    "name": "ipython",
    "version": 3
   },
   "file_extension": ".py",
   "mimetype": "text/x-python",
   "name": "python",
   "nbconvert_exporter": "python",
   "pygments_lexer": "ipython3",
   "version": "3.9.13"
  },
  "orig_nbformat": 4
 },
 "nbformat": 4,
 "nbformat_minor": 2
}

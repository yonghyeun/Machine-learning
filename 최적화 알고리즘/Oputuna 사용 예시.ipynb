{
 "cells": [
  {
   "cell_type": "code",
   "execution_count": 1,
   "id": "c423229f",
   "metadata": {
    "_cell_guid": "b1076dfc-b9ad-4769-8c92-a6c4dae69d19",
    "_uuid": "8f2839f25d086af736a60e9eeb907d3b93b6e0e5",
    "execution": {
     "iopub.execute_input": "2023-04-09T03:47:01.210196Z",
     "iopub.status.busy": "2023-04-09T03:47:01.209758Z",
     "iopub.status.idle": "2023-04-09T03:47:01.224495Z",
     "shell.execute_reply": "2023-04-09T03:47:01.222699Z"
    },
    "papermill": {
     "duration": 0.027002,
     "end_time": "2023-04-09T03:47:01.227960",
     "exception": false,
     "start_time": "2023-04-09T03:47:01.200958",
     "status": "completed"
    },
    "tags": []
   },
   "outputs": [
    {
     "name": "stdout",
     "output_type": "stream",
     "text": [
      "/kaggle/input/playground-series-s3e12/sample_submission.csv\n",
      "/kaggle/input/playground-series-s3e12/train.csv\n",
      "/kaggle/input/playground-series-s3e12/test.csv\n"
     ]
    }
   ],
   "source": [
    "# This Python 3 environment comes with many helpful analytics libraries installed\n",
    "# It is defined by the kaggle/python Docker image: https://github.com/kaggle/docker-python\n",
    "# For example, here's several helpful packages to load\n",
    "\n",
    "import numpy as np # linear algebra\n",
    "import pandas as pd # data processing, CSV file I/O (e.g. pd.read_csv)\n",
    "\n",
    "# Input data files are available in the read-only \"../input/\" directory\n",
    "# For example, running this (by clicking run or pressing Shift+Enter) will list all files under the input directory\n",
    "\n",
    "import os\n",
    "for dirname, _, filenames in os.walk('/kaggle/input'):\n",
    "    for filename in filenames:\n",
    "        print(os.path.join(dirname, filename))\n",
    "\n",
    "# You can write up to 20GB to the current directory (/kaggle/working/) that gets preserved as output when you create a version using \"Save & Run All\" \n",
    "# You can also write temporary files to /kaggle/temp/, but they won't be saved outside of the current session"
   ]
  },
  {
   "cell_type": "code",
   "execution_count": 2,
   "id": "044437ec",
   "metadata": {
    "execution": {
     "iopub.execute_input": "2023-04-09T03:47:01.243276Z",
     "iopub.status.busy": "2023-04-09T03:47:01.242636Z",
     "iopub.status.idle": "2023-04-09T03:47:02.907856Z",
     "shell.execute_reply": "2023-04-09T03:47:02.906568Z"
    },
    "papermill": {
     "duration": 1.676287,
     "end_time": "2023-04-09T03:47:02.910637",
     "exception": false,
     "start_time": "2023-04-09T03:47:01.234350",
     "status": "completed"
    },
    "tags": []
   },
   "outputs": [],
   "source": [
    "import matplotlib.pyplot as plt \n",
    "from sklearn.model_selection import train_test_split,GridSearchCV\n",
    "from sklearn.metrics import roc_curve, roc_auc_score\n",
    "from xgboost import XGBClassifier\n",
    "import warnings \n",
    "import optuna\n",
    "from optuna import Trial, visualization\n",
    "from optuna.samplers import TPESampler"
   ]
  },
  {
   "cell_type": "code",
   "execution_count": 3,
   "id": "52ece0fd",
   "metadata": {
    "execution": {
     "iopub.execute_input": "2023-04-09T03:47:02.924309Z",
     "iopub.status.busy": "2023-04-09T03:47:02.923851Z",
     "iopub.status.idle": "2023-04-09T03:47:02.930005Z",
     "shell.execute_reply": "2023-04-09T03:47:02.928419Z"
    },
    "papermill": {
     "duration": 0.015978,
     "end_time": "2023-04-09T03:47:02.932389",
     "exception": false,
     "start_time": "2023-04-09T03:47:02.916411",
     "status": "completed"
    },
    "tags": []
   },
   "outputs": [],
   "source": [
    "warnings.filterwarnings(action = 'ignore')"
   ]
  },
  {
   "cell_type": "code",
   "execution_count": 4,
   "id": "16d0dd3f",
   "metadata": {
    "execution": {
     "iopub.execute_input": "2023-04-09T03:47:02.946410Z",
     "iopub.status.busy": "2023-04-09T03:47:02.945972Z",
     "iopub.status.idle": "2023-04-09T03:47:02.971962Z",
     "shell.execute_reply": "2023-04-09T03:47:02.971040Z"
    },
    "papermill": {
     "duration": 0.036858,
     "end_time": "2023-04-09T03:47:02.975026",
     "exception": false,
     "start_time": "2023-04-09T03:47:02.938168",
     "status": "completed"
    },
    "tags": []
   },
   "outputs": [],
   "source": [
    "train = pd.read_csv('/kaggle/input/playground-series-s3e12/train.csv')\n",
    "test = pd.read_csv('/kaggle/input/playground-series-s3e12/test.csv')"
   ]
  },
  {
   "cell_type": "code",
   "execution_count": 5,
   "id": "a9f07d02",
   "metadata": {
    "execution": {
     "iopub.execute_input": "2023-04-09T03:47:02.987995Z",
     "iopub.status.busy": "2023-04-09T03:47:02.987633Z",
     "iopub.status.idle": "2023-04-09T03:47:02.993328Z",
     "shell.execute_reply": "2023-04-09T03:47:02.992008Z"
    },
    "papermill": {
     "duration": 0.014991,
     "end_time": "2023-04-09T03:47:02.996037",
     "exception": false,
     "start_time": "2023-04-09T03:47:02.981046",
     "status": "completed"
    },
    "tags": []
   },
   "outputs": [],
   "source": [
    "df = train.copy()"
   ]
  },
  {
   "cell_type": "code",
   "execution_count": 6,
   "id": "168f5975",
   "metadata": {
    "execution": {
     "iopub.execute_input": "2023-04-09T03:47:03.009671Z",
     "iopub.status.busy": "2023-04-09T03:47:03.009008Z",
     "iopub.status.idle": "2023-04-09T03:47:03.024022Z",
     "shell.execute_reply": "2023-04-09T03:47:03.022406Z"
    },
    "papermill": {
     "duration": 0.025082,
     "end_time": "2023-04-09T03:47:03.026663",
     "exception": false,
     "start_time": "2023-04-09T03:47:03.001581",
     "status": "completed"
    },
    "tags": []
   },
   "outputs": [],
   "source": [
    "X = df.drop(['id','target'],axis = 1)\n",
    "Y = df['target']"
   ]
  },
  {
   "cell_type": "code",
   "execution_count": 7,
   "id": "7ed44302",
   "metadata": {
    "execution": {
     "iopub.execute_input": "2023-04-09T03:47:03.040382Z",
     "iopub.status.busy": "2023-04-09T03:47:03.039970Z",
     "iopub.status.idle": "2023-04-09T03:47:03.048580Z",
     "shell.execute_reply": "2023-04-09T03:47:03.047837Z"
    },
    "papermill": {
     "duration": 0.01866,
     "end_time": "2023-04-09T03:47:03.051301",
     "exception": false,
     "start_time": "2023-04-09T03:47:03.032641",
     "status": "completed"
    },
    "tags": []
   },
   "outputs": [],
   "source": [
    "x_train,x_test,y_train,y_test = train_test_split(X,Y,stratify = Y, test_size = 0.2, random_state = 42)"
   ]
  },
  {
   "cell_type": "markdown",
   "id": "db1e5e98",
   "metadata": {
    "papermill": {
     "duration": 0.005347,
     "end_time": "2023-04-09T03:47:03.062435",
     "exception": false,
     "start_time": "2023-04-09T03:47:03.057088",
     "status": "completed"
    },
    "tags": []
   },
   "source": [
    "# Optuna\n",
    "\n",
    "### Optuna is a hyperparameter optimization framework that allows you to optimize machine learning models by tuning their hyperparameters. XGBoostClassifier can be used with Optuna to find the optimal values of its hyperparameters."
   ]
  },
  {
   "cell_type": "code",
   "execution_count": 8,
   "id": "711dfe2f",
   "metadata": {
    "execution": {
     "iopub.execute_input": "2023-04-09T03:47:03.075598Z",
     "iopub.status.busy": "2023-04-09T03:47:03.075072Z",
     "iopub.status.idle": "2023-04-09T03:47:03.082790Z",
     "shell.execute_reply": "2023-04-09T03:47:03.081523Z"
    },
    "papermill": {
     "duration": 0.017273,
     "end_time": "2023-04-09T03:47:03.085291",
     "exception": false,
     "start_time": "2023-04-09T03:47:03.068018",
     "status": "completed"
    },
    "tags": []
   },
   "outputs": [],
   "source": [
    "def objective(trial):\n",
    "    # Define the hyperparameters to be optimized by Optuna\n",
    "    param = {\n",
    "        'objective': 'binary:logistic',\n",
    "        'n_estimators': trial.suggest_int('n_estimators', 100, 1000),\n",
    "        'learning_rate': trial.suggest_loguniform('learning_rate', 1e-4, 1e-1),\n",
    "        'max_depth': trial.suggest_int('max_depth', 3, 10),\n",
    "        'min_child_weight': trial.suggest_int('min_child_weight', 1, 10),\n",
    "        'subsample': trial.suggest_float('subsample', 0.1, 1.0),\n",
    "        'colsample_bytree': trial.suggest_float('colsample_bytree', 0.1, 1.0),\n",
    "        'gamma': trial.suggest_loguniform('gamma', 1e-8, 1.0),\n",
    "        'reg_alpha': trial.suggest_loguniform('reg_alpha', 1e-8, 1.0),\n",
    "        'reg_lambda': trial.suggest_loguniform('reg_lambda', 1e-8, 1.0),\n",
    "        'random_state': 42\n",
    "    }\n",
    "    \n",
    "    # Create and train the XGBoostClassifier model with the sampled hyperparameters\n",
    "    model = XGBClassifier(**param)\n",
    "    model.fit(x_train, y_train)\n",
    "    \n",
    "    # Compute the AUC score on the test set\n",
    "    score = roc_auc_score(y_test, model.predict_proba(x_test)[:,1])\n",
    "    \n",
    "    return score"
   ]
  },
  {
   "cell_type": "code",
   "execution_count": 9,
   "id": "4f6e2e91",
   "metadata": {
    "execution": {
     "iopub.execute_input": "2023-04-09T03:47:03.100035Z",
     "iopub.status.busy": "2023-04-09T03:47:03.099076Z",
     "iopub.status.idle": "2023-04-09T03:47:56.067633Z",
     "shell.execute_reply": "2023-04-09T03:47:56.066524Z"
    },
    "papermill": {
     "duration": 52.978156,
     "end_time": "2023-04-09T03:47:56.069730",
     "exception": false,
     "start_time": "2023-04-09T03:47:03.091574",
     "status": "completed"
    },
    "tags": []
   },
   "outputs": [
    {
     "name": "stderr",
     "output_type": "stream",
     "text": [
      "\u001b[32m[I 2023-04-09 03:47:03,101]\u001b[0m A new study created in memory with name: no-name-75ed8f52-1858-4700-8ee9-bb0c32576c88\u001b[0m\n",
      "\u001b[32m[I 2023-04-09 03:47:04,130]\u001b[0m Trial 0 finished with value: 0.780846063454759 and parameters: {'n_estimators': 745, 'learning_rate': 0.000191438016129296, 'max_depth': 10, 'min_child_weight': 6, 'subsample': 0.28240039837833886, 'colsample_bytree': 0.7825353899286331, 'gamma': 3.18978278067955e-05, 'reg_alpha': 6.957625067542228e-08, 'reg_lambda': 1.0504597480035399e-05}. Best is trial 0 with value: 0.780846063454759.\u001b[0m\n",
      "\u001b[32m[I 2023-04-09 03:47:05,036]\u001b[0m Trial 1 finished with value: 0.7397179788484137 and parameters: {'n_estimators': 719, 'learning_rate': 0.003468145470723316, 'max_depth': 4, 'min_child_weight': 9, 'subsample': 0.6103663554942734, 'colsample_bytree': 0.31611301702862404, 'gamma': 4.3897348863618035e-08, 'reg_alpha': 1.0303765822493702e-08, 'reg_lambda': 1.687046396758603e-06}. Best is trial 0 with value: 0.780846063454759.\u001b[0m\n",
      "\u001b[32m[I 2023-04-09 03:47:06,134]\u001b[0m Trial 2 finished with value: 0.7711515863689777 and parameters: {'n_estimators': 858, 'learning_rate': 0.0001757296515477737, 'max_depth': 10, 'min_child_weight': 10, 'subsample': 0.5596092963374858, 'colsample_bytree': 0.5235668858937926, 'gamma': 1.1909602286378205e-05, 'reg_alpha': 2.012582529912569e-05, 'reg_lambda': 0.001266299465828346}. Best is trial 0 with value: 0.780846063454759.\u001b[0m\n",
      "\u001b[32m[I 2023-04-09 03:47:06,562]\u001b[0m Trial 3 finished with value: 0.687132784958872 and parameters: {'n_estimators': 337, 'learning_rate': 0.00022653541317389642, 'max_depth': 5, 'min_child_weight': 10, 'subsample': 0.35701331888085974, 'colsample_bytree': 0.2432081882022881, 'gamma': 3.832521002181216e-06, 'reg_alpha': 0.010947268341195249, 'reg_lambda': 1.6132722710919305e-05}. Best is trial 0 with value: 0.780846063454759.\u001b[0m\n",
      "\u001b[32m[I 2023-04-09 03:47:07,236]\u001b[0m Trial 4 finished with value: 0.7867215041128085 and parameters: {'n_estimators': 495, 'learning_rate': 0.001914055705388, 'max_depth': 6, 'min_child_weight': 3, 'subsample': 0.32795545261707204, 'colsample_bytree': 0.8114718619138931, 'gamma': 0.06617419277278812, 'reg_alpha': 0.0010061179104533093, 'reg_lambda': 0.000752647616967059}. Best is trial 4 with value: 0.7867215041128085.\u001b[0m\n",
      "\u001b[32m[I 2023-04-09 03:47:07,631]\u001b[0m Trial 5 finished with value: 0.6918331374853115 and parameters: {'n_estimators': 307, 'learning_rate': 0.0019996088448420613, 'max_depth': 6, 'min_child_weight': 9, 'subsample': 0.3301081727513464, 'colsample_bytree': 0.16740447631166983, 'gamma': 1.8549250053815633e-08, 'reg_alpha': 0.0017857979467469788, 'reg_lambda': 0.0037909593836821646}. Best is trial 4 with value: 0.7867215041128085.\u001b[0m\n",
      "\u001b[32m[I 2023-04-09 03:47:07,914]\u001b[0m Trial 6 finished with value: 0.7053466509988249 and parameters: {'n_estimators': 220, 'learning_rate': 0.0007658929501229508, 'max_depth': 4, 'min_child_weight': 6, 'subsample': 0.1955379109052762, 'colsample_bytree': 0.211954699355697, 'gamma': 8.620490273145398e-07, 'reg_alpha': 0.11254645461854228, 'reg_lambda': 0.0002836876092620201}. Best is trial 4 with value: 0.7867215041128085.\u001b[0m\n",
      "\u001b[32m[I 2023-04-09 03:47:08,209]\u001b[0m Trial 7 finished with value: 0.7937720329024677 and parameters: {'n_estimators': 197, 'learning_rate': 0.00012479038320130907, 'max_depth': 4, 'min_child_weight': 1, 'subsample': 0.8839429903072012, 'colsample_bytree': 0.7366787475994591, 'gamma': 7.22653609316812e-08, 'reg_alpha': 0.000569265894316866, 'reg_lambda': 0.0331489494163371}. Best is trial 7 with value: 0.7937720329024677.\u001b[0m\n",
      "\u001b[32m[I 2023-04-09 03:47:09,413]\u001b[0m Trial 8 finished with value: 0.7949471210340776 and parameters: {'n_estimators': 889, 'learning_rate': 0.008791139073901092, 'max_depth': 9, 'min_child_weight': 6, 'subsample': 0.7177705777070102, 'colsample_bytree': 0.7116982889813792, 'gamma': 7.338225713530925e-07, 'reg_alpha': 0.009450880643444645, 'reg_lambda': 0.02647486572376717}. Best is trial 8 with value: 0.7949471210340776.\u001b[0m\n",
      "\u001b[32m[I 2023-04-09 03:47:10,204]\u001b[0m Trial 9 finished with value: 0.7884841363102233 and parameters: {'n_estimators': 587, 'learning_rate': 0.0010033628057172928, 'max_depth': 10, 'min_child_weight': 10, 'subsample': 0.8077349512618041, 'colsample_bytree': 0.9397451565024814, 'gamma': 0.0006496378101816869, 'reg_alpha': 2.6132065020302744e-08, 'reg_lambda': 4.314171507248723e-08}. Best is trial 8 with value: 0.7949471210340776.\u001b[0m\n",
      "\u001b[32m[I 2023-04-09 03:47:11,592]\u001b[0m Trial 10 finished with value: 0.800822561692127 and parameters: {'n_estimators': 971, 'learning_rate': 0.019337642170480333, 'max_depth': 8, 'min_child_weight': 4, 'subsample': 0.9673663812465302, 'colsample_bytree': 0.5532703084653416, 'gamma': 0.0005420013787541086, 'reg_alpha': 0.8382084050360856, 'reg_lambda': 0.391642601707821}. Best is trial 10 with value: 0.800822561692127.\u001b[0m\n",
      "\u001b[32m[I 2023-04-09 03:47:13,011]\u001b[0m Trial 11 finished with value: 0.7972972972972973 and parameters: {'n_estimators': 980, 'learning_rate': 0.020708385749159505, 'max_depth': 8, 'min_child_weight': 4, 'subsample': 0.9930509405610678, 'colsample_bytree': 0.5049613024815084, 'gamma': 0.0007972848757139159, 'reg_alpha': 0.7910775090740582, 'reg_lambda': 0.7189105279185612}. Best is trial 10 with value: 0.800822561692127.\u001b[0m\n",
      "\u001b[32m[I 2023-04-09 03:47:14,421]\u001b[0m Trial 12 finished with value: 0.7796709753231493 and parameters: {'n_estimators': 997, 'learning_rate': 0.06169286041567817, 'max_depth': 8, 'min_child_weight': 4, 'subsample': 0.9465168233882333, 'colsample_bytree': 0.4796408348348742, 'gamma': 0.0006336667436340123, 'reg_alpha': 0.7652647390066869, 'reg_lambda': 0.5273810747474835}. Best is trial 10 with value: 0.800822561692127.\u001b[0m\n",
      "\u001b[32m[I 2023-04-09 03:47:16,489]\u001b[0m Trial 13 finished with value: 0.7802585193889541 and parameters: {'n_estimators': 972, 'learning_rate': 0.024636169647527295, 'max_depth': 8, 'min_child_weight': 4, 'subsample': 0.9981192726198391, 'colsample_bytree': 0.3874875335548668, 'gamma': 0.008506876915053469, 'reg_alpha': 0.316883661237816, 'reg_lambda': 0.7240289984665004}. Best is trial 10 with value: 0.800822561692127.\u001b[0m\n",
      "\u001b[32m[I 2023-04-09 03:47:17,657]\u001b[0m Trial 14 finished with value: 0.8002350176263221 and parameters: {'n_estimators': 765, 'learning_rate': 0.018142451551262744, 'max_depth': 8, 'min_child_weight': 2, 'subsample': 0.828742450278932, 'colsample_bytree': 0.6177674751416211, 'gamma': 0.31275924770575725, 'reg_alpha': 0.9852189041803922, 'reg_lambda': 0.05689078851432207}. Best is trial 10 with value: 0.800822561692127.\u001b[0m\n",
      "\u001b[32m[I 2023-04-09 03:47:18,785]\u001b[0m Trial 15 finished with value: 0.782608695652174 and parameters: {'n_estimators': 748, 'learning_rate': 0.07605478225298984, 'max_depth': 7, 'min_child_weight': 1, 'subsample': 0.8136839165762678, 'colsample_bytree': 0.6247980576523826, 'gamma': 0.45811192916437304, 'reg_alpha': 0.06430949652274383, 'reg_lambda': 0.024471155783230718}. Best is trial 10 with value: 0.800822561692127.\u001b[0m\n",
      "\u001b[32m[I 2023-04-09 03:47:19,707]\u001b[0m Trial 16 finished with value: 0.8061104582843713 and parameters: {'n_estimators': 600, 'learning_rate': 0.010318169201053126, 'max_depth': 7, 'min_child_weight': 2, 'subsample': 0.688467245935058, 'colsample_bytree': 0.6189152839656508, 'gamma': 0.5413823875463871, 'reg_alpha': 0.07230540112164703, 'reg_lambda': 0.09870930659561766}. Best is trial 16 with value: 0.8061104582843713.\u001b[0m\n",
      "\u001b[32m[I 2023-04-09 03:47:20,528]\u001b[0m Trial 17 finished with value: 0.8108108108108107 and parameters: {'n_estimators': 555, 'learning_rate': 0.006338735681930193, 'max_depth': 7, 'min_child_weight': 3, 'subsample': 0.6893048972674558, 'colsample_bytree': 0.4094575093428129, 'gamma': 0.01440484199408568, 'reg_alpha': 0.0519392357830585, 'reg_lambda': 0.003039114576459229}. Best is trial 17 with value: 0.8108108108108107.\u001b[0m\n",
      "\u001b[32m[I 2023-04-09 03:47:21,336]\u001b[0m Trial 18 finished with value: 0.799059929494712 and parameters: {'n_estimators': 533, 'learning_rate': 0.006604849042257612, 'max_depth': 7, 'min_child_weight': 2, 'subsample': 0.6762195251935623, 'colsample_bytree': 0.4025220829990175, 'gamma': 0.02522887358970556, 'reg_alpha': 0.02601279176292807, 'reg_lambda': 0.0031954804194137803}. Best is trial 17 with value: 0.8108108108108107.\u001b[0m\n",
      "\u001b[32m[I 2023-04-09 03:47:22,139]\u001b[0m Trial 19 finished with value: 0.7984723854289072 and parameters: {'n_estimators': 605, 'learning_rate': 0.007137005048408425, 'max_depth': 3, 'min_child_weight': 2, 'subsample': 0.516086535910834, 'colsample_bytree': 0.10620510844546621, 'gamma': 0.4453480775100054, 'reg_alpha': 0.06604796864040338, 'reg_lambda': 0.00011127853829147058}. Best is trial 17 with value: 0.8108108108108107.\u001b[0m\n",
      "\u001b[32m[I 2023-04-09 03:47:22,720]\u001b[0m Trial 20 finished with value: 0.7773207990599296 and parameters: {'n_estimators': 414, 'learning_rate': 0.0049267967201519925, 'max_depth': 6, 'min_child_weight': 5, 'subsample': 0.47651629958037867, 'colsample_bytree': 0.4193359453356135, 'gamma': 0.007990212596948066, 'reg_alpha': 5.096467292638156e-05, 'reg_lambda': 0.005553692372119018}. Best is trial 17 with value: 0.8108108108108107.\u001b[0m\n",
      "\u001b[32m[I 2023-04-09 03:47:23,694]\u001b[0m Trial 21 finished with value: 0.8025851938895417 and parameters: {'n_estimators': 660, 'learning_rate': 0.01094137398277113, 'max_depth': 7, 'min_child_weight': 3, 'subsample': 0.7538913570302473, 'colsample_bytree': 0.59419642902848, 'gamma': 0.08349039647088585, 'reg_alpha': 0.16292055915493117, 'reg_lambda': 0.1369403680693291}. Best is trial 17 with value: 0.8108108108108107.\u001b[0m\n",
      "\u001b[32m[I 2023-04-09 03:47:24,671]\u001b[0m Trial 22 finished with value: 0.8014101057579318 and parameters: {'n_estimators': 670, 'learning_rate': 0.011959842489466204, 'max_depth': 7, 'min_child_weight': 3, 'subsample': 0.696424221054493, 'colsample_bytree': 0.622597604410851, 'gamma': 0.0933184641905797, 'reg_alpha': 0.13331864393696496, 'reg_lambda': 0.11508835540597748}. Best is trial 17 with value: 0.8108108108108107.\u001b[0m\n",
      "\u001b[32m[I 2023-04-09 03:47:25,401]\u001b[0m Trial 23 finished with value: 0.7949471210340776 and parameters: {'n_estimators': 485, 'learning_rate': 0.03487930640034746, 'max_depth': 5, 'min_child_weight': 3, 'subsample': 0.7531326488268965, 'colsample_bytree': 0.5762628254590721, 'gamma': 0.9473830624446784, 'reg_alpha': 0.010714615056102461, 'reg_lambda': 0.12722892138497952}. Best is trial 17 with value: 0.8108108108108107.\u001b[0m\n",
      "\u001b[32m[I 2023-04-09 03:47:26,415]\u001b[0m Trial 24 finished with value: 0.7873090481786135 and parameters: {'n_estimators': 630, 'learning_rate': 0.009136222289813428, 'max_depth': 9, 'min_child_weight': 1, 'subsample': 0.634438393416086, 'colsample_bytree': 0.4710414979993403, 'gamma': 0.09059009761194432, 'reg_alpha': 0.039175639762811756, 'reg_lambda': 0.00991843779290251}. Best is trial 17 with value: 0.8108108108108107.\u001b[0m\n",
      "\u001b[32m[I 2023-04-09 03:47:27,599]\u001b[0m Trial 25 finished with value: 0.7996474735605171 and parameters: {'n_estimators': 844, 'learning_rate': 0.00434190818266628, 'max_depth': 7, 'min_child_weight': 5, 'subsample': 0.7575068542215799, 'colsample_bytree': 0.33817318050073264, 'gamma': 0.016622867937426997, 'reg_alpha': 0.17918056718571254, 'reg_lambda': 0.12858450366864047}. Best is trial 17 with value: 0.8108108108108107.\u001b[0m\n",
      "\u001b[32m[I 2023-04-09 03:47:28,165]\u001b[0m Trial 26 finished with value: 0.7814336075205641 and parameters: {'n_estimators': 399, 'learning_rate': 0.011374195379709857, 'max_depth': 5, 'min_child_weight': 7, 'subsample': 0.6237011512079366, 'colsample_bytree': 0.6582405390906778, 'gamma': 0.0036805186263353393, 'reg_alpha': 0.00605671621299626, 'reg_lambda': 0.010770869945064184}. Best is trial 17 with value: 0.8108108108108107.\u001b[0m\n",
      "\u001b[32m[I 2023-04-09 03:47:29,198]\u001b[0m Trial 27 finished with value: 0.7867215041128085 and parameters: {'n_estimators': 686, 'learning_rate': 0.04582866574774008, 'max_depth': 9, 'min_child_weight': 2, 'subsample': 0.8954255524824816, 'colsample_bytree': 0.5541156440056895, 'gamma': 0.13301430764405325, 'reg_alpha': 0.028352327414364966, 'reg_lambda': 0.001285802766810832}. Best is trial 17 with value: 0.8108108108108107.\u001b[0m\n",
      "\u001b[32m[I 2023-04-09 03:47:29,989]\u001b[0m Trial 28 finished with value: 0.8031727379553467 and parameters: {'n_estimators': 542, 'learning_rate': 0.012896066582999516, 'max_depth': 6, 'min_child_weight': 3, 'subsample': 0.7508798454370544, 'colsample_bytree': 0.46287376007599224, 'gamma': 0.03258571193459777, 'reg_alpha': 0.2027340050805971, 'reg_lambda': 0.18951368411312644}. Best is trial 17 with value: 0.8108108108108107.\u001b[0m\n",
      "\u001b[32m[I 2023-04-09 03:47:30,619]\u001b[0m Trial 29 finished with value: 0.7908343125734429 and parameters: {'n_estimators': 460, 'learning_rate': 0.08441510602878928, 'max_depth': 6, 'min_child_weight': 7, 'subsample': 0.6944618819372808, 'colsample_bytree': 0.4500302811358971, 'gamma': 8.712445156026177e-05, 'reg_alpha': 0.0033905157300493658, 'reg_lambda': 0.015570626796604302}. Best is trial 17 with value: 0.8108108108108107.\u001b[0m\n",
      "\u001b[32m[I 2023-04-09 03:47:31,431]\u001b[0m Trial 30 finished with value: 0.8037602820211516 and parameters: {'n_estimators': 578, 'learning_rate': 0.02962610206984618, 'max_depth': 5, 'min_child_weight': 5, 'subsample': 0.5792634881096677, 'colsample_bytree': 0.34647233982013403, 'gamma': 0.03674945993795439, 'reg_alpha': 0.00021434837594520108, 'reg_lambda': 0.223534779352553}. Best is trial 17 with value: 0.8108108108108107.\u001b[0m\n",
      "\u001b[32m[I 2023-04-09 03:47:32,188]\u001b[0m Trial 31 finished with value: 0.7773207990599295 and parameters: {'n_estimators': 546, 'learning_rate': 0.034141192698780666, 'max_depth': 5, 'min_child_weight': 5, 'subsample': 0.5724808157269603, 'colsample_bytree': 0.3307347980266795, 'gamma': 0.024123597084592205, 'reg_alpha': 0.00027895819455197495, 'reg_lambda': 0.06624435824496332}. Best is trial 17 with value: 0.8108108108108107.\u001b[0m\n",
      "\u001b[32m[I 2023-04-09 03:47:32,990]\u001b[0m Trial 32 finished with value: 0.7873090481786134 and parameters: {'n_estimators': 576, 'learning_rate': 0.005723130857725956, 'max_depth': 6, 'min_child_weight': 3, 'subsample': 0.6356021463008974, 'colsample_bytree': 0.29092675664494944, 'gamma': 0.8496610301000538, 'reg_alpha': 5.3028188258793975e-06, 'reg_lambda': 0.2772662578988129}. Best is trial 17 with value: 0.8108108108108107.\u001b[0m\n",
      "\u001b[32m[I 2023-04-09 03:47:33,580]\u001b[0m Trial 33 finished with value: 0.7802585193889542 and parameters: {'n_estimators': 426, 'learning_rate': 0.01348589652179416, 'max_depth': 5, 'min_child_weight': 7, 'subsample': 0.5815013119363143, 'colsample_bytree': 0.3752934585829791, 'gamma': 0.0032562599203233285, 'reg_alpha': 0.003481017802749884, 'reg_lambda': 0.034759474612538255}. Best is trial 17 with value: 0.8108108108108107.\u001b[0m\n",
      "\u001b[32m[I 2023-04-09 03:47:34,134]\u001b[0m Trial 34 finished with value: 0.8102232667450059 and parameters: {'n_estimators': 357, 'learning_rate': 0.02769299217931204, 'max_depth': 6, 'min_child_weight': 2, 'subsample': 0.5060237960925129, 'colsample_bytree': 0.5105367513992902, 'gamma': 0.2702155473623108, 'reg_alpha': 0.02140554373843272, 'reg_lambda': 0.2674551461301468}. Best is trial 17 with value: 0.8108108108108107.\u001b[0m\n",
      "\u001b[32m[I 2023-04-09 03:47:34,366]\u001b[0m Trial 35 finished with value: 0.8078730904817861 and parameters: {'n_estimators': 135, 'learning_rate': 0.03190531418142172, 'max_depth': 4, 'min_child_weight': 2, 'subsample': 0.45207618858488474, 'colsample_bytree': 0.522079110133516, 'gamma': 0.20651541270684784, 'reg_alpha': 0.018687143788482134, 'reg_lambda': 0.83718204438083}. Best is trial 17 with value: 0.8108108108108107.\u001b[0m\n",
      "\u001b[32m[I 2023-04-09 03:47:34,587]\u001b[0m Trial 36 finished with value: 0.8084606345475912 and parameters: {'n_estimators': 128, 'learning_rate': 0.05355346220754419, 'max_depth': 3, 'min_child_weight': 1, 'subsample': 0.4374828498403982, 'colsample_bytree': 0.5311520389146274, 'gamma': 0.15865614548032755, 'reg_alpha': 0.019389690183221352, 'reg_lambda': 0.3777107566621713}. Best is trial 17 with value: 0.8108108108108107.\u001b[0m\n",
      "\u001b[32m[I 2023-04-09 03:47:34,810]\u001b[0m Trial 37 finished with value: 0.8207990599294948 and parameters: {'n_estimators': 129, 'learning_rate': 0.09811165818982004, 'max_depth': 3, 'min_child_weight': 1, 'subsample': 0.4371589086029503, 'colsample_bytree': 0.5179183264984092, 'gamma': 0.19964901432830884, 'reg_alpha': 0.024458430311176702, 'reg_lambda': 0.7881530367972946}. Best is trial 37 with value: 0.8207990599294948.\u001b[0m\n",
      "\u001b[32m[I 2023-04-09 03:47:35,254]\u001b[0m Trial 38 finished with value: 0.8025851938895416 and parameters: {'n_estimators': 307, 'learning_rate': 0.04866129249151502, 'max_depth': 3, 'min_child_weight': 1, 'subsample': 0.43770088896560877, 'colsample_bytree': 0.4389755481085185, 'gamma': 0.19394049967464638, 'reg_alpha': 0.0025111730050145897, 'reg_lambda': 0.3450119787521608}. Best is trial 37 with value: 0.8207990599294948.\u001b[0m\n",
      "\u001b[32m[I 2023-04-09 03:47:35,459]\u001b[0m Trial 39 finished with value: 0.7949471210340775 and parameters: {'n_estimators': 116, 'learning_rate': 0.0867322713285275, 'max_depth': 3, 'min_child_weight': 1, 'subsample': 0.3947675217028608, 'colsample_bytree': 0.517578624482926, 'gamma': 0.25531153018882025, 'reg_alpha': 0.0158074568609715, 'reg_lambda': 0.9817791934808624}. Best is trial 37 with value: 0.8207990599294948.\u001b[0m\n",
      "\u001b[32m[I 2023-04-09 03:47:35,811]\u001b[0m Trial 40 finished with value: 0.7708578143360751 and parameters: {'n_estimators': 242, 'learning_rate': 0.09916662623958247, 'max_depth': 3, 'min_child_weight': 1, 'subsample': 0.5164827540371482, 'colsample_bytree': 0.2924514566496608, 'gamma': 0.0531841470341068, 'reg_alpha': 0.0015106156573262309, 'reg_lambda': 0.05624191426368388}. Best is trial 37 with value: 0.8207990599294948.\u001b[0m\n",
      "\u001b[32m[I 2023-04-09 03:47:36,016]\u001b[0m Trial 41 finished with value: 0.8061104582843713 and parameters: {'n_estimators': 113, 'learning_rate': 0.05602003386314378, 'max_depth': 4, 'min_child_weight': 2, 'subsample': 0.412289819032895, 'colsample_bytree': 0.5134139771581606, 'gamma': 0.22244854480644347, 'reg_alpha': 0.023554851439230234, 'reg_lambda': 0.8608323552794135}. Best is trial 37 with value: 0.8207990599294948.\u001b[0m\n",
      "\u001b[32m[I 2023-04-09 03:47:36,316]\u001b[0m Trial 42 finished with value: 0.8196239717978849 and parameters: {'n_estimators': 165, 'learning_rate': 0.0413801387143255, 'max_depth': 4, 'min_child_weight': 2, 'subsample': 0.4598242965771092, 'colsample_bytree': 0.5270852265817985, 'gamma': 0.12252464132207588, 'reg_alpha': 0.007874758760609958, 'reg_lambda': 0.3353097440626225}. Best is trial 37 with value: 0.8207990599294948.\u001b[0m\n",
      "\u001b[32m[I 2023-04-09 03:47:36,624]\u001b[0m Trial 43 finished with value: 0.8131609870740305 and parameters: {'n_estimators': 175, 'learning_rate': 0.045396691066315095, 'max_depth': 4, 'min_child_weight': 1, 'subsample': 0.3136477652473159, 'colsample_bytree': 0.5398782867329524, 'gamma': 0.05963901586025678, 'reg_alpha': 0.006815457397256247, 'reg_lambda': 0.31597660879050865}. Best is trial 37 with value: 0.8207990599294948.\u001b[0m\n",
      "\u001b[32m[I 2023-04-09 03:47:37,025]\u001b[0m Trial 44 finished with value: 0.8090481786133961 and parameters: {'n_estimators': 256, 'learning_rate': 0.04488113404369811, 'max_depth': 4, 'min_child_weight': 1, 'subsample': 0.2721147038322451, 'colsample_bytree': 0.4213003201522952, 'gamma': 0.06278902604337552, 'reg_alpha': 0.0043129807038412155, 'reg_lambda': 0.029989218580876453}. Best is trial 37 with value: 0.8207990599294948.\u001b[0m\n",
      "\u001b[32m[I 2023-04-09 03:47:37,330]\u001b[0m Trial 45 finished with value: 0.8102232667450059 and parameters: {'n_estimators': 188, 'learning_rate': 0.07014544702323397, 'max_depth': 4, 'min_child_weight': 2, 'subsample': 0.3647371282028689, 'colsample_bytree': 0.48592909357504177, 'gamma': 0.8325314001021723, 'reg_alpha': 0.007908700508131358, 'reg_lambda': 0.3429533279636267}. Best is trial 37 with value: 0.8207990599294948.\u001b[0m\n",
      "\u001b[32m[I 2023-04-09 03:47:37,626]\u001b[0m Trial 46 finished with value: 0.8031727379553467 and parameters: {'n_estimators': 177, 'learning_rate': 0.025282488991710116, 'max_depth': 4, 'min_child_weight': 2, 'subsample': 0.28785483657302585, 'colsample_bytree': 0.5637344741595381, 'gamma': 0.012997984763888956, 'reg_alpha': 0.0013550044000723955, 'reg_lambda': 0.04951773348122304}. Best is trial 37 with value: 0.8207990599294948.\u001b[0m\n",
      "\u001b[32m[I 2023-04-09 03:47:38,129]\u001b[0m Trial 47 finished with value: 0.7984723854289071 and parameters: {'n_estimators': 341, 'learning_rate': 0.018317503533082397, 'max_depth': 3, 'min_child_weight': 3, 'subsample': 0.5262772294585905, 'colsample_bytree': 0.6705331706569786, 'gamma': 0.03810306799546657, 'reg_alpha': 0.0008123307926448666, 'reg_lambda': 0.014970557348099597}. Best is trial 37 with value: 0.8207990599294948.\u001b[0m\n",
      "\u001b[32m[I 2023-04-09 03:47:38,564]\u001b[0m Trial 48 finished with value: 0.7996474735605171 and parameters: {'n_estimators': 275, 'learning_rate': 0.041170927707499215, 'max_depth': 4, 'min_child_weight': 1, 'subsample': 0.47675697548860174, 'colsample_bytree': 0.45753122804915947, 'gamma': 0.10935219381647679, 'reg_alpha': 0.007275242651425851, 'reg_lambda': 0.21534721680390997}. Best is trial 37 with value: 0.8207990599294948.\u001b[0m\n",
      "\u001b[32m[I 2023-04-09 03:47:39,090]\u001b[0m Trial 49 finished with value: 0.7817273795534666 and parameters: {'n_estimators': 366, 'learning_rate': 0.061078140454780036, 'max_depth': 5, 'min_child_weight': 4, 'subsample': 0.3218648579669194, 'colsample_bytree': 0.49439086586668046, 'gamma': 0.4148808280400866, 'reg_alpha': 0.0500749864611288, 'reg_lambda': 0.0710458079032478}. Best is trial 37 with value: 0.8207990599294948.\u001b[0m\n",
      "\u001b[32m[I 2023-04-09 03:47:39,517]\u001b[0m Trial 50 finished with value: 0.7984723854289072 and parameters: {'n_estimators': 293, 'learning_rate': 0.025220956058384033, 'max_depth': 3, 'min_child_weight': 2, 'subsample': 0.19674283310809296, 'colsample_bytree': 0.5572070202996674, 'gamma': 0.00884271589944171, 'reg_alpha': 0.3460505882269608, 'reg_lambda': 0.0022325357436732136}. Best is trial 37 with value: 0.8207990599294948.\u001b[0m\n",
      "\u001b[32m[I 2023-04-09 03:47:39,819]\u001b[0m Trial 51 finished with value: 0.8055229142185664 and parameters: {'n_estimators': 182, 'learning_rate': 0.06771525119152601, 'max_depth': 4, 'min_child_weight': 2, 'subsample': 0.3796089418447981, 'colsample_bytree': 0.4824180198191862, 'gamma': 0.6064566898690256, 'reg_alpha': 0.008877893867650649, 'reg_lambda': 0.3471696041823238}. Best is trial 37 with value: 0.8207990599294948.\u001b[0m\n",
      "\u001b[32m[I 2023-04-09 03:47:40,153]\u001b[0m Trial 52 finished with value: 0.8149236192714454 and parameters: {'n_estimators': 205, 'learning_rate': 0.07250891017671253, 'max_depth': 4, 'min_child_weight': 1, 'subsample': 0.35915177334489284, 'colsample_bytree': 0.37612062423571424, 'gamma': 0.9242248560300438, 'reg_alpha': 0.009974789513191256, 'reg_lambda': 0.4378099765957731}. Best is trial 37 with value: 0.8207990599294948.\u001b[0m\n",
      "\u001b[32m[I 2023-04-09 03:47:40,507]\u001b[0m Trial 53 finished with value: 0.7884841363102233 and parameters: {'n_estimators': 230, 'learning_rate': 0.08554500522520248, 'max_depth': 4, 'min_child_weight': 1, 'subsample': 0.34562685874193416, 'colsample_bytree': 0.3830278027172599, 'gamma': 0.3002576259826166, 'reg_alpha': 0.07931071707051784, 'reg_lambda': 0.0005468874420926274}. Best is trial 37 with value: 0.8207990599294948.\u001b[0m\n",
      "\u001b[32m[I 2023-04-09 03:47:40,768]\u001b[0m Trial 54 finished with value: 0.8254994124559343 and parameters: {'n_estimators': 153, 'learning_rate': 0.0362043748914403, 'max_depth': 3, 'min_child_weight': 1, 'subsample': 0.40072635296683634, 'colsample_bytree': 0.4191796023116345, 'gamma': 0.0785288911324757, 'reg_alpha': 0.03890416215933851, 'reg_lambda': 0.42314381019064945}. Best is trial 54 with value: 0.8254994124559343.\u001b[0m\n",
      "\u001b[32m[I 2023-04-09 03:47:41,041]\u001b[0m Trial 55 finished with value: 0.8243243243243242 and parameters: {'n_estimators': 163, 'learning_rate': 0.09998674084675137, 'max_depth': 3, 'min_child_weight': 1, 'subsample': 0.3877834755608568, 'colsample_bytree': 0.4194877673285488, 'gamma': 0.05912738660555242, 'reg_alpha': 0.1040823052948216, 'reg_lambda': 0.5103085038108109}. Best is trial 54 with value: 0.8254994124559343.\u001b[0m\n",
      "\u001b[32m[I 2023-04-09 03:47:41,308]\u001b[0m Trial 56 finished with value: 0.8119858989424207 and parameters: {'n_estimators': 150, 'learning_rate': 0.09769260600988175, 'max_depth': 3, 'min_child_weight': 1, 'subsample': 0.407793967793466, 'colsample_bytree': 0.42173166645426696, 'gamma': 0.05586786378109665, 'reg_alpha': 0.09033641254838794, 'reg_lambda': 0.5192044123143882}. Best is trial 54 with value: 0.8254994124559343.\u001b[0m\n",
      "\u001b[32m[I 2023-04-09 03:47:41,639]\u001b[0m Trial 57 finished with value: 0.8249118683901293 and parameters: {'n_estimators': 209, 'learning_rate': 0.06609168965273478, 'max_depth': 3, 'min_child_weight': 1, 'subsample': 0.36925072163826117, 'colsample_bytree': 0.3755349291981192, 'gamma': 0.15173159007971732, 'reg_alpha': 0.03522524801011966, 'reg_lambda': 0.5346832173502447}. Best is trial 54 with value: 0.8254994124559343.\u001b[0m\n",
      "\u001b[32m[I 2023-04-09 03:47:41,979]\u001b[0m Trial 58 finished with value: 0.8337250293772033 and parameters: {'n_estimators': 214, 'learning_rate': 0.06491134941086518, 'max_depth': 3, 'min_child_weight': 1, 'subsample': 0.36451088985563773, 'colsample_bytree': 0.36681326685511745, 'gamma': 0.13293807108488512, 'reg_alpha': 0.3954392346520341, 'reg_lambda': 0.912169037255819}. Best is trial 58 with value: 0.8337250293772033.\u001b[0m\n",
      "\u001b[32m[I 2023-04-09 03:47:42,223]\u001b[0m Trial 59 finished with value: 0.772032902467685 and parameters: {'n_estimators': 145, 'learning_rate': 0.05924552294888848, 'max_depth': 3, 'min_child_weight': 8, 'subsample': 0.4089716433790312, 'colsample_bytree': 0.2978250099649006, 'gamma': 0.13073111956168407, 'reg_alpha': 0.2161757860199726, 'reg_lambda': 0.9380305829404386}. Best is trial 58 with value: 0.8337250293772033.\u001b[0m\n",
      "\u001b[32m[I 2023-04-09 03:47:42,565]\u001b[0m Trial 60 finished with value: 0.7884841363102233 and parameters: {'n_estimators': 222, 'learning_rate': 0.06863093748687464, 'max_depth': 3, 'min_child_weight': 1, 'subsample': 0.3848496038763443, 'colsample_bytree': 0.2667668456628617, 'gamma': 0.023770932121056108, 'reg_alpha': 0.31688635500679285, 'reg_lambda': 0.12094620452027507}. Best is trial 58 with value: 0.8337250293772033.\u001b[0m\n",
      "\u001b[32m[I 2023-04-09 03:47:42,760]\u001b[0m Trial 61 finished with value: 0.8249118683901293 and parameters: {'n_estimators': 101, 'learning_rate': 0.07566228665767635, 'max_depth': 3, 'min_child_weight': 1, 'subsample': 0.36218201540828227, 'colsample_bytree': 0.3585622350310492, 'gamma': 0.41287375641188356, 'reg_alpha': 0.035877276175838996, 'reg_lambda': 0.5738313068310772}. Best is trial 58 with value: 0.8337250293772033.\u001b[0m\n",
      "\u001b[32m[I 2023-04-09 03:47:42,956]\u001b[0m Trial 62 finished with value: 0.8061104582843713 and parameters: {'n_estimators': 104, 'learning_rate': 0.09964304952828948, 'max_depth': 3, 'min_child_weight': 1, 'subsample': 0.4747140628486942, 'colsample_bytree': 0.35838707840711526, 'gamma': 0.43664279276163526, 'reg_alpha': 0.03824359693181697, 'reg_lambda': 0.5269543350385939}. Best is trial 58 with value: 0.8337250293772033.\u001b[0m\n",
      "\u001b[32m[I 2023-04-09 03:47:43,232]\u001b[0m Trial 63 finished with value: 0.7937720329024678 and parameters: {'n_estimators': 163, 'learning_rate': 0.036173534945354247, 'max_depth': 3, 'min_child_weight': 2, 'subsample': 0.3565801256061951, 'colsample_bytree': 0.3232361741237006, 'gamma': 0.11145228163507236, 'reg_alpha': 0.09108465039350669, 'reg_lambda': 0.17470663524623586}. Best is trial 58 with value: 0.8337250293772033.\u001b[0m\n",
      "\u001b[32m[I 2023-04-09 03:47:43,642]\u001b[0m Trial 64 finished with value: 0.809048178613396 and parameters: {'n_estimators': 267, 'learning_rate': 0.052684198469780646, 'max_depth': 3, 'min_child_weight': 1, 'subsample': 0.43140108962371704, 'colsample_bytree': 0.44391887520745893, 'gamma': 0.4534301176139318, 'reg_alpha': 0.6776846283765761, 'reg_lambda': 0.08787208029429168}. Best is trial 58 with value: 0.8337250293772033.\u001b[0m\n",
      "\u001b[32m[I 2023-04-09 03:47:43,835]\u001b[0m Trial 65 finished with value: 0.8225616921269094 and parameters: {'n_estimators': 100, 'learning_rate': 0.07572028279548972, 'max_depth': 3, 'min_child_weight': 1, 'subsample': 0.3775555526250918, 'colsample_bytree': 0.4051564176602672, 'gamma': 0.16468315531565378, 'reg_alpha': 0.03941518942423249, 'reg_lambda': 0.5505751156129194}. Best is trial 58 with value: 0.8337250293772033.\u001b[0m\n",
      "\u001b[32m[I 2023-04-09 03:47:44,034]\u001b[0m Trial 66 finished with value: 0.8166862514688602 and parameters: {'n_estimators': 102, 'learning_rate': 0.06367309097500617, 'max_depth': 3, 'min_child_weight': 1, 'subsample': 0.33064404286545396, 'colsample_bytree': 0.3974166387357019, 'gamma': 0.07552297202304477, 'reg_alpha': 0.11170347907841824, 'reg_lambda': 0.9655666650272652}. Best is trial 58 with value: 0.8337250293772033.\u001b[0m\n",
      "\u001b[32m[I 2023-04-09 03:47:44,371]\u001b[0m Trial 67 finished with value: 0.8025851938895416 and parameters: {'n_estimators': 208, 'learning_rate': 0.08121756803063394, 'max_depth': 3, 'min_child_weight': 1, 'subsample': 0.3834093494706833, 'colsample_bytree': 0.3748072319744704, 'gamma': 0.20379336508471357, 'reg_alpha': 0.03589888058843812, 'reg_lambda': 0.15080734075240695}. Best is trial 58 with value: 0.8337250293772033.\u001b[0m\n",
      "\u001b[32m[I 2023-04-09 03:47:44,608]\u001b[0m Trial 68 finished with value: 0.7758519388954171 and parameters: {'n_estimators': 142, 'learning_rate': 0.07785117681742133, 'max_depth': 3, 'min_child_weight': 10, 'subsample': 0.2996067813716664, 'colsample_bytree': 0.3481142597278876, 'gamma': 0.04055937570546123, 'reg_alpha': 0.4563255433200518, 'reg_lambda': 0.5432278631511965}. Best is trial 58 with value: 0.8337250293772033.\u001b[0m\n",
      "\u001b[32m[I 2023-04-09 03:47:44,941]\u001b[0m Trial 69 finished with value: 0.807873090481786 and parameters: {'n_estimators': 209, 'learning_rate': 0.054024603215353156, 'max_depth': 3, 'min_child_weight': 2, 'subsample': 0.27460075291829456, 'colsample_bytree': 0.40412885678698873, 'gamma': 0.3451716262232869, 'reg_alpha': 0.13978882786378155, 'reg_lambda': 0.18728947828369535}. Best is trial 58 with value: 0.8337250293772033.\u001b[0m\n",
      "\u001b[32m[I 2023-04-09 03:47:45,395]\u001b[0m Trial 70 finished with value: 0.7949471210340776 and parameters: {'n_estimators': 307, 'learning_rate': 0.04081905964596853, 'max_depth': 3, 'min_child_weight': 1, 'subsample': 0.41757196543492875, 'colsample_bytree': 0.22694440706950303, 'gamma': 0.020202956636276397, 'reg_alpha': 0.05214844937729489, 'reg_lambda': 0.10106155729484147}. Best is trial 58 with value: 0.8337250293772033.\u001b[0m\n",
      "\u001b[32m[I 2023-04-09 03:47:45,666]\u001b[0m Trial 71 finished with value: 0.8108108108108109 and parameters: {'n_estimators': 158, 'learning_rate': 0.07590467686570312, 'max_depth': 3, 'min_child_weight': 1, 'subsample': 0.45244703395858027, 'colsample_bytree': 0.43005555555858366, 'gamma': 0.13374279002943845, 'reg_alpha': 0.014158308349371896, 'reg_lambda': 0.604453728760623}. Best is trial 58 with value: 0.8337250293772033.\u001b[0m\n",
      "\u001b[32m[I 2023-04-09 03:47:45,872]\u001b[0m Trial 72 finished with value: 0.8037602820211516 and parameters: {'n_estimators': 100, 'learning_rate': 0.03408981430231263, 'max_depth': 4, 'min_child_weight': 2, 'subsample': 0.3806630935430983, 'colsample_bytree': 0.4635558260505626, 'gamma': 0.08278057392704437, 'reg_alpha': 0.18507732038054944, 'reg_lambda': 0.5392675687590126}. Best is trial 58 with value: 0.8337250293772033.\u001b[0m\n",
      "\u001b[32m[I 2023-04-09 03:47:46,738]\u001b[0m Trial 73 finished with value: 0.8102232667450059 and parameters: {'n_estimators': 134, 'learning_rate': 0.09961937158032073, 'max_depth': 3, 'min_child_weight': 1, 'subsample': 0.34101701629227615, 'colsample_bytree': 0.3639344536978145, 'gamma': 0.16399692803465865, 'reg_alpha': 0.03538994747321518, 'reg_lambda': 0.22796483794413724}. Best is trial 58 with value: 0.8337250293772033.\u001b[0m\n",
      "\u001b[32m[I 2023-04-09 03:47:47,101]\u001b[0m Trial 74 finished with value: 0.782608695652174 and parameters: {'n_estimators': 235, 'learning_rate': 0.040100219931632444, 'max_depth': 3, 'min_child_weight': 2, 'subsample': 0.4730933179548001, 'colsample_bytree': 0.3220349732936801, 'gamma': 0.48755236242372446, 'reg_alpha': 0.06637525548016834, 'reg_lambda': 0.4844344343047882}. Best is trial 58 with value: 0.8337250293772033.\u001b[0m\n",
      "\u001b[32m[I 2023-04-09 03:47:47,461]\u001b[0m Trial 75 finished with value: 0.8219741480611046 and parameters: {'n_estimators': 186, 'learning_rate': 0.052802336030978295, 'max_depth': 4, 'min_child_weight': 1, 'subsample': 0.40971232973113836, 'colsample_bytree': 0.39758110990969675, 'gamma': 0.037299712488823085, 'reg_alpha': 0.4777365738183881, 'reg_lambda': 0.9488073953370555}. Best is trial 58 with value: 0.8337250293772033.\u001b[0m\n",
      "\u001b[32m[I 2023-04-09 03:47:47,770]\u001b[0m Trial 76 finished with value: 0.8155111633372503 and parameters: {'n_estimators': 191, 'learning_rate': 0.052547814888147824, 'max_depth': 3, 'min_child_weight': 1, 'subsample': 0.429067226210052, 'colsample_bytree': 0.3973899363473224, 'gamma': 0.03146652558962106, 'reg_alpha': 0.46762689665482615, 'reg_lambda': 0.9073272088607007}. Best is trial 58 with value: 0.8337250293772033.\u001b[0m\n",
      "\u001b[32m[I 2023-04-09 03:47:48,008]\u001b[0m Trial 77 finished with value: 0.8290246768507639 and parameters: {'n_estimators': 134, 'learning_rate': 0.06157040623063483, 'max_depth': 3, 'min_child_weight': 1, 'subsample': 0.3621467775707311, 'colsample_bytree': 0.3386807400046626, 'gamma': 0.2876428108787279, 'reg_alpha': 0.9940263203636726, 'reg_lambda': 0.04644936493910986}. Best is trial 58 with value: 0.8337250293772033.\u001b[0m\n",
      "\u001b[32m[I 2023-04-09 03:47:48,421]\u001b[0m Trial 78 finished with value: 0.7934782608695652 and parameters: {'n_estimators': 281, 'learning_rate': 0.0617892777527345, 'max_depth': 10, 'min_child_weight': 9, 'subsample': 0.31687939866938986, 'colsample_bytree': 0.3459987545855474, 'gamma': 0.29278015579718175, 'reg_alpha': 0.776774920495822, 'reg_lambda': 0.04896308833162911}. Best is trial 58 with value: 0.8337250293772033.\u001b[0m\n",
      "\u001b[32m[I 2023-04-09 03:47:48,800]\u001b[0m Trial 79 finished with value: 0.7937720329024677 and parameters: {'n_estimators': 256, 'learning_rate': 0.029705950829548654, 'max_depth': 3, 'min_child_weight': 1, 'subsample': 0.3672673552692319, 'colsample_bytree': 0.30919714004088733, 'gamma': 0.05622649192436598, 'reg_alpha': 0.26977695151062964, 'reg_lambda': 0.09878360070765083}. Best is trial 58 with value: 0.8337250293772033.\u001b[0m\n",
      "\u001b[32m[I 2023-04-09 03:47:49,062]\u001b[0m Trial 80 finished with value: 0.7491186839012927 and parameters: {'n_estimators': 155, 'learning_rate': 0.02269018968718583, 'max_depth': 4, 'min_child_weight': 3, 'subsample': 0.25409377657430576, 'colsample_bytree': 0.28100786735658, 'gamma': 0.01617257205412547, 'reg_alpha': 0.44871965176845746, 'reg_lambda': 0.21865408464103694}. Best is trial 58 with value: 0.8337250293772033.\u001b[0m\n",
      "\u001b[32m[I 2023-04-09 03:47:49,300]\u001b[0m Trial 81 finished with value: 0.8243243243243243 and parameters: {'n_estimators': 137, 'learning_rate': 0.08497597292772457, 'max_depth': 3, 'min_child_weight': 1, 'subsample': 0.4046982821892536, 'colsample_bytree': 0.42227142858610067, 'gamma': 0.6213092697628857, 'reg_alpha': 0.1248820564583235, 'reg_lambda': 0.6786851816139996}. Best is trial 58 with value: 0.8337250293772033.\u001b[0m\n",
      "\u001b[32m[I 2023-04-09 03:47:49,611]\u001b[0m Trial 82 finished with value: 0.818448883666275 and parameters: {'n_estimators': 194, 'learning_rate': 0.04935326089124382, 'max_depth': 3, 'min_child_weight': 1, 'subsample': 0.4007476693571937, 'colsample_bytree': 0.42622847736791164, 'gamma': 0.6066460843215136, 'reg_alpha': 0.16092448145744415, 'reg_lambda': 0.5934473172353606}. Best is trial 58 with value: 0.8337250293772033.\u001b[0m\n",
      "\u001b[32m[I 2023-04-09 03:47:49,833]\u001b[0m Trial 83 finished with value: 0.8125734430082256 and parameters: {'n_estimators': 121, 'learning_rate': 0.08008137316123656, 'max_depth': 3, 'min_child_weight': 1, 'subsample': 0.3452788064824854, 'colsample_bytree': 0.3942694158851329, 'gamma': 0.9709318782752717, 'reg_alpha': 0.9138771667074047, 'reg_lambda': 0.31576376011779206}. Best is trial 58 with value: 0.8337250293772033.\u001b[0m\n",
      "\u001b[32m[I 2023-04-09 03:47:50,118]\u001b[0m Trial 84 finished with value: 0.8019976498237368 and parameters: {'n_estimators': 175, 'learning_rate': 0.06684972654612045, 'max_depth': 4, 'min_child_weight': 2, 'subsample': 0.37242315201853704, 'colsample_bytree': 0.3366901036599962, 'gamma': 0.3218999975055714, 'reg_alpha': 0.25113107666734824, 'reg_lambda': 0.1620943322484345}. Best is trial 58 with value: 0.8337250293772033.\u001b[0m\n",
      "\u001b[32m[I 2023-04-09 03:47:50,348]\u001b[0m Trial 85 finished with value: 0.8196239717978849 and parameters: {'n_estimators': 126, 'learning_rate': 0.059935525376202434, 'max_depth': 3, 'min_child_weight': 1, 'subsample': 0.3955167724723174, 'colsample_bytree': 0.4407062384392424, 'gamma': 0.08927290375697709, 'reg_alpha': 0.548975312792962, 'reg_lambda': 0.9848478617214989}. Best is trial 58 with value: 0.8337250293772033.\u001b[0m\n",
      "\u001b[32m[I 2023-04-09 03:47:50,712]\u001b[0m Trial 86 finished with value: 0.8090481786133961 and parameters: {'n_estimators': 230, 'learning_rate': 0.04777877071154272, 'max_depth': 3, 'min_child_weight': 2, 'subsample': 0.3372851713492328, 'colsample_bytree': 0.3719599607911056, 'gamma': 0.15546390706598406, 'reg_alpha': 0.33607003946004393, 'reg_lambda': 0.26142645648332125}. Best is trial 58 with value: 0.8337250293772033.\u001b[0m\n",
      "\u001b[32m[I 2023-04-09 03:47:51,998]\u001b[0m Trial 87 finished with value: 0.7920094007050529 and parameters: {'n_estimators': 936, 'learning_rate': 0.08353435476298247, 'max_depth': 4, 'min_child_weight': 1, 'subsample': 0.3083532961737396, 'colsample_bytree': 0.35779749982266784, 'gamma': 0.5754100785090042, 'reg_alpha': 0.11890480162156726, 'reg_lambda': 0.5833055615458853}. Best is trial 58 with value: 0.8337250293772033.\u001b[0m\n",
      "\u001b[32m[I 2023-04-09 03:47:52,261]\u001b[0m Trial 88 finished with value: 0.8131609870740306 and parameters: {'n_estimators': 154, 'learning_rate': 0.03795648741378499, 'max_depth': 3, 'min_child_weight': 2, 'subsample': 0.40480803510371993, 'colsample_bytree': 0.4181811600057567, 'gamma': 0.2497151759087266, 'reg_alpha': 0.13835964167785084, 'reg_lambda': 0.41424516321290406}. Best is trial 58 with value: 0.8337250293772033.\u001b[0m\n",
      "\u001b[32m[I 2023-04-09 03:47:52,582]\u001b[0m Trial 89 finished with value: 0.7946533490011751 and parameters: {'n_estimators': 208, 'learning_rate': 0.07289646467854835, 'max_depth': 4, 'min_child_weight': 6, 'subsample': 0.35987850565027835, 'colsample_bytree': 0.31695081486831395, 'gamma': 0.045141125853204386, 'reg_alpha': 0.5582063521175135, 'reg_lambda': 0.08312448836650513}. Best is trial 58 with value: 0.8337250293772033.\u001b[0m\n",
      "\u001b[32m[I 2023-04-09 03:47:52,955]\u001b[0m Trial 90 finished with value: 0.8137485311398355 and parameters: {'n_estimators': 243, 'learning_rate': 0.031809541300453555, 'max_depth': 3, 'min_child_weight': 1, 'subsample': 0.42204987974961106, 'colsample_bytree': 0.47219227018811644, 'gamma': 0.1106923945914979, 'reg_alpha': 0.04785419675428399, 'reg_lambda': 0.17866180522156022}. Best is trial 58 with value: 0.8337250293772033.\u001b[0m\n",
      "\u001b[32m[I 2023-04-09 03:47:53,212]\u001b[0m Trial 91 finished with value: 0.8149236192714454 and parameters: {'n_estimators': 136, 'learning_rate': 0.08708033440294431, 'max_depth': 3, 'min_child_weight': 1, 'subsample': 0.4309266373418689, 'colsample_bytree': 0.4060150101713298, 'gamma': 0.20409737387106597, 'reg_alpha': 0.024741386139393938, 'reg_lambda': 0.6827964074546393}. Best is trial 58 with value: 0.8337250293772033.\u001b[0m\n",
      "\u001b[32m[I 2023-04-09 03:47:53,434]\u001b[0m Trial 92 finished with value: 0.8266745005875441 and parameters: {'n_estimators': 123, 'learning_rate': 0.05992403337471664, 'max_depth': 3, 'min_child_weight': 1, 'subsample': 0.38950866837861886, 'colsample_bytree': 0.4469541884372708, 'gamma': 0.08229950867393969, 'reg_alpha': 0.0762257654825824, 'reg_lambda': 0.3677602119399334}. Best is trial 58 with value: 0.8337250293772033.\u001b[0m\n",
      "\u001b[32m[I 2023-04-09 03:47:53,718]\u001b[0m Trial 93 finished with value: 0.8172737955346651 and parameters: {'n_estimators': 171, 'learning_rate': 0.052340003456971894, 'max_depth': 3, 'min_child_weight': 1, 'subsample': 0.3924825167931755, 'colsample_bytree': 0.4486883178736975, 'gamma': 0.059775825410824886, 'reg_alpha': 0.06648816280827811, 'reg_lambda': 0.30147237904691315}. Best is trial 58 with value: 0.8337250293772033.\u001b[0m\n",
      "\u001b[32m[I 2023-04-09 03:47:53,920]\u001b[0m Trial 94 finished with value: 0.8131609870740306 and parameters: {'n_estimators': 101, 'learning_rate': 0.06141789080548948, 'max_depth': 3, 'min_child_weight': 1, 'subsample': 0.3304743762609875, 'colsample_bytree': 0.3831635672241193, 'gamma': 0.0279590141716688, 'reg_alpha': 0.1951454008276281, 'reg_lambda': 0.3962125533108867}. Best is trial 58 with value: 0.8337250293772033.\u001b[0m\n",
      "\u001b[32m[I 2023-04-09 03:47:55,007]\u001b[0m Trial 95 finished with value: 0.8025851938895417 and parameters: {'n_estimators': 810, 'learning_rate': 0.04439895707038661, 'max_depth': 3, 'min_child_weight': 2, 'subsample': 0.3729637048769977, 'colsample_bytree': 0.34188607277026273, 'gamma': 0.08122252777931473, 'reg_alpha': 0.9370269003102683, 'reg_lambda': 0.12044123965470296}. Best is trial 58 with value: 0.8337250293772033.\u001b[0m\n",
      "\u001b[32m[I 2023-04-09 03:47:55,327]\u001b[0m Trial 96 finished with value: 0.8119858989424208 and parameters: {'n_estimators': 190, 'learning_rate': 0.0700331146579538, 'max_depth': 4, 'min_child_weight': 1, 'subsample': 0.4891674419664752, 'colsample_bytree': 0.49320979267304443, 'gamma': 0.6422903969900482, 'reg_alpha': 0.11330053190065291, 'reg_lambda': 0.6312577298617085}. Best is trial 58 with value: 0.8337250293772033.\u001b[0m\n",
      "\u001b[32m[I 2023-04-09 03:47:55,551]\u001b[0m Trial 97 finished with value: 0.800235017626322 and parameters: {'n_estimators': 121, 'learning_rate': 0.08744350559250645, 'max_depth': 3, 'min_child_weight': 1, 'subsample': 0.45126683493814623, 'colsample_bytree': 0.40809952685502543, 'gamma': 0.37103755628750557, 'reg_alpha': 0.2764048243934439, 'reg_lambda': 0.24167099500651226}. Best is trial 58 with value: 0.8337250293772033.\u001b[0m\n",
      "\u001b[32m[I 2023-04-09 03:47:55,808]\u001b[0m Trial 98 finished with value: 0.8231492361927144 and parameters: {'n_estimators': 144, 'learning_rate': 0.057139326247246956, 'max_depth': 4, 'min_child_weight': 2, 'subsample': 0.3508622866262183, 'colsample_bytree': 0.35880729255997035, 'gamma': 0.14476708805095484, 'reg_alpha': 0.017266851544952187, 'reg_lambda': 0.044067039979817375}. Best is trial 58 with value: 0.8337250293772033.\u001b[0m\n",
      "\u001b[32m[I 2023-04-09 03:47:56,063]\u001b[0m Trial 99 finished with value: 0.8160987074030553 and parameters: {'n_estimators': 146, 'learning_rate': 0.03850452804363677, 'max_depth': 3, 'min_child_weight': 2, 'subsample': 0.29644170909972545, 'colsample_bytree': 0.3534629357058463, 'gamma': 0.1478373432049529, 'reg_alpha': 0.014619693913793367, 'reg_lambda': 0.0392599508304472}. Best is trial 58 with value: 0.8337250293772033.\u001b[0m\n"
     ]
    }
   ],
   "source": [
    "study = optuna.create_study(direction='maximize')\n",
    "study.optimize(objective, n_trials=100)"
   ]
  },
  {
   "cell_type": "code",
   "execution_count": 10,
   "id": "9d3fec45",
   "metadata": {
    "execution": {
     "iopub.execute_input": "2023-04-09T03:47:56.094110Z",
     "iopub.status.busy": "2023-04-09T03:47:56.093705Z",
     "iopub.status.idle": "2023-04-09T03:47:56.100229Z",
     "shell.execute_reply": "2023-04-09T03:47:56.098898Z"
    },
    "papermill": {
     "duration": 0.021634,
     "end_time": "2023-04-09T03:47:56.102746",
     "exception": false,
     "start_time": "2023-04-09T03:47:56.081112",
     "status": "completed"
    },
    "tags": []
   },
   "outputs": [
    {
     "name": "stdout",
     "output_type": "stream",
     "text": [
      "Best trial: score 0.8337250293772033,\n",
      "params {'n_estimators': 214, 'learning_rate': 0.06491134941086518, 'max_depth': 3, 'min_child_weight': 1, 'subsample': 0.36451088985563773, 'colsample_bytree': 0.36681326685511745, 'gamma': 0.13293807108488512, 'reg_alpha': 0.3954392346520341, 'reg_lambda': 0.912169037255819}\n"
     ]
    }
   ],
   "source": [
    "print('Best trial: score {},\\nparams {}'.format(study.best_trial.value, study.best_trial.params))"
   ]
  },
  {
   "cell_type": "code",
   "execution_count": 11,
   "id": "7fbb4ce5",
   "metadata": {
    "execution": {
     "iopub.execute_input": "2023-04-09T03:47:56.127496Z",
     "iopub.status.busy": "2023-04-09T03:47:56.127130Z",
     "iopub.status.idle": "2023-04-09T03:47:58.910182Z",
     "shell.execute_reply": "2023-04-09T03:47:58.908993Z"
    },
    "papermill": {
     "duration": 2.798103,
     "end_time": "2023-04-09T03:47:58.912628",
     "exception": false,
     "start_time": "2023-04-09T03:47:56.114525",
     "status": "completed"
    },
    "tags": []
   },
   "outputs": [
    {
     "data": {
      "text/html": [
       "        <script type=\"text/javascript\">\n",
       "        window.PlotlyConfig = {MathJaxConfig: 'local'};\n",
       "        if (window.MathJax && window.MathJax.Hub && window.MathJax.Hub.Config) {window.MathJax.Hub.Config({SVG: {font: \"STIX-Web\"}});}\n",
       "        if (typeof require !== 'undefined') {\n",
       "        require.undef(\"plotly\");\n",
       "        requirejs.config({\n",
       "            paths: {\n",
       "                'plotly': ['https://cdn.plot.ly/plotly-2.18.0.min']\n",
       "            }\n",
       "        });\n",
       "        require(['plotly'], function(Plotly) {\n",
       "            window._Plotly = Plotly;\n",
       "        });\n",
       "        }\n",
       "        </script>\n",
       "        "
      ]
     },
     "metadata": {},
     "output_type": "display_data"
    },
    {
     "data": {
      "text/html": [
       "<div>                            <div id=\"bb718016-d5e2-4be5-8a8f-51ec0dc090b8\" class=\"plotly-graph-div\" style=\"height:525px; width:100%;\"></div>            <script type=\"text/javascript\">                require([\"plotly\"], function(Plotly) {                    window.PLOTLYENV=window.PLOTLYENV || {};                                    if (document.getElementById(\"bb718016-d5e2-4be5-8a8f-51ec0dc090b8\")) {                    Plotly.newPlot(                        \"bb718016-d5e2-4be5-8a8f-51ec0dc090b8\",                        [{\"cliponaxis\":false,\"hovertemplate\":[\"max_depth (IntDistribution): 0.013813017115117865<extra></extra>\",\"reg_alpha (FloatDistribution): 0.015955827178123584<extra></extra>\",\"gamma (FloatDistribution): 0.02644414093824664<extra></extra>\",\"reg_lambda (FloatDistribution): 0.04820981555887081<extra></extra>\",\"n_estimators (IntDistribution): 0.1175989533064306<extra></extra>\",\"subsample (FloatDistribution): 0.13034654666014836<extra></extra>\",\"learning_rate (FloatDistribution): 0.1458456801502706<extra></extra>\",\"min_child_weight (IntDistribution): 0.16616209600175216<extra></extra>\",\"colsample_bytree (FloatDistribution): 0.3356239230910391<extra></extra>\"],\"marker\":{\"color\":\"rgb(66,146,198)\"},\"orientation\":\"h\",\"text\":[\"0.01\",\"0.02\",\"0.03\",\"0.05\",\"0.12\",\"0.13\",\"0.15\",\"0.17\",\"0.34\"],\"textposition\":\"outside\",\"x\":[0.013813017115117865,0.015955827178123584,0.02644414093824664,0.04820981555887081,0.1175989533064306,0.13034654666014836,0.1458456801502706,0.16616209600175216,0.3356239230910391],\"y\":[\"max_depth\",\"reg_alpha\",\"gamma\",\"reg_lambda\",\"n_estimators\",\"subsample\",\"learning_rate\",\"min_child_weight\",\"colsample_bytree\"],\"type\":\"bar\"}],                        {\"showlegend\":false,\"title\":{\"text\":\"Hyperparameter Importances\"},\"xaxis\":{\"title\":{\"text\":\"Importance for Objective Value\"}},\"yaxis\":{\"title\":{\"text\":\"Hyperparameter\"}},\"template\":{\"data\":{\"histogram2dcontour\":[{\"type\":\"histogram2dcontour\",\"colorbar\":{\"outlinewidth\":0,\"ticks\":\"\"},\"colorscale\":[[0.0,\"#0d0887\"],[0.1111111111111111,\"#46039f\"],[0.2222222222222222,\"#7201a8\"],[0.3333333333333333,\"#9c179e\"],[0.4444444444444444,\"#bd3786\"],[0.5555555555555556,\"#d8576b\"],[0.6666666666666666,\"#ed7953\"],[0.7777777777777778,\"#fb9f3a\"],[0.8888888888888888,\"#fdca26\"],[1.0,\"#f0f921\"]]}],\"choropleth\":[{\"type\":\"choropleth\",\"colorbar\":{\"outlinewidth\":0,\"ticks\":\"\"}}],\"histogram2d\":[{\"type\":\"histogram2d\",\"colorbar\":{\"outlinewidth\":0,\"ticks\":\"\"},\"colorscale\":[[0.0,\"#0d0887\"],[0.1111111111111111,\"#46039f\"],[0.2222222222222222,\"#7201a8\"],[0.3333333333333333,\"#9c179e\"],[0.4444444444444444,\"#bd3786\"],[0.5555555555555556,\"#d8576b\"],[0.6666666666666666,\"#ed7953\"],[0.7777777777777778,\"#fb9f3a\"],[0.8888888888888888,\"#fdca26\"],[1.0,\"#f0f921\"]]}],\"heatmap\":[{\"type\":\"heatmap\",\"colorbar\":{\"outlinewidth\":0,\"ticks\":\"\"},\"colorscale\":[[0.0,\"#0d0887\"],[0.1111111111111111,\"#46039f\"],[0.2222222222222222,\"#7201a8\"],[0.3333333333333333,\"#9c179e\"],[0.4444444444444444,\"#bd3786\"],[0.5555555555555556,\"#d8576b\"],[0.6666666666666666,\"#ed7953\"],[0.7777777777777778,\"#fb9f3a\"],[0.8888888888888888,\"#fdca26\"],[1.0,\"#f0f921\"]]}],\"heatmapgl\":[{\"type\":\"heatmapgl\",\"colorbar\":{\"outlinewidth\":0,\"ticks\":\"\"},\"colorscale\":[[0.0,\"#0d0887\"],[0.1111111111111111,\"#46039f\"],[0.2222222222222222,\"#7201a8\"],[0.3333333333333333,\"#9c179e\"],[0.4444444444444444,\"#bd3786\"],[0.5555555555555556,\"#d8576b\"],[0.6666666666666666,\"#ed7953\"],[0.7777777777777778,\"#fb9f3a\"],[0.8888888888888888,\"#fdca26\"],[1.0,\"#f0f921\"]]}],\"contourcarpet\":[{\"type\":\"contourcarpet\",\"colorbar\":{\"outlinewidth\":0,\"ticks\":\"\"}}],\"contour\":[{\"type\":\"contour\",\"colorbar\":{\"outlinewidth\":0,\"ticks\":\"\"},\"colorscale\":[[0.0,\"#0d0887\"],[0.1111111111111111,\"#46039f\"],[0.2222222222222222,\"#7201a8\"],[0.3333333333333333,\"#9c179e\"],[0.4444444444444444,\"#bd3786\"],[0.5555555555555556,\"#d8576b\"],[0.6666666666666666,\"#ed7953\"],[0.7777777777777778,\"#fb9f3a\"],[0.8888888888888888,\"#fdca26\"],[1.0,\"#f0f921\"]]}],\"surface\":[{\"type\":\"surface\",\"colorbar\":{\"outlinewidth\":0,\"ticks\":\"\"},\"colorscale\":[[0.0,\"#0d0887\"],[0.1111111111111111,\"#46039f\"],[0.2222222222222222,\"#7201a8\"],[0.3333333333333333,\"#9c179e\"],[0.4444444444444444,\"#bd3786\"],[0.5555555555555556,\"#d8576b\"],[0.6666666666666666,\"#ed7953\"],[0.7777777777777778,\"#fb9f3a\"],[0.8888888888888888,\"#fdca26\"],[1.0,\"#f0f921\"]]}],\"mesh3d\":[{\"type\":\"mesh3d\",\"colorbar\":{\"outlinewidth\":0,\"ticks\":\"\"}}],\"scatter\":[{\"fillpattern\":{\"fillmode\":\"overlay\",\"size\":10,\"solidity\":0.2},\"type\":\"scatter\"}],\"parcoords\":[{\"type\":\"parcoords\",\"line\":{\"colorbar\":{\"outlinewidth\":0,\"ticks\":\"\"}}}],\"scatterpolargl\":[{\"type\":\"scatterpolargl\",\"marker\":{\"colorbar\":{\"outlinewidth\":0,\"ticks\":\"\"}}}],\"bar\":[{\"error_x\":{\"color\":\"#2a3f5f\"},\"error_y\":{\"color\":\"#2a3f5f\"},\"marker\":{\"line\":{\"color\":\"#E5ECF6\",\"width\":0.5},\"pattern\":{\"fillmode\":\"overlay\",\"size\":10,\"solidity\":0.2}},\"type\":\"bar\"}],\"scattergeo\":[{\"type\":\"scattergeo\",\"marker\":{\"colorbar\":{\"outlinewidth\":0,\"ticks\":\"\"}}}],\"scatterpolar\":[{\"type\":\"scatterpolar\",\"marker\":{\"colorbar\":{\"outlinewidth\":0,\"ticks\":\"\"}}}],\"histogram\":[{\"marker\":{\"pattern\":{\"fillmode\":\"overlay\",\"size\":10,\"solidity\":0.2}},\"type\":\"histogram\"}],\"scattergl\":[{\"type\":\"scattergl\",\"marker\":{\"colorbar\":{\"outlinewidth\":0,\"ticks\":\"\"}}}],\"scatter3d\":[{\"type\":\"scatter3d\",\"line\":{\"colorbar\":{\"outlinewidth\":0,\"ticks\":\"\"}},\"marker\":{\"colorbar\":{\"outlinewidth\":0,\"ticks\":\"\"}}}],\"scattermapbox\":[{\"type\":\"scattermapbox\",\"marker\":{\"colorbar\":{\"outlinewidth\":0,\"ticks\":\"\"}}}],\"scatterternary\":[{\"type\":\"scatterternary\",\"marker\":{\"colorbar\":{\"outlinewidth\":0,\"ticks\":\"\"}}}],\"scattercarpet\":[{\"type\":\"scattercarpet\",\"marker\":{\"colorbar\":{\"outlinewidth\":0,\"ticks\":\"\"}}}],\"carpet\":[{\"aaxis\":{\"endlinecolor\":\"#2a3f5f\",\"gridcolor\":\"white\",\"linecolor\":\"white\",\"minorgridcolor\":\"white\",\"startlinecolor\":\"#2a3f5f\"},\"baxis\":{\"endlinecolor\":\"#2a3f5f\",\"gridcolor\":\"white\",\"linecolor\":\"white\",\"minorgridcolor\":\"white\",\"startlinecolor\":\"#2a3f5f\"},\"type\":\"carpet\"}],\"table\":[{\"cells\":{\"fill\":{\"color\":\"#EBF0F8\"},\"line\":{\"color\":\"white\"}},\"header\":{\"fill\":{\"color\":\"#C8D4E3\"},\"line\":{\"color\":\"white\"}},\"type\":\"table\"}],\"barpolar\":[{\"marker\":{\"line\":{\"color\":\"#E5ECF6\",\"width\":0.5},\"pattern\":{\"fillmode\":\"overlay\",\"size\":10,\"solidity\":0.2}},\"type\":\"barpolar\"}],\"pie\":[{\"automargin\":true,\"type\":\"pie\"}]},\"layout\":{\"autotypenumbers\":\"strict\",\"colorway\":[\"#636efa\",\"#EF553B\",\"#00cc96\",\"#ab63fa\",\"#FFA15A\",\"#19d3f3\",\"#FF6692\",\"#B6E880\",\"#FF97FF\",\"#FECB52\"],\"font\":{\"color\":\"#2a3f5f\"},\"hovermode\":\"closest\",\"hoverlabel\":{\"align\":\"left\"},\"paper_bgcolor\":\"white\",\"plot_bgcolor\":\"#E5ECF6\",\"polar\":{\"bgcolor\":\"#E5ECF6\",\"angularaxis\":{\"gridcolor\":\"white\",\"linecolor\":\"white\",\"ticks\":\"\"},\"radialaxis\":{\"gridcolor\":\"white\",\"linecolor\":\"white\",\"ticks\":\"\"}},\"ternary\":{\"bgcolor\":\"#E5ECF6\",\"aaxis\":{\"gridcolor\":\"white\",\"linecolor\":\"white\",\"ticks\":\"\"},\"baxis\":{\"gridcolor\":\"white\",\"linecolor\":\"white\",\"ticks\":\"\"},\"caxis\":{\"gridcolor\":\"white\",\"linecolor\":\"white\",\"ticks\":\"\"}},\"coloraxis\":{\"colorbar\":{\"outlinewidth\":0,\"ticks\":\"\"}},\"colorscale\":{\"sequential\":[[0.0,\"#0d0887\"],[0.1111111111111111,\"#46039f\"],[0.2222222222222222,\"#7201a8\"],[0.3333333333333333,\"#9c179e\"],[0.4444444444444444,\"#bd3786\"],[0.5555555555555556,\"#d8576b\"],[0.6666666666666666,\"#ed7953\"],[0.7777777777777778,\"#fb9f3a\"],[0.8888888888888888,\"#fdca26\"],[1.0,\"#f0f921\"]],\"sequentialminus\":[[0.0,\"#0d0887\"],[0.1111111111111111,\"#46039f\"],[0.2222222222222222,\"#7201a8\"],[0.3333333333333333,\"#9c179e\"],[0.4444444444444444,\"#bd3786\"],[0.5555555555555556,\"#d8576b\"],[0.6666666666666666,\"#ed7953\"],[0.7777777777777778,\"#fb9f3a\"],[0.8888888888888888,\"#fdca26\"],[1.0,\"#f0f921\"]],\"diverging\":[[0,\"#8e0152\"],[0.1,\"#c51b7d\"],[0.2,\"#de77ae\"],[0.3,\"#f1b6da\"],[0.4,\"#fde0ef\"],[0.5,\"#f7f7f7\"],[0.6,\"#e6f5d0\"],[0.7,\"#b8e186\"],[0.8,\"#7fbc41\"],[0.9,\"#4d9221\"],[1,\"#276419\"]]},\"xaxis\":{\"gridcolor\":\"white\",\"linecolor\":\"white\",\"ticks\":\"\",\"title\":{\"standoff\":15},\"zerolinecolor\":\"white\",\"automargin\":true,\"zerolinewidth\":2},\"yaxis\":{\"gridcolor\":\"white\",\"linecolor\":\"white\",\"ticks\":\"\",\"title\":{\"standoff\":15},\"zerolinecolor\":\"white\",\"automargin\":true,\"zerolinewidth\":2},\"scene\":{\"xaxis\":{\"backgroundcolor\":\"#E5ECF6\",\"gridcolor\":\"white\",\"linecolor\":\"white\",\"showbackground\":true,\"ticks\":\"\",\"zerolinecolor\":\"white\",\"gridwidth\":2},\"yaxis\":{\"backgroundcolor\":\"#E5ECF6\",\"gridcolor\":\"white\",\"linecolor\":\"white\",\"showbackground\":true,\"ticks\":\"\",\"zerolinecolor\":\"white\",\"gridwidth\":2},\"zaxis\":{\"backgroundcolor\":\"#E5ECF6\",\"gridcolor\":\"white\",\"linecolor\":\"white\",\"showbackground\":true,\"ticks\":\"\",\"zerolinecolor\":\"white\",\"gridwidth\":2}},\"shapedefaults\":{\"line\":{\"color\":\"#2a3f5f\"}},\"annotationdefaults\":{\"arrowcolor\":\"#2a3f5f\",\"arrowhead\":0,\"arrowwidth\":1},\"geo\":{\"bgcolor\":\"white\",\"landcolor\":\"#E5ECF6\",\"subunitcolor\":\"white\",\"showland\":true,\"showlakes\":true,\"lakecolor\":\"white\"},\"title\":{\"x\":0.05},\"mapbox\":{\"style\":\"light\"}}}},                        {\"responsive\": true}                    ).then(function(){\n",
       "                            \n",
       "var gd = document.getElementById('bb718016-d5e2-4be5-8a8f-51ec0dc090b8');\n",
       "var x = new MutationObserver(function (mutations, observer) {{\n",
       "        var display = window.getComputedStyle(gd).display;\n",
       "        if (!display || display === 'none') {{\n",
       "            console.log([gd, 'removed!']);\n",
       "            Plotly.purge(gd);\n",
       "            observer.disconnect();\n",
       "        }}\n",
       "}});\n",
       "\n",
       "// Listen for the removal of the full notebook cells\n",
       "var notebookContainer = gd.closest('#notebook-container');\n",
       "if (notebookContainer) {{\n",
       "    x.observe(notebookContainer, {childList: true});\n",
       "}}\n",
       "\n",
       "// Listen for the clearing of the current output cell\n",
       "var outputEl = gd.closest('.output');\n",
       "if (outputEl) {{\n",
       "    x.observe(outputEl, {childList: true});\n",
       "}}\n",
       "\n",
       "                        })                };                });            </script>        </div>"
      ]
     },
     "metadata": {},
     "output_type": "display_data"
    }
   ],
   "source": [
    "import optuna.visualization as vis\n",
    "\n",
    "# Assuming that 'study' is your Optuna study object\n",
    "# Visualize parameter importance\n",
    "fig = vis.plot_param_importances(study)\n",
    "fig.show()"
   ]
  },
  {
   "cell_type": "code",
   "execution_count": 12,
   "id": "0d8b0474",
   "metadata": {
    "execution": {
     "iopub.execute_input": "2023-04-09T03:47:58.937773Z",
     "iopub.status.busy": "2023-04-09T03:47:58.937423Z",
     "iopub.status.idle": "2023-04-09T03:47:59.372104Z",
     "shell.execute_reply": "2023-04-09T03:47:59.370985Z"
    },
    "papermill": {
     "duration": 0.450191,
     "end_time": "2023-04-09T03:47:59.374648",
     "exception": false,
     "start_time": "2023-04-09T03:47:58.924457",
     "status": "completed"
    },
    "tags": []
   },
   "outputs": [
    {
     "data": {
      "text/html": [
       "<div>                            <div id=\"b28b5506-b10e-4197-a39f-679880f328c8\" class=\"plotly-graph-div\" style=\"height:525px; width:2700px;\"></div>            <script type=\"text/javascript\">                require([\"plotly\"], function(Plotly) {                    window.PLOTLYENV=window.PLOTLYENV || {};                                    if (document.getElementById(\"b28b5506-b10e-4197-a39f-679880f328c8\")) {                    Plotly.newPlot(                        \"b28b5506-b10e-4197-a39f-679880f328c8\",                        [{\"marker\":{\"color\":[0,1,2,3,4,5,6,7,8,9,10,11,12,13,14,15,16,17,18,19,20,21,22,23,24,25,26,27,28,29,30,31,32,33,34,35,36,37,38,39,40,41,42,43,44,45,46,47,48,49,50,51,52,53,54,55,56,57,58,59,60,61,62,63,64,65,66,67,68,69,70,71,72,73,74,75,76,77,78,79,80,81,82,83,84,85,86,87,88,89,90,91,92,93,94,95,96,97,98,99],\"colorbar\":{\"title\":{\"text\":\"Trial\"},\"x\":1.0,\"xpad\":40},\"colorscale\":[[0.0,\"rgb(247,251,255)\"],[0.125,\"rgb(222,235,247)\"],[0.25,\"rgb(198,219,239)\"],[0.375,\"rgb(158,202,225)\"],[0.5,\"rgb(107,174,214)\"],[0.625,\"rgb(66,146,198)\"],[0.75,\"rgb(33,113,181)\"],[0.875,\"rgb(8,81,156)\"],[1.0,\"rgb(8,48,107)\"]],\"line\":{\"color\":\"Grey\",\"width\":0.5},\"showscale\":true},\"mode\":\"markers\",\"showlegend\":false,\"x\":[0.7825353899286331,0.31611301702862404,0.5235668858937926,0.2432081882022881,0.8114718619138931,0.16740447631166983,0.211954699355697,0.7366787475994591,0.7116982889813792,0.9397451565024814,0.5532703084653416,0.5049613024815084,0.4796408348348742,0.3874875335548668,0.6177674751416211,0.6247980576523826,0.6189152839656508,0.4094575093428129,0.4025220829990175,0.10620510844546621,0.4193359453356135,0.59419642902848,0.622597604410851,0.5762628254590721,0.4710414979993403,0.33817318050073264,0.6582405390906778,0.5541156440056895,0.46287376007599224,0.4500302811358971,0.34647233982013403,0.3307347980266795,0.29092675664494944,0.3752934585829791,0.5105367513992902,0.522079110133516,0.5311520389146274,0.5179183264984092,0.4389755481085185,0.517578624482926,0.2924514566496608,0.5134139771581606,0.5270852265817985,0.5398782867329524,0.4213003201522952,0.48592909357504177,0.5637344741595381,0.6705331706569786,0.45753122804915947,0.49439086586668046,0.5572070202996674,0.4824180198191862,0.37612062423571424,0.3830278027172599,0.4191796023116345,0.4194877673285488,0.42173166645426696,0.3755349291981192,0.36681326685511745,0.2978250099649006,0.2667668456628617,0.3585622350310492,0.35838707840711526,0.3232361741237006,0.44391887520745893,0.4051564176602672,0.3974166387357019,0.3748072319744704,0.3481142597278876,0.40412885678698873,0.22694440706950303,0.43005555555858366,0.4635558260505626,0.3639344536978145,0.3220349732936801,0.39758110990969675,0.3973899363473224,0.3386807400046626,0.3459987545855474,0.30919714004088733,0.28100786735658,0.42227142858610067,0.42622847736791164,0.3942694158851329,0.3366901036599962,0.4407062384392424,0.3719599607911056,0.35779749982266784,0.4181811600057567,0.31695081486831395,0.47219227018811644,0.4060150101713298,0.4469541884372708,0.4486883178736975,0.3831635672241193,0.34188607277026273,0.49320979267304443,0.40809952685502543,0.35880729255997035,0.3534629357058463],\"y\":[0.780846063454759,0.7397179788484137,0.7711515863689777,0.687132784958872,0.7867215041128085,0.6918331374853115,0.7053466509988249,0.7937720329024677,0.7949471210340776,0.7884841363102233,0.800822561692127,0.7972972972972973,0.7796709753231493,0.7802585193889541,0.8002350176263221,0.782608695652174,0.8061104582843713,0.8108108108108107,0.799059929494712,0.7984723854289072,0.7773207990599296,0.8025851938895417,0.8014101057579318,0.7949471210340776,0.7873090481786135,0.7996474735605171,0.7814336075205641,0.7867215041128085,0.8031727379553467,0.7908343125734429,0.8037602820211516,0.7773207990599295,0.7873090481786134,0.7802585193889542,0.8102232667450059,0.8078730904817861,0.8084606345475912,0.8207990599294948,0.8025851938895416,0.7949471210340775,0.7708578143360751,0.8061104582843713,0.8196239717978849,0.8131609870740305,0.8090481786133961,0.8102232667450059,0.8031727379553467,0.7984723854289071,0.7996474735605171,0.7817273795534666,0.7984723854289072,0.8055229142185664,0.8149236192714454,0.7884841363102233,0.8254994124559343,0.8243243243243242,0.8119858989424207,0.8249118683901293,0.8337250293772033,0.772032902467685,0.7884841363102233,0.8249118683901293,0.8061104582843713,0.7937720329024678,0.809048178613396,0.8225616921269094,0.8166862514688602,0.8025851938895416,0.7758519388954171,0.807873090481786,0.7949471210340776,0.8108108108108109,0.8037602820211516,0.8102232667450059,0.782608695652174,0.8219741480611046,0.8155111633372503,0.8290246768507639,0.7934782608695652,0.7937720329024677,0.7491186839012927,0.8243243243243243,0.818448883666275,0.8125734430082256,0.8019976498237368,0.8196239717978849,0.8090481786133961,0.7920094007050529,0.8131609870740306,0.7946533490011751,0.8137485311398355,0.8149236192714454,0.8266745005875441,0.8172737955346651,0.8131609870740306,0.8025851938895417,0.8119858989424208,0.800235017626322,0.8231492361927144,0.8160987074030553],\"type\":\"scatter\",\"xaxis\":\"x\",\"yaxis\":\"y\"},{\"marker\":{\"color\":[0,1,2,3,4,5,6,7,8,9,10,11,12,13,14,15,16,17,18,19,20,21,22,23,24,25,26,27,28,29,30,31,32,33,34,35,36,37,38,39,40,41,42,43,44,45,46,47,48,49,50,51,52,53,54,55,56,57,58,59,60,61,62,63,64,65,66,67,68,69,70,71,72,73,74,75,76,77,78,79,80,81,82,83,84,85,86,87,88,89,90,91,92,93,94,95,96,97,98,99],\"colorbar\":{\"title\":{\"text\":\"Trial\"},\"x\":1.0,\"xpad\":40},\"colorscale\":[[0.0,\"rgb(247,251,255)\"],[0.125,\"rgb(222,235,247)\"],[0.25,\"rgb(198,219,239)\"],[0.375,\"rgb(158,202,225)\"],[0.5,\"rgb(107,174,214)\"],[0.625,\"rgb(66,146,198)\"],[0.75,\"rgb(33,113,181)\"],[0.875,\"rgb(8,81,156)\"],[1.0,\"rgb(8,48,107)\"]],\"line\":{\"color\":\"Grey\",\"width\":0.5},\"showscale\":false},\"mode\":\"markers\",\"showlegend\":false,\"x\":[0.0000318978278067955,4.3897348863618035e-8,0.000011909602286378205,3.832521002181216e-6,0.06617419277278812,1.8549250053815633e-8,8.620490273145398e-7,7.22653609316812e-8,7.338225713530925e-7,0.0006496378101816869,0.0005420013787541086,0.0007972848757139159,0.0006336667436340123,0.008506876915053469,0.31275924770575725,0.45811192916437304,0.5413823875463871,0.01440484199408568,0.02522887358970556,0.4453480775100054,0.007990212596948066,0.08349039647088585,0.0933184641905797,0.9473830624446784,0.09059009761194432,0.016622867937426997,0.0036805186263353393,0.13301430764405325,0.03258571193459777,0.00008712445156026177,0.03674945993795439,0.024123597084592205,0.8496610301000538,0.0032562599203233285,0.2702155473623108,0.20651541270684784,0.15865614548032755,0.19964901432830884,0.19394049967464638,0.25531153018882025,0.0531841470341068,0.22244854480644347,0.12252464132207588,0.05963901586025678,0.06278902604337552,0.8325314001021723,0.012997984763888956,0.03810306799546657,0.10935219381647679,0.4148808280400866,0.00884271589944171,0.6064566898690256,0.9242248560300438,0.3002576259826166,0.0785288911324757,0.05912738660555242,0.05586786378109665,0.15173159007971732,0.13293807108488512,0.13073111956168407,0.023770932121056108,0.41287375641188356,0.43664279276163526,0.11145228163507236,0.4534301176139318,0.16468315531565378,0.07552297202304477,0.20379336508471357,0.04055937570546123,0.3451716262232869,0.020202956636276397,0.13374279002943845,0.08278057392704437,0.16399692803465865,0.48755236242372446,0.037299712488823085,0.03146652558962106,0.2876428108787279,0.29278015579718175,0.05622649192436598,0.01617257205412547,0.6213092697628857,0.6066460843215136,0.9709318782752717,0.3218999975055714,0.08927290375697709,0.15546390706598406,0.5754100785090042,0.2497151759087266,0.045141125853204386,0.1106923945914979,0.20409737387106597,0.08229950867393969,0.059775825410824886,0.0279590141716688,0.08122252777931473,0.6422903969900482,0.37103755628750557,0.14476708805095484,0.1478373432049529],\"y\":[0.780846063454759,0.7397179788484137,0.7711515863689777,0.687132784958872,0.7867215041128085,0.6918331374853115,0.7053466509988249,0.7937720329024677,0.7949471210340776,0.7884841363102233,0.800822561692127,0.7972972972972973,0.7796709753231493,0.7802585193889541,0.8002350176263221,0.782608695652174,0.8061104582843713,0.8108108108108107,0.799059929494712,0.7984723854289072,0.7773207990599296,0.8025851938895417,0.8014101057579318,0.7949471210340776,0.7873090481786135,0.7996474735605171,0.7814336075205641,0.7867215041128085,0.8031727379553467,0.7908343125734429,0.8037602820211516,0.7773207990599295,0.7873090481786134,0.7802585193889542,0.8102232667450059,0.8078730904817861,0.8084606345475912,0.8207990599294948,0.8025851938895416,0.7949471210340775,0.7708578143360751,0.8061104582843713,0.8196239717978849,0.8131609870740305,0.8090481786133961,0.8102232667450059,0.8031727379553467,0.7984723854289071,0.7996474735605171,0.7817273795534666,0.7984723854289072,0.8055229142185664,0.8149236192714454,0.7884841363102233,0.8254994124559343,0.8243243243243242,0.8119858989424207,0.8249118683901293,0.8337250293772033,0.772032902467685,0.7884841363102233,0.8249118683901293,0.8061104582843713,0.7937720329024678,0.809048178613396,0.8225616921269094,0.8166862514688602,0.8025851938895416,0.7758519388954171,0.807873090481786,0.7949471210340776,0.8108108108108109,0.8037602820211516,0.8102232667450059,0.782608695652174,0.8219741480611046,0.8155111633372503,0.8290246768507639,0.7934782608695652,0.7937720329024677,0.7491186839012927,0.8243243243243243,0.818448883666275,0.8125734430082256,0.8019976498237368,0.8196239717978849,0.8090481786133961,0.7920094007050529,0.8131609870740306,0.7946533490011751,0.8137485311398355,0.8149236192714454,0.8266745005875441,0.8172737955346651,0.8131609870740306,0.8025851938895417,0.8119858989424208,0.800235017626322,0.8231492361927144,0.8160987074030553],\"type\":\"scatter\",\"xaxis\":\"x2\",\"yaxis\":\"y2\"},{\"marker\":{\"color\":[0,1,2,3,4,5,6,7,8,9,10,11,12,13,14,15,16,17,18,19,20,21,22,23,24,25,26,27,28,29,30,31,32,33,34,35,36,37,38,39,40,41,42,43,44,45,46,47,48,49,50,51,52,53,54,55,56,57,58,59,60,61,62,63,64,65,66,67,68,69,70,71,72,73,74,75,76,77,78,79,80,81,82,83,84,85,86,87,88,89,90,91,92,93,94,95,96,97,98,99],\"colorbar\":{\"title\":{\"text\":\"Trial\"},\"x\":1.0,\"xpad\":40},\"colorscale\":[[0.0,\"rgb(247,251,255)\"],[0.125,\"rgb(222,235,247)\"],[0.25,\"rgb(198,219,239)\"],[0.375,\"rgb(158,202,225)\"],[0.5,\"rgb(107,174,214)\"],[0.625,\"rgb(66,146,198)\"],[0.75,\"rgb(33,113,181)\"],[0.875,\"rgb(8,81,156)\"],[1.0,\"rgb(8,48,107)\"]],\"line\":{\"color\":\"Grey\",\"width\":0.5},\"showscale\":false},\"mode\":\"markers\",\"showlegend\":false,\"x\":[0.000191438016129296,0.003468145470723316,0.0001757296515477737,0.00022653541317389642,0.001914055705388,0.0019996088448420613,0.0007658929501229508,0.00012479038320130907,0.008791139073901092,0.0010033628057172928,0.019337642170480333,0.020708385749159505,0.06169286041567817,0.024636169647527295,0.018142451551262744,0.07605478225298984,0.010318169201053126,0.006338735681930193,0.006604849042257612,0.007137005048408425,0.0049267967201519925,0.01094137398277113,0.011959842489466204,0.03487930640034746,0.009136222289813428,0.00434190818266628,0.011374195379709857,0.04582866574774008,0.012896066582999516,0.08441510602878928,0.02962610206984618,0.034141192698780666,0.005723130857725956,0.01348589652179416,0.02769299217931204,0.03190531418142172,0.05355346220754419,0.09811165818982004,0.04866129249151502,0.0867322713285275,0.09916662623958247,0.05602003386314378,0.0413801387143255,0.045396691066315095,0.04488113404369811,0.07014544702323397,0.025282488991710116,0.018317503533082397,0.041170927707499215,0.061078140454780036,0.025220956058384033,0.06771525119152601,0.07250891017671253,0.08554500522520248,0.0362043748914403,0.09998674084675137,0.09769260600988175,0.06609168965273478,0.06491134941086518,0.05924552294888848,0.06863093748687464,0.07566228665767635,0.09964304952828948,0.036173534945354247,0.052684198469780646,0.07572028279548972,0.06367309097500617,0.08121756803063394,0.07785117681742133,0.054024603215353156,0.04081905964596853,0.07590467686570312,0.03408981430231263,0.09961937158032073,0.040100219931632444,0.052802336030978295,0.052547814888147824,0.06157040623063483,0.0617892777527345,0.029705950829548654,0.02269018968718583,0.08497597292772457,0.04935326089124382,0.08008137316123656,0.06684972654612045,0.059935525376202434,0.04777877071154272,0.08353435476298247,0.03795648741378499,0.07289646467854835,0.031809541300453555,0.08708033440294431,0.05992403337471664,0.052340003456971894,0.06141789080548948,0.04439895707038661,0.0700331146579538,0.08744350559250645,0.057139326247246956,0.03850452804363677],\"y\":[0.780846063454759,0.7397179788484137,0.7711515863689777,0.687132784958872,0.7867215041128085,0.6918331374853115,0.7053466509988249,0.7937720329024677,0.7949471210340776,0.7884841363102233,0.800822561692127,0.7972972972972973,0.7796709753231493,0.7802585193889541,0.8002350176263221,0.782608695652174,0.8061104582843713,0.8108108108108107,0.799059929494712,0.7984723854289072,0.7773207990599296,0.8025851938895417,0.8014101057579318,0.7949471210340776,0.7873090481786135,0.7996474735605171,0.7814336075205641,0.7867215041128085,0.8031727379553467,0.7908343125734429,0.8037602820211516,0.7773207990599295,0.7873090481786134,0.7802585193889542,0.8102232667450059,0.8078730904817861,0.8084606345475912,0.8207990599294948,0.8025851938895416,0.7949471210340775,0.7708578143360751,0.8061104582843713,0.8196239717978849,0.8131609870740305,0.8090481786133961,0.8102232667450059,0.8031727379553467,0.7984723854289071,0.7996474735605171,0.7817273795534666,0.7984723854289072,0.8055229142185664,0.8149236192714454,0.7884841363102233,0.8254994124559343,0.8243243243243242,0.8119858989424207,0.8249118683901293,0.8337250293772033,0.772032902467685,0.7884841363102233,0.8249118683901293,0.8061104582843713,0.7937720329024678,0.809048178613396,0.8225616921269094,0.8166862514688602,0.8025851938895416,0.7758519388954171,0.807873090481786,0.7949471210340776,0.8108108108108109,0.8037602820211516,0.8102232667450059,0.782608695652174,0.8219741480611046,0.8155111633372503,0.8290246768507639,0.7934782608695652,0.7937720329024677,0.7491186839012927,0.8243243243243243,0.818448883666275,0.8125734430082256,0.8019976498237368,0.8196239717978849,0.8090481786133961,0.7920094007050529,0.8131609870740306,0.7946533490011751,0.8137485311398355,0.8149236192714454,0.8266745005875441,0.8172737955346651,0.8131609870740306,0.8025851938895417,0.8119858989424208,0.800235017626322,0.8231492361927144,0.8160987074030553],\"type\":\"scatter\",\"xaxis\":\"x3\",\"yaxis\":\"y3\"},{\"marker\":{\"color\":[0,1,2,3,4,5,6,7,8,9,10,11,12,13,14,15,16,17,18,19,20,21,22,23,24,25,26,27,28,29,30,31,32,33,34,35,36,37,38,39,40,41,42,43,44,45,46,47,48,49,50,51,52,53,54,55,56,57,58,59,60,61,62,63,64,65,66,67,68,69,70,71,72,73,74,75,76,77,78,79,80,81,82,83,84,85,86,87,88,89,90,91,92,93,94,95,96,97,98,99],\"colorbar\":{\"title\":{\"text\":\"Trial\"},\"x\":1.0,\"xpad\":40},\"colorscale\":[[0.0,\"rgb(247,251,255)\"],[0.125,\"rgb(222,235,247)\"],[0.25,\"rgb(198,219,239)\"],[0.375,\"rgb(158,202,225)\"],[0.5,\"rgb(107,174,214)\"],[0.625,\"rgb(66,146,198)\"],[0.75,\"rgb(33,113,181)\"],[0.875,\"rgb(8,81,156)\"],[1.0,\"rgb(8,48,107)\"]],\"line\":{\"color\":\"Grey\",\"width\":0.5},\"showscale\":false},\"mode\":\"markers\",\"showlegend\":false,\"x\":[10,4,10,5,6,6,4,4,9,10,8,8,8,8,8,7,7,7,7,3,6,7,7,5,9,7,5,9,6,6,5,5,6,5,6,4,3,3,3,3,3,4,4,4,4,4,4,3,4,5,3,4,4,4,3,3,3,3,3,3,3,3,3,3,3,3,3,3,3,3,3,3,4,3,3,4,3,3,10,3,4,3,3,3,4,3,3,4,3,4,3,3,3,3,3,3,4,3,4,3],\"y\":[0.780846063454759,0.7397179788484137,0.7711515863689777,0.687132784958872,0.7867215041128085,0.6918331374853115,0.7053466509988249,0.7937720329024677,0.7949471210340776,0.7884841363102233,0.800822561692127,0.7972972972972973,0.7796709753231493,0.7802585193889541,0.8002350176263221,0.782608695652174,0.8061104582843713,0.8108108108108107,0.799059929494712,0.7984723854289072,0.7773207990599296,0.8025851938895417,0.8014101057579318,0.7949471210340776,0.7873090481786135,0.7996474735605171,0.7814336075205641,0.7867215041128085,0.8031727379553467,0.7908343125734429,0.8037602820211516,0.7773207990599295,0.7873090481786134,0.7802585193889542,0.8102232667450059,0.8078730904817861,0.8084606345475912,0.8207990599294948,0.8025851938895416,0.7949471210340775,0.7708578143360751,0.8061104582843713,0.8196239717978849,0.8131609870740305,0.8090481786133961,0.8102232667450059,0.8031727379553467,0.7984723854289071,0.7996474735605171,0.7817273795534666,0.7984723854289072,0.8055229142185664,0.8149236192714454,0.7884841363102233,0.8254994124559343,0.8243243243243242,0.8119858989424207,0.8249118683901293,0.8337250293772033,0.772032902467685,0.7884841363102233,0.8249118683901293,0.8061104582843713,0.7937720329024678,0.809048178613396,0.8225616921269094,0.8166862514688602,0.8025851938895416,0.7758519388954171,0.807873090481786,0.7949471210340776,0.8108108108108109,0.8037602820211516,0.8102232667450059,0.782608695652174,0.8219741480611046,0.8155111633372503,0.8290246768507639,0.7934782608695652,0.7937720329024677,0.7491186839012927,0.8243243243243243,0.818448883666275,0.8125734430082256,0.8019976498237368,0.8196239717978849,0.8090481786133961,0.7920094007050529,0.8131609870740306,0.7946533490011751,0.8137485311398355,0.8149236192714454,0.8266745005875441,0.8172737955346651,0.8131609870740306,0.8025851938895417,0.8119858989424208,0.800235017626322,0.8231492361927144,0.8160987074030553],\"type\":\"scatter\",\"xaxis\":\"x4\",\"yaxis\":\"y4\"},{\"marker\":{\"color\":[0,1,2,3,4,5,6,7,8,9,10,11,12,13,14,15,16,17,18,19,20,21,22,23,24,25,26,27,28,29,30,31,32,33,34,35,36,37,38,39,40,41,42,43,44,45,46,47,48,49,50,51,52,53,54,55,56,57,58,59,60,61,62,63,64,65,66,67,68,69,70,71,72,73,74,75,76,77,78,79,80,81,82,83,84,85,86,87,88,89,90,91,92,93,94,95,96,97,98,99],\"colorbar\":{\"title\":{\"text\":\"Trial\"},\"x\":1.0,\"xpad\":40},\"colorscale\":[[0.0,\"rgb(247,251,255)\"],[0.125,\"rgb(222,235,247)\"],[0.25,\"rgb(198,219,239)\"],[0.375,\"rgb(158,202,225)\"],[0.5,\"rgb(107,174,214)\"],[0.625,\"rgb(66,146,198)\"],[0.75,\"rgb(33,113,181)\"],[0.875,\"rgb(8,81,156)\"],[1.0,\"rgb(8,48,107)\"]],\"line\":{\"color\":\"Grey\",\"width\":0.5},\"showscale\":false},\"mode\":\"markers\",\"showlegend\":false,\"x\":[6,9,10,10,3,9,6,1,6,10,4,4,4,4,2,1,2,3,2,2,5,3,3,3,1,5,7,2,3,7,5,5,3,7,2,2,1,1,1,1,1,2,2,1,1,2,2,3,1,4,2,2,1,1,1,1,1,1,1,8,1,1,1,2,1,1,1,1,10,2,1,1,2,1,2,1,1,1,9,1,3,1,1,1,2,1,2,1,2,6,1,1,1,1,1,2,1,1,2,2],\"y\":[0.780846063454759,0.7397179788484137,0.7711515863689777,0.687132784958872,0.7867215041128085,0.6918331374853115,0.7053466509988249,0.7937720329024677,0.7949471210340776,0.7884841363102233,0.800822561692127,0.7972972972972973,0.7796709753231493,0.7802585193889541,0.8002350176263221,0.782608695652174,0.8061104582843713,0.8108108108108107,0.799059929494712,0.7984723854289072,0.7773207990599296,0.8025851938895417,0.8014101057579318,0.7949471210340776,0.7873090481786135,0.7996474735605171,0.7814336075205641,0.7867215041128085,0.8031727379553467,0.7908343125734429,0.8037602820211516,0.7773207990599295,0.7873090481786134,0.7802585193889542,0.8102232667450059,0.8078730904817861,0.8084606345475912,0.8207990599294948,0.8025851938895416,0.7949471210340775,0.7708578143360751,0.8061104582843713,0.8196239717978849,0.8131609870740305,0.8090481786133961,0.8102232667450059,0.8031727379553467,0.7984723854289071,0.7996474735605171,0.7817273795534666,0.7984723854289072,0.8055229142185664,0.8149236192714454,0.7884841363102233,0.8254994124559343,0.8243243243243242,0.8119858989424207,0.8249118683901293,0.8337250293772033,0.772032902467685,0.7884841363102233,0.8249118683901293,0.8061104582843713,0.7937720329024678,0.809048178613396,0.8225616921269094,0.8166862514688602,0.8025851938895416,0.7758519388954171,0.807873090481786,0.7949471210340776,0.8108108108108109,0.8037602820211516,0.8102232667450059,0.782608695652174,0.8219741480611046,0.8155111633372503,0.8290246768507639,0.7934782608695652,0.7937720329024677,0.7491186839012927,0.8243243243243243,0.818448883666275,0.8125734430082256,0.8019976498237368,0.8196239717978849,0.8090481786133961,0.7920094007050529,0.8131609870740306,0.7946533490011751,0.8137485311398355,0.8149236192714454,0.8266745005875441,0.8172737955346651,0.8131609870740306,0.8025851938895417,0.8119858989424208,0.800235017626322,0.8231492361927144,0.8160987074030553],\"type\":\"scatter\",\"xaxis\":\"x5\",\"yaxis\":\"y5\"},{\"marker\":{\"color\":[0,1,2,3,4,5,6,7,8,9,10,11,12,13,14,15,16,17,18,19,20,21,22,23,24,25,26,27,28,29,30,31,32,33,34,35,36,37,38,39,40,41,42,43,44,45,46,47,48,49,50,51,52,53,54,55,56,57,58,59,60,61,62,63,64,65,66,67,68,69,70,71,72,73,74,75,76,77,78,79,80,81,82,83,84,85,86,87,88,89,90,91,92,93,94,95,96,97,98,99],\"colorbar\":{\"title\":{\"text\":\"Trial\"},\"x\":1.0,\"xpad\":40},\"colorscale\":[[0.0,\"rgb(247,251,255)\"],[0.125,\"rgb(222,235,247)\"],[0.25,\"rgb(198,219,239)\"],[0.375,\"rgb(158,202,225)\"],[0.5,\"rgb(107,174,214)\"],[0.625,\"rgb(66,146,198)\"],[0.75,\"rgb(33,113,181)\"],[0.875,\"rgb(8,81,156)\"],[1.0,\"rgb(8,48,107)\"]],\"line\":{\"color\":\"Grey\",\"width\":0.5},\"showscale\":false},\"mode\":\"markers\",\"showlegend\":false,\"x\":[745,719,858,337,495,307,220,197,889,587,971,980,997,972,765,748,600,555,533,605,414,660,670,485,630,844,399,686,542,460,578,546,576,426,357,135,128,129,307,116,242,113,165,175,256,188,177,341,275,366,293,182,205,230,153,163,150,209,214,145,222,101,104,163,267,100,102,208,142,209,307,158,100,134,235,186,191,134,281,256,155,137,194,121,175,126,230,936,154,208,243,136,123,171,101,810,190,121,144,146],\"y\":[0.780846063454759,0.7397179788484137,0.7711515863689777,0.687132784958872,0.7867215041128085,0.6918331374853115,0.7053466509988249,0.7937720329024677,0.7949471210340776,0.7884841363102233,0.800822561692127,0.7972972972972973,0.7796709753231493,0.7802585193889541,0.8002350176263221,0.782608695652174,0.8061104582843713,0.8108108108108107,0.799059929494712,0.7984723854289072,0.7773207990599296,0.8025851938895417,0.8014101057579318,0.7949471210340776,0.7873090481786135,0.7996474735605171,0.7814336075205641,0.7867215041128085,0.8031727379553467,0.7908343125734429,0.8037602820211516,0.7773207990599295,0.7873090481786134,0.7802585193889542,0.8102232667450059,0.8078730904817861,0.8084606345475912,0.8207990599294948,0.8025851938895416,0.7949471210340775,0.7708578143360751,0.8061104582843713,0.8196239717978849,0.8131609870740305,0.8090481786133961,0.8102232667450059,0.8031727379553467,0.7984723854289071,0.7996474735605171,0.7817273795534666,0.7984723854289072,0.8055229142185664,0.8149236192714454,0.7884841363102233,0.8254994124559343,0.8243243243243242,0.8119858989424207,0.8249118683901293,0.8337250293772033,0.772032902467685,0.7884841363102233,0.8249118683901293,0.8061104582843713,0.7937720329024678,0.809048178613396,0.8225616921269094,0.8166862514688602,0.8025851938895416,0.7758519388954171,0.807873090481786,0.7949471210340776,0.8108108108108109,0.8037602820211516,0.8102232667450059,0.782608695652174,0.8219741480611046,0.8155111633372503,0.8290246768507639,0.7934782608695652,0.7937720329024677,0.7491186839012927,0.8243243243243243,0.818448883666275,0.8125734430082256,0.8019976498237368,0.8196239717978849,0.8090481786133961,0.7920094007050529,0.8131609870740306,0.7946533490011751,0.8137485311398355,0.8149236192714454,0.8266745005875441,0.8172737955346651,0.8131609870740306,0.8025851938895417,0.8119858989424208,0.800235017626322,0.8231492361927144,0.8160987074030553],\"type\":\"scatter\",\"xaxis\":\"x6\",\"yaxis\":\"y6\"},{\"marker\":{\"color\":[0,1,2,3,4,5,6,7,8,9,10,11,12,13,14,15,16,17,18,19,20,21,22,23,24,25,26,27,28,29,30,31,32,33,34,35,36,37,38,39,40,41,42,43,44,45,46,47,48,49,50,51,52,53,54,55,56,57,58,59,60,61,62,63,64,65,66,67,68,69,70,71,72,73,74,75,76,77,78,79,80,81,82,83,84,85,86,87,88,89,90,91,92,93,94,95,96,97,98,99],\"colorbar\":{\"title\":{\"text\":\"Trial\"},\"x\":1.0,\"xpad\":40},\"colorscale\":[[0.0,\"rgb(247,251,255)\"],[0.125,\"rgb(222,235,247)\"],[0.25,\"rgb(198,219,239)\"],[0.375,\"rgb(158,202,225)\"],[0.5,\"rgb(107,174,214)\"],[0.625,\"rgb(66,146,198)\"],[0.75,\"rgb(33,113,181)\"],[0.875,\"rgb(8,81,156)\"],[1.0,\"rgb(8,48,107)\"]],\"line\":{\"color\":\"Grey\",\"width\":0.5},\"showscale\":false},\"mode\":\"markers\",\"showlegend\":false,\"x\":[6.957625067542228e-8,1.0303765822493702e-8,0.00002012582529912569,0.010947268341195249,0.0010061179104533093,0.0017857979467469788,0.11254645461854228,0.000569265894316866,0.009450880643444645,2.6132065020302744e-8,0.8382084050360856,0.7910775090740582,0.7652647390066869,0.316883661237816,0.9852189041803922,0.06430949652274383,0.07230540112164703,0.0519392357830585,0.02601279176292807,0.06604796864040338,0.00005096467292638156,0.16292055915493117,0.13331864393696496,0.010714615056102461,0.039175639762811756,0.17918056718571254,0.00605671621299626,0.028352327414364966,0.2027340050805971,0.0033905157300493658,0.00021434837594520108,0.00027895819455197495,5.3028188258793975e-6,0.003481017802749884,0.02140554373843272,0.018687143788482134,0.019389690183221352,0.024458430311176702,0.0025111730050145897,0.0158074568609715,0.0015106156573262309,0.023554851439230234,0.007874758760609958,0.006815457397256247,0.0043129807038412155,0.007908700508131358,0.0013550044000723955,0.0008123307926448666,0.007275242651425851,0.0500749864611288,0.3460505882269608,0.008877893867650649,0.009974789513191256,0.07931071707051784,0.03890416215933851,0.1040823052948216,0.09033641254838794,0.03522524801011966,0.3954392346520341,0.2161757860199726,0.31688635500679285,0.035877276175838996,0.03824359693181697,0.09108465039350669,0.6776846283765761,0.03941518942423249,0.11170347907841824,0.03589888058843812,0.4563255433200518,0.13978882786378155,0.05214844937729489,0.014158308349371896,0.18507732038054944,0.03538994747321518,0.06637525548016834,0.4777365738183881,0.46762689665482615,0.9940263203636726,0.776774920495822,0.26977695151062964,0.44871965176845746,0.1248820564583235,0.16092448145744415,0.9138771667074047,0.25113107666734824,0.548975312792962,0.33607003946004393,0.11890480162156726,0.13835964167785084,0.5582063521175135,0.04785419675428399,0.024741386139393938,0.0762257654825824,0.06648816280827811,0.1951454008276281,0.9370269003102683,0.11330053190065291,0.2764048243934439,0.017266851544952187,0.014619693913793367],\"y\":[0.780846063454759,0.7397179788484137,0.7711515863689777,0.687132784958872,0.7867215041128085,0.6918331374853115,0.7053466509988249,0.7937720329024677,0.7949471210340776,0.7884841363102233,0.800822561692127,0.7972972972972973,0.7796709753231493,0.7802585193889541,0.8002350176263221,0.782608695652174,0.8061104582843713,0.8108108108108107,0.799059929494712,0.7984723854289072,0.7773207990599296,0.8025851938895417,0.8014101057579318,0.7949471210340776,0.7873090481786135,0.7996474735605171,0.7814336075205641,0.7867215041128085,0.8031727379553467,0.7908343125734429,0.8037602820211516,0.7773207990599295,0.7873090481786134,0.7802585193889542,0.8102232667450059,0.8078730904817861,0.8084606345475912,0.8207990599294948,0.8025851938895416,0.7949471210340775,0.7708578143360751,0.8061104582843713,0.8196239717978849,0.8131609870740305,0.8090481786133961,0.8102232667450059,0.8031727379553467,0.7984723854289071,0.7996474735605171,0.7817273795534666,0.7984723854289072,0.8055229142185664,0.8149236192714454,0.7884841363102233,0.8254994124559343,0.8243243243243242,0.8119858989424207,0.8249118683901293,0.8337250293772033,0.772032902467685,0.7884841363102233,0.8249118683901293,0.8061104582843713,0.7937720329024678,0.809048178613396,0.8225616921269094,0.8166862514688602,0.8025851938895416,0.7758519388954171,0.807873090481786,0.7949471210340776,0.8108108108108109,0.8037602820211516,0.8102232667450059,0.782608695652174,0.8219741480611046,0.8155111633372503,0.8290246768507639,0.7934782608695652,0.7937720329024677,0.7491186839012927,0.8243243243243243,0.818448883666275,0.8125734430082256,0.8019976498237368,0.8196239717978849,0.8090481786133961,0.7920094007050529,0.8131609870740306,0.7946533490011751,0.8137485311398355,0.8149236192714454,0.8266745005875441,0.8172737955346651,0.8131609870740306,0.8025851938895417,0.8119858989424208,0.800235017626322,0.8231492361927144,0.8160987074030553],\"type\":\"scatter\",\"xaxis\":\"x7\",\"yaxis\":\"y7\"},{\"marker\":{\"color\":[0,1,2,3,4,5,6,7,8,9,10,11,12,13,14,15,16,17,18,19,20,21,22,23,24,25,26,27,28,29,30,31,32,33,34,35,36,37,38,39,40,41,42,43,44,45,46,47,48,49,50,51,52,53,54,55,56,57,58,59,60,61,62,63,64,65,66,67,68,69,70,71,72,73,74,75,76,77,78,79,80,81,82,83,84,85,86,87,88,89,90,91,92,93,94,95,96,97,98,99],\"colorbar\":{\"title\":{\"text\":\"Trial\"},\"x\":1.0,\"xpad\":40},\"colorscale\":[[0.0,\"rgb(247,251,255)\"],[0.125,\"rgb(222,235,247)\"],[0.25,\"rgb(198,219,239)\"],[0.375,\"rgb(158,202,225)\"],[0.5,\"rgb(107,174,214)\"],[0.625,\"rgb(66,146,198)\"],[0.75,\"rgb(33,113,181)\"],[0.875,\"rgb(8,81,156)\"],[1.0,\"rgb(8,48,107)\"]],\"line\":{\"color\":\"Grey\",\"width\":0.5},\"showscale\":false},\"mode\":\"markers\",\"showlegend\":false,\"x\":[0.000010504597480035399,1.687046396758603e-6,0.001266299465828346,0.000016132722710919305,0.000752647616967059,0.0037909593836821646,0.0002836876092620201,0.0331489494163371,0.02647486572376717,4.314171507248723e-8,0.391642601707821,0.7189105279185612,0.5273810747474835,0.7240289984665004,0.05689078851432207,0.024471155783230718,0.09870930659561766,0.003039114576459229,0.0031954804194137803,0.00011127853829147058,0.005553692372119018,0.1369403680693291,0.11508835540597748,0.12722892138497952,0.00991843779290251,0.12858450366864047,0.010770869945064184,0.001285802766810832,0.18951368411312644,0.015570626796604302,0.223534779352553,0.06624435824496332,0.2772662578988129,0.034759474612538255,0.2674551461301468,0.83718204438083,0.3777107566621713,0.7881530367972946,0.3450119787521608,0.9817791934808624,0.05624191426368388,0.8608323552794135,0.3353097440626225,0.31597660879050865,0.029989218580876453,0.3429533279636267,0.04951773348122304,0.014970557348099597,0.21534721680390997,0.0710458079032478,0.0022325357436732136,0.3471696041823238,0.4378099765957731,0.0005468874420926274,0.42314381019064945,0.5103085038108109,0.5192044123143882,0.5346832173502447,0.912169037255819,0.9380305829404386,0.12094620452027507,0.5738313068310772,0.5269543350385939,0.17470663524623586,0.08787208029429168,0.5505751156129194,0.9655666650272652,0.15080734075240695,0.5432278631511965,0.18728947828369535,0.10106155729484147,0.604453728760623,0.5392675687590126,0.22796483794413724,0.4844344343047882,0.9488073953370555,0.9073272088607007,0.04644936493910986,0.04896308833162911,0.09878360070765083,0.21865408464103694,0.6786851816139996,0.5934473172353606,0.31576376011779206,0.1620943322484345,0.9848478617214989,0.26142645648332125,0.5833055615458853,0.41424516321290406,0.08312448836650513,0.17866180522156022,0.6827964074546393,0.3677602119399334,0.30147237904691315,0.3962125533108867,0.12044123965470296,0.6312577298617085,0.24167099500651226,0.044067039979817375,0.0392599508304472],\"y\":[0.780846063454759,0.7397179788484137,0.7711515863689777,0.687132784958872,0.7867215041128085,0.6918331374853115,0.7053466509988249,0.7937720329024677,0.7949471210340776,0.7884841363102233,0.800822561692127,0.7972972972972973,0.7796709753231493,0.7802585193889541,0.8002350176263221,0.782608695652174,0.8061104582843713,0.8108108108108107,0.799059929494712,0.7984723854289072,0.7773207990599296,0.8025851938895417,0.8014101057579318,0.7949471210340776,0.7873090481786135,0.7996474735605171,0.7814336075205641,0.7867215041128085,0.8031727379553467,0.7908343125734429,0.8037602820211516,0.7773207990599295,0.7873090481786134,0.7802585193889542,0.8102232667450059,0.8078730904817861,0.8084606345475912,0.8207990599294948,0.8025851938895416,0.7949471210340775,0.7708578143360751,0.8061104582843713,0.8196239717978849,0.8131609870740305,0.8090481786133961,0.8102232667450059,0.8031727379553467,0.7984723854289071,0.7996474735605171,0.7817273795534666,0.7984723854289072,0.8055229142185664,0.8149236192714454,0.7884841363102233,0.8254994124559343,0.8243243243243242,0.8119858989424207,0.8249118683901293,0.8337250293772033,0.772032902467685,0.7884841363102233,0.8249118683901293,0.8061104582843713,0.7937720329024678,0.809048178613396,0.8225616921269094,0.8166862514688602,0.8025851938895416,0.7758519388954171,0.807873090481786,0.7949471210340776,0.8108108108108109,0.8037602820211516,0.8102232667450059,0.782608695652174,0.8219741480611046,0.8155111633372503,0.8290246768507639,0.7934782608695652,0.7937720329024677,0.7491186839012927,0.8243243243243243,0.818448883666275,0.8125734430082256,0.8019976498237368,0.8196239717978849,0.8090481786133961,0.7920094007050529,0.8131609870740306,0.7946533490011751,0.8137485311398355,0.8149236192714454,0.8266745005875441,0.8172737955346651,0.8131609870740306,0.8025851938895417,0.8119858989424208,0.800235017626322,0.8231492361927144,0.8160987074030553],\"type\":\"scatter\",\"xaxis\":\"x8\",\"yaxis\":\"y8\"},{\"marker\":{\"color\":[0,1,2,3,4,5,6,7,8,9,10,11,12,13,14,15,16,17,18,19,20,21,22,23,24,25,26,27,28,29,30,31,32,33,34,35,36,37,38,39,40,41,42,43,44,45,46,47,48,49,50,51,52,53,54,55,56,57,58,59,60,61,62,63,64,65,66,67,68,69,70,71,72,73,74,75,76,77,78,79,80,81,82,83,84,85,86,87,88,89,90,91,92,93,94,95,96,97,98,99],\"colorbar\":{\"title\":{\"text\":\"Trial\"},\"x\":1.0,\"xpad\":40},\"colorscale\":[[0.0,\"rgb(247,251,255)\"],[0.125,\"rgb(222,235,247)\"],[0.25,\"rgb(198,219,239)\"],[0.375,\"rgb(158,202,225)\"],[0.5,\"rgb(107,174,214)\"],[0.625,\"rgb(66,146,198)\"],[0.75,\"rgb(33,113,181)\"],[0.875,\"rgb(8,81,156)\"],[1.0,\"rgb(8,48,107)\"]],\"line\":{\"color\":\"Grey\",\"width\":0.5},\"showscale\":false},\"mode\":\"markers\",\"showlegend\":false,\"x\":[0.28240039837833886,0.6103663554942734,0.5596092963374858,0.35701331888085974,0.32795545261707204,0.3301081727513464,0.1955379109052762,0.8839429903072012,0.7177705777070102,0.8077349512618041,0.9673663812465302,0.9930509405610678,0.9465168233882333,0.9981192726198391,0.828742450278932,0.8136839165762678,0.688467245935058,0.6893048972674558,0.6762195251935623,0.516086535910834,0.47651629958037867,0.7538913570302473,0.696424221054493,0.7531326488268965,0.634438393416086,0.7575068542215799,0.6237011512079366,0.8954255524824816,0.7508798454370544,0.6944618819372808,0.5792634881096677,0.5724808157269603,0.6356021463008974,0.5815013119363143,0.5060237960925129,0.45207618858488474,0.4374828498403982,0.4371589086029503,0.43770088896560877,0.3947675217028608,0.5164827540371482,0.412289819032895,0.4598242965771092,0.3136477652473159,0.2721147038322451,0.3647371282028689,0.28785483657302585,0.5262772294585905,0.47675697548860174,0.3218648579669194,0.19674283310809296,0.3796089418447981,0.35915177334489284,0.34562685874193416,0.40072635296683634,0.3877834755608568,0.407793967793466,0.36925072163826117,0.36451088985563773,0.4089716433790312,0.3848496038763443,0.36218201540828227,0.4747140628486942,0.3565801256061951,0.43140108962371704,0.3775555526250918,0.33064404286545396,0.3834093494706833,0.2996067813716664,0.27460075291829456,0.41757196543492875,0.45244703395858027,0.3806630935430983,0.34101701629227615,0.4730933179548001,0.40971232973113836,0.429067226210052,0.3621467775707311,0.31687939866938986,0.3672673552692319,0.25409377657430576,0.4046982821892536,0.4007476693571937,0.3452788064824854,0.37242315201853704,0.3955167724723174,0.3372851713492328,0.3083532961737396,0.40480803510371993,0.35987850565027835,0.42204987974961106,0.4309266373418689,0.38950866837861886,0.3924825167931755,0.3304743762609875,0.3729637048769977,0.4891674419664752,0.45126683493814623,0.3508622866262183,0.29644170909972545],\"y\":[0.780846063454759,0.7397179788484137,0.7711515863689777,0.687132784958872,0.7867215041128085,0.6918331374853115,0.7053466509988249,0.7937720329024677,0.7949471210340776,0.7884841363102233,0.800822561692127,0.7972972972972973,0.7796709753231493,0.7802585193889541,0.8002350176263221,0.782608695652174,0.8061104582843713,0.8108108108108107,0.799059929494712,0.7984723854289072,0.7773207990599296,0.8025851938895417,0.8014101057579318,0.7949471210340776,0.7873090481786135,0.7996474735605171,0.7814336075205641,0.7867215041128085,0.8031727379553467,0.7908343125734429,0.8037602820211516,0.7773207990599295,0.7873090481786134,0.7802585193889542,0.8102232667450059,0.8078730904817861,0.8084606345475912,0.8207990599294948,0.8025851938895416,0.7949471210340775,0.7708578143360751,0.8061104582843713,0.8196239717978849,0.8131609870740305,0.8090481786133961,0.8102232667450059,0.8031727379553467,0.7984723854289071,0.7996474735605171,0.7817273795534666,0.7984723854289072,0.8055229142185664,0.8149236192714454,0.7884841363102233,0.8254994124559343,0.8243243243243242,0.8119858989424207,0.8249118683901293,0.8337250293772033,0.772032902467685,0.7884841363102233,0.8249118683901293,0.8061104582843713,0.7937720329024678,0.809048178613396,0.8225616921269094,0.8166862514688602,0.8025851938895416,0.7758519388954171,0.807873090481786,0.7949471210340776,0.8108108108108109,0.8037602820211516,0.8102232667450059,0.782608695652174,0.8219741480611046,0.8155111633372503,0.8290246768507639,0.7934782608695652,0.7937720329024677,0.7491186839012927,0.8243243243243243,0.818448883666275,0.8125734430082256,0.8019976498237368,0.8196239717978849,0.8090481786133961,0.7920094007050529,0.8131609870740306,0.7946533490011751,0.8137485311398355,0.8149236192714454,0.8266745005875441,0.8172737955346651,0.8131609870740306,0.8025851938895417,0.8119858989424208,0.800235017626322,0.8231492361927144,0.8160987074030553],\"type\":\"scatter\",\"xaxis\":\"x9\",\"yaxis\":\"y9\"}],                        {\"template\":{\"data\":{\"histogram2dcontour\":[{\"type\":\"histogram2dcontour\",\"colorbar\":{\"outlinewidth\":0,\"ticks\":\"\"},\"colorscale\":[[0.0,\"#0d0887\"],[0.1111111111111111,\"#46039f\"],[0.2222222222222222,\"#7201a8\"],[0.3333333333333333,\"#9c179e\"],[0.4444444444444444,\"#bd3786\"],[0.5555555555555556,\"#d8576b\"],[0.6666666666666666,\"#ed7953\"],[0.7777777777777778,\"#fb9f3a\"],[0.8888888888888888,\"#fdca26\"],[1.0,\"#f0f921\"]]}],\"choropleth\":[{\"type\":\"choropleth\",\"colorbar\":{\"outlinewidth\":0,\"ticks\":\"\"}}],\"histogram2d\":[{\"type\":\"histogram2d\",\"colorbar\":{\"outlinewidth\":0,\"ticks\":\"\"},\"colorscale\":[[0.0,\"#0d0887\"],[0.1111111111111111,\"#46039f\"],[0.2222222222222222,\"#7201a8\"],[0.3333333333333333,\"#9c179e\"],[0.4444444444444444,\"#bd3786\"],[0.5555555555555556,\"#d8576b\"],[0.6666666666666666,\"#ed7953\"],[0.7777777777777778,\"#fb9f3a\"],[0.8888888888888888,\"#fdca26\"],[1.0,\"#f0f921\"]]}],\"heatmap\":[{\"type\":\"heatmap\",\"colorbar\":{\"outlinewidth\":0,\"ticks\":\"\"},\"colorscale\":[[0.0,\"#0d0887\"],[0.1111111111111111,\"#46039f\"],[0.2222222222222222,\"#7201a8\"],[0.3333333333333333,\"#9c179e\"],[0.4444444444444444,\"#bd3786\"],[0.5555555555555556,\"#d8576b\"],[0.6666666666666666,\"#ed7953\"],[0.7777777777777778,\"#fb9f3a\"],[0.8888888888888888,\"#fdca26\"],[1.0,\"#f0f921\"]]}],\"heatmapgl\":[{\"type\":\"heatmapgl\",\"colorbar\":{\"outlinewidth\":0,\"ticks\":\"\"},\"colorscale\":[[0.0,\"#0d0887\"],[0.1111111111111111,\"#46039f\"],[0.2222222222222222,\"#7201a8\"],[0.3333333333333333,\"#9c179e\"],[0.4444444444444444,\"#bd3786\"],[0.5555555555555556,\"#d8576b\"],[0.6666666666666666,\"#ed7953\"],[0.7777777777777778,\"#fb9f3a\"],[0.8888888888888888,\"#fdca26\"],[1.0,\"#f0f921\"]]}],\"contourcarpet\":[{\"type\":\"contourcarpet\",\"colorbar\":{\"outlinewidth\":0,\"ticks\":\"\"}}],\"contour\":[{\"type\":\"contour\",\"colorbar\":{\"outlinewidth\":0,\"ticks\":\"\"},\"colorscale\":[[0.0,\"#0d0887\"],[0.1111111111111111,\"#46039f\"],[0.2222222222222222,\"#7201a8\"],[0.3333333333333333,\"#9c179e\"],[0.4444444444444444,\"#bd3786\"],[0.5555555555555556,\"#d8576b\"],[0.6666666666666666,\"#ed7953\"],[0.7777777777777778,\"#fb9f3a\"],[0.8888888888888888,\"#fdca26\"],[1.0,\"#f0f921\"]]}],\"surface\":[{\"type\":\"surface\",\"colorbar\":{\"outlinewidth\":0,\"ticks\":\"\"},\"colorscale\":[[0.0,\"#0d0887\"],[0.1111111111111111,\"#46039f\"],[0.2222222222222222,\"#7201a8\"],[0.3333333333333333,\"#9c179e\"],[0.4444444444444444,\"#bd3786\"],[0.5555555555555556,\"#d8576b\"],[0.6666666666666666,\"#ed7953\"],[0.7777777777777778,\"#fb9f3a\"],[0.8888888888888888,\"#fdca26\"],[1.0,\"#f0f921\"]]}],\"mesh3d\":[{\"type\":\"mesh3d\",\"colorbar\":{\"outlinewidth\":0,\"ticks\":\"\"}}],\"scatter\":[{\"fillpattern\":{\"fillmode\":\"overlay\",\"size\":10,\"solidity\":0.2},\"type\":\"scatter\"}],\"parcoords\":[{\"type\":\"parcoords\",\"line\":{\"colorbar\":{\"outlinewidth\":0,\"ticks\":\"\"}}}],\"scatterpolargl\":[{\"type\":\"scatterpolargl\",\"marker\":{\"colorbar\":{\"outlinewidth\":0,\"ticks\":\"\"}}}],\"bar\":[{\"error_x\":{\"color\":\"#2a3f5f\"},\"error_y\":{\"color\":\"#2a3f5f\"},\"marker\":{\"line\":{\"color\":\"#E5ECF6\",\"width\":0.5},\"pattern\":{\"fillmode\":\"overlay\",\"size\":10,\"solidity\":0.2}},\"type\":\"bar\"}],\"scattergeo\":[{\"type\":\"scattergeo\",\"marker\":{\"colorbar\":{\"outlinewidth\":0,\"ticks\":\"\"}}}],\"scatterpolar\":[{\"type\":\"scatterpolar\",\"marker\":{\"colorbar\":{\"outlinewidth\":0,\"ticks\":\"\"}}}],\"histogram\":[{\"marker\":{\"pattern\":{\"fillmode\":\"overlay\",\"size\":10,\"solidity\":0.2}},\"type\":\"histogram\"}],\"scattergl\":[{\"type\":\"scattergl\",\"marker\":{\"colorbar\":{\"outlinewidth\":0,\"ticks\":\"\"}}}],\"scatter3d\":[{\"type\":\"scatter3d\",\"line\":{\"colorbar\":{\"outlinewidth\":0,\"ticks\":\"\"}},\"marker\":{\"colorbar\":{\"outlinewidth\":0,\"ticks\":\"\"}}}],\"scattermapbox\":[{\"type\":\"scattermapbox\",\"marker\":{\"colorbar\":{\"outlinewidth\":0,\"ticks\":\"\"}}}],\"scatterternary\":[{\"type\":\"scatterternary\",\"marker\":{\"colorbar\":{\"outlinewidth\":0,\"ticks\":\"\"}}}],\"scattercarpet\":[{\"type\":\"scattercarpet\",\"marker\":{\"colorbar\":{\"outlinewidth\":0,\"ticks\":\"\"}}}],\"carpet\":[{\"aaxis\":{\"endlinecolor\":\"#2a3f5f\",\"gridcolor\":\"white\",\"linecolor\":\"white\",\"minorgridcolor\":\"white\",\"startlinecolor\":\"#2a3f5f\"},\"baxis\":{\"endlinecolor\":\"#2a3f5f\",\"gridcolor\":\"white\",\"linecolor\":\"white\",\"minorgridcolor\":\"white\",\"startlinecolor\":\"#2a3f5f\"},\"type\":\"carpet\"}],\"table\":[{\"cells\":{\"fill\":{\"color\":\"#EBF0F8\"},\"line\":{\"color\":\"white\"}},\"header\":{\"fill\":{\"color\":\"#C8D4E3\"},\"line\":{\"color\":\"white\"}},\"type\":\"table\"}],\"barpolar\":[{\"marker\":{\"line\":{\"color\":\"#E5ECF6\",\"width\":0.5},\"pattern\":{\"fillmode\":\"overlay\",\"size\":10,\"solidity\":0.2}},\"type\":\"barpolar\"}],\"pie\":[{\"automargin\":true,\"type\":\"pie\"}]},\"layout\":{\"autotypenumbers\":\"strict\",\"colorway\":[\"#636efa\",\"#EF553B\",\"#00cc96\",\"#ab63fa\",\"#FFA15A\",\"#19d3f3\",\"#FF6692\",\"#B6E880\",\"#FF97FF\",\"#FECB52\"],\"font\":{\"color\":\"#2a3f5f\"},\"hovermode\":\"closest\",\"hoverlabel\":{\"align\":\"left\"},\"paper_bgcolor\":\"white\",\"plot_bgcolor\":\"#E5ECF6\",\"polar\":{\"bgcolor\":\"#E5ECF6\",\"angularaxis\":{\"gridcolor\":\"white\",\"linecolor\":\"white\",\"ticks\":\"\"},\"radialaxis\":{\"gridcolor\":\"white\",\"linecolor\":\"white\",\"ticks\":\"\"}},\"ternary\":{\"bgcolor\":\"#E5ECF6\",\"aaxis\":{\"gridcolor\":\"white\",\"linecolor\":\"white\",\"ticks\":\"\"},\"baxis\":{\"gridcolor\":\"white\",\"linecolor\":\"white\",\"ticks\":\"\"},\"caxis\":{\"gridcolor\":\"white\",\"linecolor\":\"white\",\"ticks\":\"\"}},\"coloraxis\":{\"colorbar\":{\"outlinewidth\":0,\"ticks\":\"\"}},\"colorscale\":{\"sequential\":[[0.0,\"#0d0887\"],[0.1111111111111111,\"#46039f\"],[0.2222222222222222,\"#7201a8\"],[0.3333333333333333,\"#9c179e\"],[0.4444444444444444,\"#bd3786\"],[0.5555555555555556,\"#d8576b\"],[0.6666666666666666,\"#ed7953\"],[0.7777777777777778,\"#fb9f3a\"],[0.8888888888888888,\"#fdca26\"],[1.0,\"#f0f921\"]],\"sequentialminus\":[[0.0,\"#0d0887\"],[0.1111111111111111,\"#46039f\"],[0.2222222222222222,\"#7201a8\"],[0.3333333333333333,\"#9c179e\"],[0.4444444444444444,\"#bd3786\"],[0.5555555555555556,\"#d8576b\"],[0.6666666666666666,\"#ed7953\"],[0.7777777777777778,\"#fb9f3a\"],[0.8888888888888888,\"#fdca26\"],[1.0,\"#f0f921\"]],\"diverging\":[[0,\"#8e0152\"],[0.1,\"#c51b7d\"],[0.2,\"#de77ae\"],[0.3,\"#f1b6da\"],[0.4,\"#fde0ef\"],[0.5,\"#f7f7f7\"],[0.6,\"#e6f5d0\"],[0.7,\"#b8e186\"],[0.8,\"#7fbc41\"],[0.9,\"#4d9221\"],[1,\"#276419\"]]},\"xaxis\":{\"gridcolor\":\"white\",\"linecolor\":\"white\",\"ticks\":\"\",\"title\":{\"standoff\":15},\"zerolinecolor\":\"white\",\"automargin\":true,\"zerolinewidth\":2},\"yaxis\":{\"gridcolor\":\"white\",\"linecolor\":\"white\",\"ticks\":\"\",\"title\":{\"standoff\":15},\"zerolinecolor\":\"white\",\"automargin\":true,\"zerolinewidth\":2},\"scene\":{\"xaxis\":{\"backgroundcolor\":\"#E5ECF6\",\"gridcolor\":\"white\",\"linecolor\":\"white\",\"showbackground\":true,\"ticks\":\"\",\"zerolinecolor\":\"white\",\"gridwidth\":2},\"yaxis\":{\"backgroundcolor\":\"#E5ECF6\",\"gridcolor\":\"white\",\"linecolor\":\"white\",\"showbackground\":true,\"ticks\":\"\",\"zerolinecolor\":\"white\",\"gridwidth\":2},\"zaxis\":{\"backgroundcolor\":\"#E5ECF6\",\"gridcolor\":\"white\",\"linecolor\":\"white\",\"showbackground\":true,\"ticks\":\"\",\"zerolinecolor\":\"white\",\"gridwidth\":2}},\"shapedefaults\":{\"line\":{\"color\":\"#2a3f5f\"}},\"annotationdefaults\":{\"arrowcolor\":\"#2a3f5f\",\"arrowhead\":0,\"arrowwidth\":1},\"geo\":{\"bgcolor\":\"white\",\"landcolor\":\"#E5ECF6\",\"subunitcolor\":\"white\",\"showland\":true,\"showlakes\":true,\"lakecolor\":\"white\"},\"title\":{\"x\":0.05},\"mapbox\":{\"style\":\"light\"}}},\"xaxis\":{\"anchor\":\"y\",\"domain\":[0.0,0.09135802469135802],\"title\":{\"text\":\"colsample_bytree\"}},\"yaxis\":{\"anchor\":\"x\",\"domain\":[0.0,1.0],\"title\":{\"text\":\"Objective Value\"}},\"xaxis2\":{\"anchor\":\"y2\",\"domain\":[0.11358024691358025,0.20493827160493827],\"title\":{\"text\":\"gamma\"},\"type\":\"log\"},\"yaxis2\":{\"anchor\":\"x2\",\"domain\":[0.0,1.0],\"matches\":\"y\",\"showticklabels\":false},\"xaxis3\":{\"anchor\":\"y3\",\"domain\":[0.2271604938271605,0.31851851851851853],\"title\":{\"text\":\"learning_rate\"},\"type\":\"log\"},\"yaxis3\":{\"anchor\":\"x3\",\"domain\":[0.0,1.0],\"matches\":\"y\",\"showticklabels\":false},\"xaxis4\":{\"anchor\":\"y4\",\"domain\":[0.34074074074074073,0.43209876543209874],\"title\":{\"text\":\"max_depth\"}},\"yaxis4\":{\"anchor\":\"x4\",\"domain\":[0.0,1.0],\"matches\":\"y\",\"showticklabels\":false},\"xaxis5\":{\"anchor\":\"y5\",\"domain\":[0.454320987654321,0.5456790123456791],\"title\":{\"text\":\"min_child_weight\"}},\"yaxis5\":{\"anchor\":\"x5\",\"domain\":[0.0,1.0],\"matches\":\"y\",\"showticklabels\":false},\"xaxis6\":{\"anchor\":\"y6\",\"domain\":[0.5679012345679012,0.6592592592592592],\"title\":{\"text\":\"n_estimators\"}},\"yaxis6\":{\"anchor\":\"x6\",\"domain\":[0.0,1.0],\"matches\":\"y\",\"showticklabels\":false},\"xaxis7\":{\"anchor\":\"y7\",\"domain\":[0.6814814814814815,0.7728395061728395],\"title\":{\"text\":\"reg_alpha\"},\"type\":\"log\"},\"yaxis7\":{\"anchor\":\"x7\",\"domain\":[0.0,1.0],\"matches\":\"y\",\"showticklabels\":false},\"xaxis8\":{\"anchor\":\"y8\",\"domain\":[0.7950617283950617,0.8864197530864197],\"title\":{\"text\":\"reg_lambda\"},\"type\":\"log\"},\"yaxis8\":{\"anchor\":\"x8\",\"domain\":[0.0,1.0],\"matches\":\"y\",\"showticklabels\":false},\"xaxis9\":{\"anchor\":\"y9\",\"domain\":[0.908641975308642,1.0],\"title\":{\"text\":\"subsample\"}},\"yaxis9\":{\"anchor\":\"x9\",\"domain\":[0.0,1.0],\"matches\":\"y\",\"showticklabels\":false},\"title\":{\"text\":\"Slice Plot\"},\"width\":2700},                        {\"responsive\": true}                    ).then(function(){\n",
       "                            \n",
       "var gd = document.getElementById('b28b5506-b10e-4197-a39f-679880f328c8');\n",
       "var x = new MutationObserver(function (mutations, observer) {{\n",
       "        var display = window.getComputedStyle(gd).display;\n",
       "        if (!display || display === 'none') {{\n",
       "            console.log([gd, 'removed!']);\n",
       "            Plotly.purge(gd);\n",
       "            observer.disconnect();\n",
       "        }}\n",
       "}});\n",
       "\n",
       "// Listen for the removal of the full notebook cells\n",
       "var notebookContainer = gd.closest('#notebook-container');\n",
       "if (notebookContainer) {{\n",
       "    x.observe(notebookContainer, {childList: true});\n",
       "}}\n",
       "\n",
       "// Listen for the clearing of the current output cell\n",
       "var outputEl = gd.closest('.output');\n",
       "if (outputEl) {{\n",
       "    x.observe(outputEl, {childList: true});\n",
       "}}\n",
       "\n",
       "                        })                };                });            </script>        </div>"
      ]
     },
     "metadata": {},
     "output_type": "display_data"
    }
   ],
   "source": [
    "# Visualize slice plot\n",
    "fig = vis.plot_slice(study)\n",
    "fig.show()"
   ]
  },
  {
   "cell_type": "code",
   "execution_count": 13,
   "id": "d8032632",
   "metadata": {
    "execution": {
     "iopub.execute_input": "2023-04-09T03:47:59.400334Z",
     "iopub.status.busy": "2023-04-09T03:47:59.399948Z",
     "iopub.status.idle": "2023-04-09T03:47:59.490566Z",
     "shell.execute_reply": "2023-04-09T03:47:59.489191Z"
    },
    "papermill": {
     "duration": 0.105744,
     "end_time": "2023-04-09T03:47:59.492616",
     "exception": false,
     "start_time": "2023-04-09T03:47:59.386872",
     "status": "completed"
    },
    "tags": []
   },
   "outputs": [
    {
     "data": {
      "text/html": [
       "<div>                            <div id=\"9c870c0d-63df-4a81-a092-c52e4ec986cf\" class=\"plotly-graph-div\" style=\"height:525px; width:100%;\"></div>            <script type=\"text/javascript\">                require([\"plotly\"], function(Plotly) {                    window.PLOTLYENV=window.PLOTLYENV || {};                                    if (document.getElementById(\"9c870c0d-63df-4a81-a092-c52e4ec986cf\")) {                    Plotly.newPlot(                        \"9c870c0d-63df-4a81-a092-c52e4ec986cf\",                        [{\"dimensions\":[{\"label\":\"Objective Value\",\"range\":[0.687132784958872,0.8337250293772033],\"values\":[0.780846063454759,0.7397179788484137,0.7711515863689777,0.687132784958872,0.7867215041128085,0.6918331374853115,0.7053466509988249,0.7937720329024677,0.7949471210340776,0.7884841363102233,0.800822561692127,0.7972972972972973,0.7796709753231493,0.7802585193889541,0.8002350176263221,0.782608695652174,0.8061104582843713,0.8108108108108107,0.799059929494712,0.7984723854289072,0.7773207990599296,0.8025851938895417,0.8014101057579318,0.7949471210340776,0.7873090481786135,0.7996474735605171,0.7814336075205641,0.7867215041128085,0.8031727379553467,0.7908343125734429,0.8037602820211516,0.7773207990599295,0.7873090481786134,0.7802585193889542,0.8102232667450059,0.8078730904817861,0.8084606345475912,0.8207990599294948,0.8025851938895416,0.7949471210340775,0.7708578143360751,0.8061104582843713,0.8196239717978849,0.8131609870740305,0.8090481786133961,0.8102232667450059,0.8031727379553467,0.7984723854289071,0.7996474735605171,0.7817273795534666,0.7984723854289072,0.8055229142185664,0.8149236192714454,0.7884841363102233,0.8254994124559343,0.8243243243243242,0.8119858989424207,0.8249118683901293,0.8337250293772033,0.772032902467685,0.7884841363102233,0.8249118683901293,0.8061104582843713,0.7937720329024678,0.809048178613396,0.8225616921269094,0.8166862514688602,0.8025851938895416,0.7758519388954171,0.807873090481786,0.7949471210340776,0.8108108108108109,0.8037602820211516,0.8102232667450059,0.782608695652174,0.8219741480611046,0.8155111633372503,0.8290246768507639,0.7934782608695652,0.7937720329024677,0.7491186839012927,0.8243243243243243,0.818448883666275,0.8125734430082256,0.8019976498237368,0.8196239717978849,0.8090481786133961,0.7920094007050529,0.8131609870740306,0.7946533490011751,0.8137485311398355,0.8149236192714454,0.8266745005875441,0.8172737955346651,0.8131609870740306,0.8025851938895417,0.8119858989424208,0.800235017626322,0.8231492361927144,0.8160987074030553]},{\"label\":\"colsample_bytree\",\"range\":[0.10620510844546621,0.9397451565024814],\"values\":[0.7825353899286331,0.31611301702862404,0.5235668858937926,0.2432081882022881,0.8114718619138931,0.16740447631166983,0.211954699355697,0.7366787475994591,0.7116982889813792,0.9397451565024814,0.5532703084653416,0.5049613024815084,0.4796408348348742,0.3874875335548668,0.6177674751416211,0.6247980576523826,0.6189152839656508,0.4094575093428129,0.4025220829990175,0.10620510844546621,0.4193359453356135,0.59419642902848,0.622597604410851,0.5762628254590721,0.4710414979993403,0.33817318050073264,0.6582405390906778,0.5541156440056895,0.46287376007599224,0.4500302811358971,0.34647233982013403,0.3307347980266795,0.29092675664494944,0.3752934585829791,0.5105367513992902,0.522079110133516,0.5311520389146274,0.5179183264984092,0.4389755481085185,0.517578624482926,0.2924514566496608,0.5134139771581606,0.5270852265817985,0.5398782867329524,0.4213003201522952,0.48592909357504177,0.5637344741595381,0.6705331706569786,0.45753122804915947,0.49439086586668046,0.5572070202996674,0.4824180198191862,0.37612062423571424,0.3830278027172599,0.4191796023116345,0.4194877673285488,0.42173166645426696,0.3755349291981192,0.36681326685511745,0.2978250099649006,0.2667668456628617,0.3585622350310492,0.35838707840711526,0.3232361741237006,0.44391887520745893,0.4051564176602672,0.3974166387357019,0.3748072319744704,0.3481142597278876,0.40412885678698873,0.22694440706950303,0.43005555555858366,0.4635558260505626,0.3639344536978145,0.3220349732936801,0.39758110990969675,0.3973899363473224,0.3386807400046626,0.3459987545855474,0.30919714004088733,0.28100786735658,0.42227142858610067,0.42622847736791164,0.3942694158851329,0.3366901036599962,0.4407062384392424,0.3719599607911056,0.35779749982266784,0.4181811600057567,0.31695081486831395,0.47219227018811644,0.4060150101713298,0.4469541884372708,0.4486883178736975,0.3831635672241193,0.34188607277026273,0.49320979267304443,0.40809952685502543,0.35880729255997035,0.3534629357058463]},{\"label\":\"gamma\",\"range\":[-7.731673644220012,-0.012811239635742095],\"ticktext\":[\"1.85e-08\",\"1e-07\",\"1e-06\",\"1e-05\",\"0.0001\",\"0.001\",\"0.01\",\"0.1\",\"0.971\"],\"tickvals\":[-7.731673644220012,-7,-6,-5,-4,-3,-2,-1,-0.012811239635742095],\"values\":[-4.4962388907247215,-7.357561707745778,-4.9241027412641,-5.4165154565371445,-1.1793113477442114,-7.731673644220012,-6.064468033842715,-7.141069823882217,-6.13440893408547,-3.187328706249336,-3.2659996086930896,-3.0983864742815195,-3.1981390851033122,-2.0702298509026096,-0.504789840169462,-0.3390283991149727,-0.2664958769656517,-1.8414915011095694,-1.5981021392840802,-0.3513004181177774,-2.0974416651849963,-1.078363476606983,-1.0300324173176878,-0.023474383965849673,-1.0429192723842025,-1.7792940454166828,-2.4340909800531985,-0.8761016417647913,-1.486972786072719,-4.0598599427258035,-1.4347490388298463,-1.6175579337825627,-0.07075430030715817,-2.487280936259243,-0.568289666641125,-0.6850475304301088,-0.7995431010202098,-0.699732829586013,-0.7123314897939164,-0.5929295714695224,-1.2742178015699048,-0.6527704309345873,-0.9117765601646184,-1.2244695317178078,-1.2021162534804022,-0.07959937748058059,-1.8861239764444075,-1.4190400542493586,-0.9611724997517855,-0.3820766337870224,-2.0534143278613564,-0.2172002088493654,-0.03422235577886869,-0.5225059535166939,-1.1049705349613663,-1.228211316128072,-1.2528379344357687,-0.8189239909401285,-0.8763506270758543,-0.8836210195716178,-1.6239537881037887,-0.3841827214065423,-0.35987370392342594,-0.9529110362785952,-0.34348963665958127,-0.7833508205484327,-1.12192092776969,-0.6908099594562018,-1.3919087383334945,-0.4619649113378047,-1.6945850683327355,-0.873729621155928,-1.082071566912254,-0.7851642870138369,-0.3119787348567695,-1.428294515778413,-1.5021512075334509,-0.5411464759222113,-0.5334583624491664,-1.2500590120875588,-1.791220905258466,-0.2066921667846997,-0.21706460126847957,-0.012811239635742095,-0.49227902667976886,-1.049280338810521,-0.8083704219523171,-0.24002253555915576,-0.6025550635231318,-1.3454276134962577,-0.955882217426721,-0.6901625833321524,-1.0846027575074597,-1.2234744182420232,-1.553478145778728,-1.090323498673549,-0.19226857115950785,-0.4305821290293592,-0.8393301612224706,-0.830215850789798]},{\"label\":\"learning_rate\",\"range\":[-3.903818881669059,-1.0000575875888036],\"ticktext\":[\"0.000125\",\"0.001\",\"0.01\",\"0.1\"],\"tickvals\":[-3.903818881669059,-3,-2,-1.0000575875888036],\"values\":[-3.7179718149617096,-2.459902694411681,-3.755154952124049,-3.644863897210412,-2.7180454269611736,-2.6990549509064423,-3.115831928043383,-3.903818881669059,-2.055954849447337,-2.99854200214336,-1.7135964803447736,-1.6838537537166918,-1.2097650930410666,-1.6084268139692124,-1.7413040280120171,-1.1188734727249048,-1.9863973546870564,-2.197997357436495,-2.1801371039939994,-2.146483996041846,-2.3074353563647363,-1.9609281372651566,-1.9222745399467818,-1.4574321599062359,-2.039233342322295,-2.362319364710018,-1.9440793159466006,-1.338862786587398,-1.8895427332503192,-1.0735798297023527,-1.5283254852366737,-1.4667213111811201,-2.2423663239608085,-1.87012017701784,-1.5576301169608933,-1.496136974389468,-1.2712124469791566,-1.008279384193106,-1.3128163599658624,-1.0618192802379536,-1.0036344617031259,-1.2516566329888512,-1.3832080578277237,-1.3429758014162865,-1.3479361779841146,-1.154000512759019,-1.5971801731841575,-1.7371337160221743,-1.385409346903208,-1.2141141936608266,-1.5982384545190553,-1.1693135061689888,-1.1396086223557504,-1.067805342831929,-1.4412389466930624,-1.0000575875888036,-1.0101383051719666,-1.1798531451264078,-1.1876793624356448,-1.2273444627365335,-1.1634800686804239,-1.1211205376427424,-1.0015529895554216,-1.4416090490971838,-1.2783196228597824,-1.1207877727286932,-1.1960440670388521,-1.0903500191144984,-1.1087348181446801,-1.2674084141164552,-1.3891370044036557,-1.119731464231108,-1.4673753645000787,-1.0016562022147562,-1.3968532454637967,-1.2773468633957092,-1.2794453386604845,-1.210627981000997,-1.2090868811705193,-1.5271565421454851,-1.644161873451611,-1.0707038542856717,-1.3066841471425357,-1.0964684885852451,-1.1749003649128995,-1.222315683428462,-1.3207650283002796,-1.0781348776240034,-1.42071398505915,-1.1372935335178098,-1.497442593455296,-1.0600799118648134,-1.2223989627747003,-1.2811662530116945,-1.2117051020457617,-1.3526272313244752,-1.1546965583773785,-1.0582724399311418,-1.2430648848638102,-1.4144881954594852]},{\"label\":\"max_depth\",\"range\":[3,10],\"values\":[10,4,10,5,6,6,4,4,9,10,8,8,8,8,8,7,7,7,7,3,6,7,7,5,9,7,5,9,6,6,5,5,6,5,6,4,3,3,3,3,3,4,4,4,4,4,4,3,4,5,3,4,4,4,3,3,3,3,3,3,3,3,3,3,3,3,3,3,3,3,3,3,4,3,3,4,3,3,10,3,4,3,3,3,4,3,3,4,3,4,3,3,3,3,3,3,4,3,4,3]},{\"label\":\"min_child_weight\",\"range\":[1,10],\"values\":[6,9,10,10,3,9,6,1,6,10,4,4,4,4,2,1,2,3,2,2,5,3,3,3,1,5,7,2,3,7,5,5,3,7,2,2,1,1,1,1,1,2,2,1,1,2,2,3,1,4,2,2,1,1,1,1,1,1,1,8,1,1,1,2,1,1,1,1,10,2,1,1,2,1,2,1,1,1,9,1,3,1,1,1,2,1,2,1,2,6,1,1,1,1,1,2,1,1,2,2]},{\"label\":\"n_estimators\",\"range\":[100,997],\"values\":[745,719,858,337,495,307,220,197,889,587,971,980,997,972,765,748,600,555,533,605,414,660,670,485,630,844,399,686,542,460,578,546,576,426,357,135,128,129,307,116,242,113,165,175,256,188,177,341,275,366,293,182,205,230,153,163,150,209,214,145,222,101,104,163,267,100,102,208,142,209,307,158,100,134,235,186,191,134,281,256,155,137,194,121,175,126,230,936,154,208,243,136,123,171,101,810,190,121,144,146]},{\"label\":\"reg_alpha\",\"range\":[-7.98700402024382,-0.002602115967507558],\"ticktext\":[\"1.03e-08\",\"1e-07\",\"1e-06\",\"1e-05\",\"0.0001\",\"0.001\",\"0.01\",\"0.1\",\"0.994\"],\"tickvals\":[-7.98700402024382,-7,-6,-5,-4,-3,-2,-1,-0.002602115967507558],\"values\":[-7.157538978216302,-7.98700402024382,-4.696246301493898,-1.960694236289304,-2.9973511198183616,-2.748167680708895,-0.9486681813729692,-3.2446848347264483,-2.024527721568089,-7.582826269894303,-0.07664798864355976,-0.10178096262870505,-0.1161882971339206,-0.49910015278567865,-0.006467263598603316,-1.191724890483319,-1.140829260247438,-1.2845044447267846,-1.5848130356483963,-1.18014053492803,-4.292730758594597,-0.7880241080539725,-0.8751091124559149,-1.9700234272365833,-1.4069839024997,-0.7467090930089816,-2.217762774696791,-1.5474112845055517,-0.69307339989981,-2.4697342364048622,-3.6688798026628398,-3.5544608764244945,-5.275493210570472,-2.4582937556251436,-1.6694737358464116,-1.7284570727085402,-1.7124291302091916,-1.6115714184799883,-2.6001233659270877,-1.8011379947159205,-2.820846018212171,-1.6279196305183392,-2.1037627417340024,-2.166504992589606,-2.365222484871444,-2.101894870296374,-2.8680592945135173,-3.0902670838550534,-2.1381525170612514,-1.3003791594554117,-0.460860408196073,-2.051690051129664,-2.0010962599744513,-1.1006681235259368,-1.4100039332209007,-0.9826230972522668,-1.0441371601923217,-1.4531459404741844,-0.40292024309633884,-0.6651929532450602,-0.4990964609448778,-1.445180536271939,-1.417441267698865,-1.0405548042681305,-0.16897236515965372,-1.4043363819337438,-0.9519333002860989,-1.4449190935343255,-0.34072522043956405,-0.854527536680431,-1.2827586006966323,-1.8489886335404035,-0.7326467970064041,-1.4511200819544525,-1.1779937942959537,-0.32081150939806014,-0.3301005173287727,-0.002602115967507558,-0.10970480481233673,-0.5689951571820329,-0.34802491003521296,-0.9034999582708422,-0.793377881611971,-0.03911217341943563,-0.6000995414087776,-0.260447185165314,-0.4735702030233965,-0.9248006073186881,-0.8589905713868871,-0.25320522575873106,-1.3200799691242533,-1.6065759726201454,-1.1178982056219158,-1.1772556672478935,-0.7096416796823455,-0.028247941141447297,-0.9457680512930348,-0.5584543810186564,-1.7627868449055466,-1.8350617199186565]},{\"label\":\"reg_lambda\",\"range\":[-7.36510259377887,-0.006630853683105596],\"ticktext\":[\"4.31e-08\",\"1e-07\",\"1e-06\",\"1e-05\",\"0.0001\",\"0.001\",\"0.01\",\"0.1\",\"0.985\"],\"tickvals\":[-7.36510259377887,-7,-6,-5,-4,-3,-2,-1,-0.006630853683105596],\"values\":[-4.9786205844335365,-5.77287297338055,-2.8974635763272647,-4.792292330779604,-3.12340830909367,-2.4212508685773124,-3.547159632644926,-1.4795302310576282,-1.577166233886194,-7.36510259377887,-0.4071100730478813,-0.14332515641703844,-0.27787545907085137,-0.14024403929763285,-1.244958046807975,-1.6113455182483118,-1.005641898874642,-2.5172529264465466,-2.4954638392847577,-3.9535885876899655,-2.2554181801837645,-0.8634685091672266,-0.9389686158902885,-0.895414154645175,-2.003556726167354,-0.8908113671560685,-1.9677492180499396,-2.890825644051753,-0.7223594256945567,-1.807693904527098,-0.6506548962197485,-1.1788511028615491,-0.5571029789615608,-1.4589267965099044,-0.5727490413867451,-0.07718009484595136,-0.4228406469106153,-0.10338944674450012,-0.4621658260407812,-0.007986175996791588,-1.2499399059824259,-0.06508141796110593,-0.47455382584007355,-0.5003450662715091,-1.5230348503603377,-0.4647649784616352,-1.3052392419993495,-1.8247620307392238,-0.6668607367851278,-1.1484615427639415,-2.6512015791781516,-0.45945830571258583,-0.35871434616889697,-3.2621020490014674,-0.3735120076654893,-0.29216719449877254,-0.28466162546105994,-0.27190344733142824,-0.03992467357410046,-0.02778300193463317,-0.917407755923552,-0.24121576140008794,-0.2782270183738586,-0.7576906004772638,-1.05614909193677,-0.2591834213411935,-0.015217736121781875,-0.821577518077181,-0.2650179623975264,-0.7274866201244116,-0.9954140138422426,-0.21863693899356001,-0.26819569714650615,-0.6421321348612735,-0.3147649941477989,-0.02282193892336424,-0.04223606533689374,-1.3330202193522698,-1.3101311970086431,-1.0053151476524689,-0.6602424052594695,-0.16833163307393312,-0.22661782910958012,-0.5006377149990198,-0.7902321703227548,-0.006630853683105596,-0.5826504637206412,-0.23410388275535365,-0.38274255376489424,-1.0802710147750032,-0.7479682821584677,-0.16570877259938174,-0.4344352589740915,-0.5207524718389692,-0.40207176870842376,-0.9192247831125636,-0.19979329082855818,-0.616775469842694,-1.3558861204364259,-1.4060502486503996]},{\"label\":\"subsample\",\"range\":[0.1955379109052762,0.9981192726198391],\"values\":[0.28240039837833886,0.6103663554942734,0.5596092963374858,0.35701331888085974,0.32795545261707204,0.3301081727513464,0.1955379109052762,0.8839429903072012,0.7177705777070102,0.8077349512618041,0.9673663812465302,0.9930509405610678,0.9465168233882333,0.9981192726198391,0.828742450278932,0.8136839165762678,0.688467245935058,0.6893048972674558,0.6762195251935623,0.516086535910834,0.47651629958037867,0.7538913570302473,0.696424221054493,0.7531326488268965,0.634438393416086,0.7575068542215799,0.6237011512079366,0.8954255524824816,0.7508798454370544,0.6944618819372808,0.5792634881096677,0.5724808157269603,0.6356021463008974,0.5815013119363143,0.5060237960925129,0.45207618858488474,0.4374828498403982,0.4371589086029503,0.43770088896560877,0.3947675217028608,0.5164827540371482,0.412289819032895,0.4598242965771092,0.3136477652473159,0.2721147038322451,0.3647371282028689,0.28785483657302585,0.5262772294585905,0.47675697548860174,0.3218648579669194,0.19674283310809296,0.3796089418447981,0.35915177334489284,0.34562685874193416,0.40072635296683634,0.3877834755608568,0.407793967793466,0.36925072163826117,0.36451088985563773,0.4089716433790312,0.3848496038763443,0.36218201540828227,0.4747140628486942,0.3565801256061951,0.43140108962371704,0.3775555526250918,0.33064404286545396,0.3834093494706833,0.2996067813716664,0.27460075291829456,0.41757196543492875,0.45244703395858027,0.3806630935430983,0.34101701629227615,0.4730933179548001,0.40971232973113836,0.429067226210052,0.3621467775707311,0.31687939866938986,0.3672673552692319,0.25409377657430576,0.4046982821892536,0.4007476693571937,0.3452788064824854,0.37242315201853704,0.3955167724723174,0.3372851713492328,0.3083532961737396,0.40480803510371993,0.35987850565027835,0.42204987974961106,0.4309266373418689,0.38950866837861886,0.3924825167931755,0.3304743762609875,0.3729637048769977,0.4891674419664752,0.45126683493814623,0.3508622866262183,0.29644170909972545]}],\"labelangle\":30,\"labelside\":\"bottom\",\"line\":{\"color\":[0.780846063454759,0.7397179788484137,0.7711515863689777,0.687132784958872,0.7867215041128085,0.6918331374853115,0.7053466509988249,0.7937720329024677,0.7949471210340776,0.7884841363102233,0.800822561692127,0.7972972972972973,0.7796709753231493,0.7802585193889541,0.8002350176263221,0.782608695652174,0.8061104582843713,0.8108108108108107,0.799059929494712,0.7984723854289072,0.7773207990599296,0.8025851938895417,0.8014101057579318,0.7949471210340776,0.7873090481786135,0.7996474735605171,0.7814336075205641,0.7867215041128085,0.8031727379553467,0.7908343125734429,0.8037602820211516,0.7773207990599295,0.7873090481786134,0.7802585193889542,0.8102232667450059,0.8078730904817861,0.8084606345475912,0.8207990599294948,0.8025851938895416,0.7949471210340775,0.7708578143360751,0.8061104582843713,0.8196239717978849,0.8131609870740305,0.8090481786133961,0.8102232667450059,0.8031727379553467,0.7984723854289071,0.7996474735605171,0.7817273795534666,0.7984723854289072,0.8055229142185664,0.8149236192714454,0.7884841363102233,0.8254994124559343,0.8243243243243242,0.8119858989424207,0.8249118683901293,0.8337250293772033,0.772032902467685,0.7884841363102233,0.8249118683901293,0.8061104582843713,0.7937720329024678,0.809048178613396,0.8225616921269094,0.8166862514688602,0.8025851938895416,0.7758519388954171,0.807873090481786,0.7949471210340776,0.8108108108108109,0.8037602820211516,0.8102232667450059,0.782608695652174,0.8219741480611046,0.8155111633372503,0.8290246768507639,0.7934782608695652,0.7937720329024677,0.7491186839012927,0.8243243243243243,0.818448883666275,0.8125734430082256,0.8019976498237368,0.8196239717978849,0.8090481786133961,0.7920094007050529,0.8131609870740306,0.7946533490011751,0.8137485311398355,0.8149236192714454,0.8266745005875441,0.8172737955346651,0.8131609870740306,0.8025851938895417,0.8119858989424208,0.800235017626322,0.8231492361927144,0.8160987074030553],\"colorbar\":{\"title\":{\"text\":\"Objective Value\"}},\"colorscale\":[[0.0,\"rgb(247,251,255)\"],[0.125,\"rgb(222,235,247)\"],[0.25,\"rgb(198,219,239)\"],[0.375,\"rgb(158,202,225)\"],[0.5,\"rgb(107,174,214)\"],[0.625,\"rgb(66,146,198)\"],[0.75,\"rgb(33,113,181)\"],[0.875,\"rgb(8,81,156)\"],[1.0,\"rgb(8,48,107)\"]],\"reversescale\":false,\"showscale\":true},\"type\":\"parcoords\"}],                        {\"title\":{\"text\":\"Parallel Coordinate Plot\"},\"template\":{\"data\":{\"histogram2dcontour\":[{\"type\":\"histogram2dcontour\",\"colorbar\":{\"outlinewidth\":0,\"ticks\":\"\"},\"colorscale\":[[0.0,\"#0d0887\"],[0.1111111111111111,\"#46039f\"],[0.2222222222222222,\"#7201a8\"],[0.3333333333333333,\"#9c179e\"],[0.4444444444444444,\"#bd3786\"],[0.5555555555555556,\"#d8576b\"],[0.6666666666666666,\"#ed7953\"],[0.7777777777777778,\"#fb9f3a\"],[0.8888888888888888,\"#fdca26\"],[1.0,\"#f0f921\"]]}],\"choropleth\":[{\"type\":\"choropleth\",\"colorbar\":{\"outlinewidth\":0,\"ticks\":\"\"}}],\"histogram2d\":[{\"type\":\"histogram2d\",\"colorbar\":{\"outlinewidth\":0,\"ticks\":\"\"},\"colorscale\":[[0.0,\"#0d0887\"],[0.1111111111111111,\"#46039f\"],[0.2222222222222222,\"#7201a8\"],[0.3333333333333333,\"#9c179e\"],[0.4444444444444444,\"#bd3786\"],[0.5555555555555556,\"#d8576b\"],[0.6666666666666666,\"#ed7953\"],[0.7777777777777778,\"#fb9f3a\"],[0.8888888888888888,\"#fdca26\"],[1.0,\"#f0f921\"]]}],\"heatmap\":[{\"type\":\"heatmap\",\"colorbar\":{\"outlinewidth\":0,\"ticks\":\"\"},\"colorscale\":[[0.0,\"#0d0887\"],[0.1111111111111111,\"#46039f\"],[0.2222222222222222,\"#7201a8\"],[0.3333333333333333,\"#9c179e\"],[0.4444444444444444,\"#bd3786\"],[0.5555555555555556,\"#d8576b\"],[0.6666666666666666,\"#ed7953\"],[0.7777777777777778,\"#fb9f3a\"],[0.8888888888888888,\"#fdca26\"],[1.0,\"#f0f921\"]]}],\"heatmapgl\":[{\"type\":\"heatmapgl\",\"colorbar\":{\"outlinewidth\":0,\"ticks\":\"\"},\"colorscale\":[[0.0,\"#0d0887\"],[0.1111111111111111,\"#46039f\"],[0.2222222222222222,\"#7201a8\"],[0.3333333333333333,\"#9c179e\"],[0.4444444444444444,\"#bd3786\"],[0.5555555555555556,\"#d8576b\"],[0.6666666666666666,\"#ed7953\"],[0.7777777777777778,\"#fb9f3a\"],[0.8888888888888888,\"#fdca26\"],[1.0,\"#f0f921\"]]}],\"contourcarpet\":[{\"type\":\"contourcarpet\",\"colorbar\":{\"outlinewidth\":0,\"ticks\":\"\"}}],\"contour\":[{\"type\":\"contour\",\"colorbar\":{\"outlinewidth\":0,\"ticks\":\"\"},\"colorscale\":[[0.0,\"#0d0887\"],[0.1111111111111111,\"#46039f\"],[0.2222222222222222,\"#7201a8\"],[0.3333333333333333,\"#9c179e\"],[0.4444444444444444,\"#bd3786\"],[0.5555555555555556,\"#d8576b\"],[0.6666666666666666,\"#ed7953\"],[0.7777777777777778,\"#fb9f3a\"],[0.8888888888888888,\"#fdca26\"],[1.0,\"#f0f921\"]]}],\"surface\":[{\"type\":\"surface\",\"colorbar\":{\"outlinewidth\":0,\"ticks\":\"\"},\"colorscale\":[[0.0,\"#0d0887\"],[0.1111111111111111,\"#46039f\"],[0.2222222222222222,\"#7201a8\"],[0.3333333333333333,\"#9c179e\"],[0.4444444444444444,\"#bd3786\"],[0.5555555555555556,\"#d8576b\"],[0.6666666666666666,\"#ed7953\"],[0.7777777777777778,\"#fb9f3a\"],[0.8888888888888888,\"#fdca26\"],[1.0,\"#f0f921\"]]}],\"mesh3d\":[{\"type\":\"mesh3d\",\"colorbar\":{\"outlinewidth\":0,\"ticks\":\"\"}}],\"scatter\":[{\"fillpattern\":{\"fillmode\":\"overlay\",\"size\":10,\"solidity\":0.2},\"type\":\"scatter\"}],\"parcoords\":[{\"type\":\"parcoords\",\"line\":{\"colorbar\":{\"outlinewidth\":0,\"ticks\":\"\"}}}],\"scatterpolargl\":[{\"type\":\"scatterpolargl\",\"marker\":{\"colorbar\":{\"outlinewidth\":0,\"ticks\":\"\"}}}],\"bar\":[{\"error_x\":{\"color\":\"#2a3f5f\"},\"error_y\":{\"color\":\"#2a3f5f\"},\"marker\":{\"line\":{\"color\":\"#E5ECF6\",\"width\":0.5},\"pattern\":{\"fillmode\":\"overlay\",\"size\":10,\"solidity\":0.2}},\"type\":\"bar\"}],\"scattergeo\":[{\"type\":\"scattergeo\",\"marker\":{\"colorbar\":{\"outlinewidth\":0,\"ticks\":\"\"}}}],\"scatterpolar\":[{\"type\":\"scatterpolar\",\"marker\":{\"colorbar\":{\"outlinewidth\":0,\"ticks\":\"\"}}}],\"histogram\":[{\"marker\":{\"pattern\":{\"fillmode\":\"overlay\",\"size\":10,\"solidity\":0.2}},\"type\":\"histogram\"}],\"scattergl\":[{\"type\":\"scattergl\",\"marker\":{\"colorbar\":{\"outlinewidth\":0,\"ticks\":\"\"}}}],\"scatter3d\":[{\"type\":\"scatter3d\",\"line\":{\"colorbar\":{\"outlinewidth\":0,\"ticks\":\"\"}},\"marker\":{\"colorbar\":{\"outlinewidth\":0,\"ticks\":\"\"}}}],\"scattermapbox\":[{\"type\":\"scattermapbox\",\"marker\":{\"colorbar\":{\"outlinewidth\":0,\"ticks\":\"\"}}}],\"scatterternary\":[{\"type\":\"scatterternary\",\"marker\":{\"colorbar\":{\"outlinewidth\":0,\"ticks\":\"\"}}}],\"scattercarpet\":[{\"type\":\"scattercarpet\",\"marker\":{\"colorbar\":{\"outlinewidth\":0,\"ticks\":\"\"}}}],\"carpet\":[{\"aaxis\":{\"endlinecolor\":\"#2a3f5f\",\"gridcolor\":\"white\",\"linecolor\":\"white\",\"minorgridcolor\":\"white\",\"startlinecolor\":\"#2a3f5f\"},\"baxis\":{\"endlinecolor\":\"#2a3f5f\",\"gridcolor\":\"white\",\"linecolor\":\"white\",\"minorgridcolor\":\"white\",\"startlinecolor\":\"#2a3f5f\"},\"type\":\"carpet\"}],\"table\":[{\"cells\":{\"fill\":{\"color\":\"#EBF0F8\"},\"line\":{\"color\":\"white\"}},\"header\":{\"fill\":{\"color\":\"#C8D4E3\"},\"line\":{\"color\":\"white\"}},\"type\":\"table\"}],\"barpolar\":[{\"marker\":{\"line\":{\"color\":\"#E5ECF6\",\"width\":0.5},\"pattern\":{\"fillmode\":\"overlay\",\"size\":10,\"solidity\":0.2}},\"type\":\"barpolar\"}],\"pie\":[{\"automargin\":true,\"type\":\"pie\"}]},\"layout\":{\"autotypenumbers\":\"strict\",\"colorway\":[\"#636efa\",\"#EF553B\",\"#00cc96\",\"#ab63fa\",\"#FFA15A\",\"#19d3f3\",\"#FF6692\",\"#B6E880\",\"#FF97FF\",\"#FECB52\"],\"font\":{\"color\":\"#2a3f5f\"},\"hovermode\":\"closest\",\"hoverlabel\":{\"align\":\"left\"},\"paper_bgcolor\":\"white\",\"plot_bgcolor\":\"#E5ECF6\",\"polar\":{\"bgcolor\":\"#E5ECF6\",\"angularaxis\":{\"gridcolor\":\"white\",\"linecolor\":\"white\",\"ticks\":\"\"},\"radialaxis\":{\"gridcolor\":\"white\",\"linecolor\":\"white\",\"ticks\":\"\"}},\"ternary\":{\"bgcolor\":\"#E5ECF6\",\"aaxis\":{\"gridcolor\":\"white\",\"linecolor\":\"white\",\"ticks\":\"\"},\"baxis\":{\"gridcolor\":\"white\",\"linecolor\":\"white\",\"ticks\":\"\"},\"caxis\":{\"gridcolor\":\"white\",\"linecolor\":\"white\",\"ticks\":\"\"}},\"coloraxis\":{\"colorbar\":{\"outlinewidth\":0,\"ticks\":\"\"}},\"colorscale\":{\"sequential\":[[0.0,\"#0d0887\"],[0.1111111111111111,\"#46039f\"],[0.2222222222222222,\"#7201a8\"],[0.3333333333333333,\"#9c179e\"],[0.4444444444444444,\"#bd3786\"],[0.5555555555555556,\"#d8576b\"],[0.6666666666666666,\"#ed7953\"],[0.7777777777777778,\"#fb9f3a\"],[0.8888888888888888,\"#fdca26\"],[1.0,\"#f0f921\"]],\"sequentialminus\":[[0.0,\"#0d0887\"],[0.1111111111111111,\"#46039f\"],[0.2222222222222222,\"#7201a8\"],[0.3333333333333333,\"#9c179e\"],[0.4444444444444444,\"#bd3786\"],[0.5555555555555556,\"#d8576b\"],[0.6666666666666666,\"#ed7953\"],[0.7777777777777778,\"#fb9f3a\"],[0.8888888888888888,\"#fdca26\"],[1.0,\"#f0f921\"]],\"diverging\":[[0,\"#8e0152\"],[0.1,\"#c51b7d\"],[0.2,\"#de77ae\"],[0.3,\"#f1b6da\"],[0.4,\"#fde0ef\"],[0.5,\"#f7f7f7\"],[0.6,\"#e6f5d0\"],[0.7,\"#b8e186\"],[0.8,\"#7fbc41\"],[0.9,\"#4d9221\"],[1,\"#276419\"]]},\"xaxis\":{\"gridcolor\":\"white\",\"linecolor\":\"white\",\"ticks\":\"\",\"title\":{\"standoff\":15},\"zerolinecolor\":\"white\",\"automargin\":true,\"zerolinewidth\":2},\"yaxis\":{\"gridcolor\":\"white\",\"linecolor\":\"white\",\"ticks\":\"\",\"title\":{\"standoff\":15},\"zerolinecolor\":\"white\",\"automargin\":true,\"zerolinewidth\":2},\"scene\":{\"xaxis\":{\"backgroundcolor\":\"#E5ECF6\",\"gridcolor\":\"white\",\"linecolor\":\"white\",\"showbackground\":true,\"ticks\":\"\",\"zerolinecolor\":\"white\",\"gridwidth\":2},\"yaxis\":{\"backgroundcolor\":\"#E5ECF6\",\"gridcolor\":\"white\",\"linecolor\":\"white\",\"showbackground\":true,\"ticks\":\"\",\"zerolinecolor\":\"white\",\"gridwidth\":2},\"zaxis\":{\"backgroundcolor\":\"#E5ECF6\",\"gridcolor\":\"white\",\"linecolor\":\"white\",\"showbackground\":true,\"ticks\":\"\",\"zerolinecolor\":\"white\",\"gridwidth\":2}},\"shapedefaults\":{\"line\":{\"color\":\"#2a3f5f\"}},\"annotationdefaults\":{\"arrowcolor\":\"#2a3f5f\",\"arrowhead\":0,\"arrowwidth\":1},\"geo\":{\"bgcolor\":\"white\",\"landcolor\":\"#E5ECF6\",\"subunitcolor\":\"white\",\"showland\":true,\"showlakes\":true,\"lakecolor\":\"white\"},\"title\":{\"x\":0.05},\"mapbox\":{\"style\":\"light\"}}}},                        {\"responsive\": true}                    ).then(function(){\n",
       "                            \n",
       "var gd = document.getElementById('9c870c0d-63df-4a81-a092-c52e4ec986cf');\n",
       "var x = new MutationObserver(function (mutations, observer) {{\n",
       "        var display = window.getComputedStyle(gd).display;\n",
       "        if (!display || display === 'none') {{\n",
       "            console.log([gd, 'removed!']);\n",
       "            Plotly.purge(gd);\n",
       "            observer.disconnect();\n",
       "        }}\n",
       "}});\n",
       "\n",
       "// Listen for the removal of the full notebook cells\n",
       "var notebookContainer = gd.closest('#notebook-container');\n",
       "if (notebookContainer) {{\n",
       "    x.observe(notebookContainer, {childList: true});\n",
       "}}\n",
       "\n",
       "// Listen for the clearing of the current output cell\n",
       "var outputEl = gd.closest('.output');\n",
       "if (outputEl) {{\n",
       "    x.observe(outputEl, {childList: true});\n",
       "}}\n",
       "\n",
       "                        })                };                });            </script>        </div>"
      ]
     },
     "metadata": {},
     "output_type": "display_data"
    }
   ],
   "source": [
    "# Visualize parallel coordinate plot\n",
    "fig = vis.plot_parallel_coordinate(study)\n",
    "fig.show()"
   ]
  },
  {
   "cell_type": "code",
   "execution_count": 14,
   "id": "3497525d",
   "metadata": {
    "execution": {
     "iopub.execute_input": "2023-04-09T03:47:59.520333Z",
     "iopub.status.busy": "2023-04-09T03:47:59.519957Z",
     "iopub.status.idle": "2023-04-09T03:47:59.556119Z",
     "shell.execute_reply": "2023-04-09T03:47:59.554953Z"
    },
    "papermill": {
     "duration": 0.052123,
     "end_time": "2023-04-09T03:47:59.558259",
     "exception": false,
     "start_time": "2023-04-09T03:47:59.506136",
     "status": "completed"
    },
    "tags": []
   },
   "outputs": [
    {
     "data": {
      "text/html": [
       "<div>                            <div id=\"bd5a9288-9d6c-43e2-ba59-c0fedfeb6357\" class=\"plotly-graph-div\" style=\"height:525px; width:100%;\"></div>            <script type=\"text/javascript\">                require([\"plotly\"], function(Plotly) {                    window.PLOTLYENV=window.PLOTLYENV || {};                                    if (document.getElementById(\"bd5a9288-9d6c-43e2-ba59-c0fedfeb6357\")) {                    Plotly.newPlot(                        \"bd5a9288-9d6c-43e2-ba59-c0fedfeb6357\",                        [{\"mode\":\"markers\",\"name\":\"Objective Value\",\"x\":[0,1,2,3,4,5,6,7,8,9,10,11,12,13,14,15,16,17,18,19,20,21,22,23,24,25,26,27,28,29,30,31,32,33,34,35,36,37,38,39,40,41,42,43,44,45,46,47,48,49,50,51,52,53,54,55,56,57,58,59,60,61,62,63,64,65,66,67,68,69,70,71,72,73,74,75,76,77,78,79,80,81,82,83,84,85,86,87,88,89,90,91,92,93,94,95,96,97,98,99],\"y\":[0.780846063454759,0.7397179788484137,0.7711515863689777,0.687132784958872,0.7867215041128085,0.6918331374853115,0.7053466509988249,0.7937720329024677,0.7949471210340776,0.7884841363102233,0.800822561692127,0.7972972972972973,0.7796709753231493,0.7802585193889541,0.8002350176263221,0.782608695652174,0.8061104582843713,0.8108108108108107,0.799059929494712,0.7984723854289072,0.7773207990599296,0.8025851938895417,0.8014101057579318,0.7949471210340776,0.7873090481786135,0.7996474735605171,0.7814336075205641,0.7867215041128085,0.8031727379553467,0.7908343125734429,0.8037602820211516,0.7773207990599295,0.7873090481786134,0.7802585193889542,0.8102232667450059,0.8078730904817861,0.8084606345475912,0.8207990599294948,0.8025851938895416,0.7949471210340775,0.7708578143360751,0.8061104582843713,0.8196239717978849,0.8131609870740305,0.8090481786133961,0.8102232667450059,0.8031727379553467,0.7984723854289071,0.7996474735605171,0.7817273795534666,0.7984723854289072,0.8055229142185664,0.8149236192714454,0.7884841363102233,0.8254994124559343,0.8243243243243242,0.8119858989424207,0.8249118683901293,0.8337250293772033,0.772032902467685,0.7884841363102233,0.8249118683901293,0.8061104582843713,0.7937720329024678,0.809048178613396,0.8225616921269094,0.8166862514688602,0.8025851938895416,0.7758519388954171,0.807873090481786,0.7949471210340776,0.8108108108108109,0.8037602820211516,0.8102232667450059,0.782608695652174,0.8219741480611046,0.8155111633372503,0.8290246768507639,0.7934782608695652,0.7937720329024677,0.7491186839012927,0.8243243243243243,0.818448883666275,0.8125734430082256,0.8019976498237368,0.8196239717978849,0.8090481786133961,0.7920094007050529,0.8131609870740306,0.7946533490011751,0.8137485311398355,0.8149236192714454,0.8266745005875441,0.8172737955346651,0.8131609870740306,0.8025851938895417,0.8119858989424208,0.800235017626322,0.8231492361927144,0.8160987074030553],\"type\":\"scatter\"},{\"name\":\"Best Value\",\"x\":[0,1,2,3,4,5,6,7,8,9,10,11,12,13,14,15,16,17,18,19,20,21,22,23,24,25,26,27,28,29,30,31,32,33,34,35,36,37,38,39,40,41,42,43,44,45,46,47,48,49,50,51,52,53,54,55,56,57,58,59,60,61,62,63,64,65,66,67,68,69,70,71,72,73,74,75,76,77,78,79,80,81,82,83,84,85,86,87,88,89,90,91,92,93,94,95,96,97,98,99],\"y\":[0.780846063454759,0.780846063454759,0.780846063454759,0.780846063454759,0.7867215041128085,0.7867215041128085,0.7867215041128085,0.7937720329024677,0.7949471210340776,0.7949471210340776,0.800822561692127,0.800822561692127,0.800822561692127,0.800822561692127,0.800822561692127,0.800822561692127,0.8061104582843713,0.8108108108108107,0.8108108108108107,0.8108108108108107,0.8108108108108107,0.8108108108108107,0.8108108108108107,0.8108108108108107,0.8108108108108107,0.8108108108108107,0.8108108108108107,0.8108108108108107,0.8108108108108107,0.8108108108108107,0.8108108108108107,0.8108108108108107,0.8108108108108107,0.8108108108108107,0.8108108108108107,0.8108108108108107,0.8108108108108107,0.8207990599294948,0.8207990599294948,0.8207990599294948,0.8207990599294948,0.8207990599294948,0.8207990599294948,0.8207990599294948,0.8207990599294948,0.8207990599294948,0.8207990599294948,0.8207990599294948,0.8207990599294948,0.8207990599294948,0.8207990599294948,0.8207990599294948,0.8207990599294948,0.8207990599294948,0.8254994124559343,0.8254994124559343,0.8254994124559343,0.8254994124559343,0.8337250293772033,0.8337250293772033,0.8337250293772033,0.8337250293772033,0.8337250293772033,0.8337250293772033,0.8337250293772033,0.8337250293772033,0.8337250293772033,0.8337250293772033,0.8337250293772033,0.8337250293772033,0.8337250293772033,0.8337250293772033,0.8337250293772033,0.8337250293772033,0.8337250293772033,0.8337250293772033,0.8337250293772033,0.8337250293772033,0.8337250293772033,0.8337250293772033,0.8337250293772033,0.8337250293772033,0.8337250293772033,0.8337250293772033,0.8337250293772033,0.8337250293772033,0.8337250293772033,0.8337250293772033,0.8337250293772033,0.8337250293772033,0.8337250293772033,0.8337250293772033,0.8337250293772033,0.8337250293772033,0.8337250293772033,0.8337250293772033,0.8337250293772033,0.8337250293772033,0.8337250293772033,0.8337250293772033],\"type\":\"scatter\"}],                        {\"title\":{\"text\":\"Optimization History Plot\"},\"xaxis\":{\"title\":{\"text\":\"Trial\"}},\"yaxis\":{\"title\":{\"text\":\"Objective Value\"}},\"template\":{\"data\":{\"histogram2dcontour\":[{\"type\":\"histogram2dcontour\",\"colorbar\":{\"outlinewidth\":0,\"ticks\":\"\"},\"colorscale\":[[0.0,\"#0d0887\"],[0.1111111111111111,\"#46039f\"],[0.2222222222222222,\"#7201a8\"],[0.3333333333333333,\"#9c179e\"],[0.4444444444444444,\"#bd3786\"],[0.5555555555555556,\"#d8576b\"],[0.6666666666666666,\"#ed7953\"],[0.7777777777777778,\"#fb9f3a\"],[0.8888888888888888,\"#fdca26\"],[1.0,\"#f0f921\"]]}],\"choropleth\":[{\"type\":\"choropleth\",\"colorbar\":{\"outlinewidth\":0,\"ticks\":\"\"}}],\"histogram2d\":[{\"type\":\"histogram2d\",\"colorbar\":{\"outlinewidth\":0,\"ticks\":\"\"},\"colorscale\":[[0.0,\"#0d0887\"],[0.1111111111111111,\"#46039f\"],[0.2222222222222222,\"#7201a8\"],[0.3333333333333333,\"#9c179e\"],[0.4444444444444444,\"#bd3786\"],[0.5555555555555556,\"#d8576b\"],[0.6666666666666666,\"#ed7953\"],[0.7777777777777778,\"#fb9f3a\"],[0.8888888888888888,\"#fdca26\"],[1.0,\"#f0f921\"]]}],\"heatmap\":[{\"type\":\"heatmap\",\"colorbar\":{\"outlinewidth\":0,\"ticks\":\"\"},\"colorscale\":[[0.0,\"#0d0887\"],[0.1111111111111111,\"#46039f\"],[0.2222222222222222,\"#7201a8\"],[0.3333333333333333,\"#9c179e\"],[0.4444444444444444,\"#bd3786\"],[0.5555555555555556,\"#d8576b\"],[0.6666666666666666,\"#ed7953\"],[0.7777777777777778,\"#fb9f3a\"],[0.8888888888888888,\"#fdca26\"],[1.0,\"#f0f921\"]]}],\"heatmapgl\":[{\"type\":\"heatmapgl\",\"colorbar\":{\"outlinewidth\":0,\"ticks\":\"\"},\"colorscale\":[[0.0,\"#0d0887\"],[0.1111111111111111,\"#46039f\"],[0.2222222222222222,\"#7201a8\"],[0.3333333333333333,\"#9c179e\"],[0.4444444444444444,\"#bd3786\"],[0.5555555555555556,\"#d8576b\"],[0.6666666666666666,\"#ed7953\"],[0.7777777777777778,\"#fb9f3a\"],[0.8888888888888888,\"#fdca26\"],[1.0,\"#f0f921\"]]}],\"contourcarpet\":[{\"type\":\"contourcarpet\",\"colorbar\":{\"outlinewidth\":0,\"ticks\":\"\"}}],\"contour\":[{\"type\":\"contour\",\"colorbar\":{\"outlinewidth\":0,\"ticks\":\"\"},\"colorscale\":[[0.0,\"#0d0887\"],[0.1111111111111111,\"#46039f\"],[0.2222222222222222,\"#7201a8\"],[0.3333333333333333,\"#9c179e\"],[0.4444444444444444,\"#bd3786\"],[0.5555555555555556,\"#d8576b\"],[0.6666666666666666,\"#ed7953\"],[0.7777777777777778,\"#fb9f3a\"],[0.8888888888888888,\"#fdca26\"],[1.0,\"#f0f921\"]]}],\"surface\":[{\"type\":\"surface\",\"colorbar\":{\"outlinewidth\":0,\"ticks\":\"\"},\"colorscale\":[[0.0,\"#0d0887\"],[0.1111111111111111,\"#46039f\"],[0.2222222222222222,\"#7201a8\"],[0.3333333333333333,\"#9c179e\"],[0.4444444444444444,\"#bd3786\"],[0.5555555555555556,\"#d8576b\"],[0.6666666666666666,\"#ed7953\"],[0.7777777777777778,\"#fb9f3a\"],[0.8888888888888888,\"#fdca26\"],[1.0,\"#f0f921\"]]}],\"mesh3d\":[{\"type\":\"mesh3d\",\"colorbar\":{\"outlinewidth\":0,\"ticks\":\"\"}}],\"scatter\":[{\"fillpattern\":{\"fillmode\":\"overlay\",\"size\":10,\"solidity\":0.2},\"type\":\"scatter\"}],\"parcoords\":[{\"type\":\"parcoords\",\"line\":{\"colorbar\":{\"outlinewidth\":0,\"ticks\":\"\"}}}],\"scatterpolargl\":[{\"type\":\"scatterpolargl\",\"marker\":{\"colorbar\":{\"outlinewidth\":0,\"ticks\":\"\"}}}],\"bar\":[{\"error_x\":{\"color\":\"#2a3f5f\"},\"error_y\":{\"color\":\"#2a3f5f\"},\"marker\":{\"line\":{\"color\":\"#E5ECF6\",\"width\":0.5},\"pattern\":{\"fillmode\":\"overlay\",\"size\":10,\"solidity\":0.2}},\"type\":\"bar\"}],\"scattergeo\":[{\"type\":\"scattergeo\",\"marker\":{\"colorbar\":{\"outlinewidth\":0,\"ticks\":\"\"}}}],\"scatterpolar\":[{\"type\":\"scatterpolar\",\"marker\":{\"colorbar\":{\"outlinewidth\":0,\"ticks\":\"\"}}}],\"histogram\":[{\"marker\":{\"pattern\":{\"fillmode\":\"overlay\",\"size\":10,\"solidity\":0.2}},\"type\":\"histogram\"}],\"scattergl\":[{\"type\":\"scattergl\",\"marker\":{\"colorbar\":{\"outlinewidth\":0,\"ticks\":\"\"}}}],\"scatter3d\":[{\"type\":\"scatter3d\",\"line\":{\"colorbar\":{\"outlinewidth\":0,\"ticks\":\"\"}},\"marker\":{\"colorbar\":{\"outlinewidth\":0,\"ticks\":\"\"}}}],\"scattermapbox\":[{\"type\":\"scattermapbox\",\"marker\":{\"colorbar\":{\"outlinewidth\":0,\"ticks\":\"\"}}}],\"scatterternary\":[{\"type\":\"scatterternary\",\"marker\":{\"colorbar\":{\"outlinewidth\":0,\"ticks\":\"\"}}}],\"scattercarpet\":[{\"type\":\"scattercarpet\",\"marker\":{\"colorbar\":{\"outlinewidth\":0,\"ticks\":\"\"}}}],\"carpet\":[{\"aaxis\":{\"endlinecolor\":\"#2a3f5f\",\"gridcolor\":\"white\",\"linecolor\":\"white\",\"minorgridcolor\":\"white\",\"startlinecolor\":\"#2a3f5f\"},\"baxis\":{\"endlinecolor\":\"#2a3f5f\",\"gridcolor\":\"white\",\"linecolor\":\"white\",\"minorgridcolor\":\"white\",\"startlinecolor\":\"#2a3f5f\"},\"type\":\"carpet\"}],\"table\":[{\"cells\":{\"fill\":{\"color\":\"#EBF0F8\"},\"line\":{\"color\":\"white\"}},\"header\":{\"fill\":{\"color\":\"#C8D4E3\"},\"line\":{\"color\":\"white\"}},\"type\":\"table\"}],\"barpolar\":[{\"marker\":{\"line\":{\"color\":\"#E5ECF6\",\"width\":0.5},\"pattern\":{\"fillmode\":\"overlay\",\"size\":10,\"solidity\":0.2}},\"type\":\"barpolar\"}],\"pie\":[{\"automargin\":true,\"type\":\"pie\"}]},\"layout\":{\"autotypenumbers\":\"strict\",\"colorway\":[\"#636efa\",\"#EF553B\",\"#00cc96\",\"#ab63fa\",\"#FFA15A\",\"#19d3f3\",\"#FF6692\",\"#B6E880\",\"#FF97FF\",\"#FECB52\"],\"font\":{\"color\":\"#2a3f5f\"},\"hovermode\":\"closest\",\"hoverlabel\":{\"align\":\"left\"},\"paper_bgcolor\":\"white\",\"plot_bgcolor\":\"#E5ECF6\",\"polar\":{\"bgcolor\":\"#E5ECF6\",\"angularaxis\":{\"gridcolor\":\"white\",\"linecolor\":\"white\",\"ticks\":\"\"},\"radialaxis\":{\"gridcolor\":\"white\",\"linecolor\":\"white\",\"ticks\":\"\"}},\"ternary\":{\"bgcolor\":\"#E5ECF6\",\"aaxis\":{\"gridcolor\":\"white\",\"linecolor\":\"white\",\"ticks\":\"\"},\"baxis\":{\"gridcolor\":\"white\",\"linecolor\":\"white\",\"ticks\":\"\"},\"caxis\":{\"gridcolor\":\"white\",\"linecolor\":\"white\",\"ticks\":\"\"}},\"coloraxis\":{\"colorbar\":{\"outlinewidth\":0,\"ticks\":\"\"}},\"colorscale\":{\"sequential\":[[0.0,\"#0d0887\"],[0.1111111111111111,\"#46039f\"],[0.2222222222222222,\"#7201a8\"],[0.3333333333333333,\"#9c179e\"],[0.4444444444444444,\"#bd3786\"],[0.5555555555555556,\"#d8576b\"],[0.6666666666666666,\"#ed7953\"],[0.7777777777777778,\"#fb9f3a\"],[0.8888888888888888,\"#fdca26\"],[1.0,\"#f0f921\"]],\"sequentialminus\":[[0.0,\"#0d0887\"],[0.1111111111111111,\"#46039f\"],[0.2222222222222222,\"#7201a8\"],[0.3333333333333333,\"#9c179e\"],[0.4444444444444444,\"#bd3786\"],[0.5555555555555556,\"#d8576b\"],[0.6666666666666666,\"#ed7953\"],[0.7777777777777778,\"#fb9f3a\"],[0.8888888888888888,\"#fdca26\"],[1.0,\"#f0f921\"]],\"diverging\":[[0,\"#8e0152\"],[0.1,\"#c51b7d\"],[0.2,\"#de77ae\"],[0.3,\"#f1b6da\"],[0.4,\"#fde0ef\"],[0.5,\"#f7f7f7\"],[0.6,\"#e6f5d0\"],[0.7,\"#b8e186\"],[0.8,\"#7fbc41\"],[0.9,\"#4d9221\"],[1,\"#276419\"]]},\"xaxis\":{\"gridcolor\":\"white\",\"linecolor\":\"white\",\"ticks\":\"\",\"title\":{\"standoff\":15},\"zerolinecolor\":\"white\",\"automargin\":true,\"zerolinewidth\":2},\"yaxis\":{\"gridcolor\":\"white\",\"linecolor\":\"white\",\"ticks\":\"\",\"title\":{\"standoff\":15},\"zerolinecolor\":\"white\",\"automargin\":true,\"zerolinewidth\":2},\"scene\":{\"xaxis\":{\"backgroundcolor\":\"#E5ECF6\",\"gridcolor\":\"white\",\"linecolor\":\"white\",\"showbackground\":true,\"ticks\":\"\",\"zerolinecolor\":\"white\",\"gridwidth\":2},\"yaxis\":{\"backgroundcolor\":\"#E5ECF6\",\"gridcolor\":\"white\",\"linecolor\":\"white\",\"showbackground\":true,\"ticks\":\"\",\"zerolinecolor\":\"white\",\"gridwidth\":2},\"zaxis\":{\"backgroundcolor\":\"#E5ECF6\",\"gridcolor\":\"white\",\"linecolor\":\"white\",\"showbackground\":true,\"ticks\":\"\",\"zerolinecolor\":\"white\",\"gridwidth\":2}},\"shapedefaults\":{\"line\":{\"color\":\"#2a3f5f\"}},\"annotationdefaults\":{\"arrowcolor\":\"#2a3f5f\",\"arrowhead\":0,\"arrowwidth\":1},\"geo\":{\"bgcolor\":\"white\",\"landcolor\":\"#E5ECF6\",\"subunitcolor\":\"white\",\"showland\":true,\"showlakes\":true,\"lakecolor\":\"white\"},\"title\":{\"x\":0.05},\"mapbox\":{\"style\":\"light\"}}}},                        {\"responsive\": true}                    ).then(function(){\n",
       "                            \n",
       "var gd = document.getElementById('bd5a9288-9d6c-43e2-ba59-c0fedfeb6357');\n",
       "var x = new MutationObserver(function (mutations, observer) {{\n",
       "        var display = window.getComputedStyle(gd).display;\n",
       "        if (!display || display === 'none') {{\n",
       "            console.log([gd, 'removed!']);\n",
       "            Plotly.purge(gd);\n",
       "            observer.disconnect();\n",
       "        }}\n",
       "}});\n",
       "\n",
       "// Listen for the removal of the full notebook cells\n",
       "var notebookContainer = gd.closest('#notebook-container');\n",
       "if (notebookContainer) {{\n",
       "    x.observe(notebookContainer, {childList: true});\n",
       "}}\n",
       "\n",
       "// Listen for the clearing of the current output cell\n",
       "var outputEl = gd.closest('.output');\n",
       "if (outputEl) {{\n",
       "    x.observe(outputEl, {childList: true});\n",
       "}}\n",
       "\n",
       "                        })                };                });            </script>        </div>"
      ]
     },
     "metadata": {},
     "output_type": "display_data"
    }
   ],
   "source": [
    "# Visualize optimization history plot\n",
    "fig = vis.plot_optimization_history(study)\n",
    "fig.show()"
   ]
  },
  {
   "cell_type": "code",
   "execution_count": 15,
   "id": "525052b6",
   "metadata": {
    "execution": {
     "iopub.execute_input": "2023-04-09T03:47:59.585147Z",
     "iopub.status.busy": "2023-04-09T03:47:59.584736Z",
     "iopub.status.idle": "2023-04-09T03:47:59.590665Z",
     "shell.execute_reply": "2023-04-09T03:47:59.589690Z"
    },
    "papermill": {
     "duration": 0.021778,
     "end_time": "2023-04-09T03:47:59.592681",
     "exception": false,
     "start_time": "2023-04-09T03:47:59.570903",
     "status": "completed"
    },
    "tags": []
   },
   "outputs": [],
   "source": [
    "param_grid = {'n_estimators': 588, 'learning_rate': 0.010914601022630038, \n",
    "                 'max_depth': 10, 'min_child_weight': 1, 'subsample': 0.36983544183139816,\n",
    "                 'colsample_bytree': 0.669791309156759, 'gamma': 0.11302676094204718, \n",
    "                 'reg_alpha': 4.04019319197943e-08, 'reg_lambda': 0.4203077089763021}\n",
    "\n",
    "model = XGBClassifier(**param_grid)"
   ]
  },
  {
   "cell_type": "markdown",
   "id": "d658df42",
   "metadata": {
    "papermill": {
     "duration": 0.01197,
     "end_time": "2023-04-09T03:47:59.617145",
     "exception": false,
     "start_time": "2023-04-09T03:47:59.605175",
     "status": "completed"
    },
    "tags": []
   },
   "source": [
    "# ROC_Curve [train,validation set]"
   ]
  },
  {
   "cell_type": "code",
   "execution_count": 16,
   "id": "8523102a",
   "metadata": {
    "execution": {
     "iopub.execute_input": "2023-04-09T03:47:59.643742Z",
     "iopub.status.busy": "2023-04-09T03:47:59.643324Z",
     "iopub.status.idle": "2023-04-09T03:48:00.534008Z",
     "shell.execute_reply": "2023-04-09T03:48:00.533000Z"
    },
    "papermill": {
     "duration": 0.906772,
     "end_time": "2023-04-09T03:48:00.536313",
     "exception": false,
     "start_time": "2023-04-09T03:47:59.629541",
     "status": "completed"
    },
    "tags": []
   },
   "outputs": [
    {
     "data": {
      "text/plain": [
       "XGBClassifier(base_score=0.5, booster='gbtree', callbacks=None,\n",
       "              colsample_bylevel=1, colsample_bynode=1,\n",
       "              colsample_bytree=0.669791309156759, early_stopping_rounds=None,\n",
       "              enable_categorical=False, eval_metric=None,\n",
       "              gamma=0.11302676094204718, gpu_id=-1, grow_policy='depthwise',\n",
       "              importance_type=None, interaction_constraints='',\n",
       "              learning_rate=0.010914601022630038, max_bin=256,\n",
       "              max_cat_to_onehot=4, max_delta_step=0, max_depth=10, max_leaves=0,\n",
       "              min_child_weight=1, missing=nan, monotone_constraints='()',\n",
       "              n_estimators=588, n_jobs=0, num_parallel_tree=1, predictor='auto',\n",
       "              random_state=0, reg_alpha=4.04019319197943e-08,\n",
       "              reg_lambda=0.4203077089763021, ...)"
      ]
     },
     "execution_count": 16,
     "metadata": {},
     "output_type": "execute_result"
    }
   ],
   "source": [
    "model.fit(x_train,y_train)"
   ]
  },
  {
   "cell_type": "code",
   "execution_count": 17,
   "id": "15d26b86",
   "metadata": {
    "execution": {
     "iopub.execute_input": "2023-04-09T03:48:00.564153Z",
     "iopub.status.busy": "2023-04-09T03:48:00.563772Z",
     "iopub.status.idle": "2023-04-09T03:48:00.578961Z",
     "shell.execute_reply": "2023-04-09T03:48:00.578159Z"
    },
    "papermill": {
     "duration": 0.031722,
     "end_time": "2023-04-09T03:48:00.581466",
     "exception": false,
     "start_time": "2023-04-09T03:48:00.549744",
     "status": "completed"
    },
    "tags": []
   },
   "outputs": [],
   "source": [
    "train_proba = model.predict_proba(x_test)[:,1]\n",
    "\n",
    "\n",
    "fpr,tpr, _ = roc_curve(y_test,train_proba)\n",
    "auc_score = round(roc_auc_score(y_test,train_proba),3)"
   ]
  },
  {
   "cell_type": "code",
   "execution_count": 18,
   "id": "f1e85423",
   "metadata": {
    "execution": {
     "iopub.execute_input": "2023-04-09T03:48:00.609022Z",
     "iopub.status.busy": "2023-04-09T03:48:00.608606Z",
     "iopub.status.idle": "2023-04-09T03:48:00.816160Z",
     "shell.execute_reply": "2023-04-09T03:48:00.815104Z"
    },
    "papermill": {
     "duration": 0.223301,
     "end_time": "2023-04-09T03:48:00.818117",
     "exception": false,
     "start_time": "2023-04-09T03:48:00.594816",
     "status": "completed"
    },
    "tags": []
   },
   "outputs": [
    {
     "data": {
      "text/plain": [
       "Text(0.5, 1.0, 'XGBoostClassifier ROC_CURVE')"
      ]
     },
     "execution_count": 18,
     "metadata": {},
     "output_type": "execute_result"
    },
    {
     "data": {
      "image/png": "[encoded data removed]",
      "text/plain": [
       "<Figure size 640x480 with 1 Axes>"
      ]
     },
     "metadata": {},
     "output_type": "display_data"
    }
   ],
   "source": [
    "fig,ax = plt.subplots()\n",
    "\n",
    "ax.plot(fpr,tpr, c = 'dodgerblue')\n",
    "ax.fill_between(fpr,tpr,0, color = 'dodgerblue', alpha = 0.2,\n",
    "                label = f'AUC : {auc_score}')\n",
    "ax.plot([0,1],[0,1], ls = '--')\n",
    "ax.set_ylim([0,1])\n",
    "ax.legend(loc = 'lower right')\n",
    "ax.set_title('XGBoostClassifier ROC_CURVE')"
   ]
  },
  {
   "cell_type": "markdown",
   "id": "7d850327",
   "metadata": {
    "papermill": {
     "duration": 0.012639,
     "end_time": "2023-04-09T03:48:00.843771",
     "exception": false,
     "start_time": "2023-04-09T03:48:00.831132",
     "status": "completed"
    },
    "tags": []
   },
   "source": [
    "# Submission"
   ]
  },
  {
   "cell_type": "code",
   "execution_count": 19,
   "id": "8a81a4e0",
   "metadata": {
    "execution": {
     "iopub.execute_input": "2023-04-09T03:48:00.871479Z",
     "iopub.status.busy": "2023-04-09T03:48:00.871136Z",
     "iopub.status.idle": "2023-04-09T03:48:01.823916Z",
     "shell.execute_reply": "2023-04-09T03:48:01.822897Z"
    },
    "papermill": {
     "duration": 0.969628,
     "end_time": "2023-04-09T03:48:01.826310",
     "exception": false,
     "start_time": "2023-04-09T03:48:00.856682",
     "status": "completed"
    },
    "tags": []
   },
   "outputs": [],
   "source": [
    "model.fit(X,Y) #Train.csv\n",
    "proba = model.predict_proba(test.drop('id',axis = 1))[:,1]"
   ]
  },
  {
   "cell_type": "code",
   "execution_count": 20,
   "id": "55b73d52",
   "metadata": {
    "execution": {
     "iopub.execute_input": "2023-04-09T03:48:01.854476Z",
     "iopub.status.busy": "2023-04-09T03:48:01.854058Z",
     "iopub.status.idle": "2023-04-09T03:48:01.864385Z",
     "shell.execute_reply": "2023-04-09T03:48:01.863423Z"
    },
    "papermill": {
     "duration": 0.02716,
     "end_time": "2023-04-09T03:48:01.866686",
     "exception": false,
     "start_time": "2023-04-09T03:48:01.839526",
     "status": "completed"
    },
    "tags": []
   },
   "outputs": [],
   "source": [
    "sub = pd.read_csv('/kaggle/input/playground-series-s3e12/sample_submission.csv')\n",
    "sub['target'] = proba"
   ]
  },
  {
   "cell_type": "code",
   "execution_count": 21,
   "id": "15c01546",
   "metadata": {
    "execution": {
     "iopub.execute_input": "2023-04-09T03:48:01.896475Z",
     "iopub.status.busy": "2023-04-09T03:48:01.896067Z",
     "iopub.status.idle": "2023-04-09T03:48:01.926526Z",
     "shell.execute_reply": "2023-04-09T03:48:01.925325Z"
    },
    "papermill": {
     "duration": 0.048317,
     "end_time": "2023-04-09T03:48:01.928954",
     "exception": false,
     "start_time": "2023-04-09T03:48:01.880637",
     "status": "completed"
    },
    "tags": []
   },
   "outputs": [
    {
     "data": {
      "text/html": [
       "<div>\n",
       "<style scoped>\n",
       "    .dataframe tbody tr th:only-of-type {\n",
       "        vertical-align: middle;\n",
       "    }\n",
       "\n",
       "    .dataframe tbody tr th {\n",
       "        vertical-align: top;\n",
       "    }\n",
       "\n",
       "    .dataframe thead th {\n",
       "        text-align: right;\n",
       "    }\n",
       "</style>\n",
       "<table border=\"1\" class=\"dataframe\">\n",
       "  <thead>\n",
       "    <tr style=\"text-align: right;\">\n",
       "      <th></th>\n",
       "      <th>id</th>\n",
       "      <th>target</th>\n",
       "    </tr>\n",
       "  </thead>\n",
       "  <tbody>\n",
       "    <tr>\n",
       "      <th>0</th>\n",
       "      <td>414</td>\n",
       "      <td>0.146284</td>\n",
       "    </tr>\n",
       "    <tr>\n",
       "      <th>1</th>\n",
       "      <td>415</td>\n",
       "      <td>0.751430</td>\n",
       "    </tr>\n",
       "    <tr>\n",
       "      <th>2</th>\n",
       "      <td>416</td>\n",
       "      <td>0.875310</td>\n",
       "    </tr>\n",
       "    <tr>\n",
       "      <th>3</th>\n",
       "      <td>417</td>\n",
       "      <td>0.526278</td>\n",
       "    </tr>\n",
       "    <tr>\n",
       "      <th>4</th>\n",
       "      <td>418</td>\n",
       "      <td>0.160539</td>\n",
       "    </tr>\n",
       "    <tr>\n",
       "      <th>...</th>\n",
       "      <td>...</td>\n",
       "      <td>...</td>\n",
       "    </tr>\n",
       "    <tr>\n",
       "      <th>271</th>\n",
       "      <td>685</td>\n",
       "      <td>0.903742</td>\n",
       "    </tr>\n",
       "    <tr>\n",
       "      <th>272</th>\n",
       "      <td>686</td>\n",
       "      <td>0.065855</td>\n",
       "    </tr>\n",
       "    <tr>\n",
       "      <th>273</th>\n",
       "      <td>687</td>\n",
       "      <td>0.735247</td>\n",
       "    </tr>\n",
       "    <tr>\n",
       "      <th>274</th>\n",
       "      <td>688</td>\n",
       "      <td>0.071062</td>\n",
       "    </tr>\n",
       "    <tr>\n",
       "      <th>275</th>\n",
       "      <td>689</td>\n",
       "      <td>0.564842</td>\n",
       "    </tr>\n",
       "  </tbody>\n",
       "</table>\n",
       "<p>276 rows × 2 columns</p>\n",
       "</div>"
      ],
      "text/plain": [
       "      id    target\n",
       "0    414  0.146284\n",
       "1    415  0.751430\n",
       "2    416  0.875310\n",
       "3    417  0.526278\n",
       "4    418  0.160539\n",
       "..   ...       ...\n",
       "271  685  0.903742\n",
       "272  686  0.065855\n",
       "273  687  0.735247\n",
       "274  688  0.071062\n",
       "275  689  0.564842\n",
       "\n",
       "[276 rows x 2 columns]"
      ]
     },
     "execution_count": 21,
     "metadata": {},
     "output_type": "execute_result"
    }
   ],
   "source": [
    "sub.to_csv('submission.csv',index = False)\n",
    "\n",
    "pd.read_csv('submission.csv')"
   ]
  }
 ],
 "metadata": {
  "kernelspec": {
   "display_name": "Python 3",
   "language": "python",
   "name": "python3"
  },
  "language_info": {
   "codemirror_mode": {
    "name": "ipython",
    "version": 3
   },
   "file_extension": ".py",
   "mimetype": "text/x-python",
   "name": "python",
   "nbconvert_exporter": "python",
   "pygments_lexer": "ipython3",
   "version": "3.7.12"
  },
  "papermill": {
   "default_parameters": {},
   "duration": 70.373139,
   "end_time": "2023-04-09T03:48:02.766636",
   "environment_variables": {},
   "exception": null,
   "input_path": "__notebook__.ipynb",
   "output_path": "__notebook__.ipynb",
   "parameters": {},
   "start_time": "2023-04-09T03:46:52.393497",
   "version": "2.4.0"
  }
 },
 "nbformat": 4,
 "nbformat_minor": 5
}

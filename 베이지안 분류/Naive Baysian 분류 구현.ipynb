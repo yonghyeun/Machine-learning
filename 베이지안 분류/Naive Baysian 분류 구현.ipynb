{
 "cells": [
  {
   "attachments": {},
   "cell_type": "markdown",
   "metadata": {},
   "source": [
    "# **Naive baysianClassifier**"
   ]
  },
  {
   "cell_type": "code",
   "execution_count": 338,
   "metadata": {},
   "outputs": [],
   "source": [
    "from pprint import pprint"
   ]
  },
  {
   "cell_type": "code",
   "execution_count": 339,
   "metadata": {},
   "outputs": [],
   "source": [
    "# 가상의 email 환경 설정 \n",
    "\n",
    "email = {\n",
    "    'normal':{\n",
    "                'total':12,\n",
    "                '친애하는':6,\n",
    "                '식사':8,\n",
    "                '월급':5,\n",
    "                '대출':2,\n",
    "                '회식':5},\n",
    "    'spam':{\n",
    "        'total':8,\n",
    "        '친애하는':3,\n",
    "        '식사':0,\n",
    "        '월급':4,\n",
    "        '대출':12,\n",
    "        '회식':3\n",
    "    }\n",
    "}\n"
   ]
  },
  {
   "cell_type": "code",
   "execution_count": 340,
   "metadata": {},
   "outputs": [],
   "source": [
    "class NaiveBaysian:\n",
    "    \n",
    "    def __init__(self,email):\n",
    "        \n",
    "        self.email = email\n",
    "        \n",
    "    def prior(self):\n",
    "        \n",
    "        '''\n",
    "        사전 확률을 계산하는 메소드\n",
    "        사전 확률을 전체 빈도 중 사건의 빈도수로 설정했다\n",
    "        '''\n",
    "        total = self.email['normal']['total'] + self.email['spam']['total']\n",
    "        \n",
    "        normal_prob = round(self.email['normal']['total'] / total,2)\n",
    "        spam_prob = round(self.email['spam']['total'] / total,2)\n",
    "        \n",
    "        \n",
    "        self.prior_prob = {'normal' : normal_prob,\n",
    "                            'spam': spam_prob}\n",
    "        \n",
    "        pprint(self.prior_prob)\n",
    "        \n",
    "    def likelihood(self,S,y,value):\n",
    "        '''\n",
    "        어떤 사건 A 가 일어났을 때 사건 B가 일어날 확률\n",
    "        예를 들어 이메일이 Normal 이면서 value 가 발생할 확률\n",
    "        '''\n",
    "        return S[y][value] / S[y]['total']\n",
    "    \n",
    "    def update(self,alpha):\n",
    "        \n",
    "        print('업데이트 이전')\n",
    "        pprint(self.email)\n",
    "        print('')\n",
    "        \n",
    "        for key in self.email.keys():\n",
    "            for value in self.email[key].keys():\n",
    "                if value != 'total':\n",
    "                    self.email[key][value] += alpha \n",
    "    \n",
    "        print('업데이트 이후')\n",
    "        pprint(self.email)\n",
    "\n",
    "        \n",
    "    def fit(self,items):\n",
    "        \n",
    "        self.items = items\n",
    "        \n",
    "        total_post_prob = {}\n",
    "        notations = {}\n",
    "        for key in self.email.keys():\n",
    "            \n",
    "\n",
    "            post_probability = self.prior_prob[key] # 초기 사후 확률을 사전 확률로 설정 \n",
    "            \n",
    "            notation = f'사전확률({self.prior_prob[key]})'\n",
    "            \n",
    "            for item in self.items:\n",
    "                \n",
    "                L = self.likelihood(S = self.email,\n",
    "                                y = key,\n",
    "                                value = item)\n",
    "\n",
    "\n",
    "                post_probability *= L \n",
    "                \n",
    "                notation += f'* {item}({round(L,2)})'\n",
    "                \n",
    "                # 정규화\n",
    "                total_post_prob[key] = post_probability\n",
    "                \n",
    "            notations[key] = notation\n",
    "                \n",
    "                \n",
    "        for key in self.email.keys():\n",
    "            # 정규화\n",
    "            post_probability = total_post_prob[key] / sum(total_post_prob.values())\n",
    "            print(f'{key} 의 사후확률 추정 식: {notations[key]}')\n",
    "            print(f'{key} 일 사후확률 : {round(post_probability,3)}')\n",
    "            print('')"
   ]
  },
  {
   "cell_type": "code",
   "execution_count": 341,
   "metadata": {},
   "outputs": [],
   "source": [
    "# 예를 들어 이런 메일이 왔다고 가정 해보자 \n",
    "\n",
    "example = ['친애하는','월급','회식']\n",
    "\n",
    "# 해당 이메일은 일반 메일일까, 스팸 메일일까 ? "
   ]
  },
  {
   "cell_type": "code",
   "execution_count": 342,
   "metadata": {},
   "outputs": [
    {
     "name": "stdout",
     "output_type": "stream",
     "text": [
      "{'normal': 0.6, 'spam': 0.4}\n"
     ]
    }
   ],
   "source": [
    "naive = NaiveBaysian(email)\n",
    "# 사전 확률\n",
    "naive.prior()"
   ]
  },
  {
   "cell_type": "code",
   "execution_count": 343,
   "metadata": {},
   "outputs": [
    {
     "name": "stdout",
     "output_type": "stream",
     "text": [
      "normal 의 사후확률 추정 식: 사전확률(0.6)* 친애하는(0.5)* 월급(0.42)* 회식(0.42)\n",
      "normal 일 사후확률 : 0.649\n",
      "\n",
      "spam 의 사후확률 추정 식: 사전확률(0.4)* 친애하는(0.38)* 월급(0.5)* 회식(0.38)\n",
      "spam 일 사후확률 : 0.351\n",
      "\n"
     ]
    }
   ],
   "source": [
    "naive.fit(example)"
   ]
  },
  {
   "cell_type": "code",
   "execution_count": 344,
   "metadata": {},
   "outputs": [
    {
     "name": "stdout",
     "output_type": "stream",
     "text": [
      "normal 의 사후확률 추정 식: 사전확률(0.6)* 월급(0.42)* 대출(0.17)* 대출(0.17)* 식사(0.67)\n",
      "normal 일 사후확률 : 1.0\n",
      "\n",
      "spam 의 사후확률 추정 식: 사전확률(0.4)* 월급(0.5)* 대출(1.5)* 대출(1.5)* 식사(0.0)\n",
      "spam 일 사후확률 : 0.0\n",
      "\n"
     ]
    }
   ],
   "source": [
    "# 만약 spam 에는 없는 단어가 발생한다면 어떻게 될까 ? \n",
    "\n",
    "example_2 = ['월급','대출','대출', '식사']\n",
    "\n",
    "naive.fit(example_2)"
   ]
  },
  {
   "cell_type": "code",
   "execution_count": 345,
   "metadata": {},
   "outputs": [
    {
     "name": "stdout",
     "output_type": "stream",
     "text": [
      "업데이트 이전\n",
      "{'normal': {'total': 12, '대출': 2, '식사': 8, '월급': 5, '친애하는': 6, '회식': 5},\n",
      " 'spam': {'total': 8, '대출': 12, '식사': 0, '월급': 4, '친애하는': 3, '회식': 3}}\n",
      "\n",
      "업데이트 이후\n",
      "{'normal': {'total': 12, '대출': 3, '식사': 9, '월급': 6, '친애하는': 7, '회식': 6},\n",
      " 'spam': {'total': 8, '대출': 13, '식사': 1, '월급': 5, '친애하는': 4, '회식': 4}}\n"
     ]
    }
   ],
   "source": [
    "# spam 에서는 식사라는 단어의 빈도가 발생한 적 없기 때문에 확률값을 곱할 때 0이 곱해져 spam 일 확률이 0이 되어버린다.\n",
    "\n",
    "# 특정값 alpah 를 모든 빈도에 더해주자 \n",
    "\n",
    "alpha = 1 # 현재 더해줄 값은 1로 설정하겠다.\n",
    "\n",
    "naive.update(alpha = alpha)"
   ]
  },
  {
   "cell_type": "code",
   "execution_count": 346,
   "metadata": {},
   "outputs": [
    {
     "name": "stdout",
     "output_type": "stream",
     "text": [
      "['월급', '대출', '대출', '식사']\n",
      "\n",
      "normal 의 사후확률 추정 식: 사전확률(0.6)* 월급(0.5)* 대출(0.25)* 대출(0.25)* 식사(0.75)\n",
      "normal 일 사후확률 : 0.146\n",
      "\n",
      "spam 의 사후확률 추정 식: 사전확률(0.4)* 월급(0.62)* 대출(1.62)* 대출(1.62)* 식사(0.12)\n",
      "spam 일 사후확률 : 0.854\n",
      "\n"
     ]
    }
   ],
   "source": [
    "# 전체에 똑같은 값을 더해줬기 때문에 사전 확률 및 학습 과정에선 크게 영향을 미치지 않는다.\n",
    "print(example_2,end = '\\n\\n')\n",
    "naive.fit(example_2)"
   ]
  },
  {
   "cell_type": "code",
   "execution_count": 347,
   "metadata": {},
   "outputs": [],
   "source": [
    "import numpy as np"
   ]
  },
  {
   "cell_type": "code",
   "execution_count": 348,
   "metadata": {},
   "outputs": [
    {
     "data": {
      "text/plain": [
       "1.3359269400834983"
      ]
     },
     "execution_count": 348,
     "metadata": {},
     "output_type": "execute_result"
    }
   ],
   "source": [
    "np.random.randn()"
   ]
  }
 ],
 "metadata": {
  "kernelspec": {
   "display_name": "base",
   "language": "python",
   "name": "python3"
  },
  "language_info": {
   "codemirror_mode": {
    "name": "ipython",
    "version": 3
   },
   "file_extension": ".py",
   "mimetype": "text/x-python",
   "name": "python",
   "nbconvert_exporter": "python",
   "pygments_lexer": "ipython3",
   "version": "3.9.13"
  },
  "orig_nbformat": 4
 },
 "nbformat": 4,
 "nbformat_minor": 2
}

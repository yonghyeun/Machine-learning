{
 "cells": [
  {
   "cell_type": "code",
   "execution_count": 5,
   "id": "044437ec",
   "metadata": {
    "execution": {
     "iopub.execute_input": "2023-04-09T03:47:01.243276Z",
     "iopub.status.busy": "2023-04-09T03:47:01.242636Z",
     "iopub.status.idle": "2023-04-09T03:47:02.907856Z",
     "shell.execute_reply": "2023-04-09T03:47:02.906568Z"
    },
    "papermill": {
     "duration": 1.676287,
     "end_time": "2023-04-09T03:47:02.910637",
     "exception": false,
     "start_time": "2023-04-09T03:47:01.234350",
     "status": "completed"
    },
    "tags": []
   },
   "outputs": [],
   "source": [
    "import pandas as pd\n",
    "import matplotlib.pyplot as plt \n",
    "from sklearn.model_selection import train_test_split,GridSearchCV\n",
    "from sklearn.metrics import roc_curve, roc_auc_score\n",
    "from xgboost import XGBClassifier\n",
    "import warnings \n",
    "import optuna\n",
    "from optuna import Trial, visualization\n",
    "from optuna.samplers import TPESampler"
   ]
  },
  {
   "cell_type": "code",
   "execution_count": 6,
   "id": "52ece0fd",
   "metadata": {
    "execution": {
     "iopub.execute_input": "2023-04-09T03:47:02.924309Z",
     "iopub.status.busy": "2023-04-09T03:47:02.923851Z",
     "iopub.status.idle": "2023-04-09T03:47:02.930005Z",
     "shell.execute_reply": "2023-04-09T03:47:02.928419Z"
    },
    "papermill": {
     "duration": 0.015978,
     "end_time": "2023-04-09T03:47:02.932389",
     "exception": false,
     "start_time": "2023-04-09T03:47:02.916411",
     "status": "completed"
    },
    "tags": []
   },
   "outputs": [],
   "source": [
    "warnings.filterwarnings(action = 'ignore')"
   ]
  },
  {
   "cell_type": "code",
   "execution_count": 7,
   "id": "16d0dd3f",
   "metadata": {
    "execution": {
     "iopub.execute_input": "2023-04-09T03:47:02.946410Z",
     "iopub.status.busy": "2023-04-09T03:47:02.945972Z",
     "iopub.status.idle": "2023-04-09T03:47:02.971962Z",
     "shell.execute_reply": "2023-04-09T03:47:02.971040Z"
    },
    "papermill": {
     "duration": 0.036858,
     "end_time": "2023-04-09T03:47:02.975026",
     "exception": false,
     "start_time": "2023-04-09T03:47:02.938168",
     "status": "completed"
    },
    "tags": []
   },
   "outputs": [],
   "source": [
    "train = pd.read_csv('C:/Users/whileduck/Downloads/playground-series-s3e12/train.csv')\n",
    "test = pd.read_csv('C:/Users/whileduck/Downloads/playground-series-s3e12/test.csv')"
   ]
  },
  {
   "cell_type": "code",
   "execution_count": 8,
   "id": "a9f07d02",
   "metadata": {
    "execution": {
     "iopub.execute_input": "2023-04-09T03:47:02.987995Z",
     "iopub.status.busy": "2023-04-09T03:47:02.987633Z",
     "iopub.status.idle": "2023-04-09T03:47:02.993328Z",
     "shell.execute_reply": "2023-04-09T03:47:02.992008Z"
    },
    "papermill": {
     "duration": 0.014991,
     "end_time": "2023-04-09T03:47:02.996037",
     "exception": false,
     "start_time": "2023-04-09T03:47:02.981046",
     "status": "completed"
    },
    "tags": []
   },
   "outputs": [],
   "source": [
    "df = train.copy()"
   ]
  },
  {
   "cell_type": "code",
   "execution_count": 9,
   "id": "168f5975",
   "metadata": {
    "execution": {
     "iopub.execute_input": "2023-04-09T03:47:03.009671Z",
     "iopub.status.busy": "2023-04-09T03:47:03.009008Z",
     "iopub.status.idle": "2023-04-09T03:47:03.024022Z",
     "shell.execute_reply": "2023-04-09T03:47:03.022406Z"
    },
    "papermill": {
     "duration": 0.025082,
     "end_time": "2023-04-09T03:47:03.026663",
     "exception": false,
     "start_time": "2023-04-09T03:47:03.001581",
     "status": "completed"
    },
    "tags": []
   },
   "outputs": [],
   "source": [
    "X = df.drop(['id','target'],axis = 1)\n",
    "Y = df['target']"
   ]
  },
  {
   "cell_type": "code",
   "execution_count": 10,
   "id": "7ed44302",
   "metadata": {
    "execution": {
     "iopub.execute_input": "2023-04-09T03:47:03.040382Z",
     "iopub.status.busy": "2023-04-09T03:47:03.039970Z",
     "iopub.status.idle": "2023-04-09T03:47:03.048580Z",
     "shell.execute_reply": "2023-04-09T03:47:03.047837Z"
    },
    "papermill": {
     "duration": 0.01866,
     "end_time": "2023-04-09T03:47:03.051301",
     "exception": false,
     "start_time": "2023-04-09T03:47:03.032641",
     "status": "completed"
    },
    "tags": []
   },
   "outputs": [],
   "source": [
    "x_train,x_test,y_train,y_test = train_test_split(X,Y,stratify = Y, test_size = 0.2, random_state = 42)"
   ]
  },
  {
   "cell_type": "markdown",
   "id": "db1e5e98",
   "metadata": {
    "papermill": {
     "duration": 0.005347,
     "end_time": "2023-04-09T03:47:03.062435",
     "exception": false,
     "start_time": "2023-04-09T03:47:03.057088",
     "status": "completed"
    },
    "tags": []
   },
   "source": [
    "# Optuna\n",
    "\n",
    "### Optuna is a hyperparameter optimization framework that allows you to optimize machine learning models by tuning their hyperparameters. XGBoostClassifier can be used with Optuna to find the optimal values of its hyperparameters."
   ]
  },
  {
   "cell_type": "code",
   "execution_count": 11,
   "id": "711dfe2f",
   "metadata": {
    "execution": {
     "iopub.execute_input": "2023-04-09T03:47:03.075598Z",
     "iopub.status.busy": "2023-04-09T03:47:03.075072Z",
     "iopub.status.idle": "2023-04-09T03:47:03.082790Z",
     "shell.execute_reply": "2023-04-09T03:47:03.081523Z"
    },
    "papermill": {
     "duration": 0.017273,
     "end_time": "2023-04-09T03:47:03.085291",
     "exception": false,
     "start_time": "2023-04-09T03:47:03.068018",
     "status": "completed"
    },
    "tags": []
   },
   "outputs": [],
   "source": [
    "def objective(trial):\n",
    "    # Define the hyperparameters to be optimized by Optuna\n",
    "    param = {\n",
    "        'objective': 'binary:logistic',\n",
    "        'n_estimators': trial.suggest_int('n_estimators', 100, 1000),\n",
    "        'learning_rate': trial.suggest_loguniform('learning_rate', 1e-4, 1e-1),\n",
    "        'max_depth': trial.suggest_int('max_depth', 3, 10),\n",
    "        'min_child_weight': trial.suggest_int('min_child_weight', 1, 10),\n",
    "        'subsample': trial.suggest_float('subsample', 0.1, 1.0),\n",
    "        'colsample_bytree': trial.suggest_float('colsample_bytree', 0.1, 1.0),\n",
    "        'gamma': trial.suggest_loguniform('gamma', 1e-8, 1.0),\n",
    "        'reg_alpha': trial.suggest_loguniform('reg_alpha', 1e-8, 1.0),\n",
    "        'reg_lambda': trial.suggest_loguniform('reg_lambda', 1e-8, 1.0),\n",
    "        'random_state': 42\n",
    "    }\n",
    "    \n",
    "    # Create and train the XGBoostClassifier model with the sampled hyperparameters\n",
    "    model = XGBClassifier(**param)\n",
    "    model.fit(x_train, y_train)\n",
    "    \n",
    "    # Compute the AUC score on the test set\n",
    "    score = roc_auc_score(y_test, model.predict_proba(x_test)[:,1])\n",
    "    \n",
    "    return score"
   ]
  },
  {
   "cell_type": "code",
   "execution_count": 12,
   "id": "4f6e2e91",
   "metadata": {
    "execution": {
     "iopub.execute_input": "2023-04-09T03:47:03.100035Z",
     "iopub.status.busy": "2023-04-09T03:47:03.099076Z",
     "iopub.status.idle": "2023-04-09T03:47:56.067633Z",
     "shell.execute_reply": "2023-04-09T03:47:56.066524Z"
    },
    "papermill": {
     "duration": 52.978156,
     "end_time": "2023-04-09T03:47:56.069730",
     "exception": false,
     "start_time": "2023-04-09T03:47:03.091574",
     "status": "completed"
    },
    "tags": []
   },
   "outputs": [
    {
     "name": "stderr",
     "output_type": "stream",
     "text": [
      "\u001b[32m[I 2023-04-09 15:11:06,344]\u001b[0m A new study created in memory with name: no-name-c9a9c2c7-a51b-4b95-b0ad-5c06f2182499\u001b[0m\n",
      "\u001b[32m[I 2023-04-09 15:11:06,562]\u001b[0m Trial 0 finished with value: 0.7364864864864865 and parameters: {'n_estimators': 605, 'learning_rate': 0.0005181413411290862, 'max_depth': 6, 'min_child_weight': 10, 'subsample': 0.23117891442045532, 'colsample_bytree': 0.6623149030208159, 'gamma': 0.07300956912381103, 'reg_alpha': 0.0885563544648004, 'reg_lambda': 0.011078960713779534}. Best is trial 0 with value: 0.7364864864864865.\u001b[0m\n",
      "\u001b[32m[I 2023-04-09 15:11:06,746]\u001b[0m Trial 1 finished with value: 0.7708578143360753 and parameters: {'n_estimators': 374, 'learning_rate': 0.017882676486466208, 'max_depth': 4, 'min_child_weight': 2, 'subsample': 0.23417692918377786, 'colsample_bytree': 0.20871230387450762, 'gamma': 0.009504213852402011, 'reg_alpha': 1.5061567922186324e-06, 'reg_lambda': 2.5291511885305995e-06}. Best is trial 1 with value: 0.7708578143360753.\u001b[0m\n",
      "\u001b[32m[I 2023-04-09 15:11:06,898]\u001b[0m Trial 2 finished with value: 0.7643948296122208 and parameters: {'n_estimators': 376, 'learning_rate': 0.022963023935020938, 'max_depth': 8, 'min_child_weight': 5, 'subsample': 0.29018076720810815, 'colsample_bytree': 0.26886424423555005, 'gamma': 1.296878990833968e-06, 'reg_alpha': 0.013583620087837563, 'reg_lambda': 5.0469411338748304e-08}. Best is trial 1 with value: 0.7708578143360753.\u001b[0m\n",
      "\u001b[32m[I 2023-04-09 15:11:07,017]\u001b[0m Trial 3 finished with value: 0.7867215041128085 and parameters: {'n_estimators': 214, 'learning_rate': 0.015968184363725834, 'max_depth': 7, 'min_child_weight': 8, 'subsample': 0.6831101426416163, 'colsample_bytree': 0.9823911186345192, 'gamma': 0.17622599937555278, 'reg_alpha': 6.113967788774868e-08, 'reg_lambda': 2.2738739791359034e-07}. Best is trial 3 with value: 0.7867215041128085.\u001b[0m\n",
      "\u001b[32m[I 2023-04-09 15:11:07,151]\u001b[0m Trial 4 finished with value: 0.782021151586369 and parameters: {'n_estimators': 168, 'learning_rate': 0.002301731242640459, 'max_depth': 10, 'min_child_weight': 5, 'subsample': 0.87503349127509, 'colsample_bytree': 0.8096254449182047, 'gamma': 6.392320566806328e-07, 'reg_alpha': 0.0656236988031284, 'reg_lambda': 0.00514276301773654}. Best is trial 3 with value: 0.7867215041128085.\u001b[0m\n",
      "\u001b[32m[I 2023-04-09 15:11:07,261]\u001b[0m Trial 5 finished with value: 0.7837837837837839 and parameters: {'n_estimators': 187, 'learning_rate': 0.0005261483259702718, 'max_depth': 7, 'min_child_weight': 5, 'subsample': 0.5754483653001712, 'colsample_bytree': 0.806723739032277, 'gamma': 0.000755973625534084, 'reg_alpha': 4.7049617371706455e-07, 'reg_lambda': 0.049105234206403885}. Best is trial 3 with value: 0.7867215041128085.\u001b[0m\n",
      "\u001b[32m[I 2023-04-09 15:11:07,703]\u001b[0m Trial 6 finished with value: 0.7749706227967098 and parameters: {'n_estimators': 903, 'learning_rate': 0.000194682310460768, 'max_depth': 7, 'min_child_weight': 3, 'subsample': 0.2115096745655754, 'colsample_bytree': 0.5103370498945802, 'gamma': 0.029720616134359865, 'reg_alpha': 9.374702759656133e-07, 'reg_lambda': 0.0021473401630025995}. Best is trial 3 with value: 0.7867215041128085.\u001b[0m\n",
      "\u001b[32m[I 2023-04-09 15:11:07,997]\u001b[0m Trial 7 finished with value: 0.745005875440658 and parameters: {'n_estimators': 750, 'learning_rate': 0.005174727881795693, 'max_depth': 6, 'min_child_weight': 7, 'subsample': 0.35482073619236854, 'colsample_bytree': 0.12983374501108344, 'gamma': 7.054505915940924e-07, 'reg_alpha': 0.019704094856011125, 'reg_lambda': 9.864815299694575e-08}. Best is trial 3 with value: 0.7867215041128085.\u001b[0m\n",
      "\u001b[32m[I 2023-04-09 15:11:08,204]\u001b[0m Trial 8 finished with value: 0.7561692126909518 and parameters: {'n_estimators': 255, 'learning_rate': 0.001762537414557478, 'max_depth': 7, 'min_child_weight': 1, 'subsample': 0.24380803816063312, 'colsample_bytree': 0.2175535270276097, 'gamma': 0.005850939903678994, 'reg_alpha': 0.022308121137544566, 'reg_lambda': 6.205904971632868e-06}. Best is trial 3 with value: 0.7867215041128085.\u001b[0m\n",
      "\u001b[32m[I 2023-04-09 15:11:08,644]\u001b[0m Trial 9 finished with value: 0.7749706227967098 and parameters: {'n_estimators': 845, 'learning_rate': 0.06001444052368202, 'max_depth': 3, 'min_child_weight': 3, 'subsample': 0.6832434862454289, 'colsample_bytree': 0.6653831858964739, 'gamma': 1.6306042787166946e-08, 'reg_alpha': 0.0002043988984595776, 'reg_lambda': 0.007580888706390847}. Best is trial 3 with value: 0.7867215041128085.\u001b[0m\n",
      "\u001b[32m[I 2023-04-09 15:11:08,931]\u001b[0m Trial 10 finished with value: 0.7758519388954173 and parameters: {'n_estimators': 521, 'learning_rate': 0.07213051185464665, 'max_depth': 10, 'min_child_weight': 9, 'subsample': 0.9548700034647555, 'colsample_bytree': 0.9874524530239217, 'gamma': 0.43939518940136413, 'reg_alpha': 1.2531975774644669e-08, 'reg_lambda': 0.3975968401077895}. Best is trial 3 with value: 0.7867215041128085.\u001b[0m\n",
      "\u001b[32m[I 2023-04-09 15:11:09,021]\u001b[0m Trial 11 finished with value: 0.782608695652174 and parameters: {'n_estimators': 117, 'learning_rate': 0.0001573755940013171, 'max_depth': 8, 'min_child_weight': 7, 'subsample': 0.5811654302511138, 'colsample_bytree': 0.9905108639549798, 'gamma': 0.00043321981666203556, 'reg_alpha': 1.1214593216757406e-08, 'reg_lambda': 6.452721893728954e-05}. Best is trial 3 with value: 0.7867215041128085.\u001b[0m\n",
      "\u001b[32m[I 2023-04-09 15:11:09,279]\u001b[0m Trial 12 finished with value: 0.786427732079906 and parameters: {'n_estimators': 319, 'learning_rate': 0.0005730901938693053, 'max_depth': 5, 'min_child_weight': 7, 'subsample': 0.7044823724475608, 'colsample_bytree': 0.8567913828183225, 'gamma': 0.8327357677088492, 'reg_alpha': 3.7279910585627464e-07, 'reg_lambda': 1.1380300765335809e-08}. Best is trial 3 with value: 0.7867215041128085.\u001b[0m\n",
      "\u001b[32m[I 2023-04-09 15:11:09,486]\u001b[0m Trial 13 finished with value: 0.786427732079906 and parameters: {'n_estimators': 314, 'learning_rate': 0.007298520305399412, 'max_depth': 5, 'min_child_weight': 8, 'subsample': 0.7391709315814511, 'colsample_bytree': 0.8805383108419197, 'gamma': 0.6950075100435472, 'reg_alpha': 2.1756803971207354e-07, 'reg_lambda': 1.1725387277859025e-08}. Best is trial 3 with value: 0.7867215041128085.\u001b[0m\n",
      "\u001b[32m[I 2023-04-09 15:11:09,783]\u001b[0m Trial 14 finished with value: 0.7896592244418332 and parameters: {'n_estimators': 500, 'learning_rate': 0.0012279029492335597, 'max_depth': 5, 'min_child_weight': 7, 'subsample': 0.7699808028267445, 'colsample_bytree': 0.9872913290261001, 'gamma': 0.4635752614872781, 'reg_alpha': 1.8593660804537902e-05, 'reg_lambda': 1.7499613061605308e-07}. Best is trial 14 with value: 0.7896592244418332.\u001b[0m\n",
      "\u001b[32m[I 2023-04-09 15:11:09,987]\u001b[0m Trial 15 finished with value: 0.7861339600470035 and parameters: {'n_estimators': 528, 'learning_rate': 0.009508438839778817, 'max_depth': 3, 'min_child_weight': 10, 'subsample': 0.4279472372150424, 'colsample_bytree': 0.9831485064438904, 'gamma': 0.07046740207153576, 'reg_alpha': 2.230959483402095e-05, 'reg_lambda': 2.0531893508219538e-06}. Best is trial 14 with value: 0.7896592244418332.\u001b[0m\n",
      "\u001b[32m[I 2023-04-09 15:11:10,353]\u001b[0m Trial 16 finished with value: 0.7843713278495887 and parameters: {'n_estimators': 621, 'learning_rate': 0.003252574288895205, 'max_depth': 5, 'min_child_weight': 8, 'subsample': 0.8301222619299816, 'colsample_bytree': 0.7223904528338214, 'gamma': 0.0017189207193683835, 'reg_alpha': 0.0002014617879342441, 'reg_lambda': 2.6652765234383275e-07}. Best is trial 14 with value: 0.7896592244418332.\u001b[0m\n",
      "\u001b[32m[I 2023-04-09 15:11:10,698]\u001b[0m Trial 17 finished with value: 0.7755581668625148 and parameters: {'n_estimators': 463, 'learning_rate': 0.0013153527701411359, 'max_depth': 9, 'min_child_weight': 6, 'subsample': 0.9830599951775666, 'colsample_bytree': 0.9017643906934047, 'gamma': 7.586995361700933e-05, 'reg_alpha': 1.774962547299068e-05, 'reg_lambda': 3.68449667997456e-07}. Best is trial 14 with value: 0.7896592244418332.\u001b[0m\n",
      "\u001b[32m[I 2023-04-09 15:11:10,974]\u001b[0m Trial 18 finished with value: 0.7749706227967097 and parameters: {'n_estimators': 705, 'learning_rate': 0.017661391272984907, 'max_depth': 4, 'min_child_weight': 9, 'subsample': 0.487942244048013, 'colsample_bytree': 0.5310084359684936, 'gamma': 0.12983711997513575, 'reg_alpha': 0.0010439857624881662, 'reg_lambda': 4.5439452655005584e-05}. Best is trial 14 with value: 0.7896592244418332.\u001b[0m\n",
      "\u001b[32m[I 2023-04-09 15:11:11,126]\u001b[0m Trial 19 finished with value: 0.7690951821386603 and parameters: {'n_estimators': 436, 'learning_rate': 0.003731815231743747, 'max_depth': 8, 'min_child_weight': 6, 'subsample': 0.1307786838988979, 'colsample_bytree': 0.9175854039136856, 'gamma': 0.02155476739098728, 'reg_alpha': 0.7376954485496894, 'reg_lambda': 1.1154715192746789e-06}. Best is trial 14 with value: 0.7896592244418332.\u001b[0m\n",
      "\u001b[32m[I 2023-04-09 15:11:11,336]\u001b[0m Trial 20 finished with value: 0.7914218566392479 and parameters: {'n_estimators': 235, 'learning_rate': 0.008383728571258405, 'max_depth': 6, 'min_child_weight': 4, 'subsample': 0.778917120529533, 'colsample_bytree': 0.7736277544057414, 'gamma': 0.14098397420095074, 'reg_alpha': 3.9539958393725975e-06, 'reg_lambda': 6.190709320745918e-06}. Best is trial 20 with value: 0.7914218566392479.\u001b[0m\n",
      "\u001b[32m[I 2023-04-09 15:11:11,532]\u001b[0m Trial 21 finished with value: 0.7931844888366627 and parameters: {'n_estimators': 237, 'learning_rate': 0.007604848401738732, 'max_depth': 6, 'min_child_weight': 4, 'subsample': 0.7740990665137183, 'colsample_bytree': 0.9998599287037884, 'gamma': 0.19606320389480225, 'reg_alpha': 1.268020167504971e-05, 'reg_lambda': 2.2737905259849144e-05}. Best is trial 21 with value: 0.7931844888366627.\u001b[0m\n",
      "\u001b[32m[I 2023-04-09 15:11:11,641]\u001b[0m Trial 22 finished with value: 0.7861339600470035 and parameters: {'n_estimators': 104, 'learning_rate': 0.006619283210859625, 'max_depth': 6, 'min_child_weight': 4, 'subsample': 0.8046870087254365, 'colsample_bytree': 0.7857351303147183, 'gamma': 0.9511913086335095, 'reg_alpha': 4.3548309263379305e-06, 'reg_lambda': 1.454458257703188e-05}. Best is trial 21 with value: 0.7931844888366627.\u001b[0m\n",
      "\u001b[32m[I 2023-04-09 15:11:11,821]\u001b[0m Trial 23 finished with value: 0.7826086956521738 and parameters: {'n_estimators': 267, 'learning_rate': 0.0013326671218615192, 'max_depth': 4, 'min_child_weight': 4, 'subsample': 0.8948899909040032, 'colsample_bytree': 0.9088867560506497, 'gamma': 0.1132262019689867, 'reg_alpha': 1.0124914675403791e-05, 'reg_lambda': 0.00042360264868708525}. Best is trial 21 with value: 0.7931844888366627.\u001b[0m\n",
      "\u001b[32m[I 2023-04-09 15:11:12,106]\u001b[0m Trial 24 finished with value: 0.7867215041128084 and parameters: {'n_estimators': 400, 'learning_rate': 0.0034561448525368683, 'max_depth': 5, 'min_child_weight': 4, 'subsample': 0.773581262562495, 'colsample_bytree': 0.7524510150947814, 'gamma': 0.0191083681440803, 'reg_alpha': 6.0140849356863355e-05, 'reg_lambda': 1.7695027408383237e-05}. Best is trial 21 with value: 0.7931844888366627.\u001b[0m\n",
      "\u001b[32m[I 2023-04-09 15:11:12,376]\u001b[0m Trial 25 finished with value: 0.7984723854289072 and parameters: {'n_estimators': 286, 'learning_rate': 0.010443088991717638, 'max_depth': 6, 'min_child_weight': 3, 'subsample': 0.6282148375259187, 'colsample_bytree': 0.8364567968576023, 'gamma': 0.005182276770900198, 'reg_alpha': 4.325901279824105e-06, 'reg_lambda': 0.00023374524675780692}. Best is trial 25 with value: 0.7984723854289072.\u001b[0m\n",
      "\u001b[32m[I 2023-04-09 15:11:12,643]\u001b[0m Trial 26 finished with value: 0.7978848413631022 and parameters: {'n_estimators': 281, 'learning_rate': 0.011259857741475993, 'max_depth': 6, 'min_child_weight': 2, 'subsample': 0.6315585739387621, 'colsample_bytree': 0.8632723655284428, 'gamma': 0.0035412573664620095, 'reg_alpha': 3.7783455996007795e-06, 'reg_lambda': 0.00016384176875133125}. Best is trial 25 with value: 0.7984723854289072.\u001b[0m\n",
      "\u001b[32m[I 2023-04-09 15:11:13,446]\u001b[0m Trial 27 finished with value: 0.7867215041128085 and parameters: {'n_estimators': 1000, 'learning_rate': 0.03154361513331083, 'max_depth': 6, 'min_child_weight': 1, 'subsample': 0.6189616311700019, 'colsample_bytree': 0.8483380803098052, 'gamma': 0.004981720659041396, 'reg_alpha': 3.5655520805133837e-06, 'reg_lambda': 0.00038154708950912503}. Best is trial 25 with value: 0.7984723854289072.\u001b[0m\n",
      "\u001b[32m[I 2023-04-09 15:11:13,783]\u001b[0m Trial 28 finished with value: 0.800235017626322 and parameters: {'n_estimators': 303, 'learning_rate': 0.0113228848645017, 'max_depth': 8, 'min_child_weight': 2, 'subsample': 0.644193101069856, 'colsample_bytree': 0.9184018177345786, 'gamma': 0.003716113001966167, 'reg_alpha': 6.52975464514439e-05, 'reg_lambda': 0.00020713149862328678}. Best is trial 28 with value: 0.800235017626322.\u001b[0m\n",
      "\u001b[32m[I 2023-04-09 15:11:14,085]\u001b[0m Trial 29 finished with value: 0.8090481786133961 and parameters: {'n_estimators': 322, 'learning_rate': 0.012098454133558293, 'max_depth': 9, 'min_child_weight': 2, 'subsample': 0.5186771401198558, 'colsample_bytree': 0.7021207973668708, 'gamma': 0.001993031578280917, 'reg_alpha': 0.0005659685034201647, 'reg_lambda': 0.00022373273282078775}. Best is trial 29 with value: 0.8090481786133961.\u001b[0m\n",
      "\u001b[32m[I 2023-04-09 15:11:14,544]\u001b[0m Trial 30 finished with value: 0.7955346650998825 and parameters: {'n_estimators': 598, 'learning_rate': 0.03009781135457431, 'max_depth': 9, 'min_child_weight': 2, 'subsample': 0.526252677290526, 'colsample_bytree': 0.689250562601278, 'gamma': 0.00042117044185905575, 'reg_alpha': 0.0020774302291208754, 'reg_lambda': 0.0013102053737334032}. Best is trial 29 with value: 0.8090481786133961.\u001b[0m\n",
      "\u001b[32m[I 2023-04-09 15:11:14,869]\u001b[0m Trial 31 finished with value: 0.7984723854289072 and parameters: {'n_estimators': 341, 'learning_rate': 0.012238852049396728, 'max_depth': 9, 'min_child_weight': 2, 'subsample': 0.6356069424667639, 'colsample_bytree': 0.5956519045638297, 'gamma': 0.0012532334772077847, 'reg_alpha': 7.042548828898061e-05, 'reg_lambda': 0.00012302724123627295}. Best is trial 29 with value: 0.8090481786133961.\u001b[0m\n",
      "\u001b[32m[I 2023-04-09 15:11:15,115]\u001b[0m Trial 32 finished with value: 0.810223266745006 and parameters: {'n_estimators': 335, 'learning_rate': 0.012512238633035817, 'max_depth': 9, 'min_child_weight': 3, 'subsample': 0.4917646614784001, 'colsample_bytree': 0.5985219430228731, 'gamma': 0.002675978267721836, 'reg_alpha': 8.050914212191055e-05, 'reg_lambda': 0.00014765328230091702}. Best is trial 32 with value: 0.810223266745006.\u001b[0m\n",
      "\u001b[32m[I 2023-04-09 15:11:15,381]\u001b[0m Trial 33 finished with value: 0.799647473560517 and parameters: {'n_estimators': 365, 'learning_rate': 0.014663871669778396, 'max_depth': 9, 'min_child_weight': 3, 'subsample': 0.505434285943139, 'colsample_bytree': 0.731302490556427, 'gamma': 0.011210484169598692, 'reg_alpha': 0.0007201792021363211, 'reg_lambda': 0.0003948023374403548}. Best is trial 32 with value: 0.810223266745006.\u001b[0m\n",
      "\u001b[32m[I 2023-04-09 15:11:15,737]\u001b[0m Trial 34 finished with value: 0.7996474735605171 and parameters: {'n_estimators': 376, 'learning_rate': 0.020114579202288065, 'max_depth': 9, 'min_child_weight': 1, 'subsample': 0.4795702905438611, 'colsample_bytree': 0.5867897389471249, 'gamma': 0.014650276286374032, 'reg_alpha': 0.0007527482748886471, 'reg_lambda': 0.0007137509653462427}. Best is trial 32 with value: 0.810223266745006.\u001b[0m\n",
      "\u001b[32m[I 2023-04-09 15:11:16,093]\u001b[0m Trial 35 finished with value: 0.8014101057579318 and parameters: {'n_estimators': 405, 'learning_rate': 0.028880343099338613, 'max_depth': 10, 'min_child_weight': 1, 'subsample': 0.4093497589668833, 'colsample_bytree': 0.6033908229596832, 'gamma': 0.02749983578920358, 'reg_alpha': 0.004691145477442522, 'reg_lambda': 0.0011170654841677747}. Best is trial 32 with value: 0.810223266745006.\u001b[0m\n",
      "\u001b[32m[I 2023-04-09 15:11:16,406]\u001b[0m Trial 36 finished with value: 0.7937720329024678 and parameters: {'n_estimators': 428, 'learning_rate': 0.04414510181831488, 'max_depth': 10, 'min_child_weight': 2, 'subsample': 0.43000139773184093, 'colsample_bytree': 0.4513234292869459, 'gamma': 0.00013869734899193633, 'reg_alpha': 0.00022751716057495345, 'reg_lambda': 0.0022810293517718785}. Best is trial 32 with value: 0.810223266745006.\u001b[0m\n",
      "\u001b[32m[I 2023-04-09 15:11:16,610]\u001b[0m Trial 37 finished with value: 0.7884841363102233 and parameters: {'n_estimators': 170, 'learning_rate': 0.025518485555540486, 'max_depth': 10, 'min_child_weight': 1, 'subsample': 0.5534538866651711, 'colsample_bytree': 0.6413640746091782, 'gamma': 0.0012329760288225496, 'reg_alpha': 0.0027441202198789302, 'reg_lambda': 8.6411575535757e-05}. Best is trial 32 with value: 0.810223266745006.\u001b[0m\n",
      "\u001b[32m[I 2023-04-09 15:11:16,991]\u001b[0m Trial 38 finished with value: 0.7925969447708577 and parameters: {'n_estimators': 469, 'learning_rate': 0.015615753529235747, 'max_depth': 8, 'min_child_weight': 1, 'subsample': 0.35801410874965617, 'colsample_bytree': 0.45692583737361087, 'gamma': 0.041280609790852345, 'reg_alpha': 0.005336267339565787, 'reg_lambda': 0.0226835019249252}. Best is trial 32 with value: 0.810223266745006.\u001b[0m\n",
      "\u001b[32m[I 2023-04-09 15:11:17,357]\u001b[0m Trial 39 finished with value: 0.782021151586369 and parameters: {'n_estimators': 589, 'learning_rate': 0.04484975959596928, 'max_depth': 8, 'min_child_weight': 3, 'subsample': 0.5573973447900618, 'colsample_bytree': 0.621351013828233, 'gamma': 0.049074920982345754, 'reg_alpha': 0.00047598358899195913, 'reg_lambda': 0.0012563713021132687}. Best is trial 32 with value: 0.810223266745006.\u001b[0m\n",
      "\u001b[32m[I 2023-04-09 15:11:17,530]\u001b[0m Trial 40 finished with value: 0.7972972972972974 and parameters: {'n_estimators': 194, 'learning_rate': 0.09604223213133267, 'max_depth': 10, 'min_child_weight': 2, 'subsample': 0.4466431634008703, 'colsample_bytree': 0.6957066974569902, 'gamma': 0.0031388494892472278, 'reg_alpha': 0.007325595089666115, 'reg_lambda': 0.00608196963578896}. Best is trial 32 with value: 0.810223266745006.\u001b[0m\n",
      "\u001b[32m[I 2023-04-09 15:11:17,902]\u001b[0m Trial 41 finished with value: 0.7984723854289072 and parameters: {'n_estimators': 393, 'learning_rate': 0.021570354974346603, 'max_depth': 9, 'min_child_weight': 1, 'subsample': 0.47302118521722747, 'colsample_bytree': 0.5913622142369116, 'gamma': 0.016327788343969817, 'reg_alpha': 0.00043666723080741654, 'reg_lambda': 0.0005613968336430494}. Best is trial 32 with value: 0.810223266745006.\u001b[0m\n",
      "\u001b[32m[I 2023-04-09 15:11:18,267]\u001b[0m Trial 42 finished with value: 0.8061104582843713 and parameters: {'n_estimators': 357, 'learning_rate': 0.020152565463429205, 'max_depth': 9, 'min_child_weight': 1, 'subsample': 0.5085784637232362, 'colsample_bytree': 0.5500357977023476, 'gamma': 0.010018230674091407, 'reg_alpha': 0.0011815913468521456, 'reg_lambda': 0.000852683494479645}. Best is trial 32 with value: 0.810223266745006.\u001b[0m\n",
      "\u001b[32m[I 2023-04-09 15:11:18,560]\u001b[0m Trial 43 finished with value: 0.8025851938895419 and parameters: {'n_estimators': 342, 'learning_rate': 0.005048663216172617, 'max_depth': 10, 'min_child_weight': 2, 'subsample': 0.3844918872956592, 'colsample_bytree': 0.5513524880567436, 'gamma': 0.00894614660921456, 'reg_alpha': 0.001697881490190167, 'reg_lambda': 0.0029531206798472567}. Best is trial 32 with value: 0.810223266745006.\u001b[0m\n",
      "\u001b[32m[I 2023-04-09 15:11:18,918]\u001b[0m Trial 44 finished with value: 0.8037602820211516 and parameters: {'n_estimators': 334, 'learning_rate': 0.005036921393414951, 'max_depth': 10, 'min_child_weight': 1, 'subsample': 0.3889280868688554, 'colsample_bytree': 0.549173183280957, 'gamma': 0.009831871735268739, 'reg_alpha': 0.0016552331687060904, 'reg_lambda': 0.002953268859774409}. Best is trial 32 with value: 0.810223266745006.\u001b[0m\n",
      "\u001b[32m[I 2023-04-09 15:11:19,174]\u001b[0m Trial 45 finished with value: 0.7849588719153937 and parameters: {'n_estimators': 347, 'learning_rate': 0.006202763078046201, 'max_depth': 10, 'min_child_weight': 3, 'subsample': 0.37559373738842877, 'colsample_bytree': 0.4940544134688196, 'gamma': 0.009618836742138391, 'reg_alpha': 0.0016820037775742767, 'reg_lambda': 0.0026490290217112142}. Best is trial 32 with value: 0.810223266745006.\u001b[0m\n",
      "\u001b[32m[I 2023-04-09 15:11:19,441]\u001b[0m Trial 46 finished with value: 0.8055229142185664 and parameters: {'n_estimators': 332, 'learning_rate': 0.0054897085126133826, 'max_depth': 9, 'min_child_weight': 2, 'subsample': 0.313432318178392, 'colsample_bytree': 0.5633934569779613, 'gamma': 0.0019847576191537497, 'reg_alpha': 0.010490899029671118, 'reg_lambda': 0.018136766656023987}. Best is trial 32 with value: 0.810223266745006.\u001b[0m\n",
      "\u001b[32m[I 2023-04-09 15:11:19,664]\u001b[0m Trial 47 finished with value: 0.7890716803760283 and parameters: {'n_estimators': 218, 'learning_rate': 0.0024123500258106455, 'max_depth': 9, 'min_child_weight': 1, 'subsample': 0.3113173703355543, 'colsample_bytree': 0.6581279577012988, 'gamma': 0.000539523313006103, 'reg_alpha': 0.0172222042088014, 'reg_lambda': 0.014896551132304101}. Best is trial 32 with value: 0.810223266745006.\u001b[0m\n",
      "\u001b[32m[I 2023-04-09 15:11:19,973]\u001b[0m Trial 48 finished with value: 0.790246768507638 and parameters: {'n_estimators': 477, 'learning_rate': 0.005350376137645791, 'max_depth': 7, 'min_child_weight': 3, 'subsample': 0.3173593536140742, 'colsample_bytree': 0.5492498804838528, 'gamma': 0.002119312324604469, 'reg_alpha': 0.040863117492233925, 'reg_lambda': 0.04829082881813692}. Best is trial 32 with value: 0.810223266745006.\u001b[0m\n",
      "\u001b[32m[I 2023-04-09 15:11:20,235]\u001b[0m Trial 49 finished with value: 0.8061104582843713 and parameters: {'n_estimators': 267, 'learning_rate': 0.014077170414325468, 'max_depth': 8, 'min_child_weight': 2, 'subsample': 0.5226527858651877, 'colsample_bytree': 0.39887014506222124, 'gamma': 0.0009258399359306908, 'reg_alpha': 0.009251557482366791, 'reg_lambda': 0.005430590183964598}. Best is trial 32 with value: 0.810223266745006.\u001b[0m\n",
      "\u001b[32m[I 2023-04-09 15:11:20,396]\u001b[0m Trial 50 finished with value: 0.8043478260869567 and parameters: {'n_estimators': 141, 'learning_rate': 0.014024954484230795, 'max_depth': 8, 'min_child_weight': 2, 'subsample': 0.5218870283040979, 'colsample_bytree': 0.4396112950221326, 'gamma': 0.00020932405954885222, 'reg_alpha': 0.006127008673606977, 'reg_lambda': 0.009339773574121017}. Best is trial 32 with value: 0.810223266745006.\u001b[0m\n",
      "\u001b[32m[I 2023-04-09 15:11:20,595]\u001b[0m Trial 51 finished with value: 0.7949471210340776 and parameters: {'n_estimators': 162, 'learning_rate': 0.014048612187621217, 'max_depth': 8, 'min_child_weight': 2, 'subsample': 0.5305120911039279, 'colsample_bytree': 0.392362083367199, 'gamma': 0.00018299764242745816, 'reg_alpha': 0.00939679842083177, 'reg_lambda': 0.007264152488049227}. Best is trial 32 with value: 0.810223266745006.\u001b[0m\n",
      "\u001b[32m[I 2023-04-09 15:11:20,762]\u001b[0m Trial 52 finished with value: 0.8072855464159813 and parameters: {'n_estimators': 142, 'learning_rate': 0.016979799728548132, 'max_depth': 9, 'min_child_weight': 2, 'subsample': 0.5073790509376498, 'colsample_bytree': 0.38933450914515993, 'gamma': 0.0009047554128398825, 'reg_alpha': 0.012722130912851697, 'reg_lambda': 0.01535607659448876}. Best is trial 32 with value: 0.810223266745006.\u001b[0m\n",
      "\u001b[32m[I 2023-04-09 15:11:20,924]\u001b[0m Trial 53 finished with value: 0.7643948296122209 and parameters: {'n_estimators': 194, 'learning_rate': 0.008865043221356452, 'max_depth': 9, 'min_child_weight': 3, 'subsample': 0.45555189093532616, 'colsample_bytree': 0.3285514963389501, 'gamma': 0.0014078178510946303, 'reg_alpha': 0.034906250761894596, 'reg_lambda': 0.1242400809915304}. Best is trial 32 with value: 0.810223266745006.\u001b[0m\n",
      "\u001b[32m[I 2023-04-09 15:11:21,094]\u001b[0m Trial 54 finished with value: 0.8014101057579319 and parameters: {'n_estimators': 143, 'learning_rate': 0.018896585191214635, 'max_depth': 9, 'min_child_weight': 2, 'subsample': 0.5811931530219535, 'colsample_bytree': 0.5093995943652332, 'gamma': 0.0007782877295150283, 'reg_alpha': 0.01773072465928505, 'reg_lambda': 0.015631170385062194}. Best is trial 32 with value: 0.810223266745006.\u001b[0m\n",
      "\u001b[32m[I 2023-04-09 15:11:21,276]\u001b[0m Trial 55 finished with value: 0.7831962397179789 and parameters: {'n_estimators': 253, 'learning_rate': 0.021912408259379, 'max_depth': 9, 'min_child_weight': 5, 'subsample': 0.49137911503850723, 'colsample_bytree': 0.3597615892294774, 'gamma': 3.806968710183703e-05, 'reg_alpha': 0.06546782842577244, 'reg_lambda': 0.00503341130214427}. Best is trial 32 with value: 0.810223266745006.\u001b[0m\n",
      "\u001b[32m[I 2023-04-09 15:11:21,510]\u001b[0m Trial 56 finished with value: 0.7931844888366627 and parameters: {'n_estimators': 290, 'learning_rate': 0.00879846538780822, 'max_depth': 7, 'min_child_weight': 3, 'subsample': 0.4596871507225341, 'colsample_bytree': 0.48408984407653144, 'gamma': 0.0003601589741316537, 'reg_alpha': 0.012773442009085844, 'reg_lambda': 0.029637714082840057}. Best is trial 32 with value: 0.810223266745006.\u001b[0m\n",
      "\u001b[32m[I 2023-04-09 15:11:21,732]\u001b[0m Trial 57 finished with value: 0.7943595769682726 and parameters: {'n_estimators': 210, 'learning_rate': 0.016053301044315224, 'max_depth': 8, 'min_child_weight': 2, 'subsample': 0.5931485676317152, 'colsample_bytree': 0.6367618779448134, 'gamma': 0.0019032903764638, 'reg_alpha': 0.14610992266235648, 'reg_lambda': 0.0010160424871364215}. Best is trial 32 with value: 0.810223266745006.\u001b[0m\n",
      "\u001b[32m[I 2023-04-09 15:11:22,131]\u001b[0m Trial 58 finished with value: 0.763807285546416 and parameters: {'n_estimators': 435, 'learning_rate': 0.011622772009589563, 'max_depth': 9, 'min_child_weight': 1, 'subsample': 0.5015493311631971, 'colsample_bytree': 0.27861278754981167, 'gamma': 0.0007813786349028023, 'reg_alpha': 0.003277383055113438, 'reg_lambda': 0.15621258623657297}. Best is trial 32 with value: 0.810223266745006.\u001b[0m\n",
      "\u001b[32m[I 2023-04-09 15:11:22,394]\u001b[0m Trial 59 finished with value: 0.8043478260869565 and parameters: {'n_estimators': 260, 'learning_rate': 0.0073338925661852504, 'max_depth': 8, 'min_child_weight': 2, 'subsample': 0.5352614175566183, 'colsample_bytree': 0.570009001472423, 'gamma': 0.005042912401457974, 'reg_alpha': 0.004471067596879805, 'reg_lambda': 7.289610099711023e-05}. Best is trial 32 with value: 0.810223266745006.\u001b[0m\n",
      "\u001b[32m[I 2023-04-09 15:11:22,648]\u001b[0m Trial 60 finished with value: 0.8014101057579318 and parameters: {'n_estimators': 309, 'learning_rate': 0.018217501262724523, 'max_depth': 9, 'min_child_weight': 3, 'subsample': 0.41627137609157383, 'colsample_bytree': 0.5219378383113416, 'gamma': 0.0022262354233884805, 'reg_alpha': 0.00011984566157993899, 'reg_lambda': 0.004635906706155557}. Best is trial 32 with value: 0.810223266745006.\u001b[0m\n",
      "\u001b[32m[I 2023-04-09 15:11:22,830]\u001b[0m Trial 61 finished with value: 0.7961222091656875 and parameters: {'n_estimators': 161, 'learning_rate': 0.012493577466261067, 'max_depth': 8, 'min_child_weight': 2, 'subsample': 0.5196315901457009, 'colsample_bytree': 0.4409289185005841, 'gamma': 0.0003529903926634187, 'reg_alpha': 0.011219773582956213, 'reg_lambda': 0.010921763474114998}. Best is trial 32 with value: 0.810223266745006.\u001b[0m\n",
      "\u001b[32m[I 2023-04-09 15:11:22,977]\u001b[0m Trial 62 finished with value: 0.7949471210340775 and parameters: {'n_estimators': 125, 'learning_rate': 0.014074038054057094, 'max_depth': 7, 'min_child_weight': 2, 'subsample': 0.5694091523691862, 'colsample_bytree': 0.3869074849243142, 'gamma': 6.55887386438167e-05, 'reg_alpha': 0.006676262955914742, 'reg_lambda': 0.010047450001267826}. Best is trial 32 with value: 0.810223266745006.\u001b[0m\n",
      "\u001b[32m[I 2023-04-09 15:11:23,128]\u001b[0m Trial 63 finished with value: 0.7808460634547592 and parameters: {'n_estimators': 104, 'learning_rate': 0.009988357452356033, 'max_depth': 9, 'min_child_weight': 1, 'subsample': 0.5428358637009768, 'colsample_bytree': 0.4917965510572073, 'gamma': 0.00020739172130302585, 'reg_alpha': 0.0010121657379208466, 'reg_lambda': 0.0340040497155383}. Best is trial 32 with value: 0.810223266745006.\u001b[0m\n",
      "\u001b[32m[I 2023-04-09 15:11:23,283]\u001b[0m Trial 64 finished with value: 0.7961222091656874 and parameters: {'n_estimators': 148, 'learning_rate': 0.024016276000545157, 'max_depth': 8, 'min_child_weight': 3, 'subsample': 0.4969156482377886, 'colsample_bytree': 0.42019811762554604, 'gamma': 0.0012777326388548546, 'reg_alpha': 0.003813295418299094, 'reg_lambda': 0.017999305318256432}. Best is trial 32 with value: 0.810223266745006.\u001b[0m\n",
      "\u001b[32m[I 2023-04-09 15:11:23,512]\u001b[0m Trial 65 finished with value: 0.8019976498237369 and parameters: {'n_estimators': 233, 'learning_rate': 0.008600972629225512, 'max_depth': 8, 'min_child_weight': 2, 'subsample': 0.43947755410445805, 'colsample_bytree': 0.4714986894707363, 'gamma': 0.003112930697553003, 'reg_alpha': 0.007744847741716068, 'reg_lambda': 0.00031382431820370317}. Best is trial 32 with value: 0.810223266745006.\u001b[0m\n",
      "\u001b[32m[I 2023-04-09 15:11:23,977]\u001b[0m Trial 66 finished with value: 0.7925969447708578 and parameters: {'n_estimators': 739, 'learning_rate': 0.016416890682736062, 'max_depth': 9, 'min_child_weight': 4, 'subsample': 0.47003581354194907, 'colsample_bytree': 0.43886799096692225, 'gamma': 0.0007028042548165895, 'reg_alpha': 0.02822973475404512, 'reg_lambda': 0.0017098035195427484}. Best is trial 32 with value: 0.810223266745006.\u001b[0m\n",
      "\u001b[32m[I 2023-04-09 15:11:24,324]\u001b[0m Trial 67 finished with value: 0.7990599294947122 and parameters: {'n_estimators': 314, 'learning_rate': 0.010441685215887607, 'max_depth': 7, 'min_child_weight': 1, 'subsample': 0.6003535660190548, 'colsample_bytree': 0.5297299672450551, 'gamma': 0.006069209775811462, 'reg_alpha': 0.0003980241823748054, 'reg_lambda': 0.0006433977957867219}. Best is trial 32 with value: 0.810223266745006.\u001b[0m\n",
      "\u001b[32m[I 2023-04-09 15:11:24,595]\u001b[0m Trial 68 finished with value: 0.7855464159811986 and parameters: {'n_estimators': 379, 'learning_rate': 0.01309027725223085, 'max_depth': 9, 'min_child_weight': 6, 'subsample': 0.5728120636898576, 'colsample_bytree': 0.5083715891078275, 'gamma': 0.0009962242573900778, 'reg_alpha': 0.0023117856067025313, 'reg_lambda': 0.007629280277081896}. Best is trial 32 with value: 0.810223266745006.\u001b[0m\n",
      "\u001b[32m[I 2023-04-09 15:11:24,848]\u001b[0m Trial 69 finished with value: 0.7978848413631022 and parameters: {'n_estimators': 272, 'learning_rate': 0.035569261743988695, 'max_depth': 8, 'min_child_weight': 2, 'subsample': 0.5195159971350367, 'colsample_bytree': 0.5699660863923276, 'gamma': 0.00032491689994870466, 'reg_alpha': 0.0011142800042535578, 'reg_lambda': 0.00017927772970027483}. Best is trial 32 with value: 0.810223266745006.\u001b[0m\n",
      "\u001b[32m[I 2023-04-09 15:11:25,338]\u001b[0m Trial 70 finished with value: 0.7967097532314923 and parameters: {'n_estimators': 663, 'learning_rate': 0.02615719254328334, 'max_depth': 10, 'min_child_weight': 3, 'subsample': 0.6627154698424039, 'colsample_bytree': 0.6258995577781139, 'gamma': 0.0024418467015099856, 'reg_alpha': 0.020305167839265052, 'reg_lambda': 0.06383465876146177}. Best is trial 32 with value: 0.810223266745006.\u001b[0m\n",
      "\u001b[32m[I 2023-04-09 15:11:25,597]\u001b[0m Trial 71 finished with value: 0.8019976498237368 and parameters: {'n_estimators': 252, 'learning_rate': 0.0074775654770799825, 'max_depth': 8, 'min_child_weight': 2, 'subsample': 0.545654039510639, 'colsample_bytree': 0.5845601186850219, 'gamma': 0.023479701217425868, 'reg_alpha': 0.0031784556923796243, 'reg_lambda': 3.315651158836462e-05}. Best is trial 32 with value: 0.810223266745006.\u001b[0m\n",
      "\u001b[32m[I 2023-04-09 15:11:25,807]\u001b[0m Trial 72 finished with value: 0.7937720329024677 and parameters: {'n_estimators': 181, 'learning_rate': 0.006494112616652564, 'max_depth': 9, 'min_child_weight': 2, 'subsample': 0.6038876820207085, 'colsample_bytree': 0.6106447325075673, 'gamma': 0.00642950506603548, 'reg_alpha': 0.004328656439546973, 'reg_lambda': 7.702407739378897e-05}. Best is trial 32 with value: 0.810223266745006.\u001b[0m\n",
      "\u001b[32m[I 2023-04-09 15:11:26,053]\u001b[0m Trial 73 finished with value: 0.7808460634547592 and parameters: {'n_estimators': 215, 'learning_rate': 0.01988722448044071, 'max_depth': 8, 'min_child_weight': 1, 'subsample': 0.5327975660094345, 'colsample_bytree': 0.4762536491252819, 'gamma': 0.004587905261651271, 'reg_alpha': 0.005081536996193014, 'reg_lambda': 0.00015525812811188392}. Best is trial 32 with value: 0.810223266745006.\u001b[0m\n",
      "\u001b[32m[I 2023-04-09 15:11:26,295]\u001b[0m Trial 74 finished with value: 0.8072855464159813 and parameters: {'n_estimators': 269, 'learning_rate': 0.0095416174511359, 'max_depth': 7, 'min_child_weight': 2, 'subsample': 0.4860673616291181, 'colsample_bytree': 0.5505191480838554, 'gamma': 0.0017334110466079894, 'reg_alpha': 0.015740156867197565, 'reg_lambda': 5.372271072831552e-05}. Best is trial 32 with value: 0.810223266745006.\u001b[0m\n",
      "\u001b[32m[I 2023-04-09 15:11:26,451]\u001b[0m Trial 75 finished with value: 0.8008225616921268 and parameters: {'n_estimators': 131, 'learning_rate': 0.010641451260969064, 'max_depth': 7, 'min_child_weight': 1, 'subsample': 0.4813149445329324, 'colsample_bytree': 0.6703643788036939, 'gamma': 0.0005363399289024334, 'reg_alpha': 0.009845510833233057, 'reg_lambda': 0.0008151220881398003}. Best is trial 32 with value: 0.810223266745006.\u001b[0m\n",
      "\u001b[32m[I 2023-04-09 15:11:26,713]\u001b[0m Trial 76 finished with value: 0.8084606345475911 and parameters: {'n_estimators': 359, 'learning_rate': 0.016585675624000727, 'max_depth': 9, 'min_child_weight': 3, 'subsample': 0.5076934425014256, 'colsample_bytree': 0.5319788454366371, 'gamma': 0.001301295169117868, 'reg_alpha': 0.011898868879644562, 'reg_lambda': 4.655305130414985e-05}. Best is trial 32 with value: 0.810223266745006.\u001b[0m\n",
      "\u001b[32m[I 2023-04-09 15:11:27,005]\u001b[0m Trial 77 finished with value: 0.799059929494712 and parameters: {'n_estimators': 417, 'learning_rate': 0.01800446113683275, 'max_depth': 9, 'min_child_weight': 4, 'subsample': 0.4370972256912497, 'colsample_bytree': 0.5448043596065921, 'gamma': 0.0017123253784437082, 'reg_alpha': 0.013821890715156951, 'reg_lambda': 4.018989479187704e-05}. Best is trial 32 with value: 0.810223266745006.\u001b[0m\n",
      "\u001b[32m[I 2023-04-09 15:11:27,260]\u001b[0m Trial 78 finished with value: 0.7779083431257344 and parameters: {'n_estimators': 364, 'learning_rate': 0.004410206375146473, 'max_depth': 10, 'min_child_weight': 5, 'subsample': 0.40775107733680077, 'colsample_bytree': 0.572145242993189, 'gamma': 0.003690802095027231, 'reg_alpha': 0.060269098495096804, 'reg_lambda': 0.00035675181089909536}. Best is trial 32 with value: 0.810223266745006.\u001b[0m\n",
      "\u001b[32m[I 2023-04-09 15:11:27,719]\u001b[0m Trial 79 finished with value: 0.799647473560517 and parameters: {'n_estimators': 560, 'learning_rate': 0.008917669997856459, 'max_depth': 9, 'min_child_weight': 3, 'subsample': 0.4587013292198785, 'colsample_bytree': 0.6070016260829729, 'gamma': 0.0008805094935735331, 'reg_alpha': 0.025570243551729457, 'reg_lambda': 9.199154573898467e-06}. Best is trial 32 with value: 0.810223266745006.\u001b[0m\n",
      "\u001b[32m[I 2023-04-09 15:11:27,979]\u001b[0m Trial 80 finished with value: 0.807873090481786 and parameters: {'n_estimators': 327, 'learning_rate': 0.024074548757761955, 'max_depth': 9, 'min_child_weight': 3, 'subsample': 0.5635781592799184, 'colsample_bytree': 0.519562275838867, 'gamma': 0.012533173687885259, 'reg_alpha': 0.13930856131358224, 'reg_lambda': 0.00010439177263296395}. Best is trial 32 with value: 0.810223266745006.\u001b[0m\n",
      "\u001b[32m[I 2023-04-09 15:11:28,230]\u001b[0m Trial 81 finished with value: 0.7990599294947122 and parameters: {'n_estimators': 329, 'learning_rate': 0.024787204832529712, 'max_depth': 9, 'min_child_weight': 4, 'subsample': 0.5626377208542075, 'colsample_bytree': 0.518497089221708, 'gamma': 0.015484725780716862, 'reg_alpha': 0.1540739905275613, 'reg_lambda': 0.0001231237387869746}. Best is trial 32 with value: 0.810223266745006.\u001b[0m\n",
      "\u001b[32m[I 2023-04-09 15:11:28,464]\u001b[0m Trial 82 finished with value: 0.8066980023501763 and parameters: {'n_estimators': 289, 'learning_rate': 0.016313268995142707, 'max_depth': 9, 'min_child_weight': 3, 'subsample': 0.5088828340332702, 'colsample_bytree': 0.5023974626727067, 'gamma': 0.00891390146135794, 'reg_alpha': 0.05473060975385023, 'reg_lambda': 0.00010248191286319698}. Best is trial 32 with value: 0.810223266745006.\u001b[0m\n",
      "\u001b[32m[I 2023-04-09 15:11:28,703]\u001b[0m Trial 83 finished with value: 0.8049353701527615 and parameters: {'n_estimators': 294, 'learning_rate': 0.01637688356584453, 'max_depth': 9, 'min_child_weight': 3, 'subsample': 0.5082274042113741, 'colsample_bytree': 0.46814393195690285, 'gamma': 0.037438394377663595, 'reg_alpha': 0.1047487092665676, 'reg_lambda': 0.0002407141796004634}. Best is trial 32 with value: 0.810223266745006.\u001b[0m\n",
      "\u001b[32m[I 2023-04-09 15:11:28,951]\u001b[0m Trial 84 finished with value: 0.8078730904817861 and parameters: {'n_estimators': 353, 'learning_rate': 0.02190200808345158, 'max_depth': 10, 'min_child_weight': 4, 'subsample': 0.48474603564647845, 'colsample_bytree': 0.536771103087578, 'gamma': 0.006924338666672762, 'reg_alpha': 0.03743144428059545, 'reg_lambda': 5.1958182132003516e-05}. Best is trial 32 with value: 0.810223266745006.\u001b[0m\n",
      "\u001b[32m[I 2023-04-09 15:11:29,172]\u001b[0m Trial 85 finished with value: 0.7978848413631022 and parameters: {'n_estimators': 355, 'learning_rate': 0.030763270271769585, 'max_depth': 10, 'min_child_weight': 4, 'subsample': 0.4801094058232277, 'colsample_bytree': 0.5122497283704265, 'gamma': 0.009870846426922531, 'reg_alpha': 0.2901046382636795, 'reg_lambda': 2.6915322691693376e-05}. Best is trial 32 with value: 0.810223266745006.\u001b[0m\n",
      "\u001b[32m[I 2023-04-09 15:11:29,472]\u001b[0m Trial 86 finished with value: 0.8061104582843713 and parameters: {'n_estimators': 452, 'learning_rate': 0.02080133040507645, 'max_depth': 10, 'min_child_weight': 3, 'subsample': 0.5030515777533487, 'colsample_bytree': 0.5452384316943741, 'gamma': 0.014717635061405067, 'reg_alpha': 0.02114880222249005, 'reg_lambda': 4.869653820748896e-05}. Best is trial 32 with value: 0.810223266745006.\u001b[0m\n",
      "\u001b[32m[I 2023-04-09 15:11:29,713]\u001b[0m Trial 87 finished with value: 0.7943595769682725 and parameters: {'n_estimators': 406, 'learning_rate': 0.03970227871520979, 'max_depth': 4, 'min_child_weight': 4, 'subsample': 0.5523523034869005, 'colsample_bytree': 0.49580342131214633, 'gamma': 0.025454033177825443, 'reg_alpha': 0.05446523920346733, 'reg_lambda': 0.00010819566364548785}. Best is trial 32 with value: 0.810223266745006.\u001b[0m\n",
      "\u001b[32m[I 2023-04-09 15:11:30,030]\u001b[0m Trial 88 finished with value: 0.7937720329024677 and parameters: {'n_estimators': 505, 'learning_rate': 0.022973153192014997, 'max_depth': 10, 'min_child_weight': 3, 'subsample': 0.4555197150207959, 'colsample_bytree': 0.5324628228095813, 'gamma': 0.0069407281233212275, 'reg_alpha': 0.036312490984122994, 'reg_lambda': 5.7510227144419786e-05}. Best is trial 32 with value: 0.810223266745006.\u001b[0m\n",
      "\u001b[32m[I 2023-04-09 15:11:30,224]\u001b[0m Trial 89 finished with value: 0.7925969447708578 and parameters: {'n_estimators': 393, 'learning_rate': 0.028966789392776297, 'max_depth': 3, 'min_child_weight': 5, 'subsample': 0.4911410737694075, 'colsample_bytree': 0.5883779665776832, 'gamma': 0.07203017083337208, 'reg_alpha': 0.08458449299749198, 'reg_lambda': 1.9915503370822782e-05}. Best is trial 32 with value: 0.810223266745006.\u001b[0m\n",
      "\u001b[32m[I 2023-04-09 15:11:30,500]\u001b[0m Trial 90 finished with value: 0.7878965922444184 and parameters: {'n_estimators': 383, 'learning_rate': 0.034153900947526995, 'max_depth': 10, 'min_child_weight': 3, 'subsample': 0.5716211804343039, 'colsample_bytree': 0.6231466002860001, 'gamma': 0.0034477620802948208, 'reg_alpha': 0.03498160696248807, 'reg_lambda': 9.238640296303861e-05}. Best is trial 32 with value: 0.810223266745006.\u001b[0m\n",
      "\u001b[32m[I 2023-04-09 15:11:30,716]\u001b[0m Trial 91 finished with value: 0.8108108108108109 and parameters: {'n_estimators': 288, 'learning_rate': 0.012966759843708653, 'max_depth': 9, 'min_child_weight': 3, 'subsample': 0.5099066087070914, 'colsample_bytree': 0.4992276655076567, 'gamma': 0.007585176050997375, 'reg_alpha': 0.04870962495153901, 'reg_lambda': 5.514009763168503e-05}. Best is trial 91 with value: 0.8108108108108109.\u001b[0m\n",
      "\u001b[32m[I 2023-04-09 15:11:30,929]\u001b[0m Trial 92 finished with value: 0.7990599294947122 and parameters: {'n_estimators': 312, 'learning_rate': 0.012591815421389397, 'max_depth': 9, 'min_child_weight': 4, 'subsample': 0.4717546412547954, 'colsample_bytree': 0.5614286880587145, 'gamma': 0.009087978515640829, 'reg_alpha': 0.04631117665771824, 'reg_lambda': 5.175819593098561e-05}. Best is trial 91 with value: 0.8108108108108109.\u001b[0m\n",
      "\u001b[32m[I 2023-04-09 15:11:31,161]\u001b[0m Trial 93 finished with value: 0.8061104582843713 and parameters: {'n_estimators': 287, 'learning_rate': 0.01646457888749553, 'max_depth': 9, 'min_child_weight': 3, 'subsample': 0.5469877502643724, 'colsample_bytree': 0.4958799021828812, 'gamma': 0.003067544976908718, 'reg_alpha': 0.01584858959466215, 'reg_lambda': 3.849951096332157e-05}. Best is trial 91 with value: 0.8108108108108109.\u001b[0m\n",
      "\u001b[32m[I 2023-04-09 15:11:31,435]\u001b[0m Trial 94 finished with value: 0.8113983548766158 and parameters: {'n_estimators': 362, 'learning_rate': 0.020157412965536938, 'max_depth': 9, 'min_child_weight': 3, 'subsample': 0.5112049301138453, 'colsample_bytree': 0.5257029128071002, 'gamma': 0.00579012414041011, 'reg_alpha': 0.027457211745494217, 'reg_lambda': 0.0002525389978700006}. Best is trial 94 with value: 0.8113983548766158.\u001b[0m\n",
      "\u001b[32m[I 2023-04-09 15:11:31,686]\u001b[0m Trial 95 finished with value: 0.8066980023501763 and parameters: {'n_estimators': 234, 'learning_rate': 0.026770128356252604, 'max_depth': 9, 'min_child_weight': 3, 'subsample': 0.6164936376384269, 'colsample_bytree': 0.5301568010283146, 'gamma': 0.006458209723667026, 'reg_alpha': 0.026210765908050892, 'reg_lambda': 0.00023445651290205359}. Best is trial 94 with value: 0.8113983548766158.\u001b[0m\n",
      "\u001b[32m[I 2023-04-09 15:11:31,932]\u001b[0m Trial 96 finished with value: 0.800822561692127 and parameters: {'n_estimators': 342, 'learning_rate': 0.018079938868335862, 'max_depth': 9, 'min_child_weight': 4, 'subsample': 0.5850823035629642, 'colsample_bytree': 0.4571014661001066, 'gamma': 0.01677034988363267, 'reg_alpha': 0.0868468522485719, 'reg_lambda': 2.672630909264952e-05}. Best is trial 94 with value: 0.8113983548766158.\u001b[0m\n",
      "\u001b[32m[I 2023-04-09 15:11:32,171]\u001b[0m Trial 97 finished with value: 0.799647473560517 and parameters: {'n_estimators': 317, 'learning_rate': 0.011315111072012348, 'max_depth': 10, 'min_child_weight': 3, 'subsample': 0.44015178426316187, 'colsample_bytree': 0.48274402519136755, 'gamma': 0.004326163501885773, 'reg_alpha': 0.05487725103378686, 'reg_lambda': 1.5016829323039173e-05}. Best is trial 94 with value: 0.8113983548766158.\u001b[0m\n",
      "\u001b[32m[I 2023-04-09 15:11:32,354]\u001b[0m Trial 98 finished with value: 0.7955346650998826 and parameters: {'n_estimators': 295, 'learning_rate': 0.023296838194685414, 'max_depth': 9, 'min_child_weight': 4, 'subsample': 0.4881538346741622, 'colsample_bytree': 0.5800400461985274, 'gamma': 0.0025819279617568195, 'reg_alpha': 0.13387885380766046, 'reg_lambda': 0.00011601872898300805}. Best is trial 94 with value: 0.8113983548766158.\u001b[0m\n",
      "\u001b[32m[I 2023-04-09 15:11:32,658]\u001b[0m Trial 99 finished with value: 0.8084606345475911 and parameters: {'n_estimators': 451, 'learning_rate': 0.014261637619446332, 'max_depth': 10, 'min_child_weight': 3, 'subsample': 0.5166575418382118, 'colsample_bytree': 0.6021164870466165, 'gamma': 0.001404092930880817, 'reg_alpha': 0.2269894399899061, 'reg_lambda': 0.00015093976110887962}. Best is trial 94 with value: 0.8113983548766158.\u001b[0m\n"
     ]
    }
   ],
   "source": [
    "study = optuna.create_study(direction='maximize')\n",
    "study.optimize(objective, n_trials=100)"
   ]
  },
  {
   "cell_type": "code",
   "execution_count": 13,
   "id": "9d3fec45",
   "metadata": {
    "execution": {
     "iopub.execute_input": "2023-04-09T03:47:56.094110Z",
     "iopub.status.busy": "2023-04-09T03:47:56.093705Z",
     "iopub.status.idle": "2023-04-09T03:47:56.100229Z",
     "shell.execute_reply": "2023-04-09T03:47:56.098898Z"
    },
    "papermill": {
     "duration": 0.021634,
     "end_time": "2023-04-09T03:47:56.102746",
     "exception": false,
     "start_time": "2023-04-09T03:47:56.081112",
     "status": "completed"
    },
    "tags": []
   },
   "outputs": [
    {
     "name": "stdout",
     "output_type": "stream",
     "text": [
      "Best trial: score 0.8113983548766158,\n",
      "params {'n_estimators': 362, 'learning_rate': 0.020157412965536938, 'max_depth': 9, 'min_child_weight': 3, 'subsample': 0.5112049301138453, 'colsample_bytree': 0.5257029128071002, 'gamma': 0.00579012414041011, 'reg_alpha': 0.027457211745494217, 'reg_lambda': 0.0002525389978700006}\n"
     ]
    }
   ],
   "source": [
    "print('Best trial: score {},\\nparams {}'.format(study.best_trial.value, study.best_trial.params))"
   ]
  },
  {
   "cell_type": "code",
   "execution_count": 14,
   "id": "7fbb4ce5",
   "metadata": {
    "execution": {
     "iopub.execute_input": "2023-04-09T03:47:56.127496Z",
     "iopub.status.busy": "2023-04-09T03:47:56.127130Z",
     "iopub.status.idle": "2023-04-09T03:47:58.910182Z",
     "shell.execute_reply": "2023-04-09T03:47:58.908993Z"
    },
    "papermill": {
     "duration": 2.798103,
     "end_time": "2023-04-09T03:47:58.912628",
     "exception": false,
     "start_time": "2023-04-09T03:47:56.114525",
     "status": "completed"
    },
    "tags": []
   },
   "outputs": [
    {
     "data": {
      "application/vnd.plotly.v1+json": {
       "config": {
        "plotlyServerURL": "https://plot.ly"
       },
       "data": [
        {
         "cliponaxis": false,
         "hovertemplate": [
          "reg_alpha (FloatDistribution): 0.001299658433878152<extra></extra>",
          "gamma (FloatDistribution): 0.004764043082307104<extra></extra>",
          "max_depth (IntDistribution): 0.015490698407145953<extra></extra>",
          "learning_rate (FloatDistribution): 0.02794175136282581<extra></extra>",
          "n_estimators (IntDistribution): 0.029139504857283678<extra></extra>",
          "reg_lambda (FloatDistribution): 0.03598356141148902<extra></extra>",
          "min_child_weight (IntDistribution): 0.12682054416539293<extra></extra>",
          "subsample (FloatDistribution): 0.33878660395527577<extra></extra>",
          "colsample_bytree (FloatDistribution): 0.41977363432440146<extra></extra>"
         ],
         "marker": {
          "color": "rgb(66,146,198)"
         },
         "orientation": "h",
         "text": [
          "<0.01",
          "<0.01",
          "0.02",
          "0.03",
          "0.03",
          "0.04",
          "0.13",
          "0.34",
          "0.42"
         ],
         "textposition": "outside",
         "type": "bar",
         "x": [
          0.001299658433878152,
          0.004764043082307104,
          0.015490698407145953,
          0.02794175136282581,
          0.029139504857283678,
          0.03598356141148902,
          0.12682054416539293,
          0.33878660395527577,
          0.41977363432440146
         ],
         "y": [
          "reg_alpha",
          "gamma",
          "max_depth",
          "learning_rate",
          "n_estimators",
          "reg_lambda",
          "min_child_weight",
          "subsample",
          "colsample_bytree"
         ]
        }
       ],
       "layout": {
        "showlegend": false,
        "template": {
         "data": {
          "bar": [
           {
            "error_x": {
             "color": "#2a3f5f"
            },
            "error_y": {
             "color": "#2a3f5f"
            },
            "marker": {
             "line": {
              "color": "#E5ECF6",
              "width": 0.5
             },
             "pattern": {
              "fillmode": "overlay",
              "size": 10,
              "solidity": 0.2
             }
            },
            "type": "bar"
           }
          ],
          "barpolar": [
           {
            "marker": {
             "line": {
              "color": "#E5ECF6",
              "width": 0.5
             },
             "pattern": {
              "fillmode": "overlay",
              "size": 10,
              "solidity": 0.2
             }
            },
            "type": "barpolar"
           }
          ],
          "carpet": [
           {
            "aaxis": {
             "endlinecolor": "#2a3f5f",
             "gridcolor": "white",
             "linecolor": "white",
             "minorgridcolor": "white",
             "startlinecolor": "#2a3f5f"
            },
            "baxis": {
             "endlinecolor": "#2a3f5f",
             "gridcolor": "white",
             "linecolor": "white",
             "minorgridcolor": "white",
             "startlinecolor": "#2a3f5f"
            },
            "type": "carpet"
           }
          ],
          "choropleth": [
           {
            "colorbar": {
             "outlinewidth": 0,
             "ticks": ""
            },
            "type": "choropleth"
           }
          ],
          "contour": [
           {
            "colorbar": {
             "outlinewidth": 0,
             "ticks": ""
            },
            "colorscale": [
             [
              0,
              "#0d0887"
             ],
             [
              0.1111111111111111,
              "#46039f"
             ],
             [
              0.2222222222222222,
              "#7201a8"
             ],
             [
              0.3333333333333333,
              "#9c179e"
             ],
             [
              0.4444444444444444,
              "#bd3786"
             ],
             [
              0.5555555555555556,
              "#d8576b"
             ],
             [
              0.6666666666666666,
              "#ed7953"
             ],
             [
              0.7777777777777778,
              "#fb9f3a"
             ],
             [
              0.8888888888888888,
              "#fdca26"
             ],
             [
              1,
              "#f0f921"
             ]
            ],
            "type": "contour"
           }
          ],
          "contourcarpet": [
           {
            "colorbar": {
             "outlinewidth": 0,
             "ticks": ""
            },
            "type": "contourcarpet"
           }
          ],
          "heatmap": [
           {
            "colorbar": {
             "outlinewidth": 0,
             "ticks": ""
            },
            "colorscale": [
             [
              0,
              "#0d0887"
             ],
             [
              0.1111111111111111,
              "#46039f"
             ],
             [
              0.2222222222222222,
              "#7201a8"
             ],
             [
              0.3333333333333333,
              "#9c179e"
             ],
             [
              0.4444444444444444,
              "#bd3786"
             ],
             [
              0.5555555555555556,
              "#d8576b"
             ],
             [
              0.6666666666666666,
              "#ed7953"
             ],
             [
              0.7777777777777778,
              "#fb9f3a"
             ],
             [
              0.8888888888888888,
              "#fdca26"
             ],
             [
              1,
              "#f0f921"
             ]
            ],
            "type": "heatmap"
           }
          ],
          "heatmapgl": [
           {
            "colorbar": {
             "outlinewidth": 0,
             "ticks": ""
            },
            "colorscale": [
             [
              0,
              "#0d0887"
             ],
             [
              0.1111111111111111,
              "#46039f"
             ],
             [
              0.2222222222222222,
              "#7201a8"
             ],
             [
              0.3333333333333333,
              "#9c179e"
             ],
             [
              0.4444444444444444,
              "#bd3786"
             ],
             [
              0.5555555555555556,
              "#d8576b"
             ],
             [
              0.6666666666666666,
              "#ed7953"
             ],
             [
              0.7777777777777778,
              "#fb9f3a"
             ],
             [
              0.8888888888888888,
              "#fdca26"
             ],
             [
              1,
              "#f0f921"
             ]
            ],
            "type": "heatmapgl"
           }
          ],
          "histogram": [
           {
            "marker": {
             "pattern": {
              "fillmode": "overlay",
              "size": 10,
              "solidity": 0.2
             }
            },
            "type": "histogram"
           }
          ],
          "histogram2d": [
           {
            "colorbar": {
             "outlinewidth": 0,
             "ticks": ""
            },
            "colorscale": [
             [
              0,
              "#0d0887"
             ],
             [
              0.1111111111111111,
              "#46039f"
             ],
             [
              0.2222222222222222,
              "#7201a8"
             ],
             [
              0.3333333333333333,
              "#9c179e"
             ],
             [
              0.4444444444444444,
              "#bd3786"
             ],
             [
              0.5555555555555556,
              "#d8576b"
             ],
             [
              0.6666666666666666,
              "#ed7953"
             ],
             [
              0.7777777777777778,
              "#fb9f3a"
             ],
             [
              0.8888888888888888,
              "#fdca26"
             ],
             [
              1,
              "#f0f921"
             ]
            ],
            "type": "histogram2d"
           }
          ],
          "histogram2dcontour": [
           {
            "colorbar": {
             "outlinewidth": 0,
             "ticks": ""
            },
            "colorscale": [
             [
              0,
              "#0d0887"
             ],
             [
              0.1111111111111111,
              "#46039f"
             ],
             [
              0.2222222222222222,
              "#7201a8"
             ],
             [
              0.3333333333333333,
              "#9c179e"
             ],
             [
              0.4444444444444444,
              "#bd3786"
             ],
             [
              0.5555555555555556,
              "#d8576b"
             ],
             [
              0.6666666666666666,
              "#ed7953"
             ],
             [
              0.7777777777777778,
              "#fb9f3a"
             ],
             [
              0.8888888888888888,
              "#fdca26"
             ],
             [
              1,
              "#f0f921"
             ]
            ],
            "type": "histogram2dcontour"
           }
          ],
          "mesh3d": [
           {
            "colorbar": {
             "outlinewidth": 0,
             "ticks": ""
            },
            "type": "mesh3d"
           }
          ],
          "parcoords": [
           {
            "line": {
             "colorbar": {
              "outlinewidth": 0,
              "ticks": ""
             }
            },
            "type": "parcoords"
           }
          ],
          "pie": [
           {
            "automargin": true,
            "type": "pie"
           }
          ],
          "scatter": [
           {
            "fillpattern": {
             "fillmode": "overlay",
             "size": 10,
             "solidity": 0.2
            },
            "type": "scatter"
           }
          ],
          "scatter3d": [
           {
            "line": {
             "colorbar": {
              "outlinewidth": 0,
              "ticks": ""
             }
            },
            "marker": {
             "colorbar": {
              "outlinewidth": 0,
              "ticks": ""
             }
            },
            "type": "scatter3d"
           }
          ],
          "scattercarpet": [
           {
            "marker": {
             "colorbar": {
              "outlinewidth": 0,
              "ticks": ""
             }
            },
            "type": "scattercarpet"
           }
          ],
          "scattergeo": [
           {
            "marker": {
             "colorbar": {
              "outlinewidth": 0,
              "ticks": ""
             }
            },
            "type": "scattergeo"
           }
          ],
          "scattergl": [
           {
            "marker": {
             "colorbar": {
              "outlinewidth": 0,
              "ticks": ""
             }
            },
            "type": "scattergl"
           }
          ],
          "scattermapbox": [
           {
            "marker": {
             "colorbar": {
              "outlinewidth": 0,
              "ticks": ""
             }
            },
            "type": "scattermapbox"
           }
          ],
          "scatterpolar": [
           {
            "marker": {
             "colorbar": {
              "outlinewidth": 0,
              "ticks": ""
             }
            },
            "type": "scatterpolar"
           }
          ],
          "scatterpolargl": [
           {
            "marker": {
             "colorbar": {
              "outlinewidth": 0,
              "ticks": ""
             }
            },
            "type": "scatterpolargl"
           }
          ],
          "scatterternary": [
           {
            "marker": {
             "colorbar": {
              "outlinewidth": 0,
              "ticks": ""
             }
            },
            "type": "scatterternary"
           }
          ],
          "surface": [
           {
            "colorbar": {
             "outlinewidth": 0,
             "ticks": ""
            },
            "colorscale": [
             [
              0,
              "#0d0887"
             ],
             [
              0.1111111111111111,
              "#46039f"
             ],
             [
              0.2222222222222222,
              "#7201a8"
             ],
             [
              0.3333333333333333,
              "#9c179e"
             ],
             [
              0.4444444444444444,
              "#bd3786"
             ],
             [
              0.5555555555555556,
              "#d8576b"
             ],
             [
              0.6666666666666666,
              "#ed7953"
             ],
             [
              0.7777777777777778,
              "#fb9f3a"
             ],
             [
              0.8888888888888888,
              "#fdca26"
             ],
             [
              1,
              "#f0f921"
             ]
            ],
            "type": "surface"
           }
          ],
          "table": [
           {
            "cells": {
             "fill": {
              "color": "#EBF0F8"
             },
             "line": {
              "color": "white"
             }
            },
            "header": {
             "fill": {
              "color": "#C8D4E3"
             },
             "line": {
              "color": "white"
             }
            },
            "type": "table"
           }
          ]
         },
         "layout": {
          "annotationdefaults": {
           "arrowcolor": "#2a3f5f",
           "arrowhead": 0,
           "arrowwidth": 1
          },
          "autotypenumbers": "strict",
          "coloraxis": {
           "colorbar": {
            "outlinewidth": 0,
            "ticks": ""
           }
          },
          "colorscale": {
           "diverging": [
            [
             0,
             "#8e0152"
            ],
            [
             0.1,
             "#c51b7d"
            ],
            [
             0.2,
             "#de77ae"
            ],
            [
             0.3,
             "#f1b6da"
            ],
            [
             0.4,
             "#fde0ef"
            ],
            [
             0.5,
             "#f7f7f7"
            ],
            [
             0.6,
             "#e6f5d0"
            ],
            [
             0.7,
             "#b8e186"
            ],
            [
             0.8,
             "#7fbc41"
            ],
            [
             0.9,
             "#4d9221"
            ],
            [
             1,
             "#276419"
            ]
           ],
           "sequential": [
            [
             0,
             "#0d0887"
            ],
            [
             0.1111111111111111,
             "#46039f"
            ],
            [
             0.2222222222222222,
             "#7201a8"
            ],
            [
             0.3333333333333333,
             "#9c179e"
            ],
            [
             0.4444444444444444,
             "#bd3786"
            ],
            [
             0.5555555555555556,
             "#d8576b"
            ],
            [
             0.6666666666666666,
             "#ed7953"
            ],
            [
             0.7777777777777778,
             "#fb9f3a"
            ],
            [
             0.8888888888888888,
             "#fdca26"
            ],
            [
             1,
             "#f0f921"
            ]
           ],
           "sequentialminus": [
            [
             0,
             "#0d0887"
            ],
            [
             0.1111111111111111,
             "#46039f"
            ],
            [
             0.2222222222222222,
             "#7201a8"
            ],
            [
             0.3333333333333333,
             "#9c179e"
            ],
            [
             0.4444444444444444,
             "#bd3786"
            ],
            [
             0.5555555555555556,
             "#d8576b"
            ],
            [
             0.6666666666666666,
             "#ed7953"
            ],
            [
             0.7777777777777778,
             "#fb9f3a"
            ],
            [
             0.8888888888888888,
             "#fdca26"
            ],
            [
             1,
             "#f0f921"
            ]
           ]
          },
          "colorway": [
           "#636efa",
           "#EF553B",
           "#00cc96",
           "#ab63fa",
           "#FFA15A",
           "#19d3f3",
           "#FF6692",
           "#B6E880",
           "#FF97FF",
           "#FECB52"
          ],
          "font": {
           "color": "#2a3f5f"
          },
          "geo": {
           "bgcolor": "white",
           "lakecolor": "white",
           "landcolor": "#E5ECF6",
           "showlakes": true,
           "showland": true,
           "subunitcolor": "white"
          },
          "hoverlabel": {
           "align": "left"
          },
          "hovermode": "closest",
          "mapbox": {
           "style": "light"
          },
          "paper_bgcolor": "white",
          "plot_bgcolor": "#E5ECF6",
          "polar": {
           "angularaxis": {
            "gridcolor": "white",
            "linecolor": "white",
            "ticks": ""
           },
           "bgcolor": "#E5ECF6",
           "radialaxis": {
            "gridcolor": "white",
            "linecolor": "white",
            "ticks": ""
           }
          },
          "scene": {
           "xaxis": {
            "backgroundcolor": "#E5ECF6",
            "gridcolor": "white",
            "gridwidth": 2,
            "linecolor": "white",
            "showbackground": true,
            "ticks": "",
            "zerolinecolor": "white"
           },
           "yaxis": {
            "backgroundcolor": "#E5ECF6",
            "gridcolor": "white",
            "gridwidth": 2,
            "linecolor": "white",
            "showbackground": true,
            "ticks": "",
            "zerolinecolor": "white"
           },
           "zaxis": {
            "backgroundcolor": "#E5ECF6",
            "gridcolor": "white",
            "gridwidth": 2,
            "linecolor": "white",
            "showbackground": true,
            "ticks": "",
            "zerolinecolor": "white"
           }
          },
          "shapedefaults": {
           "line": {
            "color": "#2a3f5f"
           }
          },
          "ternary": {
           "aaxis": {
            "gridcolor": "white",
            "linecolor": "white",
            "ticks": ""
           },
           "baxis": {
            "gridcolor": "white",
            "linecolor": "white",
            "ticks": ""
           },
           "bgcolor": "#E5ECF6",
           "caxis": {
            "gridcolor": "white",
            "linecolor": "white",
            "ticks": ""
           }
          },
          "title": {
           "x": 0.05
          },
          "xaxis": {
           "automargin": true,
           "gridcolor": "white",
           "linecolor": "white",
           "ticks": "",
           "title": {
            "standoff": 15
           },
           "zerolinecolor": "white",
           "zerolinewidth": 2
          },
          "yaxis": {
           "automargin": true,
           "gridcolor": "white",
           "linecolor": "white",
           "ticks": "",
           "title": {
            "standoff": 15
           },
           "zerolinecolor": "white",
           "zerolinewidth": 2
          }
         }
        },
        "title": {
         "text": "Hyperparameter Importances"
        },
        "xaxis": {
         "title": {
          "text": "Importance for Objective Value"
         }
        },
        "yaxis": {
         "title": {
          "text": "Hyperparameter"
         }
        }
       }
      }
     },
     "metadata": {},
     "output_type": "display_data"
    }
   ],
   "source": [
    "import optuna.visualization as vis\n",
    "\n",
    "# Assuming that 'study' is your Optuna study object\n",
    "# Visualize parameter importance\n",
    "fig = vis.plot_param_importances(study)\n",
    "fig.show()"
   ]
  },
  {
   "cell_type": "code",
   "execution_count": 15,
   "id": "0d8b0474",
   "metadata": {
    "execution": {
     "iopub.execute_input": "2023-04-09T03:47:58.937773Z",
     "iopub.status.busy": "2023-04-09T03:47:58.937423Z",
     "iopub.status.idle": "2023-04-09T03:47:59.372104Z",
     "shell.execute_reply": "2023-04-09T03:47:59.370985Z"
    },
    "papermill": {
     "duration": 0.450191,
     "end_time": "2023-04-09T03:47:59.374648",
     "exception": false,
     "start_time": "2023-04-09T03:47:58.924457",
     "status": "completed"
    },
    "tags": []
   },
   "outputs": [
    {
     "data": {
      "application/vnd.plotly.v1+json": {
       "config": {
        "plotlyServerURL": "https://plot.ly"
       },
       "data": [
        {
         "marker": {
          "color": [
           0,
           1,
           2,
           3,
           4,
           5,
           6,
           7,
           8,
           9,
           10,
           11,
           12,
           13,
           14,
           15,
           16,
           17,
           18,
           19,
           20,
           21,
           22,
           23,
           24,
           25,
           26,
           27,
           28,
           29,
           30,
           31,
           32,
           33,
           34,
           35,
           36,
           37,
           38,
           39,
           40,
           41,
           42,
           43,
           44,
           45,
           46,
           47,
           48,
           49,
           50,
           51,
           52,
           53,
           54,
           55,
           56,
           57,
           58,
           59,
           60,
           61,
           62,
           63,
           64,
           65,
           66,
           67,
           68,
           69,
           70,
           71,
           72,
           73,
           74,
           75,
           76,
           77,
           78,
           79,
           80,
           81,
           82,
           83,
           84,
           85,
           86,
           87,
           88,
           89,
           90,
           91,
           92,
           93,
           94,
           95,
           96,
           97,
           98,
           99
          ],
          "colorbar": {
           "title": {
            "text": "Trial"
           },
           "x": 1,
           "xpad": 40
          },
          "colorscale": [
           [
            0,
            "rgb(247,251,255)"
           ],
           [
            0.125,
            "rgb(222,235,247)"
           ],
           [
            0.25,
            "rgb(198,219,239)"
           ],
           [
            0.375,
            "rgb(158,202,225)"
           ],
           [
            0.5,
            "rgb(107,174,214)"
           ],
           [
            0.625,
            "rgb(66,146,198)"
           ],
           [
            0.75,
            "rgb(33,113,181)"
           ],
           [
            0.875,
            "rgb(8,81,156)"
           ],
           [
            1,
            "rgb(8,48,107)"
           ]
          ],
          "line": {
           "color": "Grey",
           "width": 0.5
          },
          "showscale": true
         },
         "mode": "markers",
         "showlegend": false,
         "type": "scatter",
         "x": [
          0.6623149030208159,
          0.20871230387450762,
          0.26886424423555005,
          0.9823911186345192,
          0.8096254449182047,
          0.806723739032277,
          0.5103370498945802,
          0.12983374501108344,
          0.2175535270276097,
          0.6653831858964739,
          0.9874524530239217,
          0.9905108639549798,
          0.8567913828183225,
          0.8805383108419197,
          0.9872913290261001,
          0.9831485064438904,
          0.7223904528338214,
          0.9017643906934047,
          0.5310084359684936,
          0.9175854039136856,
          0.7736277544057414,
          0.9998599287037884,
          0.7857351303147183,
          0.9088867560506497,
          0.7524510150947814,
          0.8364567968576023,
          0.8632723655284428,
          0.8483380803098052,
          0.9184018177345786,
          0.7021207973668708,
          0.689250562601278,
          0.5956519045638297,
          0.5985219430228731,
          0.731302490556427,
          0.5867897389471249,
          0.6033908229596832,
          0.4513234292869459,
          0.6413640746091782,
          0.45692583737361087,
          0.621351013828233,
          0.6957066974569902,
          0.5913622142369116,
          0.5500357977023476,
          0.5513524880567436,
          0.549173183280957,
          0.4940544134688196,
          0.5633934569779613,
          0.6581279577012988,
          0.5492498804838528,
          0.39887014506222124,
          0.4396112950221326,
          0.392362083367199,
          0.38933450914515993,
          0.3285514963389501,
          0.5093995943652332,
          0.3597615892294774,
          0.48408984407653144,
          0.6367618779448134,
          0.27861278754981167,
          0.570009001472423,
          0.5219378383113416,
          0.4409289185005841,
          0.3869074849243142,
          0.4917965510572073,
          0.42019811762554604,
          0.4714986894707363,
          0.43886799096692225,
          0.5297299672450551,
          0.5083715891078275,
          0.5699660863923276,
          0.6258995577781139,
          0.5845601186850219,
          0.6106447325075673,
          0.4762536491252819,
          0.5505191480838554,
          0.6703643788036939,
          0.5319788454366371,
          0.5448043596065921,
          0.572145242993189,
          0.6070016260829729,
          0.519562275838867,
          0.518497089221708,
          0.5023974626727067,
          0.46814393195690285,
          0.536771103087578,
          0.5122497283704265,
          0.5452384316943741,
          0.49580342131214633,
          0.5324628228095813,
          0.5883779665776832,
          0.6231466002860001,
          0.4992276655076567,
          0.5614286880587145,
          0.4958799021828812,
          0.5257029128071002,
          0.5301568010283146,
          0.4571014661001066,
          0.48274402519136755,
          0.5800400461985274,
          0.6021164870466165
         ],
         "xaxis": "x",
         "y": [
          0.7364864864864865,
          0.7708578143360753,
          0.7643948296122208,
          0.7867215041128085,
          0.782021151586369,
          0.7837837837837839,
          0.7749706227967098,
          0.745005875440658,
          0.7561692126909518,
          0.7749706227967098,
          0.7758519388954173,
          0.782608695652174,
          0.786427732079906,
          0.786427732079906,
          0.7896592244418332,
          0.7861339600470035,
          0.7843713278495887,
          0.7755581668625148,
          0.7749706227967097,
          0.7690951821386603,
          0.7914218566392479,
          0.7931844888366627,
          0.7861339600470035,
          0.7826086956521738,
          0.7867215041128084,
          0.7984723854289072,
          0.7978848413631022,
          0.7867215041128085,
          0.800235017626322,
          0.8090481786133961,
          0.7955346650998825,
          0.7984723854289072,
          0.810223266745006,
          0.799647473560517,
          0.7996474735605171,
          0.8014101057579318,
          0.7937720329024678,
          0.7884841363102233,
          0.7925969447708577,
          0.782021151586369,
          0.7972972972972974,
          0.7984723854289072,
          0.8061104582843713,
          0.8025851938895419,
          0.8037602820211516,
          0.7849588719153937,
          0.8055229142185664,
          0.7890716803760283,
          0.790246768507638,
          0.8061104582843713,
          0.8043478260869567,
          0.7949471210340776,
          0.8072855464159813,
          0.7643948296122209,
          0.8014101057579319,
          0.7831962397179789,
          0.7931844888366627,
          0.7943595769682726,
          0.763807285546416,
          0.8043478260869565,
          0.8014101057579318,
          0.7961222091656875,
          0.7949471210340775,
          0.7808460634547592,
          0.7961222091656874,
          0.8019976498237369,
          0.7925969447708578,
          0.7990599294947122,
          0.7855464159811986,
          0.7978848413631022,
          0.7967097532314923,
          0.8019976498237368,
          0.7937720329024677,
          0.7808460634547592,
          0.8072855464159813,
          0.8008225616921268,
          0.8084606345475911,
          0.799059929494712,
          0.7779083431257344,
          0.799647473560517,
          0.807873090481786,
          0.7990599294947122,
          0.8066980023501763,
          0.8049353701527615,
          0.8078730904817861,
          0.7978848413631022,
          0.8061104582843713,
          0.7943595769682725,
          0.7937720329024677,
          0.7925969447708578,
          0.7878965922444184,
          0.8108108108108109,
          0.7990599294947122,
          0.8061104582843713,
          0.8113983548766158,
          0.8066980023501763,
          0.800822561692127,
          0.799647473560517,
          0.7955346650998826,
          0.8084606345475911
         ],
         "yaxis": "y"
        },
        {
         "marker": {
          "color": [
           0,
           1,
           2,
           3,
           4,
           5,
           6,
           7,
           8,
           9,
           10,
           11,
           12,
           13,
           14,
           15,
           16,
           17,
           18,
           19,
           20,
           21,
           22,
           23,
           24,
           25,
           26,
           27,
           28,
           29,
           30,
           31,
           32,
           33,
           34,
           35,
           36,
           37,
           38,
           39,
           40,
           41,
           42,
           43,
           44,
           45,
           46,
           47,
           48,
           49,
           50,
           51,
           52,
           53,
           54,
           55,
           56,
           57,
           58,
           59,
           60,
           61,
           62,
           63,
           64,
           65,
           66,
           67,
           68,
           69,
           70,
           71,
           72,
           73,
           74,
           75,
           76,
           77,
           78,
           79,
           80,
           81,
           82,
           83,
           84,
           85,
           86,
           87,
           88,
           89,
           90,
           91,
           92,
           93,
           94,
           95,
           96,
           97,
           98,
           99
          ],
          "colorbar": {
           "title": {
            "text": "Trial"
           },
           "x": 1,
           "xpad": 40
          },
          "colorscale": [
           [
            0,
            "rgb(247,251,255)"
           ],
           [
            0.125,
            "rgb(222,235,247)"
           ],
           [
            0.25,
            "rgb(198,219,239)"
           ],
           [
            0.375,
            "rgb(158,202,225)"
           ],
           [
            0.5,
            "rgb(107,174,214)"
           ],
           [
            0.625,
            "rgb(66,146,198)"
           ],
           [
            0.75,
            "rgb(33,113,181)"
           ],
           [
            0.875,
            "rgb(8,81,156)"
           ],
           [
            1,
            "rgb(8,48,107)"
           ]
          ],
          "line": {
           "color": "Grey",
           "width": 0.5
          },
          "showscale": false
         },
         "mode": "markers",
         "showlegend": false,
         "type": "scatter",
         "x": [
          0.07300956912381103,
          0.009504213852402011,
          0.000001296878990833968,
          0.17622599937555278,
          6.392320566806328e-7,
          0.000755973625534084,
          0.029720616134359865,
          7.054505915940924e-7,
          0.005850939903678994,
          1.6306042787166946e-8,
          0.43939518940136413,
          0.00043321981666203556,
          0.8327357677088492,
          0.6950075100435472,
          0.4635752614872781,
          0.07046740207153576,
          0.0017189207193683835,
          0.00007586995361700933,
          0.12983711997513575,
          0.02155476739098728,
          0.14098397420095074,
          0.19606320389480225,
          0.9511913086335095,
          0.1132262019689867,
          0.0191083681440803,
          0.005182276770900198,
          0.0035412573664620095,
          0.004981720659041396,
          0.003716113001966167,
          0.001993031578280917,
          0.00042117044185905575,
          0.0012532334772077847,
          0.002675978267721836,
          0.011210484169598692,
          0.014650276286374032,
          0.02749983578920358,
          0.00013869734899193633,
          0.0012329760288225496,
          0.041280609790852345,
          0.049074920982345754,
          0.0031388494892472278,
          0.016327788343969817,
          0.010018230674091407,
          0.00894614660921456,
          0.009831871735268739,
          0.009618836742138391,
          0.0019847576191537497,
          0.000539523313006103,
          0.002119312324604469,
          0.0009258399359306908,
          0.00020932405954885222,
          0.00018299764242745816,
          0.0009047554128398825,
          0.0014078178510946303,
          0.0007782877295150283,
          0.00003806968710183703,
          0.0003601589741316537,
          0.0019032903764638,
          0.0007813786349028023,
          0.005042912401457974,
          0.0022262354233884805,
          0.0003529903926634187,
          0.0000655887386438167,
          0.00020739172130302585,
          0.0012777326388548546,
          0.003112930697553003,
          0.0007028042548165895,
          0.006069209775811462,
          0.0009962242573900778,
          0.00032491689994870466,
          0.0024418467015099856,
          0.023479701217425868,
          0.00642950506603548,
          0.004587905261651271,
          0.0017334110466079894,
          0.0005363399289024334,
          0.001301295169117868,
          0.0017123253784437082,
          0.003690802095027231,
          0.0008805094935735331,
          0.012533173687885259,
          0.015484725780716862,
          0.00891390146135794,
          0.037438394377663595,
          0.006924338666672762,
          0.009870846426922531,
          0.014717635061405067,
          0.025454033177825443,
          0.0069407281233212275,
          0.07203017083337208,
          0.0034477620802948208,
          0.007585176050997375,
          0.009087978515640829,
          0.003067544976908718,
          0.00579012414041011,
          0.006458209723667026,
          0.01677034988363267,
          0.004326163501885773,
          0.0025819279617568195,
          0.001404092930880817
         ],
         "xaxis": "x2",
         "y": [
          0.7364864864864865,
          0.7708578143360753,
          0.7643948296122208,
          0.7867215041128085,
          0.782021151586369,
          0.7837837837837839,
          0.7749706227967098,
          0.745005875440658,
          0.7561692126909518,
          0.7749706227967098,
          0.7758519388954173,
          0.782608695652174,
          0.786427732079906,
          0.786427732079906,
          0.7896592244418332,
          0.7861339600470035,
          0.7843713278495887,
          0.7755581668625148,
          0.7749706227967097,
          0.7690951821386603,
          0.7914218566392479,
          0.7931844888366627,
          0.7861339600470035,
          0.7826086956521738,
          0.7867215041128084,
          0.7984723854289072,
          0.7978848413631022,
          0.7867215041128085,
          0.800235017626322,
          0.8090481786133961,
          0.7955346650998825,
          0.7984723854289072,
          0.810223266745006,
          0.799647473560517,
          0.7996474735605171,
          0.8014101057579318,
          0.7937720329024678,
          0.7884841363102233,
          0.7925969447708577,
          0.782021151586369,
          0.7972972972972974,
          0.7984723854289072,
          0.8061104582843713,
          0.8025851938895419,
          0.8037602820211516,
          0.7849588719153937,
          0.8055229142185664,
          0.7890716803760283,
          0.790246768507638,
          0.8061104582843713,
          0.8043478260869567,
          0.7949471210340776,
          0.8072855464159813,
          0.7643948296122209,
          0.8014101057579319,
          0.7831962397179789,
          0.7931844888366627,
          0.7943595769682726,
          0.763807285546416,
          0.8043478260869565,
          0.8014101057579318,
          0.7961222091656875,
          0.7949471210340775,
          0.7808460634547592,
          0.7961222091656874,
          0.8019976498237369,
          0.7925969447708578,
          0.7990599294947122,
          0.7855464159811986,
          0.7978848413631022,
          0.7967097532314923,
          0.8019976498237368,
          0.7937720329024677,
          0.7808460634547592,
          0.8072855464159813,
          0.8008225616921268,
          0.8084606345475911,
          0.799059929494712,
          0.7779083431257344,
          0.799647473560517,
          0.807873090481786,
          0.7990599294947122,
          0.8066980023501763,
          0.8049353701527615,
          0.8078730904817861,
          0.7978848413631022,
          0.8061104582843713,
          0.7943595769682725,
          0.7937720329024677,
          0.7925969447708578,
          0.7878965922444184,
          0.8108108108108109,
          0.7990599294947122,
          0.8061104582843713,
          0.8113983548766158,
          0.8066980023501763,
          0.800822561692127,
          0.799647473560517,
          0.7955346650998826,
          0.8084606345475911
         ],
         "yaxis": "y2"
        },
        {
         "marker": {
          "color": [
           0,
           1,
           2,
           3,
           4,
           5,
           6,
           7,
           8,
           9,
           10,
           11,
           12,
           13,
           14,
           15,
           16,
           17,
           18,
           19,
           20,
           21,
           22,
           23,
           24,
           25,
           26,
           27,
           28,
           29,
           30,
           31,
           32,
           33,
           34,
           35,
           36,
           37,
           38,
           39,
           40,
           41,
           42,
           43,
           44,
           45,
           46,
           47,
           48,
           49,
           50,
           51,
           52,
           53,
           54,
           55,
           56,
           57,
           58,
           59,
           60,
           61,
           62,
           63,
           64,
           65,
           66,
           67,
           68,
           69,
           70,
           71,
           72,
           73,
           74,
           75,
           76,
           77,
           78,
           79,
           80,
           81,
           82,
           83,
           84,
           85,
           86,
           87,
           88,
           89,
           90,
           91,
           92,
           93,
           94,
           95,
           96,
           97,
           98,
           99
          ],
          "colorbar": {
           "title": {
            "text": "Trial"
           },
           "x": 1,
           "xpad": 40
          },
          "colorscale": [
           [
            0,
            "rgb(247,251,255)"
           ],
           [
            0.125,
            "rgb(222,235,247)"
           ],
           [
            0.25,
            "rgb(198,219,239)"
           ],
           [
            0.375,
            "rgb(158,202,225)"
           ],
           [
            0.5,
            "rgb(107,174,214)"
           ],
           [
            0.625,
            "rgb(66,146,198)"
           ],
           [
            0.75,
            "rgb(33,113,181)"
           ],
           [
            0.875,
            "rgb(8,81,156)"
           ],
           [
            1,
            "rgb(8,48,107)"
           ]
          ],
          "line": {
           "color": "Grey",
           "width": 0.5
          },
          "showscale": false
         },
         "mode": "markers",
         "showlegend": false,
         "type": "scatter",
         "x": [
          0.0005181413411290862,
          0.017882676486466208,
          0.022963023935020938,
          0.015968184363725834,
          0.002301731242640459,
          0.0005261483259702718,
          0.000194682310460768,
          0.005174727881795693,
          0.001762537414557478,
          0.06001444052368202,
          0.07213051185464665,
          0.0001573755940013171,
          0.0005730901938693053,
          0.007298520305399412,
          0.0012279029492335597,
          0.009508438839778817,
          0.003252574288895205,
          0.0013153527701411359,
          0.017661391272984907,
          0.003731815231743747,
          0.008383728571258405,
          0.007604848401738732,
          0.006619283210859625,
          0.0013326671218615192,
          0.0034561448525368683,
          0.010443088991717638,
          0.011259857741475993,
          0.03154361513331083,
          0.0113228848645017,
          0.012098454133558293,
          0.03009781135457431,
          0.012238852049396728,
          0.012512238633035817,
          0.014663871669778396,
          0.020114579202288065,
          0.028880343099338613,
          0.04414510181831488,
          0.025518485555540486,
          0.015615753529235747,
          0.04484975959596928,
          0.09604223213133267,
          0.021570354974346603,
          0.020152565463429205,
          0.005048663216172617,
          0.005036921393414951,
          0.006202763078046201,
          0.0054897085126133826,
          0.0024123500258106455,
          0.005350376137645791,
          0.014077170414325468,
          0.014024954484230795,
          0.014048612187621217,
          0.016979799728548132,
          0.008865043221356452,
          0.018896585191214635,
          0.021912408259379,
          0.00879846538780822,
          0.016053301044315224,
          0.011622772009589563,
          0.0073338925661852504,
          0.018217501262724523,
          0.012493577466261067,
          0.014074038054057094,
          0.009988357452356033,
          0.024016276000545157,
          0.008600972629225512,
          0.016416890682736062,
          0.010441685215887607,
          0.01309027725223085,
          0.035569261743988695,
          0.02615719254328334,
          0.0074775654770799825,
          0.006494112616652564,
          0.01988722448044071,
          0.0095416174511359,
          0.010641451260969064,
          0.016585675624000727,
          0.01800446113683275,
          0.004410206375146473,
          0.008917669997856459,
          0.024074548757761955,
          0.024787204832529712,
          0.016313268995142707,
          0.01637688356584453,
          0.02190200808345158,
          0.030763270271769585,
          0.02080133040507645,
          0.03970227871520979,
          0.022973153192014997,
          0.028966789392776297,
          0.034153900947526995,
          0.012966759843708653,
          0.012591815421389397,
          0.01646457888749553,
          0.020157412965536938,
          0.026770128356252604,
          0.018079938868335862,
          0.011315111072012348,
          0.023296838194685414,
          0.014261637619446332
         ],
         "xaxis": "x3",
         "y": [
          0.7364864864864865,
          0.7708578143360753,
          0.7643948296122208,
          0.7867215041128085,
          0.782021151586369,
          0.7837837837837839,
          0.7749706227967098,
          0.745005875440658,
          0.7561692126909518,
          0.7749706227967098,
          0.7758519388954173,
          0.782608695652174,
          0.786427732079906,
          0.786427732079906,
          0.7896592244418332,
          0.7861339600470035,
          0.7843713278495887,
          0.7755581668625148,
          0.7749706227967097,
          0.7690951821386603,
          0.7914218566392479,
          0.7931844888366627,
          0.7861339600470035,
          0.7826086956521738,
          0.7867215041128084,
          0.7984723854289072,
          0.7978848413631022,
          0.7867215041128085,
          0.800235017626322,
          0.8090481786133961,
          0.7955346650998825,
          0.7984723854289072,
          0.810223266745006,
          0.799647473560517,
          0.7996474735605171,
          0.8014101057579318,
          0.7937720329024678,
          0.7884841363102233,
          0.7925969447708577,
          0.782021151586369,
          0.7972972972972974,
          0.7984723854289072,
          0.8061104582843713,
          0.8025851938895419,
          0.8037602820211516,
          0.7849588719153937,
          0.8055229142185664,
          0.7890716803760283,
          0.790246768507638,
          0.8061104582843713,
          0.8043478260869567,
          0.7949471210340776,
          0.8072855464159813,
          0.7643948296122209,
          0.8014101057579319,
          0.7831962397179789,
          0.7931844888366627,
          0.7943595769682726,
          0.763807285546416,
          0.8043478260869565,
          0.8014101057579318,
          0.7961222091656875,
          0.7949471210340775,
          0.7808460634547592,
          0.7961222091656874,
          0.8019976498237369,
          0.7925969447708578,
          0.7990599294947122,
          0.7855464159811986,
          0.7978848413631022,
          0.7967097532314923,
          0.8019976498237368,
          0.7937720329024677,
          0.7808460634547592,
          0.8072855464159813,
          0.8008225616921268,
          0.8084606345475911,
          0.799059929494712,
          0.7779083431257344,
          0.799647473560517,
          0.807873090481786,
          0.7990599294947122,
          0.8066980023501763,
          0.8049353701527615,
          0.8078730904817861,
          0.7978848413631022,
          0.8061104582843713,
          0.7943595769682725,
          0.7937720329024677,
          0.7925969447708578,
          0.7878965922444184,
          0.8108108108108109,
          0.7990599294947122,
          0.8061104582843713,
          0.8113983548766158,
          0.8066980023501763,
          0.800822561692127,
          0.799647473560517,
          0.7955346650998826,
          0.8084606345475911
         ],
         "yaxis": "y3"
        },
        {
         "marker": {
          "color": [
           0,
           1,
           2,
           3,
           4,
           5,
           6,
           7,
           8,
           9,
           10,
           11,
           12,
           13,
           14,
           15,
           16,
           17,
           18,
           19,
           20,
           21,
           22,
           23,
           24,
           25,
           26,
           27,
           28,
           29,
           30,
           31,
           32,
           33,
           34,
           35,
           36,
           37,
           38,
           39,
           40,
           41,
           42,
           43,
           44,
           45,
           46,
           47,
           48,
           49,
           50,
           51,
           52,
           53,
           54,
           55,
           56,
           57,
           58,
           59,
           60,
           61,
           62,
           63,
           64,
           65,
           66,
           67,
           68,
           69,
           70,
           71,
           72,
           73,
           74,
           75,
           76,
           77,
           78,
           79,
           80,
           81,
           82,
           83,
           84,
           85,
           86,
           87,
           88,
           89,
           90,
           91,
           92,
           93,
           94,
           95,
           96,
           97,
           98,
           99
          ],
          "colorbar": {
           "title": {
            "text": "Trial"
           },
           "x": 1,
           "xpad": 40
          },
          "colorscale": [
           [
            0,
            "rgb(247,251,255)"
           ],
           [
            0.125,
            "rgb(222,235,247)"
           ],
           [
            0.25,
            "rgb(198,219,239)"
           ],
           [
            0.375,
            "rgb(158,202,225)"
           ],
           [
            0.5,
            "rgb(107,174,214)"
           ],
           [
            0.625,
            "rgb(66,146,198)"
           ],
           [
            0.75,
            "rgb(33,113,181)"
           ],
           [
            0.875,
            "rgb(8,81,156)"
           ],
           [
            1,
            "rgb(8,48,107)"
           ]
          ],
          "line": {
           "color": "Grey",
           "width": 0.5
          },
          "showscale": false
         },
         "mode": "markers",
         "showlegend": false,
         "type": "scatter",
         "x": [
          6,
          4,
          8,
          7,
          10,
          7,
          7,
          6,
          7,
          3,
          10,
          8,
          5,
          5,
          5,
          3,
          5,
          9,
          4,
          8,
          6,
          6,
          6,
          4,
          5,
          6,
          6,
          6,
          8,
          9,
          9,
          9,
          9,
          9,
          9,
          10,
          10,
          10,
          8,
          8,
          10,
          9,
          9,
          10,
          10,
          10,
          9,
          9,
          7,
          8,
          8,
          8,
          9,
          9,
          9,
          9,
          7,
          8,
          9,
          8,
          9,
          8,
          7,
          9,
          8,
          8,
          9,
          7,
          9,
          8,
          10,
          8,
          9,
          8,
          7,
          7,
          9,
          9,
          10,
          9,
          9,
          9,
          9,
          9,
          10,
          10,
          10,
          4,
          10,
          3,
          10,
          9,
          9,
          9,
          9,
          9,
          9,
          10,
          9,
          10
         ],
         "xaxis": "x4",
         "y": [
          0.7364864864864865,
          0.7708578143360753,
          0.7643948296122208,
          0.7867215041128085,
          0.782021151586369,
          0.7837837837837839,
          0.7749706227967098,
          0.745005875440658,
          0.7561692126909518,
          0.7749706227967098,
          0.7758519388954173,
          0.782608695652174,
          0.786427732079906,
          0.786427732079906,
          0.7896592244418332,
          0.7861339600470035,
          0.7843713278495887,
          0.7755581668625148,
          0.7749706227967097,
          0.7690951821386603,
          0.7914218566392479,
          0.7931844888366627,
          0.7861339600470035,
          0.7826086956521738,
          0.7867215041128084,
          0.7984723854289072,
          0.7978848413631022,
          0.7867215041128085,
          0.800235017626322,
          0.8090481786133961,
          0.7955346650998825,
          0.7984723854289072,
          0.810223266745006,
          0.799647473560517,
          0.7996474735605171,
          0.8014101057579318,
          0.7937720329024678,
          0.7884841363102233,
          0.7925969447708577,
          0.782021151586369,
          0.7972972972972974,
          0.7984723854289072,
          0.8061104582843713,
          0.8025851938895419,
          0.8037602820211516,
          0.7849588719153937,
          0.8055229142185664,
          0.7890716803760283,
          0.790246768507638,
          0.8061104582843713,
          0.8043478260869567,
          0.7949471210340776,
          0.8072855464159813,
          0.7643948296122209,
          0.8014101057579319,
          0.7831962397179789,
          0.7931844888366627,
          0.7943595769682726,
          0.763807285546416,
          0.8043478260869565,
          0.8014101057579318,
          0.7961222091656875,
          0.7949471210340775,
          0.7808460634547592,
          0.7961222091656874,
          0.8019976498237369,
          0.7925969447708578,
          0.7990599294947122,
          0.7855464159811986,
          0.7978848413631022,
          0.7967097532314923,
          0.8019976498237368,
          0.7937720329024677,
          0.7808460634547592,
          0.8072855464159813,
          0.8008225616921268,
          0.8084606345475911,
          0.799059929494712,
          0.7779083431257344,
          0.799647473560517,
          0.807873090481786,
          0.7990599294947122,
          0.8066980023501763,
          0.8049353701527615,
          0.8078730904817861,
          0.7978848413631022,
          0.8061104582843713,
          0.7943595769682725,
          0.7937720329024677,
          0.7925969447708578,
          0.7878965922444184,
          0.8108108108108109,
          0.7990599294947122,
          0.8061104582843713,
          0.8113983548766158,
          0.8066980023501763,
          0.800822561692127,
          0.799647473560517,
          0.7955346650998826,
          0.8084606345475911
         ],
         "yaxis": "y4"
        },
        {
         "marker": {
          "color": [
           0,
           1,
           2,
           3,
           4,
           5,
           6,
           7,
           8,
           9,
           10,
           11,
           12,
           13,
           14,
           15,
           16,
           17,
           18,
           19,
           20,
           21,
           22,
           23,
           24,
           25,
           26,
           27,
           28,
           29,
           30,
           31,
           32,
           33,
           34,
           35,
           36,
           37,
           38,
           39,
           40,
           41,
           42,
           43,
           44,
           45,
           46,
           47,
           48,
           49,
           50,
           51,
           52,
           53,
           54,
           55,
           56,
           57,
           58,
           59,
           60,
           61,
           62,
           63,
           64,
           65,
           66,
           67,
           68,
           69,
           70,
           71,
           72,
           73,
           74,
           75,
           76,
           77,
           78,
           79,
           80,
           81,
           82,
           83,
           84,
           85,
           86,
           87,
           88,
           89,
           90,
           91,
           92,
           93,
           94,
           95,
           96,
           97,
           98,
           99
          ],
          "colorbar": {
           "title": {
            "text": "Trial"
           },
           "x": 1,
           "xpad": 40
          },
          "colorscale": [
           [
            0,
            "rgb(247,251,255)"
           ],
           [
            0.125,
            "rgb(222,235,247)"
           ],
           [
            0.25,
            "rgb(198,219,239)"
           ],
           [
            0.375,
            "rgb(158,202,225)"
           ],
           [
            0.5,
            "rgb(107,174,214)"
           ],
           [
            0.625,
            "rgb(66,146,198)"
           ],
           [
            0.75,
            "rgb(33,113,181)"
           ],
           [
            0.875,
            "rgb(8,81,156)"
           ],
           [
            1,
            "rgb(8,48,107)"
           ]
          ],
          "line": {
           "color": "Grey",
           "width": 0.5
          },
          "showscale": false
         },
         "mode": "markers",
         "showlegend": false,
         "type": "scatter",
         "x": [
          10,
          2,
          5,
          8,
          5,
          5,
          3,
          7,
          1,
          3,
          9,
          7,
          7,
          8,
          7,
          10,
          8,
          6,
          9,
          6,
          4,
          4,
          4,
          4,
          4,
          3,
          2,
          1,
          2,
          2,
          2,
          2,
          3,
          3,
          1,
          1,
          2,
          1,
          1,
          3,
          2,
          1,
          1,
          2,
          1,
          3,
          2,
          1,
          3,
          2,
          2,
          2,
          2,
          3,
          2,
          5,
          3,
          2,
          1,
          2,
          3,
          2,
          2,
          1,
          3,
          2,
          4,
          1,
          6,
          2,
          3,
          2,
          2,
          1,
          2,
          1,
          3,
          4,
          5,
          3,
          3,
          4,
          3,
          3,
          4,
          4,
          3,
          4,
          3,
          5,
          3,
          3,
          4,
          3,
          3,
          3,
          4,
          3,
          4,
          3
         ],
         "xaxis": "x5",
         "y": [
          0.7364864864864865,
          0.7708578143360753,
          0.7643948296122208,
          0.7867215041128085,
          0.782021151586369,
          0.7837837837837839,
          0.7749706227967098,
          0.745005875440658,
          0.7561692126909518,
          0.7749706227967098,
          0.7758519388954173,
          0.782608695652174,
          0.786427732079906,
          0.786427732079906,
          0.7896592244418332,
          0.7861339600470035,
          0.7843713278495887,
          0.7755581668625148,
          0.7749706227967097,
          0.7690951821386603,
          0.7914218566392479,
          0.7931844888366627,
          0.7861339600470035,
          0.7826086956521738,
          0.7867215041128084,
          0.7984723854289072,
          0.7978848413631022,
          0.7867215041128085,
          0.800235017626322,
          0.8090481786133961,
          0.7955346650998825,
          0.7984723854289072,
          0.810223266745006,
          0.799647473560517,
          0.7996474735605171,
          0.8014101057579318,
          0.7937720329024678,
          0.7884841363102233,
          0.7925969447708577,
          0.782021151586369,
          0.7972972972972974,
          0.7984723854289072,
          0.8061104582843713,
          0.8025851938895419,
          0.8037602820211516,
          0.7849588719153937,
          0.8055229142185664,
          0.7890716803760283,
          0.790246768507638,
          0.8061104582843713,
          0.8043478260869567,
          0.7949471210340776,
          0.8072855464159813,
          0.7643948296122209,
          0.8014101057579319,
          0.7831962397179789,
          0.7931844888366627,
          0.7943595769682726,
          0.763807285546416,
          0.8043478260869565,
          0.8014101057579318,
          0.7961222091656875,
          0.7949471210340775,
          0.7808460634547592,
          0.7961222091656874,
          0.8019976498237369,
          0.7925969447708578,
          0.7990599294947122,
          0.7855464159811986,
          0.7978848413631022,
          0.7967097532314923,
          0.8019976498237368,
          0.7937720329024677,
          0.7808460634547592,
          0.8072855464159813,
          0.8008225616921268,
          0.8084606345475911,
          0.799059929494712,
          0.7779083431257344,
          0.799647473560517,
          0.807873090481786,
          0.7990599294947122,
          0.8066980023501763,
          0.8049353701527615,
          0.8078730904817861,
          0.7978848413631022,
          0.8061104582843713,
          0.7943595769682725,
          0.7937720329024677,
          0.7925969447708578,
          0.7878965922444184,
          0.8108108108108109,
          0.7990599294947122,
          0.8061104582843713,
          0.8113983548766158,
          0.8066980023501763,
          0.800822561692127,
          0.799647473560517,
          0.7955346650998826,
          0.8084606345475911
         ],
         "yaxis": "y5"
        },
        {
         "marker": {
          "color": [
           0,
           1,
           2,
           3,
           4,
           5,
           6,
           7,
           8,
           9,
           10,
           11,
           12,
           13,
           14,
           15,
           16,
           17,
           18,
           19,
           20,
           21,
           22,
           23,
           24,
           25,
           26,
           27,
           28,
           29,
           30,
           31,
           32,
           33,
           34,
           35,
           36,
           37,
           38,
           39,
           40,
           41,
           42,
           43,
           44,
           45,
           46,
           47,
           48,
           49,
           50,
           51,
           52,
           53,
           54,
           55,
           56,
           57,
           58,
           59,
           60,
           61,
           62,
           63,
           64,
           65,
           66,
           67,
           68,
           69,
           70,
           71,
           72,
           73,
           74,
           75,
           76,
           77,
           78,
           79,
           80,
           81,
           82,
           83,
           84,
           85,
           86,
           87,
           88,
           89,
           90,
           91,
           92,
           93,
           94,
           95,
           96,
           97,
           98,
           99
          ],
          "colorbar": {
           "title": {
            "text": "Trial"
           },
           "x": 1,
           "xpad": 40
          },
          "colorscale": [
           [
            0,
            "rgb(247,251,255)"
           ],
           [
            0.125,
            "rgb(222,235,247)"
           ],
           [
            0.25,
            "rgb(198,219,239)"
           ],
           [
            0.375,
            "rgb(158,202,225)"
           ],
           [
            0.5,
            "rgb(107,174,214)"
           ],
           [
            0.625,
            "rgb(66,146,198)"
           ],
           [
            0.75,
            "rgb(33,113,181)"
           ],
           [
            0.875,
            "rgb(8,81,156)"
           ],
           [
            1,
            "rgb(8,48,107)"
           ]
          ],
          "line": {
           "color": "Grey",
           "width": 0.5
          },
          "showscale": false
         },
         "mode": "markers",
         "showlegend": false,
         "type": "scatter",
         "x": [
          605,
          374,
          376,
          214,
          168,
          187,
          903,
          750,
          255,
          845,
          521,
          117,
          319,
          314,
          500,
          528,
          621,
          463,
          705,
          436,
          235,
          237,
          104,
          267,
          400,
          286,
          281,
          1000,
          303,
          322,
          598,
          341,
          335,
          365,
          376,
          405,
          428,
          170,
          469,
          589,
          194,
          393,
          357,
          342,
          334,
          347,
          332,
          218,
          477,
          267,
          141,
          162,
          142,
          194,
          143,
          253,
          290,
          210,
          435,
          260,
          309,
          161,
          125,
          104,
          148,
          233,
          739,
          314,
          379,
          272,
          663,
          252,
          181,
          215,
          269,
          131,
          359,
          417,
          364,
          560,
          327,
          329,
          289,
          294,
          353,
          355,
          452,
          406,
          505,
          393,
          383,
          288,
          312,
          287,
          362,
          234,
          342,
          317,
          295,
          451
         ],
         "xaxis": "x6",
         "y": [
          0.7364864864864865,
          0.7708578143360753,
          0.7643948296122208,
          0.7867215041128085,
          0.782021151586369,
          0.7837837837837839,
          0.7749706227967098,
          0.745005875440658,
          0.7561692126909518,
          0.7749706227967098,
          0.7758519388954173,
          0.782608695652174,
          0.786427732079906,
          0.786427732079906,
          0.7896592244418332,
          0.7861339600470035,
          0.7843713278495887,
          0.7755581668625148,
          0.7749706227967097,
          0.7690951821386603,
          0.7914218566392479,
          0.7931844888366627,
          0.7861339600470035,
          0.7826086956521738,
          0.7867215041128084,
          0.7984723854289072,
          0.7978848413631022,
          0.7867215041128085,
          0.800235017626322,
          0.8090481786133961,
          0.7955346650998825,
          0.7984723854289072,
          0.810223266745006,
          0.799647473560517,
          0.7996474735605171,
          0.8014101057579318,
          0.7937720329024678,
          0.7884841363102233,
          0.7925969447708577,
          0.782021151586369,
          0.7972972972972974,
          0.7984723854289072,
          0.8061104582843713,
          0.8025851938895419,
          0.8037602820211516,
          0.7849588719153937,
          0.8055229142185664,
          0.7890716803760283,
          0.790246768507638,
          0.8061104582843713,
          0.8043478260869567,
          0.7949471210340776,
          0.8072855464159813,
          0.7643948296122209,
          0.8014101057579319,
          0.7831962397179789,
          0.7931844888366627,
          0.7943595769682726,
          0.763807285546416,
          0.8043478260869565,
          0.8014101057579318,
          0.7961222091656875,
          0.7949471210340775,
          0.7808460634547592,
          0.7961222091656874,
          0.8019976498237369,
          0.7925969447708578,
          0.7990599294947122,
          0.7855464159811986,
          0.7978848413631022,
          0.7967097532314923,
          0.8019976498237368,
          0.7937720329024677,
          0.7808460634547592,
          0.8072855464159813,
          0.8008225616921268,
          0.8084606345475911,
          0.799059929494712,
          0.7779083431257344,
          0.799647473560517,
          0.807873090481786,
          0.7990599294947122,
          0.8066980023501763,
          0.8049353701527615,
          0.8078730904817861,
          0.7978848413631022,
          0.8061104582843713,
          0.7943595769682725,
          0.7937720329024677,
          0.7925969447708578,
          0.7878965922444184,
          0.8108108108108109,
          0.7990599294947122,
          0.8061104582843713,
          0.8113983548766158,
          0.8066980023501763,
          0.800822561692127,
          0.799647473560517,
          0.7955346650998826,
          0.8084606345475911
         ],
         "yaxis": "y6"
        },
        {
         "marker": {
          "color": [
           0,
           1,
           2,
           3,
           4,
           5,
           6,
           7,
           8,
           9,
           10,
           11,
           12,
           13,
           14,
           15,
           16,
           17,
           18,
           19,
           20,
           21,
           22,
           23,
           24,
           25,
           26,
           27,
           28,
           29,
           30,
           31,
           32,
           33,
           34,
           35,
           36,
           37,
           38,
           39,
           40,
           41,
           42,
           43,
           44,
           45,
           46,
           47,
           48,
           49,
           50,
           51,
           52,
           53,
           54,
           55,
           56,
           57,
           58,
           59,
           60,
           61,
           62,
           63,
           64,
           65,
           66,
           67,
           68,
           69,
           70,
           71,
           72,
           73,
           74,
           75,
           76,
           77,
           78,
           79,
           80,
           81,
           82,
           83,
           84,
           85,
           86,
           87,
           88,
           89,
           90,
           91,
           92,
           93,
           94,
           95,
           96,
           97,
           98,
           99
          ],
          "colorbar": {
           "title": {
            "text": "Trial"
           },
           "x": 1,
           "xpad": 40
          },
          "colorscale": [
           [
            0,
            "rgb(247,251,255)"
           ],
           [
            0.125,
            "rgb(222,235,247)"
           ],
           [
            0.25,
            "rgb(198,219,239)"
           ],
           [
            0.375,
            "rgb(158,202,225)"
           ],
           [
            0.5,
            "rgb(107,174,214)"
           ],
           [
            0.625,
            "rgb(66,146,198)"
           ],
           [
            0.75,
            "rgb(33,113,181)"
           ],
           [
            0.875,
            "rgb(8,81,156)"
           ],
           [
            1,
            "rgb(8,48,107)"
           ]
          ],
          "line": {
           "color": "Grey",
           "width": 0.5
          },
          "showscale": false
         },
         "mode": "markers",
         "showlegend": false,
         "type": "scatter",
         "x": [
          0.0885563544648004,
          0.0000015061567922186324,
          0.013583620087837563,
          6.113967788774868e-8,
          0.0656236988031284,
          4.7049617371706455e-7,
          9.374702759656133e-7,
          0.019704094856011125,
          0.022308121137544566,
          0.0002043988984595776,
          1.2531975774644669e-8,
          1.1214593216757406e-8,
          3.7279910585627464e-7,
          2.1756803971207354e-7,
          0.000018593660804537902,
          0.00002230959483402095,
          0.0002014617879342441,
          0.00001774962547299068,
          0.0010439857624881662,
          0.7376954485496894,
          0.0000039539958393725975,
          0.00001268020167504971,
          0.0000043548309263379305,
          0.000010124914675403791,
          0.000060140849356863355,
          0.000004325901279824105,
          0.0000037783455996007795,
          0.0000035655520805133837,
          0.0000652975464514439,
          0.0005659685034201647,
          0.0020774302291208754,
          0.00007042548828898061,
          0.00008050914212191055,
          0.0007201792021363211,
          0.0007527482748886471,
          0.004691145477442522,
          0.00022751716057495345,
          0.0027441202198789302,
          0.005336267339565787,
          0.00047598358899195913,
          0.007325595089666115,
          0.00043666723080741654,
          0.0011815913468521456,
          0.001697881490190167,
          0.0016552331687060904,
          0.0016820037775742767,
          0.010490899029671118,
          0.0172222042088014,
          0.040863117492233925,
          0.009251557482366791,
          0.006127008673606977,
          0.00939679842083177,
          0.012722130912851697,
          0.034906250761894596,
          0.01773072465928505,
          0.06546782842577244,
          0.012773442009085844,
          0.14610992266235648,
          0.003277383055113438,
          0.004471067596879805,
          0.00011984566157993899,
          0.011219773582956213,
          0.006676262955914742,
          0.0010121657379208466,
          0.003813295418299094,
          0.007744847741716068,
          0.02822973475404512,
          0.0003980241823748054,
          0.0023117856067025313,
          0.0011142800042535578,
          0.020305167839265052,
          0.0031784556923796243,
          0.004328656439546973,
          0.005081536996193014,
          0.015740156867197565,
          0.009845510833233057,
          0.011898868879644562,
          0.013821890715156951,
          0.060269098495096804,
          0.025570243551729457,
          0.13930856131358224,
          0.1540739905275613,
          0.05473060975385023,
          0.1047487092665676,
          0.03743144428059545,
          0.2901046382636795,
          0.02114880222249005,
          0.05446523920346733,
          0.036312490984122994,
          0.08458449299749198,
          0.03498160696248807,
          0.04870962495153901,
          0.04631117665771824,
          0.01584858959466215,
          0.027457211745494217,
          0.026210765908050892,
          0.0868468522485719,
          0.05487725103378686,
          0.13387885380766046,
          0.2269894399899061
         ],
         "xaxis": "x7",
         "y": [
          0.7364864864864865,
          0.7708578143360753,
          0.7643948296122208,
          0.7867215041128085,
          0.782021151586369,
          0.7837837837837839,
          0.7749706227967098,
          0.745005875440658,
          0.7561692126909518,
          0.7749706227967098,
          0.7758519388954173,
          0.782608695652174,
          0.786427732079906,
          0.786427732079906,
          0.7896592244418332,
          0.7861339600470035,
          0.7843713278495887,
          0.7755581668625148,
          0.7749706227967097,
          0.7690951821386603,
          0.7914218566392479,
          0.7931844888366627,
          0.7861339600470035,
          0.7826086956521738,
          0.7867215041128084,
          0.7984723854289072,
          0.7978848413631022,
          0.7867215041128085,
          0.800235017626322,
          0.8090481786133961,
          0.7955346650998825,
          0.7984723854289072,
          0.810223266745006,
          0.799647473560517,
          0.7996474735605171,
          0.8014101057579318,
          0.7937720329024678,
          0.7884841363102233,
          0.7925969447708577,
          0.782021151586369,
          0.7972972972972974,
          0.7984723854289072,
          0.8061104582843713,
          0.8025851938895419,
          0.8037602820211516,
          0.7849588719153937,
          0.8055229142185664,
          0.7890716803760283,
          0.790246768507638,
          0.8061104582843713,
          0.8043478260869567,
          0.7949471210340776,
          0.8072855464159813,
          0.7643948296122209,
          0.8014101057579319,
          0.7831962397179789,
          0.7931844888366627,
          0.7943595769682726,
          0.763807285546416,
          0.8043478260869565,
          0.8014101057579318,
          0.7961222091656875,
          0.7949471210340775,
          0.7808460634547592,
          0.7961222091656874,
          0.8019976498237369,
          0.7925969447708578,
          0.7990599294947122,
          0.7855464159811986,
          0.7978848413631022,
          0.7967097532314923,
          0.8019976498237368,
          0.7937720329024677,
          0.7808460634547592,
          0.8072855464159813,
          0.8008225616921268,
          0.8084606345475911,
          0.799059929494712,
          0.7779083431257344,
          0.799647473560517,
          0.807873090481786,
          0.7990599294947122,
          0.8066980023501763,
          0.8049353701527615,
          0.8078730904817861,
          0.7978848413631022,
          0.8061104582843713,
          0.7943595769682725,
          0.7937720329024677,
          0.7925969447708578,
          0.7878965922444184,
          0.8108108108108109,
          0.7990599294947122,
          0.8061104582843713,
          0.8113983548766158,
          0.8066980023501763,
          0.800822561692127,
          0.799647473560517,
          0.7955346650998826,
          0.8084606345475911
         ],
         "yaxis": "y7"
        },
        {
         "marker": {
          "color": [
           0,
           1,
           2,
           3,
           4,
           5,
           6,
           7,
           8,
           9,
           10,
           11,
           12,
           13,
           14,
           15,
           16,
           17,
           18,
           19,
           20,
           21,
           22,
           23,
           24,
           25,
           26,
           27,
           28,
           29,
           30,
           31,
           32,
           33,
           34,
           35,
           36,
           37,
           38,
           39,
           40,
           41,
           42,
           43,
           44,
           45,
           46,
           47,
           48,
           49,
           50,
           51,
           52,
           53,
           54,
           55,
           56,
           57,
           58,
           59,
           60,
           61,
           62,
           63,
           64,
           65,
           66,
           67,
           68,
           69,
           70,
           71,
           72,
           73,
           74,
           75,
           76,
           77,
           78,
           79,
           80,
           81,
           82,
           83,
           84,
           85,
           86,
           87,
           88,
           89,
           90,
           91,
           92,
           93,
           94,
           95,
           96,
           97,
           98,
           99
          ],
          "colorbar": {
           "title": {
            "text": "Trial"
           },
           "x": 1,
           "xpad": 40
          },
          "colorscale": [
           [
            0,
            "rgb(247,251,255)"
           ],
           [
            0.125,
            "rgb(222,235,247)"
           ],
           [
            0.25,
            "rgb(198,219,239)"
           ],
           [
            0.375,
            "rgb(158,202,225)"
           ],
           [
            0.5,
            "rgb(107,174,214)"
           ],
           [
            0.625,
            "rgb(66,146,198)"
           ],
           [
            0.75,
            "rgb(33,113,181)"
           ],
           [
            0.875,
            "rgb(8,81,156)"
           ],
           [
            1,
            "rgb(8,48,107)"
           ]
          ],
          "line": {
           "color": "Grey",
           "width": 0.5
          },
          "showscale": false
         },
         "mode": "markers",
         "showlegend": false,
         "type": "scatter",
         "x": [
          0.011078960713779534,
          0.0000025291511885305995,
          5.0469411338748304e-8,
          2.2738739791359034e-7,
          0.00514276301773654,
          0.049105234206403885,
          0.0021473401630025995,
          9.864815299694575e-8,
          0.000006205904971632868,
          0.007580888706390847,
          0.3975968401077895,
          0.00006452721893728954,
          1.1380300765335809e-8,
          1.1725387277859025e-8,
          1.7499613061605308e-7,
          0.0000020531893508219538,
          2.6652765234383275e-7,
          3.68449667997456e-7,
          0.000045439452655005584,
          0.0000011154715192746789,
          0.000006190709320745918,
          0.000022737905259849144,
          0.00001454458257703188,
          0.00042360264868708525,
          0.000017695027408383237,
          0.00023374524675780692,
          0.00016384176875133125,
          0.00038154708950912503,
          0.00020713149862328678,
          0.00022373273282078775,
          0.0013102053737334032,
          0.00012302724123627295,
          0.00014765328230091702,
          0.0003948023374403548,
          0.0007137509653462427,
          0.0011170654841677747,
          0.0022810293517718785,
          0.000086411575535757,
          0.0226835019249252,
          0.0012563713021132687,
          0.00608196963578896,
          0.0005613968336430494,
          0.000852683494479645,
          0.0029531206798472567,
          0.002953268859774409,
          0.0026490290217112142,
          0.018136766656023987,
          0.014896551132304101,
          0.04829082881813692,
          0.005430590183964598,
          0.009339773574121017,
          0.007264152488049227,
          0.01535607659448876,
          0.1242400809915304,
          0.015631170385062194,
          0.00503341130214427,
          0.029637714082840057,
          0.0010160424871364215,
          0.15621258623657297,
          0.00007289610099711023,
          0.004635906706155557,
          0.010921763474114998,
          0.010047450001267826,
          0.0340040497155383,
          0.017999305318256432,
          0.00031382431820370317,
          0.0017098035195427484,
          0.0006433977957867219,
          0.007629280277081896,
          0.00017927772970027483,
          0.06383465876146177,
          0.00003315651158836462,
          0.00007702407739378897,
          0.00015525812811188392,
          0.00005372271072831552,
          0.0008151220881398003,
          0.00004655305130414985,
          0.00004018989479187704,
          0.00035675181089909536,
          0.000009199154573898467,
          0.00010439177263296395,
          0.0001231237387869746,
          0.00010248191286319698,
          0.0002407141796004634,
          0.000051958182132003516,
          0.000026915322691693376,
          0.00004869653820748896,
          0.00010819566364548785,
          0.000057510227144419786,
          0.000019915503370822782,
          0.00009238640296303861,
          0.00005514009763168503,
          0.00005175819593098561,
          0.00003849951096332157,
          0.0002525389978700006,
          0.00023445651290205359,
          0.00002672630909264952,
          0.000015016829323039173,
          0.00011601872898300805,
          0.00015093976110887962
         ],
         "xaxis": "x8",
         "y": [
          0.7364864864864865,
          0.7708578143360753,
          0.7643948296122208,
          0.7867215041128085,
          0.782021151586369,
          0.7837837837837839,
          0.7749706227967098,
          0.745005875440658,
          0.7561692126909518,
          0.7749706227967098,
          0.7758519388954173,
          0.782608695652174,
          0.786427732079906,
          0.786427732079906,
          0.7896592244418332,
          0.7861339600470035,
          0.7843713278495887,
          0.7755581668625148,
          0.7749706227967097,
          0.7690951821386603,
          0.7914218566392479,
          0.7931844888366627,
          0.7861339600470035,
          0.7826086956521738,
          0.7867215041128084,
          0.7984723854289072,
          0.7978848413631022,
          0.7867215041128085,
          0.800235017626322,
          0.8090481786133961,
          0.7955346650998825,
          0.7984723854289072,
          0.810223266745006,
          0.799647473560517,
          0.7996474735605171,
          0.8014101057579318,
          0.7937720329024678,
          0.7884841363102233,
          0.7925969447708577,
          0.782021151586369,
          0.7972972972972974,
          0.7984723854289072,
          0.8061104582843713,
          0.8025851938895419,
          0.8037602820211516,
          0.7849588719153937,
          0.8055229142185664,
          0.7890716803760283,
          0.790246768507638,
          0.8061104582843713,
          0.8043478260869567,
          0.7949471210340776,
          0.8072855464159813,
          0.7643948296122209,
          0.8014101057579319,
          0.7831962397179789,
          0.7931844888366627,
          0.7943595769682726,
          0.763807285546416,
          0.8043478260869565,
          0.8014101057579318,
          0.7961222091656875,
          0.7949471210340775,
          0.7808460634547592,
          0.7961222091656874,
          0.8019976498237369,
          0.7925969447708578,
          0.7990599294947122,
          0.7855464159811986,
          0.7978848413631022,
          0.7967097532314923,
          0.8019976498237368,
          0.7937720329024677,
          0.7808460634547592,
          0.8072855464159813,
          0.8008225616921268,
          0.8084606345475911,
          0.799059929494712,
          0.7779083431257344,
          0.799647473560517,
          0.807873090481786,
          0.7990599294947122,
          0.8066980023501763,
          0.8049353701527615,
          0.8078730904817861,
          0.7978848413631022,
          0.8061104582843713,
          0.7943595769682725,
          0.7937720329024677,
          0.7925969447708578,
          0.7878965922444184,
          0.8108108108108109,
          0.7990599294947122,
          0.8061104582843713,
          0.8113983548766158,
          0.8066980023501763,
          0.800822561692127,
          0.799647473560517,
          0.7955346650998826,
          0.8084606345475911
         ],
         "yaxis": "y8"
        },
        {
         "marker": {
          "color": [
           0,
           1,
           2,
           3,
           4,
           5,
           6,
           7,
           8,
           9,
           10,
           11,
           12,
           13,
           14,
           15,
           16,
           17,
           18,
           19,
           20,
           21,
           22,
           23,
           24,
           25,
           26,
           27,
           28,
           29,
           30,
           31,
           32,
           33,
           34,
           35,
           36,
           37,
           38,
           39,
           40,
           41,
           42,
           43,
           44,
           45,
           46,
           47,
           48,
           49,
           50,
           51,
           52,
           53,
           54,
           55,
           56,
           57,
           58,
           59,
           60,
           61,
           62,
           63,
           64,
           65,
           66,
           67,
           68,
           69,
           70,
           71,
           72,
           73,
           74,
           75,
           76,
           77,
           78,
           79,
           80,
           81,
           82,
           83,
           84,
           85,
           86,
           87,
           88,
           89,
           90,
           91,
           92,
           93,
           94,
           95,
           96,
           97,
           98,
           99
          ],
          "colorbar": {
           "title": {
            "text": "Trial"
           },
           "x": 1,
           "xpad": 40
          },
          "colorscale": [
           [
            0,
            "rgb(247,251,255)"
           ],
           [
            0.125,
            "rgb(222,235,247)"
           ],
           [
            0.25,
            "rgb(198,219,239)"
           ],
           [
            0.375,
            "rgb(158,202,225)"
           ],
           [
            0.5,
            "rgb(107,174,214)"
           ],
           [
            0.625,
            "rgb(66,146,198)"
           ],
           [
            0.75,
            "rgb(33,113,181)"
           ],
           [
            0.875,
            "rgb(8,81,156)"
           ],
           [
            1,
            "rgb(8,48,107)"
           ]
          ],
          "line": {
           "color": "Grey",
           "width": 0.5
          },
          "showscale": false
         },
         "mode": "markers",
         "showlegend": false,
         "type": "scatter",
         "x": [
          0.23117891442045532,
          0.23417692918377786,
          0.29018076720810815,
          0.6831101426416163,
          0.87503349127509,
          0.5754483653001712,
          0.2115096745655754,
          0.35482073619236854,
          0.24380803816063312,
          0.6832434862454289,
          0.9548700034647555,
          0.5811654302511138,
          0.7044823724475608,
          0.7391709315814511,
          0.7699808028267445,
          0.4279472372150424,
          0.8301222619299816,
          0.9830599951775666,
          0.487942244048013,
          0.1307786838988979,
          0.778917120529533,
          0.7740990665137183,
          0.8046870087254365,
          0.8948899909040032,
          0.773581262562495,
          0.6282148375259187,
          0.6315585739387621,
          0.6189616311700019,
          0.644193101069856,
          0.5186771401198558,
          0.526252677290526,
          0.6356069424667639,
          0.4917646614784001,
          0.505434285943139,
          0.4795702905438611,
          0.4093497589668833,
          0.43000139773184093,
          0.5534538866651711,
          0.35801410874965617,
          0.5573973447900618,
          0.4466431634008703,
          0.47302118521722747,
          0.5085784637232362,
          0.3844918872956592,
          0.3889280868688554,
          0.37559373738842877,
          0.313432318178392,
          0.3113173703355543,
          0.3173593536140742,
          0.5226527858651877,
          0.5218870283040979,
          0.5305120911039279,
          0.5073790509376498,
          0.45555189093532616,
          0.5811931530219535,
          0.49137911503850723,
          0.4596871507225341,
          0.5931485676317152,
          0.5015493311631971,
          0.5352614175566183,
          0.41627137609157383,
          0.5196315901457009,
          0.5694091523691862,
          0.5428358637009768,
          0.4969156482377886,
          0.43947755410445805,
          0.47003581354194907,
          0.6003535660190548,
          0.5728120636898576,
          0.5195159971350367,
          0.6627154698424039,
          0.545654039510639,
          0.6038876820207085,
          0.5327975660094345,
          0.4860673616291181,
          0.4813149445329324,
          0.5076934425014256,
          0.4370972256912497,
          0.40775107733680077,
          0.4587013292198785,
          0.5635781592799184,
          0.5626377208542075,
          0.5088828340332702,
          0.5082274042113741,
          0.48474603564647845,
          0.4801094058232277,
          0.5030515777533487,
          0.5523523034869005,
          0.4555197150207959,
          0.4911410737694075,
          0.5716211804343039,
          0.5099066087070914,
          0.4717546412547954,
          0.5469877502643724,
          0.5112049301138453,
          0.6164936376384269,
          0.5850823035629642,
          0.44015178426316187,
          0.4881538346741622,
          0.5166575418382118
         ],
         "xaxis": "x9",
         "y": [
          0.7364864864864865,
          0.7708578143360753,
          0.7643948296122208,
          0.7867215041128085,
          0.782021151586369,
          0.7837837837837839,
          0.7749706227967098,
          0.745005875440658,
          0.7561692126909518,
          0.7749706227967098,
          0.7758519388954173,
          0.782608695652174,
          0.786427732079906,
          0.786427732079906,
          0.7896592244418332,
          0.7861339600470035,
          0.7843713278495887,
          0.7755581668625148,
          0.7749706227967097,
          0.7690951821386603,
          0.7914218566392479,
          0.7931844888366627,
          0.7861339600470035,
          0.7826086956521738,
          0.7867215041128084,
          0.7984723854289072,
          0.7978848413631022,
          0.7867215041128085,
          0.800235017626322,
          0.8090481786133961,
          0.7955346650998825,
          0.7984723854289072,
          0.810223266745006,
          0.799647473560517,
          0.7996474735605171,
          0.8014101057579318,
          0.7937720329024678,
          0.7884841363102233,
          0.7925969447708577,
          0.782021151586369,
          0.7972972972972974,
          0.7984723854289072,
          0.8061104582843713,
          0.8025851938895419,
          0.8037602820211516,
          0.7849588719153937,
          0.8055229142185664,
          0.7890716803760283,
          0.790246768507638,
          0.8061104582843713,
          0.8043478260869567,
          0.7949471210340776,
          0.8072855464159813,
          0.7643948296122209,
          0.8014101057579319,
          0.7831962397179789,
          0.7931844888366627,
          0.7943595769682726,
          0.763807285546416,
          0.8043478260869565,
          0.8014101057579318,
          0.7961222091656875,
          0.7949471210340775,
          0.7808460634547592,
          0.7961222091656874,
          0.8019976498237369,
          0.7925969447708578,
          0.7990599294947122,
          0.7855464159811986,
          0.7978848413631022,
          0.7967097532314923,
          0.8019976498237368,
          0.7937720329024677,
          0.7808460634547592,
          0.8072855464159813,
          0.8008225616921268,
          0.8084606345475911,
          0.799059929494712,
          0.7779083431257344,
          0.799647473560517,
          0.807873090481786,
          0.7990599294947122,
          0.8066980023501763,
          0.8049353701527615,
          0.8078730904817861,
          0.7978848413631022,
          0.8061104582843713,
          0.7943595769682725,
          0.7937720329024677,
          0.7925969447708578,
          0.7878965922444184,
          0.8108108108108109,
          0.7990599294947122,
          0.8061104582843713,
          0.8113983548766158,
          0.8066980023501763,
          0.800822561692127,
          0.799647473560517,
          0.7955346650998826,
          0.8084606345475911
         ],
         "yaxis": "y9"
        }
       ],
       "layout": {
        "template": {
         "data": {
          "bar": [
           {
            "error_x": {
             "color": "#2a3f5f"
            },
            "error_y": {
             "color": "#2a3f5f"
            },
            "marker": {
             "line": {
              "color": "#E5ECF6",
              "width": 0.5
             },
             "pattern": {
              "fillmode": "overlay",
              "size": 10,
              "solidity": 0.2
             }
            },
            "type": "bar"
           }
          ],
          "barpolar": [
           {
            "marker": {
             "line": {
              "color": "#E5ECF6",
              "width": 0.5
             },
             "pattern": {
              "fillmode": "overlay",
              "size": 10,
              "solidity": 0.2
             }
            },
            "type": "barpolar"
           }
          ],
          "carpet": [
           {
            "aaxis": {
             "endlinecolor": "#2a3f5f",
             "gridcolor": "white",
             "linecolor": "white",
             "minorgridcolor": "white",
             "startlinecolor": "#2a3f5f"
            },
            "baxis": {
             "endlinecolor": "#2a3f5f",
             "gridcolor": "white",
             "linecolor": "white",
             "minorgridcolor": "white",
             "startlinecolor": "#2a3f5f"
            },
            "type": "carpet"
           }
          ],
          "choropleth": [
           {
            "colorbar": {
             "outlinewidth": 0,
             "ticks": ""
            },
            "type": "choropleth"
           }
          ],
          "contour": [
           {
            "colorbar": {
             "outlinewidth": 0,
             "ticks": ""
            },
            "colorscale": [
             [
              0,
              "#0d0887"
             ],
             [
              0.1111111111111111,
              "#46039f"
             ],
             [
              0.2222222222222222,
              "#7201a8"
             ],
             [
              0.3333333333333333,
              "#9c179e"
             ],
             [
              0.4444444444444444,
              "#bd3786"
             ],
             [
              0.5555555555555556,
              "#d8576b"
             ],
             [
              0.6666666666666666,
              "#ed7953"
             ],
             [
              0.7777777777777778,
              "#fb9f3a"
             ],
             [
              0.8888888888888888,
              "#fdca26"
             ],
             [
              1,
              "#f0f921"
             ]
            ],
            "type": "contour"
           }
          ],
          "contourcarpet": [
           {
            "colorbar": {
             "outlinewidth": 0,
             "ticks": ""
            },
            "type": "contourcarpet"
           }
          ],
          "heatmap": [
           {
            "colorbar": {
             "outlinewidth": 0,
             "ticks": ""
            },
            "colorscale": [
             [
              0,
              "#0d0887"
             ],
             [
              0.1111111111111111,
              "#46039f"
             ],
             [
              0.2222222222222222,
              "#7201a8"
             ],
             [
              0.3333333333333333,
              "#9c179e"
             ],
             [
              0.4444444444444444,
              "#bd3786"
             ],
             [
              0.5555555555555556,
              "#d8576b"
             ],
             [
              0.6666666666666666,
              "#ed7953"
             ],
             [
              0.7777777777777778,
              "#fb9f3a"
             ],
             [
              0.8888888888888888,
              "#fdca26"
             ],
             [
              1,
              "#f0f921"
             ]
            ],
            "type": "heatmap"
           }
          ],
          "heatmapgl": [
           {
            "colorbar": {
             "outlinewidth": 0,
             "ticks": ""
            },
            "colorscale": [
             [
              0,
              "#0d0887"
             ],
             [
              0.1111111111111111,
              "#46039f"
             ],
             [
              0.2222222222222222,
              "#7201a8"
             ],
             [
              0.3333333333333333,
              "#9c179e"
             ],
             [
              0.4444444444444444,
              "#bd3786"
             ],
             [
              0.5555555555555556,
              "#d8576b"
             ],
             [
              0.6666666666666666,
              "#ed7953"
             ],
             [
              0.7777777777777778,
              "#fb9f3a"
             ],
             [
              0.8888888888888888,
              "#fdca26"
             ],
             [
              1,
              "#f0f921"
             ]
            ],
            "type": "heatmapgl"
           }
          ],
          "histogram": [
           {
            "marker": {
             "pattern": {
              "fillmode": "overlay",
              "size": 10,
              "solidity": 0.2
             }
            },
            "type": "histogram"
           }
          ],
          "histogram2d": [
           {
            "colorbar": {
             "outlinewidth": 0,
             "ticks": ""
            },
            "colorscale": [
             [
              0,
              "#0d0887"
             ],
             [
              0.1111111111111111,
              "#46039f"
             ],
             [
              0.2222222222222222,
              "#7201a8"
             ],
             [
              0.3333333333333333,
              "#9c179e"
             ],
             [
              0.4444444444444444,
              "#bd3786"
             ],
             [
              0.5555555555555556,
              "#d8576b"
             ],
             [
              0.6666666666666666,
              "#ed7953"
             ],
             [
              0.7777777777777778,
              "#fb9f3a"
             ],
             [
              0.8888888888888888,
              "#fdca26"
             ],
             [
              1,
              "#f0f921"
             ]
            ],
            "type": "histogram2d"
           }
          ],
          "histogram2dcontour": [
           {
            "colorbar": {
             "outlinewidth": 0,
             "ticks": ""
            },
            "colorscale": [
             [
              0,
              "#0d0887"
             ],
             [
              0.1111111111111111,
              "#46039f"
             ],
             [
              0.2222222222222222,
              "#7201a8"
             ],
             [
              0.3333333333333333,
              "#9c179e"
             ],
             [
              0.4444444444444444,
              "#bd3786"
             ],
             [
              0.5555555555555556,
              "#d8576b"
             ],
             [
              0.6666666666666666,
              "#ed7953"
             ],
             [
              0.7777777777777778,
              "#fb9f3a"
             ],
             [
              0.8888888888888888,
              "#fdca26"
             ],
             [
              1,
              "#f0f921"
             ]
            ],
            "type": "histogram2dcontour"
           }
          ],
          "mesh3d": [
           {
            "colorbar": {
             "outlinewidth": 0,
             "ticks": ""
            },
            "type": "mesh3d"
           }
          ],
          "parcoords": [
           {
            "line": {
             "colorbar": {
              "outlinewidth": 0,
              "ticks": ""
             }
            },
            "type": "parcoords"
           }
          ],
          "pie": [
           {
            "automargin": true,
            "type": "pie"
           }
          ],
          "scatter": [
           {
            "fillpattern": {
             "fillmode": "overlay",
             "size": 10,
             "solidity": 0.2
            },
            "type": "scatter"
           }
          ],
          "scatter3d": [
           {
            "line": {
             "colorbar": {
              "outlinewidth": 0,
              "ticks": ""
             }
            },
            "marker": {
             "colorbar": {
              "outlinewidth": 0,
              "ticks": ""
             }
            },
            "type": "scatter3d"
           }
          ],
          "scattercarpet": [
           {
            "marker": {
             "colorbar": {
              "outlinewidth": 0,
              "ticks": ""
             }
            },
            "type": "scattercarpet"
           }
          ],
          "scattergeo": [
           {
            "marker": {
             "colorbar": {
              "outlinewidth": 0,
              "ticks": ""
             }
            },
            "type": "scattergeo"
           }
          ],
          "scattergl": [
           {
            "marker": {
             "colorbar": {
              "outlinewidth": 0,
              "ticks": ""
             }
            },
            "type": "scattergl"
           }
          ],
          "scattermapbox": [
           {
            "marker": {
             "colorbar": {
              "outlinewidth": 0,
              "ticks": ""
             }
            },
            "type": "scattermapbox"
           }
          ],
          "scatterpolar": [
           {
            "marker": {
             "colorbar": {
              "outlinewidth": 0,
              "ticks": ""
             }
            },
            "type": "scatterpolar"
           }
          ],
          "scatterpolargl": [
           {
            "marker": {
             "colorbar": {
              "outlinewidth": 0,
              "ticks": ""
             }
            },
            "type": "scatterpolargl"
           }
          ],
          "scatterternary": [
           {
            "marker": {
             "colorbar": {
              "outlinewidth": 0,
              "ticks": ""
             }
            },
            "type": "scatterternary"
           }
          ],
          "surface": [
           {
            "colorbar": {
             "outlinewidth": 0,
             "ticks": ""
            },
            "colorscale": [
             [
              0,
              "#0d0887"
             ],
             [
              0.1111111111111111,
              "#46039f"
             ],
             [
              0.2222222222222222,
              "#7201a8"
             ],
             [
              0.3333333333333333,
              "#9c179e"
             ],
             [
              0.4444444444444444,
              "#bd3786"
             ],
             [
              0.5555555555555556,
              "#d8576b"
             ],
             [
              0.6666666666666666,
              "#ed7953"
             ],
             [
              0.7777777777777778,
              "#fb9f3a"
             ],
             [
              0.8888888888888888,
              "#fdca26"
             ],
             [
              1,
              "#f0f921"
             ]
            ],
            "type": "surface"
           }
          ],
          "table": [
           {
            "cells": {
             "fill": {
              "color": "#EBF0F8"
             },
             "line": {
              "color": "white"
             }
            },
            "header": {
             "fill": {
              "color": "#C8D4E3"
             },
             "line": {
              "color": "white"
             }
            },
            "type": "table"
           }
          ]
         },
         "layout": {
          "annotationdefaults": {
           "arrowcolor": "#2a3f5f",
           "arrowhead": 0,
           "arrowwidth": 1
          },
          "autotypenumbers": "strict",
          "coloraxis": {
           "colorbar": {
            "outlinewidth": 0,
            "ticks": ""
           }
          },
          "colorscale": {
           "diverging": [
            [
             0,
             "#8e0152"
            ],
            [
             0.1,
             "#c51b7d"
            ],
            [
             0.2,
             "#de77ae"
            ],
            [
             0.3,
             "#f1b6da"
            ],
            [
             0.4,
             "#fde0ef"
            ],
            [
             0.5,
             "#f7f7f7"
            ],
            [
             0.6,
             "#e6f5d0"
            ],
            [
             0.7,
             "#b8e186"
            ],
            [
             0.8,
             "#7fbc41"
            ],
            [
             0.9,
             "#4d9221"
            ],
            [
             1,
             "#276419"
            ]
           ],
           "sequential": [
            [
             0,
             "#0d0887"
            ],
            [
             0.1111111111111111,
             "#46039f"
            ],
            [
             0.2222222222222222,
             "#7201a8"
            ],
            [
             0.3333333333333333,
             "#9c179e"
            ],
            [
             0.4444444444444444,
             "#bd3786"
            ],
            [
             0.5555555555555556,
             "#d8576b"
            ],
            [
             0.6666666666666666,
             "#ed7953"
            ],
            [
             0.7777777777777778,
             "#fb9f3a"
            ],
            [
             0.8888888888888888,
             "#fdca26"
            ],
            [
             1,
             "#f0f921"
            ]
           ],
           "sequentialminus": [
            [
             0,
             "#0d0887"
            ],
            [
             0.1111111111111111,
             "#46039f"
            ],
            [
             0.2222222222222222,
             "#7201a8"
            ],
            [
             0.3333333333333333,
             "#9c179e"
            ],
            [
             0.4444444444444444,
             "#bd3786"
            ],
            [
             0.5555555555555556,
             "#d8576b"
            ],
            [
             0.6666666666666666,
             "#ed7953"
            ],
            [
             0.7777777777777778,
             "#fb9f3a"
            ],
            [
             0.8888888888888888,
             "#fdca26"
            ],
            [
             1,
             "#f0f921"
            ]
           ]
          },
          "colorway": [
           "#636efa",
           "#EF553B",
           "#00cc96",
           "#ab63fa",
           "#FFA15A",
           "#19d3f3",
           "#FF6692",
           "#B6E880",
           "#FF97FF",
           "#FECB52"
          ],
          "font": {
           "color": "#2a3f5f"
          },
          "geo": {
           "bgcolor": "white",
           "lakecolor": "white",
           "landcolor": "#E5ECF6",
           "showlakes": true,
           "showland": true,
           "subunitcolor": "white"
          },
          "hoverlabel": {
           "align": "left"
          },
          "hovermode": "closest",
          "mapbox": {
           "style": "light"
          },
          "paper_bgcolor": "white",
          "plot_bgcolor": "#E5ECF6",
          "polar": {
           "angularaxis": {
            "gridcolor": "white",
            "linecolor": "white",
            "ticks": ""
           },
           "bgcolor": "#E5ECF6",
           "radialaxis": {
            "gridcolor": "white",
            "linecolor": "white",
            "ticks": ""
           }
          },
          "scene": {
           "xaxis": {
            "backgroundcolor": "#E5ECF6",
            "gridcolor": "white",
            "gridwidth": 2,
            "linecolor": "white",
            "showbackground": true,
            "ticks": "",
            "zerolinecolor": "white"
           },
           "yaxis": {
            "backgroundcolor": "#E5ECF6",
            "gridcolor": "white",
            "gridwidth": 2,
            "linecolor": "white",
            "showbackground": true,
            "ticks": "",
            "zerolinecolor": "white"
           },
           "zaxis": {
            "backgroundcolor": "#E5ECF6",
            "gridcolor": "white",
            "gridwidth": 2,
            "linecolor": "white",
            "showbackground": true,
            "ticks": "",
            "zerolinecolor": "white"
           }
          },
          "shapedefaults": {
           "line": {
            "color": "#2a3f5f"
           }
          },
          "ternary": {
           "aaxis": {
            "gridcolor": "white",
            "linecolor": "white",
            "ticks": ""
           },
           "baxis": {
            "gridcolor": "white",
            "linecolor": "white",
            "ticks": ""
           },
           "bgcolor": "#E5ECF6",
           "caxis": {
            "gridcolor": "white",
            "linecolor": "white",
            "ticks": ""
           }
          },
          "title": {
           "x": 0.05
          },
          "xaxis": {
           "automargin": true,
           "gridcolor": "white",
           "linecolor": "white",
           "ticks": "",
           "title": {
            "standoff": 15
           },
           "zerolinecolor": "white",
           "zerolinewidth": 2
          },
          "yaxis": {
           "automargin": true,
           "gridcolor": "white",
           "linecolor": "white",
           "ticks": "",
           "title": {
            "standoff": 15
           },
           "zerolinecolor": "white",
           "zerolinewidth": 2
          }
         }
        },
        "title": {
         "text": "Slice Plot"
        },
        "width": 2700,
        "xaxis": {
         "anchor": "y",
         "domain": [
          0,
          0.09135802469135802
         ],
         "title": {
          "text": "colsample_bytree"
         }
        },
        "xaxis2": {
         "anchor": "y2",
         "domain": [
          0.11358024691358025,
          0.20493827160493827
         ],
         "title": {
          "text": "gamma"
         },
         "type": "log"
        },
        "xaxis3": {
         "anchor": "y3",
         "domain": [
          0.2271604938271605,
          0.31851851851851853
         ],
         "title": {
          "text": "learning_rate"
         },
         "type": "log"
        },
        "xaxis4": {
         "anchor": "y4",
         "domain": [
          0.34074074074074073,
          0.43209876543209874
         ],
         "title": {
          "text": "max_depth"
         }
        },
        "xaxis5": {
         "anchor": "y5",
         "domain": [
          0.454320987654321,
          0.5456790123456791
         ],
         "title": {
          "text": "min_child_weight"
         }
        },
        "xaxis6": {
         "anchor": "y6",
         "domain": [
          0.5679012345679012,
          0.6592592592592592
         ],
         "title": {
          "text": "n_estimators"
         }
        },
        "xaxis7": {
         "anchor": "y7",
         "domain": [
          0.6814814814814815,
          0.7728395061728395
         ],
         "title": {
          "text": "reg_alpha"
         },
         "type": "log"
        },
        "xaxis8": {
         "anchor": "y8",
         "domain": [
          0.7950617283950617,
          0.8864197530864197
         ],
         "title": {
          "text": "reg_lambda"
         },
         "type": "log"
        },
        "xaxis9": {
         "anchor": "y9",
         "domain": [
          0.908641975308642,
          1
         ],
         "title": {
          "text": "subsample"
         }
        },
        "yaxis": {
         "anchor": "x",
         "domain": [
          0,
          1
         ],
         "title": {
          "text": "Objective Value"
         }
        },
        "yaxis2": {
         "anchor": "x2",
         "domain": [
          0,
          1
         ],
         "matches": "y",
         "showticklabels": false
        },
        "yaxis3": {
         "anchor": "x3",
         "domain": [
          0,
          1
         ],
         "matches": "y",
         "showticklabels": false
        },
        "yaxis4": {
         "anchor": "x4",
         "domain": [
          0,
          1
         ],
         "matches": "y",
         "showticklabels": false
        },
        "yaxis5": {
         "anchor": "x5",
         "domain": [
          0,
          1
         ],
         "matches": "y",
         "showticklabels": false
        },
        "yaxis6": {
         "anchor": "x6",
         "domain": [
          0,
          1
         ],
         "matches": "y",
         "showticklabels": false
        },
        "yaxis7": {
         "anchor": "x7",
         "domain": [
          0,
          1
         ],
         "matches": "y",
         "showticklabels": false
        },
        "yaxis8": {
         "anchor": "x8",
         "domain": [
          0,
          1
         ],
         "matches": "y",
         "showticklabels": false
        },
        "yaxis9": {
         "anchor": "x9",
         "domain": [
          0,
          1
         ],
         "matches": "y",
         "showticklabels": false
        }
       }
      }
     },
     "metadata": {},
     "output_type": "display_data"
    }
   ],
   "source": [
    "# Visualize slice plot\n",
    "fig = vis.plot_slice(study)\n",
    "fig.show()"
   ]
  },
  {
   "cell_type": "code",
   "execution_count": 16,
   "id": "d8032632",
   "metadata": {
    "execution": {
     "iopub.execute_input": "2023-04-09T03:47:59.400334Z",
     "iopub.status.busy": "2023-04-09T03:47:59.399948Z",
     "iopub.status.idle": "2023-04-09T03:47:59.490566Z",
     "shell.execute_reply": "2023-04-09T03:47:59.489191Z"
    },
    "papermill": {
     "duration": 0.105744,
     "end_time": "2023-04-09T03:47:59.492616",
     "exception": false,
     "start_time": "2023-04-09T03:47:59.386872",
     "status": "completed"
    },
    "tags": []
   },
   "outputs": [
    {
     "data": {
      "application/vnd.plotly.v1+json": {
       "config": {
        "plotlyServerURL": "https://plot.ly"
       },
       "data": [
        {
         "dimensions": [
          {
           "label": "Objective Value",
           "range": [
            0.7364864864864865,
            0.8113983548766158
           ],
           "values": [
            0.7364864864864865,
            0.7708578143360753,
            0.7643948296122208,
            0.7867215041128085,
            0.782021151586369,
            0.7837837837837839,
            0.7749706227967098,
            0.745005875440658,
            0.7561692126909518,
            0.7749706227967098,
            0.7758519388954173,
            0.782608695652174,
            0.786427732079906,
            0.786427732079906,
            0.7896592244418332,
            0.7861339600470035,
            0.7843713278495887,
            0.7755581668625148,
            0.7749706227967097,
            0.7690951821386603,
            0.7914218566392479,
            0.7931844888366627,
            0.7861339600470035,
            0.7826086956521738,
            0.7867215041128084,
            0.7984723854289072,
            0.7978848413631022,
            0.7867215041128085,
            0.800235017626322,
            0.8090481786133961,
            0.7955346650998825,
            0.7984723854289072,
            0.810223266745006,
            0.799647473560517,
            0.7996474735605171,
            0.8014101057579318,
            0.7937720329024678,
            0.7884841363102233,
            0.7925969447708577,
            0.782021151586369,
            0.7972972972972974,
            0.7984723854289072,
            0.8061104582843713,
            0.8025851938895419,
            0.8037602820211516,
            0.7849588719153937,
            0.8055229142185664,
            0.7890716803760283,
            0.790246768507638,
            0.8061104582843713,
            0.8043478260869567,
            0.7949471210340776,
            0.8072855464159813,
            0.7643948296122209,
            0.8014101057579319,
            0.7831962397179789,
            0.7931844888366627,
            0.7943595769682726,
            0.763807285546416,
            0.8043478260869565,
            0.8014101057579318,
            0.7961222091656875,
            0.7949471210340775,
            0.7808460634547592,
            0.7961222091656874,
            0.8019976498237369,
            0.7925969447708578,
            0.7990599294947122,
            0.7855464159811986,
            0.7978848413631022,
            0.7967097532314923,
            0.8019976498237368,
            0.7937720329024677,
            0.7808460634547592,
            0.8072855464159813,
            0.8008225616921268,
            0.8084606345475911,
            0.799059929494712,
            0.7779083431257344,
            0.799647473560517,
            0.807873090481786,
            0.7990599294947122,
            0.8066980023501763,
            0.8049353701527615,
            0.8078730904817861,
            0.7978848413631022,
            0.8061104582843713,
            0.7943595769682725,
            0.7937720329024677,
            0.7925969447708578,
            0.7878965922444184,
            0.8108108108108109,
            0.7990599294947122,
            0.8061104582843713,
            0.8113983548766158,
            0.8066980023501763,
            0.800822561692127,
            0.799647473560517,
            0.7955346650998826,
            0.8084606345475911
           ]
          },
          {
           "label": "colsample_bytree",
           "range": [
            0.12983374501108344,
            0.9998599287037884
           ],
           "values": [
            0.6623149030208159,
            0.20871230387450762,
            0.26886424423555005,
            0.9823911186345192,
            0.8096254449182047,
            0.806723739032277,
            0.5103370498945802,
            0.12983374501108344,
            0.2175535270276097,
            0.6653831858964739,
            0.9874524530239217,
            0.9905108639549798,
            0.8567913828183225,
            0.8805383108419197,
            0.9872913290261001,
            0.9831485064438904,
            0.7223904528338214,
            0.9017643906934047,
            0.5310084359684936,
            0.9175854039136856,
            0.7736277544057414,
            0.9998599287037884,
            0.7857351303147183,
            0.9088867560506497,
            0.7524510150947814,
            0.8364567968576023,
            0.8632723655284428,
            0.8483380803098052,
            0.9184018177345786,
            0.7021207973668708,
            0.689250562601278,
            0.5956519045638297,
            0.5985219430228731,
            0.731302490556427,
            0.5867897389471249,
            0.6033908229596832,
            0.4513234292869459,
            0.6413640746091782,
            0.45692583737361087,
            0.621351013828233,
            0.6957066974569902,
            0.5913622142369116,
            0.5500357977023476,
            0.5513524880567436,
            0.549173183280957,
            0.4940544134688196,
            0.5633934569779613,
            0.6581279577012988,
            0.5492498804838528,
            0.39887014506222124,
            0.4396112950221326,
            0.392362083367199,
            0.38933450914515993,
            0.3285514963389501,
            0.5093995943652332,
            0.3597615892294774,
            0.48408984407653144,
            0.6367618779448134,
            0.27861278754981167,
            0.570009001472423,
            0.5219378383113416,
            0.4409289185005841,
            0.3869074849243142,
            0.4917965510572073,
            0.42019811762554604,
            0.4714986894707363,
            0.43886799096692225,
            0.5297299672450551,
            0.5083715891078275,
            0.5699660863923276,
            0.6258995577781139,
            0.5845601186850219,
            0.6106447325075673,
            0.4762536491252819,
            0.5505191480838554,
            0.6703643788036939,
            0.5319788454366371,
            0.5448043596065921,
            0.572145242993189,
            0.6070016260829729,
            0.519562275838867,
            0.518497089221708,
            0.5023974626727067,
            0.46814393195690285,
            0.536771103087578,
            0.5122497283704265,
            0.5452384316943741,
            0.49580342131214633,
            0.5324628228095813,
            0.5883779665776832,
            0.6231466002860001,
            0.4992276655076567,
            0.5614286880587145,
            0.4958799021828812,
            0.5257029128071002,
            0.5301568010283146,
            0.4571014661001066,
            0.48274402519136755,
            0.5800400461985274,
            0.6021164870466165
           ]
          },
          {
           "label": "gamma",
           "range": [
            -7.787651422418825,
            -0.021732126671273926
           ],
           "ticktext": [
            "1.63e-08",
            "1e-07",
            "1e-06",
            "1e-05",
            "0.0001",
            "0.001",
            "0.01",
            "0.1",
            "0.951"
           ],
           "tickvals": [
            -7.787651422418825,
            -7,
            -6,
            -5,
            -4,
            -3,
            -2,
            -1,
            -0.021732126671273926
           ],
           "values": [
            -1.1366202146013082,
            -2.022083800280259,
            -5.8871005451686775,
            -0.7539300178742471,
            -6.19434145382796,
            -3.121493355933737,
            -1.5269421915137853,
            -6.151533397996748,
            -2.2327743626027723,
            -7.787651422418825,
            -0.35714470214440874,
            -3.3632916857721753,
            -0.07949278110250897,
            -0.15801050252808818,
            -0.33387974804543435,
            -1.1520117393838738,
            -2.764744153525189,
            -4.1199301814411795,
            -0.8866011265211534,
            -1.6664566594886248,
            -0.8508302512570367,
            -0.7076039047763897,
            -0.021732126671273926,
            -0.9460530603051721,
            -1.718776400139236,
            -2.285479396277852,
            -2.450842509058736,
            -2.3026206283928725,
            -2.429911088170276,
            -2.7004858201331787,
            -3.37554211561559,
            -2.901968012471771,
            -2.5725174179022754,
            -1.9503756302556754,
            -1.834154184967467,
            -1.560669899480853,
            -3.857931839785954,
            -2.9090453667548686,
            -1.3842538960018171,
            -1.309140391003735,
            -2.5032295086250773,
            -1.7870726379858706,
            -1.9992089727132185,
            -2.048363988898534,
            -2.0073637958079695,
            -2.01687744636314,
            -2.7022925221962333,
            -3.2679897845470434,
            -2.6738050362778574,
            -3.0334640899387564,
            -3.679180851313561,
            -3.7375545052823624,
            -3.043468809977751,
            -2.851453532254846,
            -3.108859816584406,
            -4.419420692676151,
            -3.4435057593759755,
            -2.720494948299695,
            -3.1071384677857554,
            -2.297318575742085,
            -2.6524289111278794,
            -3.4522371146406274,
            -4.183170721061641,
            -3.683208583839808,
            -2.893560011292905,
            -2.50683054780619,
            -3.1531656179255005,
            -2.216867851321055,
            -3.0016428876965917,
            -3.488227699047178,
            -2.612281604428027,
            -1.6293074338489903,
            -2.1918224571477287,
            -2.338385558679855,
            -2.7610984401099885,
            -3.270559869909037,
            -2.8856241824703166,
            -2.7664137065771977,
            -2.432879241540164,
            -3.05526595714773,
            -1.901938941726475,
            -1.8100964811677687,
            -2.0499321711276792,
            -1.426682785144225,
            -2.1596216991053834,
            -2.0056456049007263,
            -1.8321619700458565,
            -1.594243394148527,
            -2.1585949671023057,
            -1.1424855552093878,
            -2.462462711171038,
            -2.120034334839097,
            -2.04153270832206,
            -2.5132090608486943,
            -2.2373121248879118,
            -2.189887855826692,
            -1.7754578765146145,
            -2.3638970709753075,
            -2.5880558791292216,
            -2.852604147168392
           ]
          },
          {
           "label": "learning_rate",
           "range": [
            -3.803062617671961,
            -1.017537754997189
           ],
           "ticktext": [
            "0.000157",
            "0.001",
            "0.01",
            "0.096"
           ],
           "tickvals": [
            -3.803062617671961,
            -3,
            -2,
            -1.017537754997189
           ],
           "values": [
            -3.2855517551207947,
            -1.7475674801535064,
            -1.63897092150845,
            -1.7967444617977757,
            -2.637945387331875,
            -3.278891807044607,
            -3.7106735082554887,
            -2.286112483077188,
            -2.75386165518003,
            -1.2217442381966672,
            -1.141880985945802,
            -3.803062617671961,
            -3.241777022679722,
            -2.13676517937789,
            -2.9108359575254314,
            -2.0218907826341925,
            -2.4877727753539842,
            -2.88095775623937,
            -1.7529750879396058,
            -2.4280798670210872,
            -2.0765627907030138,
            -2.1189094389343954,
            -2.1791890369081317,
            -2.87527831659696,
            -2.4614080638380713,
            -1.9811710211009776,
            -1.94846709638363,
            -1.501088534771349,
            -1.9460429087382958,
            -1.9172701176302263,
            -1.5214650841799142,
            -1.9122593151963894,
            -1.9026649813540508,
            -1.8337513487380777,
            -1.6964890484536865,
            -1.5393976516403347,
            -1.3551174771665717,
            -1.5931451032419497,
            -1.8064370542968506,
            -1.3482398805223148,
            -1.017537754997189,
            -1.6661427078352649,
            -1.695669659414189,
            -2.2968235990482553,
            -2.2978348267226956,
            -2.2074148069153545,
            -2.2604507146982336,
            -2.617559676942702,
            -2.2716156854999188,
            -1.851484631908486,
            -1.8530985395034931,
            -1.852366576045541,
            -1.7700674364300732,
            -2.0523191426630802,
            -1.72361667025024,
            -1.659309889153887,
            -2.0555930700914136,
            -1.7944356499929317,
            -1.9346902811628208,
            -2.1346654562863323,
            -1.7395111917005608,
            -1.9033131860139976,
            -1.8515812790408483,
            -2.0005059239890954,
            -1.6194943340604566,
            -2.0654524343818985,
            -1.7847090936964471,
            -1.9812294035466456,
            -1.883051154989442,
            -1.4489251486978079,
            -1.5824088707602229,
            -2.126239775393264,
            -2.187480184393925,
            -1.7014258240620495,
            -2.020377999450868,
            -1.9729991397429554,
            -1.7802668326281292,
            -1.7446198722822612,
            -2.3555410872917477,
            -2.0497486029397303,
            -1.6184418443426003,
            -1.6057724443596848,
            -1.7874590025222163,
            -1.7857687386516665,
            -1.6595160650876524,
            -1.5119674989911798,
            -1.681908887676372,
            -1.4011845661577702,
            -1.638779391400168,
            -1.5380996382539895,
            -1.4665596854456766,
            -1.8871685326127376,
            -1.8999116510952065,
            -1.7834493727064475,
            -1.6955652066951055,
            -1.5723495464716932,
            -1.7428030422892666,
            -1.946341178543075,
            -1.6327030166468484,
            -1.8458306029375562
           ]
          },
          {
           "label": "max_depth",
           "range": [
            3,
            10
           ],
           "values": [
            6,
            4,
            8,
            7,
            10,
            7,
            7,
            6,
            7,
            3,
            10,
            8,
            5,
            5,
            5,
            3,
            5,
            9,
            4,
            8,
            6,
            6,
            6,
            4,
            5,
            6,
            6,
            6,
            8,
            9,
            9,
            9,
            9,
            9,
            9,
            10,
            10,
            10,
            8,
            8,
            10,
            9,
            9,
            10,
            10,
            10,
            9,
            9,
            7,
            8,
            8,
            8,
            9,
            9,
            9,
            9,
            7,
            8,
            9,
            8,
            9,
            8,
            7,
            9,
            8,
            8,
            9,
            7,
            9,
            8,
            10,
            8,
            9,
            8,
            7,
            7,
            9,
            9,
            10,
            9,
            9,
            9,
            9,
            9,
            10,
            10,
            10,
            4,
            10,
            3,
            10,
            9,
            9,
            9,
            9,
            9,
            9,
            10,
            9,
            10
           ]
          },
          {
           "label": "min_child_weight",
           "range": [
            1,
            10
           ],
           "values": [
            10,
            2,
            5,
            8,
            5,
            5,
            3,
            7,
            1,
            3,
            9,
            7,
            7,
            8,
            7,
            10,
            8,
            6,
            9,
            6,
            4,
            4,
            4,
            4,
            4,
            3,
            2,
            1,
            2,
            2,
            2,
            2,
            3,
            3,
            1,
            1,
            2,
            1,
            1,
            3,
            2,
            1,
            1,
            2,
            1,
            3,
            2,
            1,
            3,
            2,
            2,
            2,
            2,
            3,
            2,
            5,
            3,
            2,
            1,
            2,
            3,
            2,
            2,
            1,
            3,
            2,
            4,
            1,
            6,
            2,
            3,
            2,
            2,
            1,
            2,
            1,
            3,
            4,
            5,
            3,
            3,
            4,
            3,
            3,
            4,
            4,
            3,
            4,
            3,
            5,
            3,
            3,
            4,
            3,
            3,
            3,
            4,
            3,
            4,
            3
           ]
          },
          {
           "label": "n_estimators",
           "range": [
            104,
            1000
           ],
           "values": [
            605,
            374,
            376,
            214,
            168,
            187,
            903,
            750,
            255,
            845,
            521,
            117,
            319,
            314,
            500,
            528,
            621,
            463,
            705,
            436,
            235,
            237,
            104,
            267,
            400,
            286,
            281,
            1000,
            303,
            322,
            598,
            341,
            335,
            365,
            376,
            405,
            428,
            170,
            469,
            589,
            194,
            393,
            357,
            342,
            334,
            347,
            332,
            218,
            477,
            267,
            141,
            162,
            142,
            194,
            143,
            253,
            290,
            210,
            435,
            260,
            309,
            161,
            125,
            104,
            148,
            233,
            739,
            314,
            379,
            272,
            663,
            252,
            181,
            215,
            269,
            131,
            359,
            417,
            364,
            560,
            327,
            329,
            289,
            294,
            353,
            355,
            452,
            406,
            505,
            393,
            383,
            288,
            312,
            287,
            362,
            234,
            342,
            317,
            295,
            451
           ]
          },
          {
           "label": "reg_alpha",
           "range": [
            -7.950216474815885,
            -0.13212289605341707
           ],
           "ticktext": [
            "1.12e-08",
            "1e-07",
            "1e-06",
            "1e-05",
            "0.0001",
            "0.001",
            "0.01",
            "0.1",
            "0.738"
           ],
           "tickvals": [
            -7.950216474815885,
            -7,
            -6,
            -5,
            -4,
            -3,
            -2,
            -1,
            -0.13212289605341707
           ],
           "values": [
            -1.052780270047223,
            -5.822129815352508,
            -1.8669844734534087,
            -7.213676853669168,
            -1.1829392947589183,
            -6.327443904097132,
            -6.02804249340159,
            -1.7054435104592978,
            -1.6515370058684666,
            -3.689521449017834,
            -7.901980453317009,
            -7.950216474815885,
            -6.428525137954729,
            -6.662404901235443,
            -4.730635095936024,
            -4.651508316894413,
            -3.6958073160888665,
            -4.750810806368296,
            -2.9813054240492622,
            -0.13212289605341707,
            -5.40296379201235,
            -4.89687383906748,
            -5.361028701548132,
            -4.994608627980695,
            -4.220830442740421,
            -5.363923395696013,
            -5.422698320332922,
            -5.44787321561373,
            -4.185103136988601,
            -3.2472077369591346,
            -2.6824735531595576,
            -4.152270133188838,
            -4.094154801027603,
            -3.142559424658502,
            -3.1233502311087262,
            -2.3287210989072697,
            -3.6429858409324143,
            -2.5615968661116635,
            -2.2727624209974593,
            -3.3224080206683713,
            -2.1351570899280263,
            -3.3598493979881963,
            -2.92753269815322,
            -2.7700926261960848,
            -2.781140819562176,
            -2.774173033164848,
            -1.979187292846004,
            -1.7639112655154863,
            -1.3886685036353474,
            -2.0337851484438296,
            -2.212751504865209,
            -2.0270200894859753,
            -1.8954401397737468,
            -1.4570967957250027,
            -1.7512735143089853,
            -1.1839720644292375,
            -1.8936920593435167,
            -0.835320289122687,
            -2.484472796029957,
            -2.349588764099767,
            -3.9213776828317917,
            -1.950015907131987,
            -2.1754665662327937,
            -2.9947483677620217,
            -2.4186995483672056,
            -2.110987115746288,
            -1.5492932024551258,
            -3.400090541109999,
            -2.6360524445349784,
            -2.9530056628228376,
            -1.692393416350482,
            -2.497783838249304,
            -2.363646882269533,
            -2.294004908187438,
            -1.802990943754666,
            -2.0067617456204485,
            -1.924494321185359,
            -1.859432545167652,
            -1.2199053046584036,
            -1.592265135381235,
            -0.8560221928582047,
            -0.8122706690280574,
            -1.2617697133547117,
            -0.9798513197875471,
            -1.426763415445242,
            -0.5374453275357765,
            -1.674714224170426,
            -1.2638805846685734,
            -1.439943958094747,
            -1.0727092495249844,
            -1.4561602440594228,
            -1.312385214343322,
            -1.3343141844679463,
            -1.8000093806708357,
            -1.561343567063867,
            -1.581520288294903,
            -1.0612459178714548,
            -1.2606076518705256,
            -0.8732880144733517,
            -0.6439943465989019
           ]
          },
          {
           "label": "reg_lambda",
           "range": [
            -7.943846259997221,
            -0.4005570758069267
           ],
           "ticktext": [
            "1.14e-08",
            "1e-07",
            "1e-06",
            "1e-05",
            "0.0001",
            "0.001",
            "0.01",
            "0.1",
            "0.398"
           ],
           "tickvals": [
            -7.943846259997221,
            -7,
            -6,
            -5,
            -4,
            -3,
            -2,
            -1,
            -0.4005570758069267
           ],
           "values": [
            -1.9555009776437116,
            -5.597025208464218,
            -7.296971760727464,
            -6.6432336081102275,
            -2.288803487823691,
            -1.3088722132578319,
            -2.668099152949297,
            -7.005911041691504,
            -5.207194878866491,
            -2.1202798791096797,
            -0.4005570758069267,
            -4.190257052175009,
            -7.943846259997221,
            -7.930872804061963,
            -6.756971554003276,
            -5.687570996939648,
            -6.574257726084561,
            -6.433621830474988,
            -4.342566908598588,
            -5.952541513842494,
            -5.208259587419781,
            -4.643249547387602,
            -4.837298738294065,
            -3.3730413330154754,
            -4.7521487603335935,
            -3.631257211804512,
            -3.7855753722594594,
            -3.4184518549517464,
            -3.683753852636777,
            -3.6502704725708073,
            -2.8826606236661165,
            -3.9099987145061967,
            -3.830756894318056,
            -3.403620284739881,
            -3.1464532913635908,
            -2.9519213671000415,
            -2.641869126283831,
            -4.063428076333923,
            -1.6442898973422804,
            -2.9008819922641345,
            -2.215955752400078,
            -3.2507300411765163,
            -3.069212143637773,
            -2.5297188051443555,
            -2.5296970139217234,
            -2.5769132837186266,
            -1.7414401345090476,
            -1.8269142683383843,
            -1.3161353407157352,
            -2.265152969727757,
            -2.0296636523247007,
            -2.138815047743684,
            -1.8137197303342072,
            -0.9057382741648548,
            -1.806008502931258,
            -2.2981375800432966,
            -1.528155295952252,
            -2.9930881310844826,
            -0.8062839774185189,
            -4.137295700224199,
            -2.3338653124430233,
            -1.9617072329459586,
            -1.997944146293182,
            -1.4684693575348915,
            -1.7447442561339057,
            -3.5033134060248243,
            -2.767053793280962,
            -3.1915204312787853,
            -2.1175164301230875,
            -3.746473656165576,
            -1.194943458867037,
            -4.479431168037864,
            -4.113373495025772,
            -3.8089456542641917,
            -4.269842081918288,
            -3.0887773382116586,
            -4.332051848063408,
            -4.395883130691943,
            -3.4476338136961795,
            -5.036252083606824,
            -3.9813337277791874,
            -3.9096582051494613,
            -3.9893527769189325,
            -3.618498326256516,
            -4.284346052053408,
            -4.5700004089977755,
            -4.3125019112868594,
            -3.965790144890956,
            -4.240254917094098,
            -4.700808712181697,
            -4.034391941687321,
            -4.258532469262807,
            -4.286020869720972,
            -4.414544787044221,
            -3.597671547240443,
            -3.62993769861233,
            -4.57306101323649,
            -4.823421755272564,
            -3.9354718966575066,
            -3.821196341698387
           ]
          },
          {
           "label": "subsample",
           "range": [
            0.1307786838988979,
            0.9830599951775666
           ],
           "values": [
            0.23117891442045532,
            0.23417692918377786,
            0.29018076720810815,
            0.6831101426416163,
            0.87503349127509,
            0.5754483653001712,
            0.2115096745655754,
            0.35482073619236854,
            0.24380803816063312,
            0.6832434862454289,
            0.9548700034647555,
            0.5811654302511138,
            0.7044823724475608,
            0.7391709315814511,
            0.7699808028267445,
            0.4279472372150424,
            0.8301222619299816,
            0.9830599951775666,
            0.487942244048013,
            0.1307786838988979,
            0.778917120529533,
            0.7740990665137183,
            0.8046870087254365,
            0.8948899909040032,
            0.773581262562495,
            0.6282148375259187,
            0.6315585739387621,
            0.6189616311700019,
            0.644193101069856,
            0.5186771401198558,
            0.526252677290526,
            0.6356069424667639,
            0.4917646614784001,
            0.505434285943139,
            0.4795702905438611,
            0.4093497589668833,
            0.43000139773184093,
            0.5534538866651711,
            0.35801410874965617,
            0.5573973447900618,
            0.4466431634008703,
            0.47302118521722747,
            0.5085784637232362,
            0.3844918872956592,
            0.3889280868688554,
            0.37559373738842877,
            0.313432318178392,
            0.3113173703355543,
            0.3173593536140742,
            0.5226527858651877,
            0.5218870283040979,
            0.5305120911039279,
            0.5073790509376498,
            0.45555189093532616,
            0.5811931530219535,
            0.49137911503850723,
            0.4596871507225341,
            0.5931485676317152,
            0.5015493311631971,
            0.5352614175566183,
            0.41627137609157383,
            0.5196315901457009,
            0.5694091523691862,
            0.5428358637009768,
            0.4969156482377886,
            0.43947755410445805,
            0.47003581354194907,
            0.6003535660190548,
            0.5728120636898576,
            0.5195159971350367,
            0.6627154698424039,
            0.545654039510639,
            0.6038876820207085,
            0.5327975660094345,
            0.4860673616291181,
            0.4813149445329324,
            0.5076934425014256,
            0.4370972256912497,
            0.40775107733680077,
            0.4587013292198785,
            0.5635781592799184,
            0.5626377208542075,
            0.5088828340332702,
            0.5082274042113741,
            0.48474603564647845,
            0.4801094058232277,
            0.5030515777533487,
            0.5523523034869005,
            0.4555197150207959,
            0.4911410737694075,
            0.5716211804343039,
            0.5099066087070914,
            0.4717546412547954,
            0.5469877502643724,
            0.5112049301138453,
            0.6164936376384269,
            0.5850823035629642,
            0.44015178426316187,
            0.4881538346741622,
            0.5166575418382118
           ]
          }
         ],
         "labelangle": 30,
         "labelside": "bottom",
         "line": {
          "color": [
           0.7364864864864865,
           0.7708578143360753,
           0.7643948296122208,
           0.7867215041128085,
           0.782021151586369,
           0.7837837837837839,
           0.7749706227967098,
           0.745005875440658,
           0.7561692126909518,
           0.7749706227967098,
           0.7758519388954173,
           0.782608695652174,
           0.786427732079906,
           0.786427732079906,
           0.7896592244418332,
           0.7861339600470035,
           0.7843713278495887,
           0.7755581668625148,
           0.7749706227967097,
           0.7690951821386603,
           0.7914218566392479,
           0.7931844888366627,
           0.7861339600470035,
           0.7826086956521738,
           0.7867215041128084,
           0.7984723854289072,
           0.7978848413631022,
           0.7867215041128085,
           0.800235017626322,
           0.8090481786133961,
           0.7955346650998825,
           0.7984723854289072,
           0.810223266745006,
           0.799647473560517,
           0.7996474735605171,
           0.8014101057579318,
           0.7937720329024678,
           0.7884841363102233,
           0.7925969447708577,
           0.782021151586369,
           0.7972972972972974,
           0.7984723854289072,
           0.8061104582843713,
           0.8025851938895419,
           0.8037602820211516,
           0.7849588719153937,
           0.8055229142185664,
           0.7890716803760283,
           0.790246768507638,
           0.8061104582843713,
           0.8043478260869567,
           0.7949471210340776,
           0.8072855464159813,
           0.7643948296122209,
           0.8014101057579319,
           0.7831962397179789,
           0.7931844888366627,
           0.7943595769682726,
           0.763807285546416,
           0.8043478260869565,
           0.8014101057579318,
           0.7961222091656875,
           0.7949471210340775,
           0.7808460634547592,
           0.7961222091656874,
           0.8019976498237369,
           0.7925969447708578,
           0.7990599294947122,
           0.7855464159811986,
           0.7978848413631022,
           0.7967097532314923,
           0.8019976498237368,
           0.7937720329024677,
           0.7808460634547592,
           0.8072855464159813,
           0.8008225616921268,
           0.8084606345475911,
           0.799059929494712,
           0.7779083431257344,
           0.799647473560517,
           0.807873090481786,
           0.7990599294947122,
           0.8066980023501763,
           0.8049353701527615,
           0.8078730904817861,
           0.7978848413631022,
           0.8061104582843713,
           0.7943595769682725,
           0.7937720329024677,
           0.7925969447708578,
           0.7878965922444184,
           0.8108108108108109,
           0.7990599294947122,
           0.8061104582843713,
           0.8113983548766158,
           0.8066980023501763,
           0.800822561692127,
           0.799647473560517,
           0.7955346650998826,
           0.8084606345475911
          ],
          "colorbar": {
           "title": {
            "text": "Objective Value"
           }
          },
          "colorscale": [
           [
            0,
            "rgb(247,251,255)"
           ],
           [
            0.125,
            "rgb(222,235,247)"
           ],
           [
            0.25,
            "rgb(198,219,239)"
           ],
           [
            0.375,
            "rgb(158,202,225)"
           ],
           [
            0.5,
            "rgb(107,174,214)"
           ],
           [
            0.625,
            "rgb(66,146,198)"
           ],
           [
            0.75,
            "rgb(33,113,181)"
           ],
           [
            0.875,
            "rgb(8,81,156)"
           ],
           [
            1,
            "rgb(8,48,107)"
           ]
          ],
          "reversescale": false,
          "showscale": true
         },
         "type": "parcoords"
        }
       ],
       "layout": {
        "template": {
         "data": {
          "bar": [
           {
            "error_x": {
             "color": "#2a3f5f"
            },
            "error_y": {
             "color": "#2a3f5f"
            },
            "marker": {
             "line": {
              "color": "#E5ECF6",
              "width": 0.5
             },
             "pattern": {
              "fillmode": "overlay",
              "size": 10,
              "solidity": 0.2
             }
            },
            "type": "bar"
           }
          ],
          "barpolar": [
           {
            "marker": {
             "line": {
              "color": "#E5ECF6",
              "width": 0.5
             },
             "pattern": {
              "fillmode": "overlay",
              "size": 10,
              "solidity": 0.2
             }
            },
            "type": "barpolar"
           }
          ],
          "carpet": [
           {
            "aaxis": {
             "endlinecolor": "#2a3f5f",
             "gridcolor": "white",
             "linecolor": "white",
             "minorgridcolor": "white",
             "startlinecolor": "#2a3f5f"
            },
            "baxis": {
             "endlinecolor": "#2a3f5f",
             "gridcolor": "white",
             "linecolor": "white",
             "minorgridcolor": "white",
             "startlinecolor": "#2a3f5f"
            },
            "type": "carpet"
           }
          ],
          "choropleth": [
           {
            "colorbar": {
             "outlinewidth": 0,
             "ticks": ""
            },
            "type": "choropleth"
           }
          ],
          "contour": [
           {
            "colorbar": {
             "outlinewidth": 0,
             "ticks": ""
            },
            "colorscale": [
             [
              0,
              "#0d0887"
             ],
             [
              0.1111111111111111,
              "#46039f"
             ],
             [
              0.2222222222222222,
              "#7201a8"
             ],
             [
              0.3333333333333333,
              "#9c179e"
             ],
             [
              0.4444444444444444,
              "#bd3786"
             ],
             [
              0.5555555555555556,
              "#d8576b"
             ],
             [
              0.6666666666666666,
              "#ed7953"
             ],
             [
              0.7777777777777778,
              "#fb9f3a"
             ],
             [
              0.8888888888888888,
              "#fdca26"
             ],
             [
              1,
              "#f0f921"
             ]
            ],
            "type": "contour"
           }
          ],
          "contourcarpet": [
           {
            "colorbar": {
             "outlinewidth": 0,
             "ticks": ""
            },
            "type": "contourcarpet"
           }
          ],
          "heatmap": [
           {
            "colorbar": {
             "outlinewidth": 0,
             "ticks": ""
            },
            "colorscale": [
             [
              0,
              "#0d0887"
             ],
             [
              0.1111111111111111,
              "#46039f"
             ],
             [
              0.2222222222222222,
              "#7201a8"
             ],
             [
              0.3333333333333333,
              "#9c179e"
             ],
             [
              0.4444444444444444,
              "#bd3786"
             ],
             [
              0.5555555555555556,
              "#d8576b"
             ],
             [
              0.6666666666666666,
              "#ed7953"
             ],
             [
              0.7777777777777778,
              "#fb9f3a"
             ],
             [
              0.8888888888888888,
              "#fdca26"
             ],
             [
              1,
              "#f0f921"
             ]
            ],
            "type": "heatmap"
           }
          ],
          "heatmapgl": [
           {
            "colorbar": {
             "outlinewidth": 0,
             "ticks": ""
            },
            "colorscale": [
             [
              0,
              "#0d0887"
             ],
             [
              0.1111111111111111,
              "#46039f"
             ],
             [
              0.2222222222222222,
              "#7201a8"
             ],
             [
              0.3333333333333333,
              "#9c179e"
             ],
             [
              0.4444444444444444,
              "#bd3786"
             ],
             [
              0.5555555555555556,
              "#d8576b"
             ],
             [
              0.6666666666666666,
              "#ed7953"
             ],
             [
              0.7777777777777778,
              "#fb9f3a"
             ],
             [
              0.8888888888888888,
              "#fdca26"
             ],
             [
              1,
              "#f0f921"
             ]
            ],
            "type": "heatmapgl"
           }
          ],
          "histogram": [
           {
            "marker": {
             "pattern": {
              "fillmode": "overlay",
              "size": 10,
              "solidity": 0.2
             }
            },
            "type": "histogram"
           }
          ],
          "histogram2d": [
           {
            "colorbar": {
             "outlinewidth": 0,
             "ticks": ""
            },
            "colorscale": [
             [
              0,
              "#0d0887"
             ],
             [
              0.1111111111111111,
              "#46039f"
             ],
             [
              0.2222222222222222,
              "#7201a8"
             ],
             [
              0.3333333333333333,
              "#9c179e"
             ],
             [
              0.4444444444444444,
              "#bd3786"
             ],
             [
              0.5555555555555556,
              "#d8576b"
             ],
             [
              0.6666666666666666,
              "#ed7953"
             ],
             [
              0.7777777777777778,
              "#fb9f3a"
             ],
             [
              0.8888888888888888,
              "#fdca26"
             ],
             [
              1,
              "#f0f921"
             ]
            ],
            "type": "histogram2d"
           }
          ],
          "histogram2dcontour": [
           {
            "colorbar": {
             "outlinewidth": 0,
             "ticks": ""
            },
            "colorscale": [
             [
              0,
              "#0d0887"
             ],
             [
              0.1111111111111111,
              "#46039f"
             ],
             [
              0.2222222222222222,
              "#7201a8"
             ],
             [
              0.3333333333333333,
              "#9c179e"
             ],
             [
              0.4444444444444444,
              "#bd3786"
             ],
             [
              0.5555555555555556,
              "#d8576b"
             ],
             [
              0.6666666666666666,
              "#ed7953"
             ],
             [
              0.7777777777777778,
              "#fb9f3a"
             ],
             [
              0.8888888888888888,
              "#fdca26"
             ],
             [
              1,
              "#f0f921"
             ]
            ],
            "type": "histogram2dcontour"
           }
          ],
          "mesh3d": [
           {
            "colorbar": {
             "outlinewidth": 0,
             "ticks": ""
            },
            "type": "mesh3d"
           }
          ],
          "parcoords": [
           {
            "line": {
             "colorbar": {
              "outlinewidth": 0,
              "ticks": ""
             }
            },
            "type": "parcoords"
           }
          ],
          "pie": [
           {
            "automargin": true,
            "type": "pie"
           }
          ],
          "scatter": [
           {
            "fillpattern": {
             "fillmode": "overlay",
             "size": 10,
             "solidity": 0.2
            },
            "type": "scatter"
           }
          ],
          "scatter3d": [
           {
            "line": {
             "colorbar": {
              "outlinewidth": 0,
              "ticks": ""
             }
            },
            "marker": {
             "colorbar": {
              "outlinewidth": 0,
              "ticks": ""
             }
            },
            "type": "scatter3d"
           }
          ],
          "scattercarpet": [
           {
            "marker": {
             "colorbar": {
              "outlinewidth": 0,
              "ticks": ""
             }
            },
            "type": "scattercarpet"
           }
          ],
          "scattergeo": [
           {
            "marker": {
             "colorbar": {
              "outlinewidth": 0,
              "ticks": ""
             }
            },
            "type": "scattergeo"
           }
          ],
          "scattergl": [
           {
            "marker": {
             "colorbar": {
              "outlinewidth": 0,
              "ticks": ""
             }
            },
            "type": "scattergl"
           }
          ],
          "scattermapbox": [
           {
            "marker": {
             "colorbar": {
              "outlinewidth": 0,
              "ticks": ""
             }
            },
            "type": "scattermapbox"
           }
          ],
          "scatterpolar": [
           {
            "marker": {
             "colorbar": {
              "outlinewidth": 0,
              "ticks": ""
             }
            },
            "type": "scatterpolar"
           }
          ],
          "scatterpolargl": [
           {
            "marker": {
             "colorbar": {
              "outlinewidth": 0,
              "ticks": ""
             }
            },
            "type": "scatterpolargl"
           }
          ],
          "scatterternary": [
           {
            "marker": {
             "colorbar": {
              "outlinewidth": 0,
              "ticks": ""
             }
            },
            "type": "scatterternary"
           }
          ],
          "surface": [
           {
            "colorbar": {
             "outlinewidth": 0,
             "ticks": ""
            },
            "colorscale": [
             [
              0,
              "#0d0887"
             ],
             [
              0.1111111111111111,
              "#46039f"
             ],
             [
              0.2222222222222222,
              "#7201a8"
             ],
             [
              0.3333333333333333,
              "#9c179e"
             ],
             [
              0.4444444444444444,
              "#bd3786"
             ],
             [
              0.5555555555555556,
              "#d8576b"
             ],
             [
              0.6666666666666666,
              "#ed7953"
             ],
             [
              0.7777777777777778,
              "#fb9f3a"
             ],
             [
              0.8888888888888888,
              "#fdca26"
             ],
             [
              1,
              "#f0f921"
             ]
            ],
            "type": "surface"
           }
          ],
          "table": [
           {
            "cells": {
             "fill": {
              "color": "#EBF0F8"
             },
             "line": {
              "color": "white"
             }
            },
            "header": {
             "fill": {
              "color": "#C8D4E3"
             },
             "line": {
              "color": "white"
             }
            },
            "type": "table"
           }
          ]
         },
         "layout": {
          "annotationdefaults": {
           "arrowcolor": "#2a3f5f",
           "arrowhead": 0,
           "arrowwidth": 1
          },
          "autotypenumbers": "strict",
          "coloraxis": {
           "colorbar": {
            "outlinewidth": 0,
            "ticks": ""
           }
          },
          "colorscale": {
           "diverging": [
            [
             0,
             "#8e0152"
            ],
            [
             0.1,
             "#c51b7d"
            ],
            [
             0.2,
             "#de77ae"
            ],
            [
             0.3,
             "#f1b6da"
            ],
            [
             0.4,
             "#fde0ef"
            ],
            [
             0.5,
             "#f7f7f7"
            ],
            [
             0.6,
             "#e6f5d0"
            ],
            [
             0.7,
             "#b8e186"
            ],
            [
             0.8,
             "#7fbc41"
            ],
            [
             0.9,
             "#4d9221"
            ],
            [
             1,
             "#276419"
            ]
           ],
           "sequential": [
            [
             0,
             "#0d0887"
            ],
            [
             0.1111111111111111,
             "#46039f"
            ],
            [
             0.2222222222222222,
             "#7201a8"
            ],
            [
             0.3333333333333333,
             "#9c179e"
            ],
            [
             0.4444444444444444,
             "#bd3786"
            ],
            [
             0.5555555555555556,
             "#d8576b"
            ],
            [
             0.6666666666666666,
             "#ed7953"
            ],
            [
             0.7777777777777778,
             "#fb9f3a"
            ],
            [
             0.8888888888888888,
             "#fdca26"
            ],
            [
             1,
             "#f0f921"
            ]
           ],
           "sequentialminus": [
            [
             0,
             "#0d0887"
            ],
            [
             0.1111111111111111,
             "#46039f"
            ],
            [
             0.2222222222222222,
             "#7201a8"
            ],
            [
             0.3333333333333333,
             "#9c179e"
            ],
            [
             0.4444444444444444,
             "#bd3786"
            ],
            [
             0.5555555555555556,
             "#d8576b"
            ],
            [
             0.6666666666666666,
             "#ed7953"
            ],
            [
             0.7777777777777778,
             "#fb9f3a"
            ],
            [
             0.8888888888888888,
             "#fdca26"
            ],
            [
             1,
             "#f0f921"
            ]
           ]
          },
          "colorway": [
           "#636efa",
           "#EF553B",
           "#00cc96",
           "#ab63fa",
           "#FFA15A",
           "#19d3f3",
           "#FF6692",
           "#B6E880",
           "#FF97FF",
           "#FECB52"
          ],
          "font": {
           "color": "#2a3f5f"
          },
          "geo": {
           "bgcolor": "white",
           "lakecolor": "white",
           "landcolor": "#E5ECF6",
           "showlakes": true,
           "showland": true,
           "subunitcolor": "white"
          },
          "hoverlabel": {
           "align": "left"
          },
          "hovermode": "closest",
          "mapbox": {
           "style": "light"
          },
          "paper_bgcolor": "white",
          "plot_bgcolor": "#E5ECF6",
          "polar": {
           "angularaxis": {
            "gridcolor": "white",
            "linecolor": "white",
            "ticks": ""
           },
           "bgcolor": "#E5ECF6",
           "radialaxis": {
            "gridcolor": "white",
            "linecolor": "white",
            "ticks": ""
           }
          },
          "scene": {
           "xaxis": {
            "backgroundcolor": "#E5ECF6",
            "gridcolor": "white",
            "gridwidth": 2,
            "linecolor": "white",
            "showbackground": true,
            "ticks": "",
            "zerolinecolor": "white"
           },
           "yaxis": {
            "backgroundcolor": "#E5ECF6",
            "gridcolor": "white",
            "gridwidth": 2,
            "linecolor": "white",
            "showbackground": true,
            "ticks": "",
            "zerolinecolor": "white"
           },
           "zaxis": {
            "backgroundcolor": "#E5ECF6",
            "gridcolor": "white",
            "gridwidth": 2,
            "linecolor": "white",
            "showbackground": true,
            "ticks": "",
            "zerolinecolor": "white"
           }
          },
          "shapedefaults": {
           "line": {
            "color": "#2a3f5f"
           }
          },
          "ternary": {
           "aaxis": {
            "gridcolor": "white",
            "linecolor": "white",
            "ticks": ""
           },
           "baxis": {
            "gridcolor": "white",
            "linecolor": "white",
            "ticks": ""
           },
           "bgcolor": "#E5ECF6",
           "caxis": {
            "gridcolor": "white",
            "linecolor": "white",
            "ticks": ""
           }
          },
          "title": {
           "x": 0.05
          },
          "xaxis": {
           "automargin": true,
           "gridcolor": "white",
           "linecolor": "white",
           "ticks": "",
           "title": {
            "standoff": 15
           },
           "zerolinecolor": "white",
           "zerolinewidth": 2
          },
          "yaxis": {
           "automargin": true,
           "gridcolor": "white",
           "linecolor": "white",
           "ticks": "",
           "title": {
            "standoff": 15
           },
           "zerolinecolor": "white",
           "zerolinewidth": 2
          }
         }
        },
        "title": {
         "text": "Parallel Coordinate Plot"
        }
       }
      }
     },
     "metadata": {},
     "output_type": "display_data"
    }
   ],
   "source": [
    "# Visualize parallel coordinate plot\n",
    "fig = vis.plot_parallel_coordinate(study)\n",
    "fig.show()"
   ]
  },
  {
   "cell_type": "code",
   "execution_count": 17,
   "id": "3497525d",
   "metadata": {
    "execution": {
     "iopub.execute_input": "2023-04-09T03:47:59.520333Z",
     "iopub.status.busy": "2023-04-09T03:47:59.519957Z",
     "iopub.status.idle": "2023-04-09T03:47:59.556119Z",
     "shell.execute_reply": "2023-04-09T03:47:59.554953Z"
    },
    "papermill": {
     "duration": 0.052123,
     "end_time": "2023-04-09T03:47:59.558259",
     "exception": false,
     "start_time": "2023-04-09T03:47:59.506136",
     "status": "completed"
    },
    "tags": []
   },
   "outputs": [
    {
     "data": {
      "application/vnd.plotly.v1+json": {
       "config": {
        "plotlyServerURL": "https://plot.ly"
       },
       "data": [
        {
         "mode": "markers",
         "name": "Objective Value",
         "type": "scatter",
         "x": [
          0,
          1,
          2,
          3,
          4,
          5,
          6,
          7,
          8,
          9,
          10,
          11,
          12,
          13,
          14,
          15,
          16,
          17,
          18,
          19,
          20,
          21,
          22,
          23,
          24,
          25,
          26,
          27,
          28,
          29,
          30,
          31,
          32,
          33,
          34,
          35,
          36,
          37,
          38,
          39,
          40,
          41,
          42,
          43,
          44,
          45,
          46,
          47,
          48,
          49,
          50,
          51,
          52,
          53,
          54,
          55,
          56,
          57,
          58,
          59,
          60,
          61,
          62,
          63,
          64,
          65,
          66,
          67,
          68,
          69,
          70,
          71,
          72,
          73,
          74,
          75,
          76,
          77,
          78,
          79,
          80,
          81,
          82,
          83,
          84,
          85,
          86,
          87,
          88,
          89,
          90,
          91,
          92,
          93,
          94,
          95,
          96,
          97,
          98,
          99
         ],
         "y": [
          0.7364864864864865,
          0.7708578143360753,
          0.7643948296122208,
          0.7867215041128085,
          0.782021151586369,
          0.7837837837837839,
          0.7749706227967098,
          0.745005875440658,
          0.7561692126909518,
          0.7749706227967098,
          0.7758519388954173,
          0.782608695652174,
          0.786427732079906,
          0.786427732079906,
          0.7896592244418332,
          0.7861339600470035,
          0.7843713278495887,
          0.7755581668625148,
          0.7749706227967097,
          0.7690951821386603,
          0.7914218566392479,
          0.7931844888366627,
          0.7861339600470035,
          0.7826086956521738,
          0.7867215041128084,
          0.7984723854289072,
          0.7978848413631022,
          0.7867215041128085,
          0.800235017626322,
          0.8090481786133961,
          0.7955346650998825,
          0.7984723854289072,
          0.810223266745006,
          0.799647473560517,
          0.7996474735605171,
          0.8014101057579318,
          0.7937720329024678,
          0.7884841363102233,
          0.7925969447708577,
          0.782021151586369,
          0.7972972972972974,
          0.7984723854289072,
          0.8061104582843713,
          0.8025851938895419,
          0.8037602820211516,
          0.7849588719153937,
          0.8055229142185664,
          0.7890716803760283,
          0.790246768507638,
          0.8061104582843713,
          0.8043478260869567,
          0.7949471210340776,
          0.8072855464159813,
          0.7643948296122209,
          0.8014101057579319,
          0.7831962397179789,
          0.7931844888366627,
          0.7943595769682726,
          0.763807285546416,
          0.8043478260869565,
          0.8014101057579318,
          0.7961222091656875,
          0.7949471210340775,
          0.7808460634547592,
          0.7961222091656874,
          0.8019976498237369,
          0.7925969447708578,
          0.7990599294947122,
          0.7855464159811986,
          0.7978848413631022,
          0.7967097532314923,
          0.8019976498237368,
          0.7937720329024677,
          0.7808460634547592,
          0.8072855464159813,
          0.8008225616921268,
          0.8084606345475911,
          0.799059929494712,
          0.7779083431257344,
          0.799647473560517,
          0.807873090481786,
          0.7990599294947122,
          0.8066980023501763,
          0.8049353701527615,
          0.8078730904817861,
          0.7978848413631022,
          0.8061104582843713,
          0.7943595769682725,
          0.7937720329024677,
          0.7925969447708578,
          0.7878965922444184,
          0.8108108108108109,
          0.7990599294947122,
          0.8061104582843713,
          0.8113983548766158,
          0.8066980023501763,
          0.800822561692127,
          0.799647473560517,
          0.7955346650998826,
          0.8084606345475911
         ]
        },
        {
         "name": "Best Value",
         "type": "scatter",
         "x": [
          0,
          1,
          2,
          3,
          4,
          5,
          6,
          7,
          8,
          9,
          10,
          11,
          12,
          13,
          14,
          15,
          16,
          17,
          18,
          19,
          20,
          21,
          22,
          23,
          24,
          25,
          26,
          27,
          28,
          29,
          30,
          31,
          32,
          33,
          34,
          35,
          36,
          37,
          38,
          39,
          40,
          41,
          42,
          43,
          44,
          45,
          46,
          47,
          48,
          49,
          50,
          51,
          52,
          53,
          54,
          55,
          56,
          57,
          58,
          59,
          60,
          61,
          62,
          63,
          64,
          65,
          66,
          67,
          68,
          69,
          70,
          71,
          72,
          73,
          74,
          75,
          76,
          77,
          78,
          79,
          80,
          81,
          82,
          83,
          84,
          85,
          86,
          87,
          88,
          89,
          90,
          91,
          92,
          93,
          94,
          95,
          96,
          97,
          98,
          99
         ],
         "y": [
          0.7364864864864865,
          0.7708578143360753,
          0.7708578143360753,
          0.7867215041128085,
          0.7867215041128085,
          0.7867215041128085,
          0.7867215041128085,
          0.7867215041128085,
          0.7867215041128085,
          0.7867215041128085,
          0.7867215041128085,
          0.7867215041128085,
          0.7867215041128085,
          0.7867215041128085,
          0.7896592244418332,
          0.7896592244418332,
          0.7896592244418332,
          0.7896592244418332,
          0.7896592244418332,
          0.7896592244418332,
          0.7914218566392479,
          0.7931844888366627,
          0.7931844888366627,
          0.7931844888366627,
          0.7931844888366627,
          0.7984723854289072,
          0.7984723854289072,
          0.7984723854289072,
          0.800235017626322,
          0.8090481786133961,
          0.8090481786133961,
          0.8090481786133961,
          0.810223266745006,
          0.810223266745006,
          0.810223266745006,
          0.810223266745006,
          0.810223266745006,
          0.810223266745006,
          0.810223266745006,
          0.810223266745006,
          0.810223266745006,
          0.810223266745006,
          0.810223266745006,
          0.810223266745006,
          0.810223266745006,
          0.810223266745006,
          0.810223266745006,
          0.810223266745006,
          0.810223266745006,
          0.810223266745006,
          0.810223266745006,
          0.810223266745006,
          0.810223266745006,
          0.810223266745006,
          0.810223266745006,
          0.810223266745006,
          0.810223266745006,
          0.810223266745006,
          0.810223266745006,
          0.810223266745006,
          0.810223266745006,
          0.810223266745006,
          0.810223266745006,
          0.810223266745006,
          0.810223266745006,
          0.810223266745006,
          0.810223266745006,
          0.810223266745006,
          0.810223266745006,
          0.810223266745006,
          0.810223266745006,
          0.810223266745006,
          0.810223266745006,
          0.810223266745006,
          0.810223266745006,
          0.810223266745006,
          0.810223266745006,
          0.810223266745006,
          0.810223266745006,
          0.810223266745006,
          0.810223266745006,
          0.810223266745006,
          0.810223266745006,
          0.810223266745006,
          0.810223266745006,
          0.810223266745006,
          0.810223266745006,
          0.810223266745006,
          0.810223266745006,
          0.810223266745006,
          0.810223266745006,
          0.8108108108108109,
          0.8108108108108109,
          0.8108108108108109,
          0.8113983548766158,
          0.8113983548766158,
          0.8113983548766158,
          0.8113983548766158,
          0.8113983548766158,
          0.8113983548766158
         ]
        }
       ],
       "layout": {
        "template": {
         "data": {
          "bar": [
           {
            "error_x": {
             "color": "#2a3f5f"
            },
            "error_y": {
             "color": "#2a3f5f"
            },
            "marker": {
             "line": {
              "color": "#E5ECF6",
              "width": 0.5
             },
             "pattern": {
              "fillmode": "overlay",
              "size": 10,
              "solidity": 0.2
             }
            },
            "type": "bar"
           }
          ],
          "barpolar": [
           {
            "marker": {
             "line": {
              "color": "#E5ECF6",
              "width": 0.5
             },
             "pattern": {
              "fillmode": "overlay",
              "size": 10,
              "solidity": 0.2
             }
            },
            "type": "barpolar"
           }
          ],
          "carpet": [
           {
            "aaxis": {
             "endlinecolor": "#2a3f5f",
             "gridcolor": "white",
             "linecolor": "white",
             "minorgridcolor": "white",
             "startlinecolor": "#2a3f5f"
            },
            "baxis": {
             "endlinecolor": "#2a3f5f",
             "gridcolor": "white",
             "linecolor": "white",
             "minorgridcolor": "white",
             "startlinecolor": "#2a3f5f"
            },
            "type": "carpet"
           }
          ],
          "choropleth": [
           {
            "colorbar": {
             "outlinewidth": 0,
             "ticks": ""
            },
            "type": "choropleth"
           }
          ],
          "contour": [
           {
            "colorbar": {
             "outlinewidth": 0,
             "ticks": ""
            },
            "colorscale": [
             [
              0,
              "#0d0887"
             ],
             [
              0.1111111111111111,
              "#46039f"
             ],
             [
              0.2222222222222222,
              "#7201a8"
             ],
             [
              0.3333333333333333,
              "#9c179e"
             ],
             [
              0.4444444444444444,
              "#bd3786"
             ],
             [
              0.5555555555555556,
              "#d8576b"
             ],
             [
              0.6666666666666666,
              "#ed7953"
             ],
             [
              0.7777777777777778,
              "#fb9f3a"
             ],
             [
              0.8888888888888888,
              "#fdca26"
             ],
             [
              1,
              "#f0f921"
             ]
            ],
            "type": "contour"
           }
          ],
          "contourcarpet": [
           {
            "colorbar": {
             "outlinewidth": 0,
             "ticks": ""
            },
            "type": "contourcarpet"
           }
          ],
          "heatmap": [
           {
            "colorbar": {
             "outlinewidth": 0,
             "ticks": ""
            },
            "colorscale": [
             [
              0,
              "#0d0887"
             ],
             [
              0.1111111111111111,
              "#46039f"
             ],
             [
              0.2222222222222222,
              "#7201a8"
             ],
             [
              0.3333333333333333,
              "#9c179e"
             ],
             [
              0.4444444444444444,
              "#bd3786"
             ],
             [
              0.5555555555555556,
              "#d8576b"
             ],
             [
              0.6666666666666666,
              "#ed7953"
             ],
             [
              0.7777777777777778,
              "#fb9f3a"
             ],
             [
              0.8888888888888888,
              "#fdca26"
             ],
             [
              1,
              "#f0f921"
             ]
            ],
            "type": "heatmap"
           }
          ],
          "heatmapgl": [
           {
            "colorbar": {
             "outlinewidth": 0,
             "ticks": ""
            },
            "colorscale": [
             [
              0,
              "#0d0887"
             ],
             [
              0.1111111111111111,
              "#46039f"
             ],
             [
              0.2222222222222222,
              "#7201a8"
             ],
             [
              0.3333333333333333,
              "#9c179e"
             ],
             [
              0.4444444444444444,
              "#bd3786"
             ],
             [
              0.5555555555555556,
              "#d8576b"
             ],
             [
              0.6666666666666666,
              "#ed7953"
             ],
             [
              0.7777777777777778,
              "#fb9f3a"
             ],
             [
              0.8888888888888888,
              "#fdca26"
             ],
             [
              1,
              "#f0f921"
             ]
            ],
            "type": "heatmapgl"
           }
          ],
          "histogram": [
           {
            "marker": {
             "pattern": {
              "fillmode": "overlay",
              "size": 10,
              "solidity": 0.2
             }
            },
            "type": "histogram"
           }
          ],
          "histogram2d": [
           {
            "colorbar": {
             "outlinewidth": 0,
             "ticks": ""
            },
            "colorscale": [
             [
              0,
              "#0d0887"
             ],
             [
              0.1111111111111111,
              "#46039f"
             ],
             [
              0.2222222222222222,
              "#7201a8"
             ],
             [
              0.3333333333333333,
              "#9c179e"
             ],
             [
              0.4444444444444444,
              "#bd3786"
             ],
             [
              0.5555555555555556,
              "#d8576b"
             ],
             [
              0.6666666666666666,
              "#ed7953"
             ],
             [
              0.7777777777777778,
              "#fb9f3a"
             ],
             [
              0.8888888888888888,
              "#fdca26"
             ],
             [
              1,
              "#f0f921"
             ]
            ],
            "type": "histogram2d"
           }
          ],
          "histogram2dcontour": [
           {
            "colorbar": {
             "outlinewidth": 0,
             "ticks": ""
            },
            "colorscale": [
             [
              0,
              "#0d0887"
             ],
             [
              0.1111111111111111,
              "#46039f"
             ],
             [
              0.2222222222222222,
              "#7201a8"
             ],
             [
              0.3333333333333333,
              "#9c179e"
             ],
             [
              0.4444444444444444,
              "#bd3786"
             ],
             [
              0.5555555555555556,
              "#d8576b"
             ],
             [
              0.6666666666666666,
              "#ed7953"
             ],
             [
              0.7777777777777778,
              "#fb9f3a"
             ],
             [
              0.8888888888888888,
              "#fdca26"
             ],
             [
              1,
              "#f0f921"
             ]
            ],
            "type": "histogram2dcontour"
           }
          ],
          "mesh3d": [
           {
            "colorbar": {
             "outlinewidth": 0,
             "ticks": ""
            },
            "type": "mesh3d"
           }
          ],
          "parcoords": [
           {
            "line": {
             "colorbar": {
              "outlinewidth": 0,
              "ticks": ""
             }
            },
            "type": "parcoords"
           }
          ],
          "pie": [
           {
            "automargin": true,
            "type": "pie"
           }
          ],
          "scatter": [
           {
            "fillpattern": {
             "fillmode": "overlay",
             "size": 10,
             "solidity": 0.2
            },
            "type": "scatter"
           }
          ],
          "scatter3d": [
           {
            "line": {
             "colorbar": {
              "outlinewidth": 0,
              "ticks": ""
             }
            },
            "marker": {
             "colorbar": {
              "outlinewidth": 0,
              "ticks": ""
             }
            },
            "type": "scatter3d"
           }
          ],
          "scattercarpet": [
           {
            "marker": {
             "colorbar": {
              "outlinewidth": 0,
              "ticks": ""
             }
            },
            "type": "scattercarpet"
           }
          ],
          "scattergeo": [
           {
            "marker": {
             "colorbar": {
              "outlinewidth": 0,
              "ticks": ""
             }
            },
            "type": "scattergeo"
           }
          ],
          "scattergl": [
           {
            "marker": {
             "colorbar": {
              "outlinewidth": 0,
              "ticks": ""
             }
            },
            "type": "scattergl"
           }
          ],
          "scattermapbox": [
           {
            "marker": {
             "colorbar": {
              "outlinewidth": 0,
              "ticks": ""
             }
            },
            "type": "scattermapbox"
           }
          ],
          "scatterpolar": [
           {
            "marker": {
             "colorbar": {
              "outlinewidth": 0,
              "ticks": ""
             }
            },
            "type": "scatterpolar"
           }
          ],
          "scatterpolargl": [
           {
            "marker": {
             "colorbar": {
              "outlinewidth": 0,
              "ticks": ""
             }
            },
            "type": "scatterpolargl"
           }
          ],
          "scatterternary": [
           {
            "marker": {
             "colorbar": {
              "outlinewidth": 0,
              "ticks": ""
             }
            },
            "type": "scatterternary"
           }
          ],
          "surface": [
           {
            "colorbar": {
             "outlinewidth": 0,
             "ticks": ""
            },
            "colorscale": [
             [
              0,
              "#0d0887"
             ],
             [
              0.1111111111111111,
              "#46039f"
             ],
             [
              0.2222222222222222,
              "#7201a8"
             ],
             [
              0.3333333333333333,
              "#9c179e"
             ],
             [
              0.4444444444444444,
              "#bd3786"
             ],
             [
              0.5555555555555556,
              "#d8576b"
             ],
             [
              0.6666666666666666,
              "#ed7953"
             ],
             [
              0.7777777777777778,
              "#fb9f3a"
             ],
             [
              0.8888888888888888,
              "#fdca26"
             ],
             [
              1,
              "#f0f921"
             ]
            ],
            "type": "surface"
           }
          ],
          "table": [
           {
            "cells": {
             "fill": {
              "color": "#EBF0F8"
             },
             "line": {
              "color": "white"
             }
            },
            "header": {
             "fill": {
              "color": "#C8D4E3"
             },
             "line": {
              "color": "white"
             }
            },
            "type": "table"
           }
          ]
         },
         "layout": {
          "annotationdefaults": {
           "arrowcolor": "#2a3f5f",
           "arrowhead": 0,
           "arrowwidth": 1
          },
          "autotypenumbers": "strict",
          "coloraxis": {
           "colorbar": {
            "outlinewidth": 0,
            "ticks": ""
           }
          },
          "colorscale": {
           "diverging": [
            [
             0,
             "#8e0152"
            ],
            [
             0.1,
             "#c51b7d"
            ],
            [
             0.2,
             "#de77ae"
            ],
            [
             0.3,
             "#f1b6da"
            ],
            [
             0.4,
             "#fde0ef"
            ],
            [
             0.5,
             "#f7f7f7"
            ],
            [
             0.6,
             "#e6f5d0"
            ],
            [
             0.7,
             "#b8e186"
            ],
            [
             0.8,
             "#7fbc41"
            ],
            [
             0.9,
             "#4d9221"
            ],
            [
             1,
             "#276419"
            ]
           ],
           "sequential": [
            [
             0,
             "#0d0887"
            ],
            [
             0.1111111111111111,
             "#46039f"
            ],
            [
             0.2222222222222222,
             "#7201a8"
            ],
            [
             0.3333333333333333,
             "#9c179e"
            ],
            [
             0.4444444444444444,
             "#bd3786"
            ],
            [
             0.5555555555555556,
             "#d8576b"
            ],
            [
             0.6666666666666666,
             "#ed7953"
            ],
            [
             0.7777777777777778,
             "#fb9f3a"
            ],
            [
             0.8888888888888888,
             "#fdca26"
            ],
            [
             1,
             "#f0f921"
            ]
           ],
           "sequentialminus": [
            [
             0,
             "#0d0887"
            ],
            [
             0.1111111111111111,
             "#46039f"
            ],
            [
             0.2222222222222222,
             "#7201a8"
            ],
            [
             0.3333333333333333,
             "#9c179e"
            ],
            [
             0.4444444444444444,
             "#bd3786"
            ],
            [
             0.5555555555555556,
             "#d8576b"
            ],
            [
             0.6666666666666666,
             "#ed7953"
            ],
            [
             0.7777777777777778,
             "#fb9f3a"
            ],
            [
             0.8888888888888888,
             "#fdca26"
            ],
            [
             1,
             "#f0f921"
            ]
           ]
          },
          "colorway": [
           "#636efa",
           "#EF553B",
           "#00cc96",
           "#ab63fa",
           "#FFA15A",
           "#19d3f3",
           "#FF6692",
           "#B6E880",
           "#FF97FF",
           "#FECB52"
          ],
          "font": {
           "color": "#2a3f5f"
          },
          "geo": {
           "bgcolor": "white",
           "lakecolor": "white",
           "landcolor": "#E5ECF6",
           "showlakes": true,
           "showland": true,
           "subunitcolor": "white"
          },
          "hoverlabel": {
           "align": "left"
          },
          "hovermode": "closest",
          "mapbox": {
           "style": "light"
          },
          "paper_bgcolor": "white",
          "plot_bgcolor": "#E5ECF6",
          "polar": {
           "angularaxis": {
            "gridcolor": "white",
            "linecolor": "white",
            "ticks": ""
           },
           "bgcolor": "#E5ECF6",
           "radialaxis": {
            "gridcolor": "white",
            "linecolor": "white",
            "ticks": ""
           }
          },
          "scene": {
           "xaxis": {
            "backgroundcolor": "#E5ECF6",
            "gridcolor": "white",
            "gridwidth": 2,
            "linecolor": "white",
            "showbackground": true,
            "ticks": "",
            "zerolinecolor": "white"
           },
           "yaxis": {
            "backgroundcolor": "#E5ECF6",
            "gridcolor": "white",
            "gridwidth": 2,
            "linecolor": "white",
            "showbackground": true,
            "ticks": "",
            "zerolinecolor": "white"
           },
           "zaxis": {
            "backgroundcolor": "#E5ECF6",
            "gridcolor": "white",
            "gridwidth": 2,
            "linecolor": "white",
            "showbackground": true,
            "ticks": "",
            "zerolinecolor": "white"
           }
          },
          "shapedefaults": {
           "line": {
            "color": "#2a3f5f"
           }
          },
          "ternary": {
           "aaxis": {
            "gridcolor": "white",
            "linecolor": "white",
            "ticks": ""
           },
           "baxis": {
            "gridcolor": "white",
            "linecolor": "white",
            "ticks": ""
           },
           "bgcolor": "#E5ECF6",
           "caxis": {
            "gridcolor": "white",
            "linecolor": "white",
            "ticks": ""
           }
          },
          "title": {
           "x": 0.05
          },
          "xaxis": {
           "automargin": true,
           "gridcolor": "white",
           "linecolor": "white",
           "ticks": "",
           "title": {
            "standoff": 15
           },
           "zerolinecolor": "white",
           "zerolinewidth": 2
          },
          "yaxis": {
           "automargin": true,
           "gridcolor": "white",
           "linecolor": "white",
           "ticks": "",
           "title": {
            "standoff": 15
           },
           "zerolinecolor": "white",
           "zerolinewidth": 2
          }
         }
        },
        "title": {
         "text": "Optimization History Plot"
        },
        "xaxis": {
         "title": {
          "text": "Trial"
         }
        },
        "yaxis": {
         "title": {
          "text": "Objective Value"
         }
        }
       }
      }
     },
     "metadata": {},
     "output_type": "display_data"
    }
   ],
   "source": [
    "# Visualize optimization history plot\n",
    "fig = vis.plot_optimization_history(study)\n",
    "fig.show()"
   ]
  },
  {
   "cell_type": "code",
   "execution_count": 18,
   "id": "525052b6",
   "metadata": {
    "execution": {
     "iopub.execute_input": "2023-04-09T03:47:59.585147Z",
     "iopub.status.busy": "2023-04-09T03:47:59.584736Z",
     "iopub.status.idle": "2023-04-09T03:47:59.590665Z",
     "shell.execute_reply": "2023-04-09T03:47:59.589690Z"
    },
    "papermill": {
     "duration": 0.021778,
     "end_time": "2023-04-09T03:47:59.592681",
     "exception": false,
     "start_time": "2023-04-09T03:47:59.570903",
     "status": "completed"
    },
    "tags": []
   },
   "outputs": [],
   "source": [
    "param_grid = {'n_estimators': 588, 'learning_rate': 0.010914601022630038, \n",
    "                 'max_depth': 10, 'min_child_weight': 1, 'subsample': 0.36983544183139816,\n",
    "                 'colsample_bytree': 0.669791309156759, 'gamma': 0.11302676094204718, \n",
    "                 'reg_alpha': 4.04019319197943e-08, 'reg_lambda': 0.4203077089763021}\n",
    "\n",
    "model = XGBClassifier(**param_grid)"
   ]
  },
  {
   "cell_type": "markdown",
   "id": "d658df42",
   "metadata": {
    "papermill": {
     "duration": 0.01197,
     "end_time": "2023-04-09T03:47:59.617145",
     "exception": false,
     "start_time": "2023-04-09T03:47:59.605175",
     "status": "completed"
    },
    "tags": []
   },
   "source": [
    "# ROC_Curve [train,validation set]"
   ]
  },
  {
   "cell_type": "code",
   "execution_count": 19,
   "id": "8523102a",
   "metadata": {
    "execution": {
     "iopub.execute_input": "2023-04-09T03:47:59.643742Z",
     "iopub.status.busy": "2023-04-09T03:47:59.643324Z",
     "iopub.status.idle": "2023-04-09T03:48:00.534008Z",
     "shell.execute_reply": "2023-04-09T03:48:00.533000Z"
    },
    "papermill": {
     "duration": 0.906772,
     "end_time": "2023-04-09T03:48:00.536313",
     "exception": false,
     "start_time": "2023-04-09T03:47:59.629541",
     "status": "completed"
    },
    "tags": []
   },
   "outputs": [
    {
     "data": {
      "text/plain": [
       "XGBClassifier(base_score=None, booster=None, callbacks=None,\n",
       "              colsample_bylevel=None, colsample_bynode=None,\n",
       "              colsample_bytree=0.669791309156759, early_stopping_rounds=None,\n",
       "              enable_categorical=False, eval_metric=None, feature_types=None,\n",
       "              gamma=0.11302676094204718, gpu_id=None, grow_policy=None,\n",
       "              importance_type=None, interaction_constraints=None,\n",
       "              learning_rate=0.010914601022630038, max_bin=None,\n",
       "              max_cat_threshold=None, max_cat_to_onehot=None,\n",
       "              max_delta_step=None, max_depth=10, max_leaves=None,\n",
       "              min_child_weight=1, missing=nan, monotone_constraints=None,\n",
       "              n_estimators=588, n_jobs=None, num_parallel_tree=None,\n",
       "              predictor=None, random_state=None, ...)"
      ]
     },
     "execution_count": 19,
     "metadata": {},
     "output_type": "execute_result"
    }
   ],
   "source": [
    "model.fit(x_train,y_train)"
   ]
  },
  {
   "cell_type": "code",
   "execution_count": 20,
   "id": "15d26b86",
   "metadata": {
    "execution": {
     "iopub.execute_input": "2023-04-09T03:48:00.564153Z",
     "iopub.status.busy": "2023-04-09T03:48:00.563772Z",
     "iopub.status.idle": "2023-04-09T03:48:00.578961Z",
     "shell.execute_reply": "2023-04-09T03:48:00.578159Z"
    },
    "papermill": {
     "duration": 0.031722,
     "end_time": "2023-04-09T03:48:00.581466",
     "exception": false,
     "start_time": "2023-04-09T03:48:00.549744",
     "status": "completed"
    },
    "tags": []
   },
   "outputs": [],
   "source": [
    "train_proba = model.predict_proba(x_test)[:,1]\n",
    "\n",
    "\n",
    "fpr,tpr, _ = roc_curve(y_test,train_proba)\n",
    "auc_score = round(roc_auc_score(y_test,train_proba),3)"
   ]
  },
  {
   "cell_type": "code",
   "execution_count": 21,
   "id": "f1e85423",
   "metadata": {
    "execution": {
     "iopub.execute_input": "2023-04-09T03:48:00.609022Z",
     "iopub.status.busy": "2023-04-09T03:48:00.608606Z",
     "iopub.status.idle": "2023-04-09T03:48:00.816160Z",
     "shell.execute_reply": "2023-04-09T03:48:00.815104Z"
    },
    "papermill": {
     "duration": 0.223301,
     "end_time": "2023-04-09T03:48:00.818117",
     "exception": false,
     "start_time": "2023-04-09T03:48:00.594816",
     "status": "completed"
    },
    "tags": []
   },
   "outputs": [
    {
     "data": {
      "text/plain": [
       "Text(0.5, 1.0, 'XGBoostClassifier ROC_CURVE')"
      ]
     },
     "execution_count": 21,
     "metadata": {},
     "output_type": "execute_result"
    },
    {
     "data": {
      "image/png": "[encoded data removed]",
      "text/plain": [
       "<Figure size 640x480 with 1 Axes>"
      ]
     },
     "metadata": {},
     "output_type": "display_data"
    }
   ],
   "source": [
    "fig,ax = plt.subplots()\n",
    "\n",
    "ax.plot(fpr,tpr, c = 'dodgerblue')\n",
    "ax.fill_between(fpr,tpr,0, color = 'dodgerblue', alpha = 0.2,\n",
    "                label = f'AUC : {auc_score}')\n",
    "ax.plot([0,1],[0,1], ls = '--')\n",
    "ax.set_ylim([0,1])\n",
    "ax.legend(loc = 'lower right')\n",
    "ax.set_title('XGBoostClassifier ROC_CURVE')"
   ]
  },
  {
   "cell_type": "markdown",
   "id": "7d850327",
   "metadata": {
    "papermill": {
     "duration": 0.012639,
     "end_time": "2023-04-09T03:48:00.843771",
     "exception": false,
     "start_time": "2023-04-09T03:48:00.831132",
     "status": "completed"
    },
    "tags": []
   },
   "source": [
    "# Submission"
   ]
  },
  {
   "cell_type": "code",
   "execution_count": 22,
   "id": "8a81a4e0",
   "metadata": {
    "execution": {
     "iopub.execute_input": "2023-04-09T03:48:00.871479Z",
     "iopub.status.busy": "2023-04-09T03:48:00.871136Z",
     "iopub.status.idle": "2023-04-09T03:48:01.823916Z",
     "shell.execute_reply": "2023-04-09T03:48:01.822897Z"
    },
    "papermill": {
     "duration": 0.969628,
     "end_time": "2023-04-09T03:48:01.826310",
     "exception": false,
     "start_time": "2023-04-09T03:48:00.856682",
     "status": "completed"
    },
    "tags": []
   },
   "outputs": [],
   "source": [
    "model.fit(X,Y) #Train.csv\n",
    "proba = model.predict_proba(test.drop('id',axis = 1))[:,1]"
   ]
  },
  {
   "cell_type": "code",
   "execution_count": 23,
   "id": "55b73d52",
   "metadata": {
    "execution": {
     "iopub.execute_input": "2023-04-09T03:48:01.854476Z",
     "iopub.status.busy": "2023-04-09T03:48:01.854058Z",
     "iopub.status.idle": "2023-04-09T03:48:01.864385Z",
     "shell.execute_reply": "2023-04-09T03:48:01.863423Z"
    },
    "papermill": {
     "duration": 0.02716,
     "end_time": "2023-04-09T03:48:01.866686",
     "exception": false,
     "start_time": "2023-04-09T03:48:01.839526",
     "status": "completed"
    },
    "tags": []
   },
   "outputs": [],
   "source": [
    "sub = pd.read_csv('C:/Users/whileduck/Downloads/playground-series-s3e12/sample_submission.csv')\n",
    "sub['target'] = proba"
   ]
  },
  {
   "cell_type": "code",
   "execution_count": 24,
   "id": "15c01546",
   "metadata": {
    "execution": {
     "iopub.execute_input": "2023-04-09T03:48:01.896475Z",
     "iopub.status.busy": "2023-04-09T03:48:01.896067Z",
     "iopub.status.idle": "2023-04-09T03:48:01.926526Z",
     "shell.execute_reply": "2023-04-09T03:48:01.925325Z"
    },
    "papermill": {
     "duration": 0.048317,
     "end_time": "2023-04-09T03:48:01.928954",
     "exception": false,
     "start_time": "2023-04-09T03:48:01.880637",
     "status": "completed"
    },
    "tags": []
   },
   "outputs": [
    {
     "data": {
      "text/html": [
       "<div>\n",
       "<style scoped>\n",
       "    .dataframe tbody tr th:only-of-type {\n",
       "        vertical-align: middle;\n",
       "    }\n",
       "\n",
       "    .dataframe tbody tr th {\n",
       "        vertical-align: top;\n",
       "    }\n",
       "\n",
       "    .dataframe thead th {\n",
       "        text-align: right;\n",
       "    }\n",
       "</style>\n",
       "<table border=\"1\" class=\"dataframe\">\n",
       "  <thead>\n",
       "    <tr style=\"text-align: right;\">\n",
       "      <th></th>\n",
       "      <th>id</th>\n",
       "      <th>target</th>\n",
       "    </tr>\n",
       "  </thead>\n",
       "  <tbody>\n",
       "    <tr>\n",
       "      <th>0</th>\n",
       "      <td>414</td>\n",
       "      <td>0.134030</td>\n",
       "    </tr>\n",
       "    <tr>\n",
       "      <th>1</th>\n",
       "      <td>415</td>\n",
       "      <td>0.746625</td>\n",
       "    </tr>\n",
       "    <tr>\n",
       "      <th>2</th>\n",
       "      <td>416</td>\n",
       "      <td>0.838702</td>\n",
       "    </tr>\n",
       "    <tr>\n",
       "      <th>3</th>\n",
       "      <td>417</td>\n",
       "      <td>0.529852</td>\n",
       "    </tr>\n",
       "    <tr>\n",
       "      <th>4</th>\n",
       "      <td>418</td>\n",
       "      <td>0.176348</td>\n",
       "    </tr>\n",
       "    <tr>\n",
       "      <th>...</th>\n",
       "      <td>...</td>\n",
       "      <td>...</td>\n",
       "    </tr>\n",
       "    <tr>\n",
       "      <th>271</th>\n",
       "      <td>685</td>\n",
       "      <td>0.898664</td>\n",
       "    </tr>\n",
       "    <tr>\n",
       "      <th>272</th>\n",
       "      <td>686</td>\n",
       "      <td>0.071405</td>\n",
       "    </tr>\n",
       "    <tr>\n",
       "      <th>273</th>\n",
       "      <td>687</td>\n",
       "      <td>0.750040</td>\n",
       "    </tr>\n",
       "    <tr>\n",
       "      <th>274</th>\n",
       "      <td>688</td>\n",
       "      <td>0.066227</td>\n",
       "    </tr>\n",
       "    <tr>\n",
       "      <th>275</th>\n",
       "      <td>689</td>\n",
       "      <td>0.589509</td>\n",
       "    </tr>\n",
       "  </tbody>\n",
       "</table>\n",
       "<p>276 rows × 2 columns</p>\n",
       "</div>"
      ],
      "text/plain": [
       "      id    target\n",
       "0    414  0.134030\n",
       "1    415  0.746625\n",
       "2    416  0.838702\n",
       "3    417  0.529852\n",
       "4    418  0.176348\n",
       "..   ...       ...\n",
       "271  685  0.898664\n",
       "272  686  0.071405\n",
       "273  687  0.750040\n",
       "274  688  0.066227\n",
       "275  689  0.589509\n",
       "\n",
       "[276 rows x 2 columns]"
      ]
     },
     "execution_count": 24,
     "metadata": {},
     "output_type": "execute_result"
    }
   ],
   "source": [
    "sub.to_csv('submission.csv',index = False)\n",
    "\n",
    "pd.read_csv('submission.csv')"
   ]
  }
 ],
 "metadata": {
  "kernelspec": {
   "display_name": "Python 3",
   "language": "python",
   "name": "python3"
  },
  "language_info": {
   "codemirror_mode": {
    "name": "ipython",
    "version": 3
   },
   "file_extension": ".py",
   "mimetype": "text/x-python",
   "name": "python",
   "nbconvert_exporter": "python",
   "pygments_lexer": "ipython3",
   "version": "3.9.13"
  },
  "papermill": {
   "default_parameters": {},
   "duration": 70.373139,
   "end_time": "2023-04-09T03:48:02.766636",
   "environment_variables": {},
   "exception": null,
   "input_path": "__notebook__.ipynb",
   "output_path": "__notebook__.ipynb",
   "parameters": {},
   "start_time": "2023-04-09T03:46:52.393497",
   "version": "2.4.0"
  }
 },
 "nbformat": 4,
 "nbformat_minor": 5
}

{
 "cells": [
  {
   "cell_type": "code",
   "execution_count": 34,
   "metadata": {},
   "outputs": [],
   "source": [
    "import pandas as pd \n",
    "import numpy as np\n",
    "import matplotlib.pyplot as plt\n",
    "import seaborn as sns\n",
    "\n",
    "\n",
    "from tqdm import tqdm,trange\n",
    "import itertools\n",
    "\n",
    "import lightgbm as lgb\n",
    "from sklearn.model_selection import train_test_split,KFold,GridSearchCV\n",
    "from sklearn.metrics import mean_squared_error,f1_score\n",
    "import warnings "
   ]
  },
  {
   "cell_type": "code",
   "execution_count": 3,
   "metadata": {},
   "outputs": [],
   "source": [
    "plt.style.use('ggplot')\n",
    "plt.rc('font', family = 'malgun gothic')\n",
    "warnings.filterwarnings(action = 'ignore')"
   ]
  },
  {
   "cell_type": "code",
   "execution_count": 4,
   "metadata": {},
   "outputs": [],
   "source": [
    "df = pd.read_csv('C:/Users/whileduck/Desktop/kaggle/data.csv')\n",
    "origin = pd.read_csv('C:/Users/whileduck/Desktop/kaggle/origin_data.csv')\n",
    "sub = pd.read_csv('C:/Users/whileduck/Desktop/kaggle/sample_submission.csv')"
   ]
  },
  {
   "cell_type": "code",
   "execution_count": 5,
   "metadata": {},
   "outputs": [
    {
     "data": {
      "text/html": [
       "<div>\n",
       "<style scoped>\n",
       "    .dataframe tbody tr th:only-of-type {\n",
       "        vertical-align: middle;\n",
       "    }\n",
       "\n",
       "    .dataframe tbody tr th {\n",
       "        vertical-align: top;\n",
       "    }\n",
       "\n",
       "    .dataframe thead th {\n",
       "        text-align: right;\n",
       "    }\n",
       "</style>\n",
       "<table border=\"1\" class=\"dataframe\">\n",
       "  <thead>\n",
       "    <tr style=\"text-align: right;\">\n",
       "      <th></th>\n",
       "      <th>id</th>\n",
       "      <th>author</th>\n",
       "      <th>geometry</th>\n",
       "      <th>pressure [MPa]</th>\n",
       "      <th>mass_flux [kg/m2-s]</th>\n",
       "      <th>x_e_out [-]</th>\n",
       "      <th>D_e [mm]</th>\n",
       "      <th>D_h [mm]</th>\n",
       "      <th>length [mm]</th>\n",
       "      <th>chf_exp [MW/m2]</th>\n",
       "    </tr>\n",
       "  </thead>\n",
       "  <tbody>\n",
       "    <tr>\n",
       "      <th>0</th>\n",
       "      <td>0</td>\n",
       "      <td>Thompson</td>\n",
       "      <td>tube</td>\n",
       "      <td>7.00</td>\n",
       "      <td>3770.0</td>\n",
       "      <td>0.1754</td>\n",
       "      <td>NaN</td>\n",
       "      <td>10.8</td>\n",
       "      <td>432.0</td>\n",
       "      <td>3.6</td>\n",
       "    </tr>\n",
       "    <tr>\n",
       "      <th>1</th>\n",
       "      <td>1</td>\n",
       "      <td>Thompson</td>\n",
       "      <td>tube</td>\n",
       "      <td>NaN</td>\n",
       "      <td>6049.0</td>\n",
       "      <td>-0.0416</td>\n",
       "      <td>10.3</td>\n",
       "      <td>10.3</td>\n",
       "      <td>762.0</td>\n",
       "      <td>6.2</td>\n",
       "    </tr>\n",
       "    <tr>\n",
       "      <th>2</th>\n",
       "      <td>2</td>\n",
       "      <td>Thompson</td>\n",
       "      <td>NaN</td>\n",
       "      <td>13.79</td>\n",
       "      <td>2034.0</td>\n",
       "      <td>0.0335</td>\n",
       "      <td>7.7</td>\n",
       "      <td>7.7</td>\n",
       "      <td>457.0</td>\n",
       "      <td>2.5</td>\n",
       "    </tr>\n",
       "    <tr>\n",
       "      <th>3</th>\n",
       "      <td>3</td>\n",
       "      <td>Beus</td>\n",
       "      <td>annulus</td>\n",
       "      <td>13.79</td>\n",
       "      <td>3679.0</td>\n",
       "      <td>-0.0279</td>\n",
       "      <td>5.6</td>\n",
       "      <td>15.2</td>\n",
       "      <td>2134.0</td>\n",
       "      <td>3.0</td>\n",
       "    </tr>\n",
       "    <tr>\n",
       "      <th>4</th>\n",
       "      <td>4</td>\n",
       "      <td>NaN</td>\n",
       "      <td>tube</td>\n",
       "      <td>13.79</td>\n",
       "      <td>686.0</td>\n",
       "      <td>NaN</td>\n",
       "      <td>11.1</td>\n",
       "      <td>11.1</td>\n",
       "      <td>457.0</td>\n",
       "      <td>2.8</td>\n",
       "    </tr>\n",
       "    <tr>\n",
       "      <th>...</th>\n",
       "      <td>...</td>\n",
       "      <td>...</td>\n",
       "      <td>...</td>\n",
       "      <td>...</td>\n",
       "      <td>...</td>\n",
       "      <td>...</td>\n",
       "      <td>...</td>\n",
       "      <td>...</td>\n",
       "      <td>...</td>\n",
       "      <td>...</td>\n",
       "    </tr>\n",
       "    <tr>\n",
       "      <th>1860</th>\n",
       "      <td>1861</td>\n",
       "      <td>Richenderfer</td>\n",
       "      <td>plate</td>\n",
       "      <td>1.01</td>\n",
       "      <td>1500.0</td>\n",
       "      <td>-0.0218</td>\n",
       "      <td>15.0</td>\n",
       "      <td>120.0</td>\n",
       "      <td>10.0</td>\n",
       "      <td>9.4</td>\n",
       "    </tr>\n",
       "    <tr>\n",
       "      <th>1861</th>\n",
       "      <td>1862</td>\n",
       "      <td>Richenderfer</td>\n",
       "      <td>plate</td>\n",
       "      <td>1.01</td>\n",
       "      <td>1500.0</td>\n",
       "      <td>-0.0434</td>\n",
       "      <td>15.0</td>\n",
       "      <td>120.0</td>\n",
       "      <td>10.0</td>\n",
       "      <td>10.4</td>\n",
       "    </tr>\n",
       "    <tr>\n",
       "      <th>1862</th>\n",
       "      <td>1863</td>\n",
       "      <td>Richenderfer</td>\n",
       "      <td>plate</td>\n",
       "      <td>1.01</td>\n",
       "      <td>2000.0</td>\n",
       "      <td>-0.0109</td>\n",
       "      <td>15.0</td>\n",
       "      <td>120.0</td>\n",
       "      <td>10.0</td>\n",
       "      <td>10.8</td>\n",
       "    </tr>\n",
       "    <tr>\n",
       "      <th>1863</th>\n",
       "      <td>1864</td>\n",
       "      <td>Richenderfer</td>\n",
       "      <td>plate</td>\n",
       "      <td>1.01</td>\n",
       "      <td>2000.0</td>\n",
       "      <td>-0.0218</td>\n",
       "      <td>15.0</td>\n",
       "      <td>120.0</td>\n",
       "      <td>10.0</td>\n",
       "      <td>10.9</td>\n",
       "    </tr>\n",
       "    <tr>\n",
       "      <th>1864</th>\n",
       "      <td>1865</td>\n",
       "      <td>Richenderfer</td>\n",
       "      <td>plate</td>\n",
       "      <td>1.01</td>\n",
       "      <td>2000.0</td>\n",
       "      <td>-0.0434</td>\n",
       "      <td>15.0</td>\n",
       "      <td>120.0</td>\n",
       "      <td>10.0</td>\n",
       "      <td>11.5</td>\n",
       "    </tr>\n",
       "  </tbody>\n",
       "</table>\n",
       "<p>33509 rows × 10 columns</p>\n",
       "</div>"
      ],
      "text/plain": [
       "        id        author geometry  pressure [MPa]  mass_flux [kg/m2-s]  \\\n",
       "0        0      Thompson     tube            7.00               3770.0   \n",
       "1        1      Thompson     tube             NaN               6049.0   \n",
       "2        2      Thompson      NaN           13.79               2034.0   \n",
       "3        3          Beus  annulus           13.79               3679.0   \n",
       "4        4           NaN     tube           13.79                686.0   \n",
       "...    ...           ...      ...             ...                  ...   \n",
       "1860  1861  Richenderfer    plate            1.01               1500.0   \n",
       "1861  1862  Richenderfer    plate            1.01               1500.0   \n",
       "1862  1863  Richenderfer    plate            1.01               2000.0   \n",
       "1863  1864  Richenderfer    plate            1.01               2000.0   \n",
       "1864  1865  Richenderfer    plate            1.01               2000.0   \n",
       "\n",
       "      x_e_out [-]  D_e [mm]  D_h [mm]  length [mm]  chf_exp [MW/m2]  \n",
       "0          0.1754       NaN      10.8        432.0              3.6  \n",
       "1         -0.0416      10.3      10.3        762.0              6.2  \n",
       "2          0.0335       7.7       7.7        457.0              2.5  \n",
       "3         -0.0279       5.6      15.2       2134.0              3.0  \n",
       "4             NaN      11.1      11.1        457.0              2.8  \n",
       "...           ...       ...       ...          ...              ...  \n",
       "1860      -0.0218      15.0     120.0         10.0              9.4  \n",
       "1861      -0.0434      15.0     120.0         10.0             10.4  \n",
       "1862      -0.0109      15.0     120.0         10.0             10.8  \n",
       "1863      -0.0218      15.0     120.0         10.0             10.9  \n",
       "1864      -0.0434      15.0     120.0         10.0             11.5  \n",
       "\n",
       "[33509 rows x 10 columns]"
      ]
     },
     "execution_count": 5,
     "metadata": {},
     "output_type": "execute_result"
    }
   ],
   "source": [
    "df = pd.concat([df,origin])\n",
    "df"
   ]
  },
  {
   "attachments": {},
   "cell_type": "markdown",
   "metadata": {},
   "source": [
    "The dataset for this competition (both train and test) was generated from a deep learning model trained on the Predicting Critical Heat Flux dataset. Feature distributions are close to, but not exactly the same, as the original. Feel free to use the original dataset as part of this competition, both to explore differences as well as to see whether incorporating the original in training improves model performance.\n",
    "\n",
    "Files\n",
    "\n",
    "    data.csv - the competition dataset; your objective is to impute the missing values of the feature x_e_out [-] (equilibrium quality)\n",
    "    sample_submission.csv - a sample submission file in the correct format"
   ]
  },
  {
   "attachments": {},
   "cell_type": "markdown",
   "metadata": {},
   "source": [
    "### Evaluations : RMSE"
   ]
  },
  {
   "attachments": {},
   "cell_type": "markdown",
   "metadata": {},
   "source": [
    "# 이번 Playground의 주 목적\n",
    "- 데이터프레임에 있는 다양한 결측값을 어떻게 채울 것이냐 \n",
    "- 타겟값은 x_e_out \n",
    "- 컬럼들의 특수 기호를 어떻게 제거하여 사용에 용이하게 할 것이냐 "
   ]
  },
  {
   "attachments": {},
   "cell_type": "markdown",
   "metadata": {},
   "source": [
    "# 메모리 용량 줄이기 "
   ]
  },
  {
   "cell_type": "code",
   "execution_count": 6,
   "metadata": {},
   "outputs": [],
   "source": [
    "def reduce_mem_usage(df):\n",
    "    \"\"\" iterate through all the columns of a dataframe and modify the data type\n",
    "        to reduce memory usage.        \n",
    "    \"\"\"\n",
    "    start_mem = df.memory_usage().sum() / 1024**2\n",
    "    print('Memory usage of dataframe is {:.2f} MB'.format(start_mem))\n",
    "    \n",
    "    for col in df.columns:\n",
    "        col_type = df[col].dtype\n",
    "        \n",
    "        if col_type != object:\n",
    "            c_min = df[col].min()\n",
    "            c_max = df[col].max()\n",
    "            if str(col_type)[:3] == 'int':\n",
    "                if c_min > np.iinfo(np.int8).min and c_max < np.iinfo(np.int8).max:\n",
    "                    df[col] = df[col].astype(np.int8)\n",
    "                elif c_min > np.iinfo(np.int16).min and c_max < np.iinfo(np.int16).max:\n",
    "                    df[col] = df[col].astype(np.int16)\n",
    "                elif c_min > np.iinfo(np.int32).min and c_max < np.iinfo(np.int32).max:\n",
    "                    df[col] = df[col].astype(np.int32)\n",
    "                elif c_min > np.iinfo(np.int64).min and c_max < np.iinfo(np.int64).max:\n",
    "                    df[col] = df[col].astype(np.int64)  \n",
    "            else:\n",
    "                if c_min > np.finfo(np.float16).min and c_max < np.finfo(np.float16).max:\n",
    "                    df[col] = df[col].astype(np.float16)\n",
    "                elif c_min > np.finfo(np.float32).min and c_max < np.finfo(np.float32).max:\n",
    "                    df[col] = df[col].astype(np.float32)\n",
    "                else:\n",
    "                    df[col] = df[col].astype(np.float64)\n",
    "        else:\n",
    "            df[col] = df[col].astype('object')\n",
    "\n",
    "    end_mem = df.memory_usage().sum() / 1024**2\n",
    "    print('Memory usage after optimization is: {:.2f} MB'.format(end_mem))\n",
    "    print('Decreased by {:.1f}%'.format(100 * (start_mem - end_mem) / start_mem))\n",
    "    \n",
    "    return df"
   ]
  },
  {
   "cell_type": "code",
   "execution_count": 7,
   "metadata": {},
   "outputs": [
    {
     "name": "stdout",
     "output_type": "stream",
     "text": [
      "Memory usage of dataframe is 2.81 MB\n",
      "Memory usage after optimization is: 1.28 MB\n",
      "Decreased by 54.5%\n"
     ]
    }
   ],
   "source": [
    "df = reduce_mem_usage(df)"
   ]
  },
  {
   "attachments": {},
   "cell_type": "markdown",
   "metadata": {},
   "source": [
    "# 행 별 갤측값 갯수 "
   ]
  },
  {
   "cell_type": "code",
   "execution_count": 8,
   "metadata": {},
   "outputs": [
    {
     "name": "stdout",
     "output_type": "stream",
     "text": [
      "행 별 결측값 갯수의 범위 : 0 ~ 10\n"
     ]
    }
   ],
   "source": [
    "max_na = len(df.columns)\n",
    "\n",
    "print(f'행 별 결측값 갯수의 범위 : 0 ~ {max_na}')"
   ]
  },
  {
   "cell_type": "code",
   "execution_count": 9,
   "metadata": {},
   "outputs": [
    {
     "data": {
      "text/plain": [
       "Text(0.5, 0, '결측값 갯수')"
      ]
     },
     "execution_count": 9,
     "metadata": {},
     "output_type": "execute_result"
    },
    {
     "data": {
      "image/png": "[encoded data removed]",
      "text/plain": [
       "<Figure size 640x480 with 1 Axes>"
      ]
     },
     "metadata": {},
     "output_type": "display_data"
    }
   ],
   "source": [
    "na_df = pd.DataFrame(df.isna().sum(axis = 1)).reset_index() # 인덱스 별 결측값 갯수 \n",
    "\n",
    "sns.countplot(data = na_df,\n",
    "                x = 0)\n",
    "plt.title('인덱스 별 결측값 갯수 ')\n",
    "plt.xlabel('결측값 갯수')"
   ]
  },
  {
   "attachments": {},
   "cell_type": "markdown",
   "metadata": {},
   "source": [
    "* 결측치를 채워야 하는 인덱스들은 총 24000 개 정도가 된다. 예측을 위해 \n",
    "\n",
    "* 예전에는 결측치를 모두 평균, 중앙값, 랜덤한 난수 등으로 채워왔으나 머신러닝을 통해 보간하는 방법도 있다."
   ]
  },
  {
   "attachments": {},
   "cell_type": "markdown",
   "metadata": {},
   "source": [
    "# Columns 명 변경하기 "
   ]
  },
  {
   "cell_type": "code",
   "execution_count": 10,
   "metadata": {},
   "outputs": [
    {
     "data": {
      "text/plain": [
       "Index(['id', 'author', 'geometry', 'pressure', 'mass_flux', 'x_e_out', 'D_e',\n",
       "       'D_h', 'length', 'chf_exp'],\n",
       "      dtype='object')"
      ]
     },
     "execution_count": 10,
     "metadata": {},
     "output_type": "execute_result"
    }
   ],
   "source": [
    "df.columns = df.columns.map(lambda x: x.split('[')[0].strip())\n",
    "\n",
    "df.columns"
   ]
  },
  {
   "cell_type": "code",
   "execution_count": 11,
   "metadata": {},
   "outputs": [],
   "source": [
    "df = df.drop('id',axis =1)"
   ]
  },
  {
   "cell_type": "code",
   "execution_count": 12,
   "metadata": {},
   "outputs": [],
   "source": [
    "submission_obj = df['x_e_out']\n",
    "df = df.drop('x_e_out',axis = 1)"
   ]
  },
  {
   "cell_type": "code",
   "execution_count": 13,
   "metadata": {},
   "outputs": [
    {
     "data": {
      "text/plain": [
       "['author', 'geometry', 'pressure', 'mass_flux', 'D_e', 'D_h', 'length']"
      ]
     },
     "execution_count": 13,
     "metadata": {},
     "output_type": "execute_result"
    }
   ],
   "source": [
    "missing_value = [col for col in df.columns if df[col].isna().sum() > 0]\n",
    "missing_value"
   ]
  },
  {
   "cell_type": "code",
   "execution_count": 16,
   "metadata": {},
   "outputs": [],
   "source": [
    "cat_cols = missing_value[:2]\n",
    "num_cols = missing_value[2:]"
   ]
  },
  {
   "cell_type": "code",
   "execution_count": 160,
   "metadata": {},
   "outputs": [
    {
     "name": "stderr",
     "output_type": "stream",
     "text": [
      "9it [00:19,  2.17s/it]\n"
     ]
    },
    {
     "name": "stdout",
     "output_type": "stream",
     "text": [
      "author 의 Best Parameter 는 {'learning_rate': 0.1, 'num_leaves': 31, 'max_depth': 7, 'objective': 'multiclass', 'metric': 'multi_logloss', 'verbosity': -1, 'num_boost_round': 35.5, 'num_class': 10}\n",
      "****************************************\n",
      "author 의 2 번 교차 검증 시 점수\n",
      "Train F1 score : 0.96\n",
      "Test F1 score : 0.94\n",
      "****************************************\n"
     ]
    },
    {
     "name": "stderr",
     "output_type": "stream",
     "text": [
      "0it [00:00, ?it/s]\n"
     ]
    },
    {
     "ename": "ValueError",
     "evalue": "max() arg is an empty sequence",
     "output_type": "error",
     "traceback": [
      "\u001b[1;31m---------------------------------------------------------------------------\u001b[0m",
      "\u001b[1;31mValueError\u001b[0m                                Traceback (most recent call last)",
      "\u001b[1;32m~\\AppData\\Local\\Temp\\ipykernel_24432\\660765683.py\u001b[0m in \u001b[0;36m<module>\u001b[1;34m\u001b[0m\n\u001b[0;32m     84\u001b[0m         \u001b[0mbest_iter\u001b[0m\u001b[1;33m[\u001b[0m\u001b[0mparam\u001b[0m\u001b[1;33m]\u001b[0m \u001b[1;33m=\u001b[0m \u001b[0miter\u001b[0m \u001b[1;33m/\u001b[0m \u001b[0msplits\u001b[0m\u001b[1;33m\u001b[0m\u001b[1;33m\u001b[0m\u001b[0m\n\u001b[0;32m     85\u001b[0m \u001b[1;33m\u001b[0m\u001b[0m\n\u001b[1;32m---> 86\u001b[1;33m     \u001b[0mtest_best_params\u001b[0m \u001b[1;33m=\u001b[0m \u001b[0mmax\u001b[0m\u001b[1;33m(\u001b[0m\u001b[0mtrain_avg_scores\u001b[0m\u001b[1;33m,\u001b[0m \u001b[0mkey\u001b[0m \u001b[1;33m=\u001b[0m \u001b[0mtrain_avg_scores\u001b[0m\u001b[1;33m.\u001b[0m\u001b[0mget\u001b[0m\u001b[1;33m)\u001b[0m\u001b[1;33m\u001b[0m\u001b[1;33m\u001b[0m\u001b[0m\n\u001b[0m\u001b[0;32m     87\u001b[0m \u001b[1;33m\u001b[0m\u001b[0m\n\u001b[0;32m     88\u001b[0m     \u001b[0mbest_params\u001b[0m \u001b[1;33m=\u001b[0m \u001b[1;33m{\u001b[0m\u001b[0mv\u001b[0m\u001b[1;33m:\u001b[0m\u001b[0mk\u001b[0m \u001b[1;32mfor\u001b[0m \u001b[0mk\u001b[0m\u001b[1;33m,\u001b[0m\u001b[0mv\u001b[0m \u001b[1;32min\u001b[0m \u001b[0mzip\u001b[0m\u001b[1;33m(\u001b[0m\u001b[0mlist\u001b[0m\u001b[1;33m(\u001b[0m\u001b[0mtest_best_params\u001b[0m\u001b[1;33m)\u001b[0m\u001b[1;33m,\u001b[0m\u001b[0mlist\u001b[0m\u001b[1;33m(\u001b[0m\u001b[0mnew_param_grid\u001b[0m\u001b[1;33m.\u001b[0m\u001b[0mkeys\u001b[0m\u001b[1;33m(\u001b[0m\u001b[1;33m)\u001b[0m\u001b[1;33m)\u001b[0m\u001b[1;33m[\u001b[0m\u001b[1;33m:\u001b[0m\u001b[1;33m-\u001b[0m\u001b[1;36m1\u001b[0m\u001b[1;33m]\u001b[0m\u001b[1;33m)\u001b[0m\u001b[1;33m}\u001b[0m\u001b[1;33m\u001b[0m\u001b[1;33m\u001b[0m\u001b[0m\n",
      "\u001b[1;31mValueError\u001b[0m: max() arg is an empty sequence"
     ]
    }
   ],
   "source": [
    "splits = 2\n",
    "\n",
    "cv = KFold(n_splits = splits, shuffle = True,\n",
    "            random_state = 42)\n",
    "\n",
    "param_grid = {\n",
    "'learning_rate': [0.1],\n",
    "'num_leaves': [31, 50, 100],\n",
    "'max_depth': [3, 5, 7],\n",
    "'objective': ['multiclass'],\n",
    "'metric': ['multi_logloss'],\n",
    "'verbosity': [-1],\n",
    "'num_boost_round': [300],\n",
    "'early_stopping_rounds': [10]\n",
    "}\n",
    "\n",
    "\n",
    "param_keys = list(param_grid.keys())\n",
    "param_value = list(param_grid.values())\n",
    "param_combinations = itertools.product(*param_value)\n",
    "\n",
    "labels = {}\n",
    "reverse_labels = {}\n",
    "\n",
    "\n",
    "for col in cat_cols:\n",
    "    \n",
    "    cond = df[col].isna()\n",
    "    \n",
    "    train = df[~cond]\n",
    "    test = pd.get_dummies(df[cond].drop(col,axis = 1))\n",
    "    \n",
    "    label = {v:k for k,v in enumerate(train[col].unique())}\n",
    "    reverse_label = {k:v for k,v in enumerate(train[col].unique())}\n",
    "    \n",
    "    labels[col] = label\n",
    "    reverse_labels[col] = reverse_labels\n",
    "    \n",
    "    X = pd.get_dummies(train.drop(col,axis = 1))\n",
    "    y = train[col].map(label)\n",
    "    \n",
    "    train_avg_scores = {}\n",
    "    test_avg_scores = {}\n",
    "    best_iter = {}\n",
    "    \n",
    "    for param in tqdm(param_combinations):\n",
    "        \n",
    "        new_param_grid = dict(zip(param_keys,param)) # param_grid 에 있는 조건에 따라 new_param_grid 생성\n",
    "        new_param_grid['num_class'] = y.nunique()\n",
    "        \n",
    "        train_score = 0\n",
    "        test_score = 0\n",
    "        iter = 0\n",
    "        \n",
    "        for i,(train_idx,test_idx) in enumerate(cv.split(X,y)):\n",
    "        \n",
    "            \n",
    "            x_train,y_train = X.iloc[train_idx],y.iloc[train_idx]\n",
    "            x_test,y_test = X.iloc[test_idx],y.iloc[test_idx]\n",
    "            \n",
    "            train_data = lgb.Dataset(data = x_train, label = y_train)\n",
    "            test_data = lgb.Dataset(data = x_test, label = y_test)\n",
    "            \n",
    "            model = lgb.train(new_param_grid,train_data,\n",
    "                        valid_sets = [test_data], verbose_eval = False)\n",
    "            \n",
    "            cv_best_iter = model.best_iteration\n",
    "            \n",
    "            train_pred_prob = model.predict(x_train, num_iteration = cv_best_iter)\n",
    "            test_pred_prob = model.predict(x_test, num_iteration = cv_best_iter)\n",
    "            \n",
    "            train_pred = np.argmax(train_pred_prob,axis = 1)\n",
    "            test_pred = np.argmax(test_pred_prob,axis = 1)\n",
    "            \n",
    "            train_score += f1_score(y_train,train_pred,average = 'micro') \n",
    "            test_score += f1_score(y_test,test_pred, average = 'micro') \n",
    "            iter += cv_best_iter\n",
    "        \n",
    "        # iteration 동안 avg_f1_score 를 딕셔너리에 저장     \n",
    "        \n",
    "        train_avg_scores[param] = train_score / splits \n",
    "        test_avg_scores[param] = test_score / splits\n",
    "        best_iter[param] = iter / splits\n",
    "        \n",
    "    test_best_params = max(train_avg_scores, key = train_avg_scores.get)\n",
    "\n",
    "    best_params = {v:k for k,v in zip(list(test_best_params),list(new_param_grid.keys())[:-1])}\n",
    "    del best_params['early_stopping_rounds'] # test 할 때 early_stopping 기능은 사용하지 않을 것이니 제거\n",
    "    best_params['num_boost_round'] = best_iter[test_best_params]\n",
    "    best_params['num_class'] =  y.nunique()\n",
    "\n",
    "    print(f'{col} 의 Best Parameter 는 {best_params}')\n",
    "    print('**'*20)\n",
    "    print(f'{col} 의 {splits} 번 교차 검증 시 점수')\n",
    "    print(f'Train F1 score : {round(train_avg_scores[test_best_params],2)}')\n",
    "    print(f'Test F1 score : {round(test_avg_scores[test_best_params],2)}')\n",
    "    print('**'*20)\n"
   ]
  },
  {
   "cell_type": "code",
   "execution_count": 148,
   "metadata": {},
   "outputs": [
    {
     "data": {
      "text/plain": [
       "{'learning_rate': 0.1,\n",
       " 'num_leaves': 50,\n",
       " 'max_depth': 7,\n",
       " 'objective': 'multiclass',\n",
       " 'metric': 'multi_logloss',\n",
       " 'verbosity': -1,\n",
       " 'num_boost_round': 300,\n",
       " 'early_stopping_rounds': 10}"
      ]
     },
     "execution_count": 148,
     "metadata": {},
     "output_type": "execute_result"
    }
   ],
   "source": [
    "hh = {v:k for k,v in zip(list(max(train_avg_scores, key = train_avg_scores.get)),list(new_param_grid.keys()))}\n",
    "hh"
   ]
  },
  {
   "cell_type": "code",
   "execution_count": 147,
   "metadata": {},
   "outputs": [
    {
     "name": "stdout",
     "output_type": "stream",
     "text": [
      "Train F1 score : 0.96\n"
     ]
    }
   ],
   "source": [
    "best_params = max(train_avg_scores, key = train_avg_scores.get)\n",
    "print(f'Train F1 score : {round(train_avg_scores[best_params],2)}')"
   ]
  },
  {
   "cell_type": "code",
   "execution_count": 140,
   "metadata": {},
   "outputs": [],
   "source": [
    "del hh['early_stopping_rounds']"
   ]
  },
  {
   "cell_type": "code",
   "execution_count": 141,
   "metadata": {},
   "outputs": [
    {
     "data": {
      "text/plain": [
       "{'learning_rate': 0.1,\n",
       " 'num_leaves': 50,\n",
       " 'max_depth': 7,\n",
       " 'objective': 'multiclass',\n",
       " 'metric': 'multi_logloss',\n",
       " 'verbosity': -1,\n",
       " 'num_boost_round': 300}"
      ]
     },
     "execution_count": 141,
     "metadata": {},
     "output_type": "execute_result"
    }
   ],
   "source": [
    "hh"
   ]
  },
  {
   "cell_type": "code",
   "execution_count": 112,
   "metadata": {},
   "outputs": [
    {
     "data": {
      "text/plain": [
       "(0.1, 50, 7, 'multiclass', 'multi_logloss', -1, 300, 10)"
      ]
     },
     "execution_count": 112,
     "metadata": {},
     "output_type": "execute_result"
    }
   ],
   "source": [
    "max(train_avg_scores, key = train_avg_scores.get)"
   ]
  },
  {
   "cell_type": "code",
   "execution_count": 105,
   "metadata": {},
   "outputs": [
    {
     "data": {
      "text/plain": [
       "dict_keys(['learning_rate', 'num_leaves', 'max_depth', 'objective', 'metric', 'verbosity', 'num_boost_round', 'early_stopping_rounds', 'num_class'])"
      ]
     },
     "execution_count": 105,
     "metadata": {},
     "output_type": "execute_result"
    }
   ],
   "source": [
    "new_param_grid.keys()"
   ]
  },
  {
   "cell_type": "code",
   "execution_count": 91,
   "metadata": {},
   "outputs": [
    {
     "data": {
      "text/plain": [
       "dict_keys(['learning_rate', 'num_leaves', 'max_depth', 'objective', 'metric', 'verbosity', 'num_boost_round', 'early_stopping_rounds', 'num_class'])"
      ]
     },
     "execution_count": 91,
     "metadata": {},
     "output_type": "execute_result"
    }
   ],
   "source": [
    "new_param_grid.keys()"
   ]
  },
  {
   "cell_type": "code",
   "execution_count": 83,
   "metadata": {},
   "outputs": [
    {
     "data": {
      "image/png": "[encoded data removed]",
      "text/plain": [
       "<Figure size 1000x500 with 2 Axes>"
      ]
     },
     "metadata": {},
     "output_type": "display_data"
    }
   ],
   "source": [
    "fig,ax = plt.subplots(ncols = 2, figsize = (10,5))\n",
    "\n",
    "for i,var in enumerate([train_avg_scores, test_avg_scores]):\n",
    "    \n",
    "    graph_df = pd.DataFrame({'params':var.keys(),\n",
    "                    'score': var.values()}).sort_values(by = 'score',\n",
    "                                                        ascending = False)\n",
    "                    \n",
    "    sns.barplot(data = graph_df,\n",
    "                y = 'params',\n",
    "                x = 'score',\n",
    "                ax = ax[i])\n",
    "    \n",
    "    ax[i].set_xlim([0.9,1])\n",
    "\n",
    "    "
   ]
  },
  {
   "cell_type": "code",
   "execution_count": 62,
   "metadata": {},
   "outputs": [],
   "source": [
    "for col in cat_cols:\n",
    "    \n",
    "    cond = df[col].isna()\n",
    "    \n",
    "    train = df.loc[~cond]\n",
    "    test = df.loc[cond]\n",
    "    \n",
    "    idx = test.index\n",
    "    \n",
    "    params = {'objective':'multiclass',\n",
    "            'num_class': train[col].nunique() + 1,\n",
    "            'num_boost_round':100,\n",
    "            'verbose':-1}\n",
    "    \n",
    "    label = {v:k for k,v in enumerate(train[col].unique())}\n",
    "    reverse_label = {k:v for k,v in enumerate(train[col].unique())}\n",
    "    \n",
    "    x_train = pd.get_dummies(train.drop(col,axis = 1))\n",
    "    y_train = train[col].map(label)\n",
    "    \n",
    "    \n",
    "    data = lgb.Dataset(data = x_train,\n",
    "                label = y_train)\n",
    "    \n",
    "    model = lgb.train(params, data)\n",
    "    \n",
    "    pred_proba = model.predict(pd.get_dummies(test))\n",
    "    \n",
    "    pred = pred_proba.argmax(axis = 1)\n",
    "    \n",
    "    df.loc[cond,col] = pred\n",
    "    df.loc[cond,col] = df.loc[cond,col].map(reverse_label)\n"
   ]
  },
  {
   "cell_type": "code",
   "execution_count": 63,
   "metadata": {},
   "outputs": [],
   "source": [
    "for col in num_cols:\n",
    "\n",
    "        cond = df[col].isna()\n",
    "        \n",
    "        train = pd.get_dummies(df[~cond])\n",
    "        test = pd.get_dummies(df[cond])\n",
    "        \n",
    "        x_train = train.drop(col,axis = 1)\n",
    "        y_train = train[col]\n",
    "        \n",
    "        params = {'objective':'regression',\n",
    "                'num_boost_round':100,\n",
    "                'metric':'neg_root_mean_squared_error',\n",
    "                'verbose':-1,\n",
    "                }\n",
    "        \n",
    "        \n",
    "        data = lgb.Dataset(data = x_train,\n",
    "                        label = y_train)\n",
    "        \n",
    "        model = lgb.train(params,data)\n",
    "        \n",
    "        df.loc[cond,col] = model.predict(test.drop(col,axis = 1))"
   ]
  },
  {
   "cell_type": "code",
   "execution_count": 64,
   "metadata": {},
   "outputs": [
    {
     "data": {
      "text/html": [
       "<div>\n",
       "<style scoped>\n",
       "    .dataframe tbody tr th:only-of-type {\n",
       "        vertical-align: middle;\n",
       "    }\n",
       "\n",
       "    .dataframe tbody tr th {\n",
       "        vertical-align: top;\n",
       "    }\n",
       "\n",
       "    .dataframe thead th {\n",
       "        text-align: right;\n",
       "    }\n",
       "</style>\n",
       "<table border=\"1\" class=\"dataframe\">\n",
       "  <thead>\n",
       "    <tr style=\"text-align: right;\">\n",
       "      <th></th>\n",
       "      <th>author</th>\n",
       "      <th>geometry</th>\n",
       "      <th>pressure</th>\n",
       "      <th>mass_flux</th>\n",
       "      <th>D_e</th>\n",
       "      <th>D_h</th>\n",
       "      <th>length</th>\n",
       "      <th>chf_exp</th>\n",
       "    </tr>\n",
       "  </thead>\n",
       "  <tbody>\n",
       "    <tr>\n",
       "      <th>0</th>\n",
       "      <td>Thompson</td>\n",
       "      <td>tube</td>\n",
       "      <td>7.000000</td>\n",
       "      <td>3770.0</td>\n",
       "      <td>10.741596</td>\n",
       "      <td>10.796875</td>\n",
       "      <td>432.0</td>\n",
       "      <td>3.599609</td>\n",
       "    </tr>\n",
       "    <tr>\n",
       "      <th>1</th>\n",
       "      <td>Thompson</td>\n",
       "      <td>tube</td>\n",
       "      <td>8.231439</td>\n",
       "      <td>6048.0</td>\n",
       "      <td>10.296875</td>\n",
       "      <td>10.296875</td>\n",
       "      <td>762.0</td>\n",
       "      <td>6.199219</td>\n",
       "    </tr>\n",
       "    <tr>\n",
       "      <th>2</th>\n",
       "      <td>Thompson</td>\n",
       "      <td>tube</td>\n",
       "      <td>13.789062</td>\n",
       "      <td>2034.0</td>\n",
       "      <td>7.699219</td>\n",
       "      <td>7.699219</td>\n",
       "      <td>457.0</td>\n",
       "      <td>2.500000</td>\n",
       "    </tr>\n",
       "    <tr>\n",
       "      <th>3</th>\n",
       "      <td>Beus</td>\n",
       "      <td>annulus</td>\n",
       "      <td>13.789062</td>\n",
       "      <td>3680.0</td>\n",
       "      <td>5.601562</td>\n",
       "      <td>15.203125</td>\n",
       "      <td>2134.0</td>\n",
       "      <td>3.000000</td>\n",
       "    </tr>\n",
       "    <tr>\n",
       "      <th>4</th>\n",
       "      <td>Weatherhead</td>\n",
       "      <td>tube</td>\n",
       "      <td>13.789062</td>\n",
       "      <td>686.0</td>\n",
       "      <td>11.101562</td>\n",
       "      <td>11.101562</td>\n",
       "      <td>457.0</td>\n",
       "      <td>2.800781</td>\n",
       "    </tr>\n",
       "    <tr>\n",
       "      <th>...</th>\n",
       "      <td>...</td>\n",
       "      <td>...</td>\n",
       "      <td>...</td>\n",
       "      <td>...</td>\n",
       "      <td>...</td>\n",
       "      <td>...</td>\n",
       "      <td>...</td>\n",
       "      <td>...</td>\n",
       "    </tr>\n",
       "    <tr>\n",
       "      <th>1860</th>\n",
       "      <td>Richenderfer</td>\n",
       "      <td>plate</td>\n",
       "      <td>1.009766</td>\n",
       "      <td>1500.0</td>\n",
       "      <td>15.000000</td>\n",
       "      <td>120.000000</td>\n",
       "      <td>10.0</td>\n",
       "      <td>9.398438</td>\n",
       "    </tr>\n",
       "    <tr>\n",
       "      <th>1861</th>\n",
       "      <td>Richenderfer</td>\n",
       "      <td>plate</td>\n",
       "      <td>1.009766</td>\n",
       "      <td>1500.0</td>\n",
       "      <td>15.000000</td>\n",
       "      <td>120.000000</td>\n",
       "      <td>10.0</td>\n",
       "      <td>10.398438</td>\n",
       "    </tr>\n",
       "    <tr>\n",
       "      <th>1862</th>\n",
       "      <td>Richenderfer</td>\n",
       "      <td>plate</td>\n",
       "      <td>1.009766</td>\n",
       "      <td>2000.0</td>\n",
       "      <td>15.000000</td>\n",
       "      <td>120.000000</td>\n",
       "      <td>10.0</td>\n",
       "      <td>10.796875</td>\n",
       "    </tr>\n",
       "    <tr>\n",
       "      <th>1863</th>\n",
       "      <td>Richenderfer</td>\n",
       "      <td>plate</td>\n",
       "      <td>1.009766</td>\n",
       "      <td>2000.0</td>\n",
       "      <td>15.000000</td>\n",
       "      <td>120.000000</td>\n",
       "      <td>10.0</td>\n",
       "      <td>10.898438</td>\n",
       "    </tr>\n",
       "    <tr>\n",
       "      <th>1864</th>\n",
       "      <td>Richenderfer</td>\n",
       "      <td>plate</td>\n",
       "      <td>1.009766</td>\n",
       "      <td>2000.0</td>\n",
       "      <td>15.000000</td>\n",
       "      <td>120.000000</td>\n",
       "      <td>10.0</td>\n",
       "      <td>11.500000</td>\n",
       "    </tr>\n",
       "  </tbody>\n",
       "</table>\n",
       "<p>33509 rows × 8 columns</p>\n",
       "</div>"
      ],
      "text/plain": [
       "            author geometry   pressure  mass_flux        D_e         D_h  \\\n",
       "0         Thompson     tube   7.000000     3770.0  10.741596   10.796875   \n",
       "1         Thompson     tube   8.231439     6048.0  10.296875   10.296875   \n",
       "2         Thompson     tube  13.789062     2034.0   7.699219    7.699219   \n",
       "3             Beus  annulus  13.789062     3680.0   5.601562   15.203125   \n",
       "4      Weatherhead     tube  13.789062      686.0  11.101562   11.101562   \n",
       "...            ...      ...        ...        ...        ...         ...   \n",
       "1860  Richenderfer    plate   1.009766     1500.0  15.000000  120.000000   \n",
       "1861  Richenderfer    plate   1.009766     1500.0  15.000000  120.000000   \n",
       "1862  Richenderfer    plate   1.009766     2000.0  15.000000  120.000000   \n",
       "1863  Richenderfer    plate   1.009766     2000.0  15.000000  120.000000   \n",
       "1864  Richenderfer    plate   1.009766     2000.0  15.000000  120.000000   \n",
       "\n",
       "      length    chf_exp  \n",
       "0      432.0   3.599609  \n",
       "1      762.0   6.199219  \n",
       "2      457.0   2.500000  \n",
       "3     2134.0   3.000000  \n",
       "4      457.0   2.800781  \n",
       "...      ...        ...  \n",
       "1860    10.0   9.398438  \n",
       "1861    10.0  10.398438  \n",
       "1862    10.0  10.796875  \n",
       "1863    10.0  10.898438  \n",
       "1864    10.0  11.500000  \n",
       "\n",
       "[33509 rows x 8 columns]"
      ]
     },
     "execution_count": 64,
     "metadata": {},
     "output_type": "execute_result"
    }
   ],
   "source": [
    "df"
   ]
  },
  {
   "cell_type": "code",
   "execution_count": 65,
   "metadata": {},
   "outputs": [
    {
     "data": {
      "text/html": [
       "<div>\n",
       "<style scoped>\n",
       "    .dataframe tbody tr th:only-of-type {\n",
       "        vertical-align: middle;\n",
       "    }\n",
       "\n",
       "    .dataframe tbody tr th {\n",
       "        vertical-align: top;\n",
       "    }\n",
       "\n",
       "    .dataframe thead th {\n",
       "        text-align: right;\n",
       "    }\n",
       "</style>\n",
       "<table border=\"1\" class=\"dataframe\">\n",
       "  <thead>\n",
       "    <tr style=\"text-align: right;\">\n",
       "      <th></th>\n",
       "      <th>author</th>\n",
       "      <th>geometry</th>\n",
       "      <th>pressure</th>\n",
       "      <th>mass_flux</th>\n",
       "      <th>D_e</th>\n",
       "      <th>D_h</th>\n",
       "      <th>length</th>\n",
       "      <th>chf_exp</th>\n",
       "      <th>label</th>\n",
       "    </tr>\n",
       "  </thead>\n",
       "  <tbody>\n",
       "    <tr>\n",
       "      <th>0</th>\n",
       "      <td>Thompson</td>\n",
       "      <td>tube</td>\n",
       "      <td>7.000000</td>\n",
       "      <td>3770.0</td>\n",
       "      <td>10.741596</td>\n",
       "      <td>10.796875</td>\n",
       "      <td>432.0</td>\n",
       "      <td>3.599609</td>\n",
       "      <td>0.175415</td>\n",
       "    </tr>\n",
       "    <tr>\n",
       "      <th>1</th>\n",
       "      <td>Thompson</td>\n",
       "      <td>tube</td>\n",
       "      <td>8.231439</td>\n",
       "      <td>6048.0</td>\n",
       "      <td>10.296875</td>\n",
       "      <td>10.296875</td>\n",
       "      <td>762.0</td>\n",
       "      <td>6.199219</td>\n",
       "      <td>-0.041595</td>\n",
       "    </tr>\n",
       "    <tr>\n",
       "      <th>2</th>\n",
       "      <td>Thompson</td>\n",
       "      <td>tube</td>\n",
       "      <td>13.789062</td>\n",
       "      <td>2034.0</td>\n",
       "      <td>7.699219</td>\n",
       "      <td>7.699219</td>\n",
       "      <td>457.0</td>\n",
       "      <td>2.500000</td>\n",
       "      <td>0.033508</td>\n",
       "    </tr>\n",
       "    <tr>\n",
       "      <th>3</th>\n",
       "      <td>Beus</td>\n",
       "      <td>annulus</td>\n",
       "      <td>13.789062</td>\n",
       "      <td>3680.0</td>\n",
       "      <td>5.601562</td>\n",
       "      <td>15.203125</td>\n",
       "      <td>2134.0</td>\n",
       "      <td>3.000000</td>\n",
       "      <td>-0.027893</td>\n",
       "    </tr>\n",
       "    <tr>\n",
       "      <th>4</th>\n",
       "      <td>Weatherhead</td>\n",
       "      <td>tube</td>\n",
       "      <td>13.789062</td>\n",
       "      <td>686.0</td>\n",
       "      <td>11.101562</td>\n",
       "      <td>11.101562</td>\n",
       "      <td>457.0</td>\n",
       "      <td>2.800781</td>\n",
       "      <td>NaN</td>\n",
       "    </tr>\n",
       "    <tr>\n",
       "      <th>...</th>\n",
       "      <td>...</td>\n",
       "      <td>...</td>\n",
       "      <td>...</td>\n",
       "      <td>...</td>\n",
       "      <td>...</td>\n",
       "      <td>...</td>\n",
       "      <td>...</td>\n",
       "      <td>...</td>\n",
       "      <td>...</td>\n",
       "    </tr>\n",
       "    <tr>\n",
       "      <th>1860</th>\n",
       "      <td>Richenderfer</td>\n",
       "      <td>plate</td>\n",
       "      <td>1.009766</td>\n",
       "      <td>1500.0</td>\n",
       "      <td>15.000000</td>\n",
       "      <td>120.000000</td>\n",
       "      <td>10.0</td>\n",
       "      <td>9.398438</td>\n",
       "      <td>-0.021805</td>\n",
       "    </tr>\n",
       "    <tr>\n",
       "      <th>1861</th>\n",
       "      <td>Richenderfer</td>\n",
       "      <td>plate</td>\n",
       "      <td>1.009766</td>\n",
       "      <td>1500.0</td>\n",
       "      <td>15.000000</td>\n",
       "      <td>120.000000</td>\n",
       "      <td>10.0</td>\n",
       "      <td>10.398438</td>\n",
       "      <td>-0.043396</td>\n",
       "    </tr>\n",
       "    <tr>\n",
       "      <th>1862</th>\n",
       "      <td>Richenderfer</td>\n",
       "      <td>plate</td>\n",
       "      <td>1.009766</td>\n",
       "      <td>2000.0</td>\n",
       "      <td>15.000000</td>\n",
       "      <td>120.000000</td>\n",
       "      <td>10.0</td>\n",
       "      <td>10.796875</td>\n",
       "      <td>-0.010902</td>\n",
       "    </tr>\n",
       "    <tr>\n",
       "      <th>1863</th>\n",
       "      <td>Richenderfer</td>\n",
       "      <td>plate</td>\n",
       "      <td>1.009766</td>\n",
       "      <td>2000.0</td>\n",
       "      <td>15.000000</td>\n",
       "      <td>120.000000</td>\n",
       "      <td>10.0</td>\n",
       "      <td>10.898438</td>\n",
       "      <td>-0.021805</td>\n",
       "    </tr>\n",
       "    <tr>\n",
       "      <th>1864</th>\n",
       "      <td>Richenderfer</td>\n",
       "      <td>plate</td>\n",
       "      <td>1.009766</td>\n",
       "      <td>2000.0</td>\n",
       "      <td>15.000000</td>\n",
       "      <td>120.000000</td>\n",
       "      <td>10.0</td>\n",
       "      <td>11.500000</td>\n",
       "      <td>-0.043396</td>\n",
       "    </tr>\n",
       "  </tbody>\n",
       "</table>\n",
       "<p>33509 rows × 9 columns</p>\n",
       "</div>"
      ],
      "text/plain": [
       "            author geometry   pressure  mass_flux        D_e         D_h  \\\n",
       "0         Thompson     tube   7.000000     3770.0  10.741596   10.796875   \n",
       "1         Thompson     tube   8.231439     6048.0  10.296875   10.296875   \n",
       "2         Thompson     tube  13.789062     2034.0   7.699219    7.699219   \n",
       "3             Beus  annulus  13.789062     3680.0   5.601562   15.203125   \n",
       "4      Weatherhead     tube  13.789062      686.0  11.101562   11.101562   \n",
       "...            ...      ...        ...        ...        ...         ...   \n",
       "1860  Richenderfer    plate   1.009766     1500.0  15.000000  120.000000   \n",
       "1861  Richenderfer    plate   1.009766     1500.0  15.000000  120.000000   \n",
       "1862  Richenderfer    plate   1.009766     2000.0  15.000000  120.000000   \n",
       "1863  Richenderfer    plate   1.009766     2000.0  15.000000  120.000000   \n",
       "1864  Richenderfer    plate   1.009766     2000.0  15.000000  120.000000   \n",
       "\n",
       "      length    chf_exp     label  \n",
       "0      432.0   3.599609  0.175415  \n",
       "1      762.0   6.199219 -0.041595  \n",
       "2      457.0   2.500000  0.033508  \n",
       "3     2134.0   3.000000 -0.027893  \n",
       "4      457.0   2.800781       NaN  \n",
       "...      ...        ...       ...  \n",
       "1860    10.0   9.398438 -0.021805  \n",
       "1861    10.0  10.398438 -0.043396  \n",
       "1862    10.0  10.796875 -0.010902  \n",
       "1863    10.0  10.898438 -0.021805  \n",
       "1864    10.0  11.500000 -0.043396  \n",
       "\n",
       "[33509 rows x 9 columns]"
      ]
     },
     "execution_count": 65,
     "metadata": {},
     "output_type": "execute_result"
    }
   ],
   "source": [
    "df['label'] = submission_obj\n",
    "df"
   ]
  },
  {
   "cell_type": "code",
   "execution_count": 66,
   "metadata": {},
   "outputs": [],
   "source": [
    "cond = df['label'].isna()\n",
    "\n",
    "train = pd.get_dummies(df[~cond])\n",
    "test = pd.get_dummies(df[cond])\n",
    "\n",
    "x_train = train.drop('label',axis = 1)\n",
    "y_train = train['label']\n",
    "\n",
    "x_test = test.drop('label',axis = 1)\n",
    "\n",
    "data = lgb.Dataset(data = x_train,\n",
    "            label = y_train)\n",
    "\n",
    "model = lgb.train(params, data)\n",
    "\n",
    "pred = model.predict(test.drop('label',axis = 1))"
   ]
  },
  {
   "cell_type": "code",
   "execution_count": 67,
   "metadata": {},
   "outputs": [],
   "source": [
    "sub['x_e_out [-]'] = pred"
   ]
  },
  {
   "cell_type": "code",
   "execution_count": 68,
   "metadata": {},
   "outputs": [],
   "source": [
    "sub.to_csv('LGBImputer.csv',index = False)"
   ]
  }
 ],
 "metadata": {
  "kernelspec": {
   "display_name": "base",
   "language": "python",
   "name": "python3"
  },
  "language_info": {
   "codemirror_mode": {
    "name": "ipython",
    "version": 3
   },
   "file_extension": ".py",
   "mimetype": "text/x-python",
   "name": "python",
   "nbconvert_exporter": "python",
   "pygments_lexer": "ipython3",
   "version": "3.9.13"
  },
  "orig_nbformat": 4
 },
 "nbformat": 4,
 "nbformat_minor": 2
}

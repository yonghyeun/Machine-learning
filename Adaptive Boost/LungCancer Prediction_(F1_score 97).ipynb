{
 "cells": [
  {
   "cell_type": "code",
   "execution_count": 1,
   "id": "22a3f26b",
   "metadata": {
    "_cell_guid": "b1076dfc-b9ad-4769-8c92-a6c4dae69d19",
    "_uuid": "8f2839f25d086af736a60e9eeb907d3b93b6e0e5",
    "execution": {
     "iopub.execute_input": "2023-03-29T08:58:37.816189Z",
     "iopub.status.busy": "2023-03-29T08:58:37.815127Z",
     "iopub.status.idle": "2023-03-29T08:58:37.839655Z",
     "shell.execute_reply": "2023-03-29T08:58:37.837259Z"
    },
    "papermill": {
     "duration": 0.037862,
     "end_time": "2023-03-29T08:58:37.843893",
     "exception": false,
     "start_time": "2023-03-29T08:58:37.806031",
     "status": "completed"
    },
    "tags": []
   },
   "outputs": [
    {
     "name": "stdout",
     "output_type": "stream",
     "text": [
      "/kaggle/input/lung-cancer/survey lung cancer.csv\n"
     ]
    }
   ],
   "source": [
    "# This Python 3 environment comes with many helpful analytics libraries installed\n",
    "# It is defined by the kaggle/python Docker image: https://github.com/kaggle/docker-python\n",
    "# For example, here's several helpful packages to load\n",
    "\n",
    "import numpy as np # linear algebra\n",
    "import pandas as pd # data processing, CSV file I/O (e.g. pd.read_csv)\n",
    "\n",
    "# Input data files are available in the read-only \"../input/\" directory\n",
    "# For example, running this (by clicking run or pressing Shift+Enter) will list all files under the input directory\n",
    "\n",
    "import os\n",
    "for dirname, _, filenames in os.walk('/kaggle/input'):\n",
    "    for filename in filenames:\n",
    "        print(os.path.join(dirname, filename))\n",
    "\n",
    "# You can write up to 20GB to the current directory (/kaggle/working/) that gets preserved as output when you create a version using \"Save & Run All\" \n",
    "# You can also write temporary files to /kaggle/temp/, but they won't be saved outside of the current session"
   ]
  },
  {
   "cell_type": "code",
   "execution_count": 2,
   "id": "b73168c4",
   "metadata": {
    "execution": {
     "iopub.execute_input": "2023-03-29T08:58:37.859275Z",
     "iopub.status.busy": "2023-03-29T08:58:37.857844Z",
     "iopub.status.idle": "2023-03-29T08:58:39.776432Z",
     "shell.execute_reply": "2023-03-29T08:58:39.775167Z"
    },
    "papermill": {
     "duration": 1.929711,
     "end_time": "2023-03-29T08:58:39.779524",
     "exception": false,
     "start_time": "2023-03-29T08:58:37.849813",
     "status": "completed"
    },
    "tags": []
   },
   "outputs": [],
   "source": [
    "import matplotlib.pyplot as plt\n",
    "import seaborn as sns\n",
    "from sklearn.ensemble import AdaBoostClassifier\n",
    "from sklearn.model_selection import train_test_split, GridSearchCV\n",
    "from sklearn.metrics import confusion_matrix,f1_score\n",
    "import warnings"
   ]
  },
  {
   "cell_type": "code",
   "execution_count": 3,
   "id": "a433bbcf",
   "metadata": {
    "execution": {
     "iopub.execute_input": "2023-03-29T08:58:39.792424Z",
     "iopub.status.busy": "2023-03-29T08:58:39.791939Z",
     "iopub.status.idle": "2023-03-29T08:58:39.797641Z",
     "shell.execute_reply": "2023-03-29T08:58:39.796443Z"
    },
    "papermill": {
     "duration": 0.015063,
     "end_time": "2023-03-29T08:58:39.800066",
     "exception": false,
     "start_time": "2023-03-29T08:58:39.785003",
     "status": "completed"
    },
    "tags": []
   },
   "outputs": [],
   "source": [
    "warnings.filterwarnings(action = 'ignore')"
   ]
  },
  {
   "cell_type": "code",
   "execution_count": 4,
   "id": "7581873b",
   "metadata": {
    "execution": {
     "iopub.execute_input": "2023-03-29T08:58:39.814104Z",
     "iopub.status.busy": "2023-03-29T08:58:39.812690Z",
     "iopub.status.idle": "2023-03-29T08:58:39.833060Z",
     "shell.execute_reply": "2023-03-29T08:58:39.831628Z"
    },
    "papermill": {
     "duration": 0.030708,
     "end_time": "2023-03-29T08:58:39.836280",
     "exception": false,
     "start_time": "2023-03-29T08:58:39.805572",
     "status": "completed"
    },
    "tags": []
   },
   "outputs": [],
   "source": [
    "df = pd.read_csv('/kaggle/input/lung-cancer/survey lung cancer.csv')"
   ]
  },
  {
   "cell_type": "code",
   "execution_count": 5,
   "id": "9bf6d25f",
   "metadata": {
    "execution": {
     "iopub.execute_input": "2023-03-29T08:58:39.849292Z",
     "iopub.status.busy": "2023-03-29T08:58:39.848782Z",
     "iopub.status.idle": "2023-03-29T08:58:39.882926Z",
     "shell.execute_reply": "2023-03-29T08:58:39.880777Z"
    },
    "papermill": {
     "duration": 0.044323,
     "end_time": "2023-03-29T08:58:39.886056",
     "exception": false,
     "start_time": "2023-03-29T08:58:39.841733",
     "status": "completed"
    },
    "tags": []
   },
   "outputs": [
    {
     "name": "stdout",
     "output_type": "stream",
     "text": [
      "<class 'pandas.core.frame.DataFrame'>\n",
      "RangeIndex: 309 entries, 0 to 308\n",
      "Data columns (total 16 columns):\n",
      " #   Column                 Non-Null Count  Dtype \n",
      "---  ------                 --------------  ----- \n",
      " 0   GENDER                 309 non-null    object\n",
      " 1   AGE                    309 non-null    int64 \n",
      " 2   SMOKING                309 non-null    int64 \n",
      " 3   YELLOW_FINGERS         309 non-null    int64 \n",
      " 4   ANXIETY                309 non-null    int64 \n",
      " 5   PEER_PRESSURE          309 non-null    int64 \n",
      " 6   CHRONIC DISEASE        309 non-null    int64 \n",
      " 7   FATIGUE                309 non-null    int64 \n",
      " 8   ALLERGY                309 non-null    int64 \n",
      " 9   WHEEZING               309 non-null    int64 \n",
      " 10  ALCOHOL CONSUMING      309 non-null    int64 \n",
      " 11  COUGHING               309 non-null    int64 \n",
      " 12  SHORTNESS OF BREATH    309 non-null    int64 \n",
      " 13  SWALLOWING DIFFICULTY  309 non-null    int64 \n",
      " 14  CHEST PAIN             309 non-null    int64 \n",
      " 15  LUNG_CANCER            309 non-null    object\n",
      "dtypes: int64(14), object(2)\n",
      "memory usage: 38.8+ KB\n"
     ]
    }
   ],
   "source": [
    "df.info()"
   ]
  },
  {
   "cell_type": "code",
   "execution_count": 6,
   "id": "0b0b077a",
   "metadata": {
    "execution": {
     "iopub.execute_input": "2023-03-29T08:58:39.900280Z",
     "iopub.status.busy": "2023-03-29T08:58:39.898927Z",
     "iopub.status.idle": "2023-03-29T08:58:39.908100Z",
     "shell.execute_reply": "2023-03-29T08:58:39.906994Z"
    },
    "papermill": {
     "duration": 0.019068,
     "end_time": "2023-03-29T08:58:39.910756",
     "exception": false,
     "start_time": "2023-03-29T08:58:39.891688",
     "status": "completed"
    },
    "tags": []
   },
   "outputs": [],
   "source": [
    "df['GENDER'] = df['GENDER'].map({'F':0,'M':1})\n",
    "df['LUNG_CANCER'] = df['LUNG_CANCER'].map({'NO':0,'YES':1})"
   ]
  },
  {
   "cell_type": "code",
   "execution_count": 7,
   "id": "e26bc2c1",
   "metadata": {
    "execution": {
     "iopub.execute_input": "2023-03-29T08:58:39.924491Z",
     "iopub.status.busy": "2023-03-29T08:58:39.923447Z",
     "iopub.status.idle": "2023-03-29T08:58:39.939319Z",
     "shell.execute_reply": "2023-03-29T08:58:39.937948Z"
    },
    "papermill": {
     "duration": 0.025639,
     "end_time": "2023-03-29T08:58:39.942003",
     "exception": false,
     "start_time": "2023-03-29T08:58:39.916364",
     "status": "completed"
    },
    "tags": []
   },
   "outputs": [],
   "source": [
    "cols = df.columns.tolist()[2:-1]\n",
    "\n",
    "for col in cols:\n",
    "    \n",
    "    df[col] = df[col].map({1:0, 2:1})"
   ]
  },
  {
   "cell_type": "code",
   "execution_count": 8,
   "id": "54c6a639",
   "metadata": {
    "execution": {
     "iopub.execute_input": "2023-03-29T08:58:39.955521Z",
     "iopub.status.busy": "2023-03-29T08:58:39.955008Z",
     "iopub.status.idle": "2023-03-29T08:58:39.987871Z",
     "shell.execute_reply": "2023-03-29T08:58:39.986608Z"
    },
    "papermill": {
     "duration": 0.043835,
     "end_time": "2023-03-29T08:58:39.991503",
     "exception": false,
     "start_time": "2023-03-29T08:58:39.947668",
     "status": "completed"
    },
    "tags": []
   },
   "outputs": [
    {
     "data": {
      "text/html": [
       "<div>\n",
       "<style scoped>\n",
       "    .dataframe tbody tr th:only-of-type {\n",
       "        vertical-align: middle;\n",
       "    }\n",
       "\n",
       "    .dataframe tbody tr th {\n",
       "        vertical-align: top;\n",
       "    }\n",
       "\n",
       "    .dataframe thead th {\n",
       "        text-align: right;\n",
       "    }\n",
       "</style>\n",
       "<table border=\"1\" class=\"dataframe\">\n",
       "  <thead>\n",
       "    <tr style=\"text-align: right;\">\n",
       "      <th></th>\n",
       "      <th>GENDER</th>\n",
       "      <th>AGE</th>\n",
       "      <th>SMOKING</th>\n",
       "      <th>YELLOW_FINGERS</th>\n",
       "      <th>ANXIETY</th>\n",
       "      <th>PEER_PRESSURE</th>\n",
       "      <th>CHRONIC DISEASE</th>\n",
       "      <th>FATIGUE</th>\n",
       "      <th>ALLERGY</th>\n",
       "      <th>WHEEZING</th>\n",
       "      <th>ALCOHOL CONSUMING</th>\n",
       "      <th>COUGHING</th>\n",
       "      <th>SHORTNESS OF BREATH</th>\n",
       "      <th>SWALLOWING DIFFICULTY</th>\n",
       "      <th>CHEST PAIN</th>\n",
       "      <th>LUNG_CANCER</th>\n",
       "    </tr>\n",
       "  </thead>\n",
       "  <tbody>\n",
       "    <tr>\n",
       "      <th>0</th>\n",
       "      <td>1</td>\n",
       "      <td>69</td>\n",
       "      <td>0</td>\n",
       "      <td>1</td>\n",
       "      <td>1</td>\n",
       "      <td>0</td>\n",
       "      <td>0</td>\n",
       "      <td>1</td>\n",
       "      <td>0</td>\n",
       "      <td>1</td>\n",
       "      <td>1</td>\n",
       "      <td>1</td>\n",
       "      <td>1</td>\n",
       "      <td>1</td>\n",
       "      <td>1</td>\n",
       "      <td>1</td>\n",
       "    </tr>\n",
       "    <tr>\n",
       "      <th>1</th>\n",
       "      <td>1</td>\n",
       "      <td>74</td>\n",
       "      <td>1</td>\n",
       "      <td>0</td>\n",
       "      <td>0</td>\n",
       "      <td>0</td>\n",
       "      <td>1</td>\n",
       "      <td>1</td>\n",
       "      <td>1</td>\n",
       "      <td>0</td>\n",
       "      <td>0</td>\n",
       "      <td>0</td>\n",
       "      <td>1</td>\n",
       "      <td>1</td>\n",
       "      <td>1</td>\n",
       "      <td>1</td>\n",
       "    </tr>\n",
       "    <tr>\n",
       "      <th>2</th>\n",
       "      <td>0</td>\n",
       "      <td>59</td>\n",
       "      <td>0</td>\n",
       "      <td>0</td>\n",
       "      <td>0</td>\n",
       "      <td>1</td>\n",
       "      <td>0</td>\n",
       "      <td>1</td>\n",
       "      <td>0</td>\n",
       "      <td>1</td>\n",
       "      <td>0</td>\n",
       "      <td>1</td>\n",
       "      <td>1</td>\n",
       "      <td>0</td>\n",
       "      <td>1</td>\n",
       "      <td>0</td>\n",
       "    </tr>\n",
       "    <tr>\n",
       "      <th>3</th>\n",
       "      <td>1</td>\n",
       "      <td>63</td>\n",
       "      <td>1</td>\n",
       "      <td>1</td>\n",
       "      <td>1</td>\n",
       "      <td>0</td>\n",
       "      <td>0</td>\n",
       "      <td>0</td>\n",
       "      <td>0</td>\n",
       "      <td>0</td>\n",
       "      <td>1</td>\n",
       "      <td>0</td>\n",
       "      <td>0</td>\n",
       "      <td>1</td>\n",
       "      <td>1</td>\n",
       "      <td>0</td>\n",
       "    </tr>\n",
       "    <tr>\n",
       "      <th>4</th>\n",
       "      <td>0</td>\n",
       "      <td>63</td>\n",
       "      <td>0</td>\n",
       "      <td>1</td>\n",
       "      <td>0</td>\n",
       "      <td>0</td>\n",
       "      <td>0</td>\n",
       "      <td>0</td>\n",
       "      <td>0</td>\n",
       "      <td>1</td>\n",
       "      <td>0</td>\n",
       "      <td>1</td>\n",
       "      <td>1</td>\n",
       "      <td>0</td>\n",
       "      <td>0</td>\n",
       "      <td>0</td>\n",
       "    </tr>\n",
       "    <tr>\n",
       "      <th>...</th>\n",
       "      <td>...</td>\n",
       "      <td>...</td>\n",
       "      <td>...</td>\n",
       "      <td>...</td>\n",
       "      <td>...</td>\n",
       "      <td>...</td>\n",
       "      <td>...</td>\n",
       "      <td>...</td>\n",
       "      <td>...</td>\n",
       "      <td>...</td>\n",
       "      <td>...</td>\n",
       "      <td>...</td>\n",
       "      <td>...</td>\n",
       "      <td>...</td>\n",
       "      <td>...</td>\n",
       "      <td>...</td>\n",
       "    </tr>\n",
       "    <tr>\n",
       "      <th>304</th>\n",
       "      <td>0</td>\n",
       "      <td>56</td>\n",
       "      <td>0</td>\n",
       "      <td>0</td>\n",
       "      <td>0</td>\n",
       "      <td>1</td>\n",
       "      <td>1</td>\n",
       "      <td>1</td>\n",
       "      <td>0</td>\n",
       "      <td>0</td>\n",
       "      <td>1</td>\n",
       "      <td>1</td>\n",
       "      <td>1</td>\n",
       "      <td>1</td>\n",
       "      <td>0</td>\n",
       "      <td>1</td>\n",
       "    </tr>\n",
       "    <tr>\n",
       "      <th>305</th>\n",
       "      <td>1</td>\n",
       "      <td>70</td>\n",
       "      <td>1</td>\n",
       "      <td>0</td>\n",
       "      <td>0</td>\n",
       "      <td>0</td>\n",
       "      <td>0</td>\n",
       "      <td>1</td>\n",
       "      <td>1</td>\n",
       "      <td>1</td>\n",
       "      <td>1</td>\n",
       "      <td>1</td>\n",
       "      <td>1</td>\n",
       "      <td>0</td>\n",
       "      <td>1</td>\n",
       "      <td>1</td>\n",
       "    </tr>\n",
       "    <tr>\n",
       "      <th>306</th>\n",
       "      <td>1</td>\n",
       "      <td>58</td>\n",
       "      <td>1</td>\n",
       "      <td>0</td>\n",
       "      <td>0</td>\n",
       "      <td>0</td>\n",
       "      <td>0</td>\n",
       "      <td>0</td>\n",
       "      <td>1</td>\n",
       "      <td>1</td>\n",
       "      <td>1</td>\n",
       "      <td>1</td>\n",
       "      <td>0</td>\n",
       "      <td>0</td>\n",
       "      <td>1</td>\n",
       "      <td>1</td>\n",
       "    </tr>\n",
       "    <tr>\n",
       "      <th>307</th>\n",
       "      <td>1</td>\n",
       "      <td>67</td>\n",
       "      <td>1</td>\n",
       "      <td>0</td>\n",
       "      <td>1</td>\n",
       "      <td>0</td>\n",
       "      <td>0</td>\n",
       "      <td>1</td>\n",
       "      <td>1</td>\n",
       "      <td>0</td>\n",
       "      <td>1</td>\n",
       "      <td>1</td>\n",
       "      <td>1</td>\n",
       "      <td>0</td>\n",
       "      <td>1</td>\n",
       "      <td>1</td>\n",
       "    </tr>\n",
       "    <tr>\n",
       "      <th>308</th>\n",
       "      <td>1</td>\n",
       "      <td>62</td>\n",
       "      <td>0</td>\n",
       "      <td>0</td>\n",
       "      <td>0</td>\n",
       "      <td>1</td>\n",
       "      <td>0</td>\n",
       "      <td>1</td>\n",
       "      <td>1</td>\n",
       "      <td>1</td>\n",
       "      <td>1</td>\n",
       "      <td>0</td>\n",
       "      <td>0</td>\n",
       "      <td>1</td>\n",
       "      <td>0</td>\n",
       "      <td>1</td>\n",
       "    </tr>\n",
       "  </tbody>\n",
       "</table>\n",
       "<p>309 rows × 16 columns</p>\n",
       "</div>"
      ],
      "text/plain": [
       "     GENDER  AGE  SMOKING  YELLOW_FINGERS  ANXIETY  PEER_PRESSURE  \\\n",
       "0         1   69        0               1        1              0   \n",
       "1         1   74        1               0        0              0   \n",
       "2         0   59        0               0        0              1   \n",
       "3         1   63        1               1        1              0   \n",
       "4         0   63        0               1        0              0   \n",
       "..      ...  ...      ...             ...      ...            ...   \n",
       "304       0   56        0               0        0              1   \n",
       "305       1   70        1               0        0              0   \n",
       "306       1   58        1               0        0              0   \n",
       "307       1   67        1               0        1              0   \n",
       "308       1   62        0               0        0              1   \n",
       "\n",
       "     CHRONIC DISEASE  FATIGUE   ALLERGY   WHEEZING  ALCOHOL CONSUMING  \\\n",
       "0                  0         1         0         1                  1   \n",
       "1                  1         1         1         0                  0   \n",
       "2                  0         1         0         1                  0   \n",
       "3                  0         0         0         0                  1   \n",
       "4                  0         0         0         1                  0   \n",
       "..               ...       ...       ...       ...                ...   \n",
       "304                1         1         0         0                  1   \n",
       "305                0         1         1         1                  1   \n",
       "306                0         0         1         1                  1   \n",
       "307                0         1         1         0                  1   \n",
       "308                0         1         1         1                  1   \n",
       "\n",
       "     COUGHING  SHORTNESS OF BREATH  SWALLOWING DIFFICULTY  CHEST PAIN  \\\n",
       "0           1                    1                      1           1   \n",
       "1           0                    1                      1           1   \n",
       "2           1                    1                      0           1   \n",
       "3           0                    0                      1           1   \n",
       "4           1                    1                      0           0   \n",
       "..        ...                  ...                    ...         ...   \n",
       "304         1                    1                      1           0   \n",
       "305         1                    1                      0           1   \n",
       "306         1                    0                      0           1   \n",
       "307         1                    1                      0           1   \n",
       "308         0                    0                      1           0   \n",
       "\n",
       "     LUNG_CANCER  \n",
       "0              1  \n",
       "1              1  \n",
       "2              0  \n",
       "3              0  \n",
       "4              0  \n",
       "..           ...  \n",
       "304            1  \n",
       "305            1  \n",
       "306            1  \n",
       "307            1  \n",
       "308            1  \n",
       "\n",
       "[309 rows x 16 columns]"
      ]
     },
     "execution_count": 8,
     "metadata": {},
     "output_type": "execute_result"
    }
   ],
   "source": [
    "df"
   ]
  },
  {
   "cell_type": "code",
   "execution_count": 9,
   "id": "1b126574",
   "metadata": {
    "execution": {
     "iopub.execute_input": "2023-03-29T08:58:40.007899Z",
     "iopub.status.busy": "2023-03-29T08:58:40.006275Z",
     "iopub.status.idle": "2023-03-29T08:58:40.020776Z",
     "shell.execute_reply": "2023-03-29T08:58:40.019612Z"
    },
    "papermill": {
     "duration": 0.026321,
     "end_time": "2023-03-29T08:58:40.024320",
     "exception": false,
     "start_time": "2023-03-29T08:58:39.997999",
     "status": "completed"
    },
    "tags": []
   },
   "outputs": [],
   "source": [
    "X = df.drop('LUNG_CANCER', axis = 1)\n",
    "Y = df['LUNG_CANCER']\n",
    "\n",
    "x_train,x_test,y_train,y_test = train_test_split(X,Y, stratify = Y, test_size = 0.3, random_state = 2023)"
   ]
  },
  {
   "cell_type": "code",
   "execution_count": 10,
   "id": "2fedbc99",
   "metadata": {
    "execution": {
     "iopub.execute_input": "2023-03-29T08:58:40.039904Z",
     "iopub.status.busy": "2023-03-29T08:58:40.038390Z",
     "iopub.status.idle": "2023-03-29T08:58:40.044676Z",
     "shell.execute_reply": "2023-03-29T08:58:40.043698Z"
    },
    "papermill": {
     "duration": 0.016429,
     "end_time": "2023-03-29T08:58:40.046969",
     "exception": false,
     "start_time": "2023-03-29T08:58:40.030540",
     "status": "completed"
    },
    "tags": []
   },
   "outputs": [],
   "source": [
    "model = AdaBoostClassifier()"
   ]
  },
  {
   "cell_type": "markdown",
   "id": "67875ebb",
   "metadata": {
    "papermill": {
     "duration": 0.005459,
     "end_time": "2023-03-29T08:58:40.058482",
     "exception": false,
     "start_time": "2023-03-29T08:58:40.053023",
     "status": "completed"
    },
    "tags": []
   },
   "source": [
    "# GridSearch"
   ]
  },
  {
   "cell_type": "code",
   "execution_count": 11,
   "id": "03b2d345",
   "metadata": {
    "execution": {
     "iopub.execute_input": "2023-03-29T08:58:40.072792Z",
     "iopub.status.busy": "2023-03-29T08:58:40.071881Z",
     "iopub.status.idle": "2023-03-29T08:59:19.740015Z",
     "shell.execute_reply": "2023-03-29T08:59:19.738721Z"
    },
    "papermill": {
     "duration": 39.683323,
     "end_time": "2023-03-29T08:59:19.747473",
     "exception": false,
     "start_time": "2023-03-29T08:58:40.064150",
     "status": "completed"
    },
    "tags": []
   },
   "outputs": [
    {
     "name": "stdout",
     "output_type": "stream",
     "text": [
      "Fitting 10 folds for each of 24 candidates, totalling 240 fits\n"
     ]
    },
    {
     "data": {
      "text/plain": [
       "GridSearchCV(cv=10, estimator=AdaBoostClassifier(),\n",
       "             param_grid={'algorithm': ['SAMME', 'SAMME_R'],\n",
       "                         'learning_rate': [0.05, 0.1, 0.5, 1],\n",
       "                         'n_estimators': [50, 100, 500]},\n",
       "             scoring='f1', verbose=1)"
      ]
     },
     "execution_count": 11,
     "metadata": {},
     "output_type": "execute_result"
    }
   ],
   "source": [
    "param_grid = {'n_estimators':[50,100,500],\n",
    "             'learning_rate':[0.05,0.1,0.5,1],\n",
    "             'algorithm':['SAMME','SAMME_R']}\n",
    "\n",
    "GridAda = GridSearchCV(model, param_grid = param_grid, cv = 10, verbose = 1, scoring = 'f1')\n",
    "\n",
    "GridAda.fit(x_train,y_train)"
   ]
  },
  {
   "cell_type": "code",
   "execution_count": 12,
   "id": "f1cefba7",
   "metadata": {
    "execution": {
     "iopub.execute_input": "2023-03-29T08:59:19.761795Z",
     "iopub.status.busy": "2023-03-29T08:59:19.760546Z",
     "iopub.status.idle": "2023-03-29T08:59:19.787974Z",
     "shell.execute_reply": "2023-03-29T08:59:19.786914Z"
    },
    "papermill": {
     "duration": 0.037587,
     "end_time": "2023-03-29T08:59:19.790760",
     "exception": false,
     "start_time": "2023-03-29T08:59:19.753173",
     "status": "completed"
    },
    "tags": []
   },
   "outputs": [
    {
     "data": {
      "text/html": [
       "<div>\n",
       "<style scoped>\n",
       "    .dataframe tbody tr th:only-of-type {\n",
       "        vertical-align: middle;\n",
       "    }\n",
       "\n",
       "    .dataframe tbody tr th {\n",
       "        vertical-align: top;\n",
       "    }\n",
       "\n",
       "    .dataframe thead th {\n",
       "        text-align: right;\n",
       "    }\n",
       "</style>\n",
       "<table border=\"1\" class=\"dataframe\">\n",
       "  <thead>\n",
       "    <tr style=\"text-align: right;\">\n",
       "      <th></th>\n",
       "      <th>params</th>\n",
       "      <th>mean_test_score</th>\n",
       "    </tr>\n",
       "    <tr>\n",
       "      <th>rank_test_score</th>\n",
       "      <th></th>\n",
       "      <th></th>\n",
       "    </tr>\n",
       "  </thead>\n",
       "  <tbody>\n",
       "    <tr>\n",
       "      <th>1</th>\n",
       "      <td>{'algorithm': 'SAMME', 'learning_rate': 1, 'n_...</td>\n",
       "      <td>0.948436</td>\n",
       "    </tr>\n",
       "    <tr>\n",
       "      <th>1</th>\n",
       "      <td>{'algorithm': 'SAMME', 'learning_rate': 0.5, '...</td>\n",
       "      <td>0.948436</td>\n",
       "    </tr>\n",
       "    <tr>\n",
       "      <th>3</th>\n",
       "      <td>{'algorithm': 'SAMME', 'learning_rate': 0.1, '...</td>\n",
       "      <td>0.946345</td>\n",
       "    </tr>\n",
       "    <tr>\n",
       "      <th>4</th>\n",
       "      <td>{'algorithm': 'SAMME', 'learning_rate': 1, 'n_...</td>\n",
       "      <td>0.945844</td>\n",
       "    </tr>\n",
       "    <tr>\n",
       "      <th>5</th>\n",
       "      <td>{'algorithm': 'SAMME', 'learning_rate': 1, 'n_...</td>\n",
       "      <td>0.945257</td>\n",
       "    </tr>\n",
       "    <tr>\n",
       "      <th>6</th>\n",
       "      <td>{'algorithm': 'SAMME', 'learning_rate': 0.5, '...</td>\n",
       "      <td>0.943329</td>\n",
       "    </tr>\n",
       "    <tr>\n",
       "      <th>7</th>\n",
       "      <td>{'algorithm': 'SAMME', 'learning_rate': 0.5, '...</td>\n",
       "      <td>0.943283</td>\n",
       "    </tr>\n",
       "    <tr>\n",
       "      <th>8</th>\n",
       "      <td>{'algorithm': 'SAMME', 'learning_rate': 0.05, ...</td>\n",
       "      <td>0.941216</td>\n",
       "    </tr>\n",
       "    <tr>\n",
       "      <th>9</th>\n",
       "      <td>{'algorithm': 'SAMME', 'learning_rate': 0.05, ...</td>\n",
       "      <td>0.933405</td>\n",
       "    </tr>\n",
       "    <tr>\n",
       "      <th>9</th>\n",
       "      <td>{'algorithm': 'SAMME', 'learning_rate': 0.1, '...</td>\n",
       "      <td>0.933405</td>\n",
       "    </tr>\n",
       "    <tr>\n",
       "      <th>9</th>\n",
       "      <td>{'algorithm': 'SAMME', 'learning_rate': 0.05, ...</td>\n",
       "      <td>0.933405</td>\n",
       "    </tr>\n",
       "    <tr>\n",
       "      <th>12</th>\n",
       "      <td>{'algorithm': 'SAMME', 'learning_rate': 0.1, '...</td>\n",
       "      <td>0.933097</td>\n",
       "    </tr>\n",
       "  </tbody>\n",
       "</table>\n",
       "</div>"
      ],
      "text/plain": [
       "                                                            params  \\\n",
       "rank_test_score                                                      \n",
       "1                {'algorithm': 'SAMME', 'learning_rate': 1, 'n_...   \n",
       "1                {'algorithm': 'SAMME', 'learning_rate': 0.5, '...   \n",
       "3                {'algorithm': 'SAMME', 'learning_rate': 0.1, '...   \n",
       "4                {'algorithm': 'SAMME', 'learning_rate': 1, 'n_...   \n",
       "5                {'algorithm': 'SAMME', 'learning_rate': 1, 'n_...   \n",
       "6                {'algorithm': 'SAMME', 'learning_rate': 0.5, '...   \n",
       "7                {'algorithm': 'SAMME', 'learning_rate': 0.5, '...   \n",
       "8                {'algorithm': 'SAMME', 'learning_rate': 0.05, ...   \n",
       "9                {'algorithm': 'SAMME', 'learning_rate': 0.05, ...   \n",
       "9                {'algorithm': 'SAMME', 'learning_rate': 0.1, '...   \n",
       "9                {'algorithm': 'SAMME', 'learning_rate': 0.05, ...   \n",
       "12               {'algorithm': 'SAMME', 'learning_rate': 0.1, '...   \n",
       "\n",
       "                 mean_test_score  \n",
       "rank_test_score                   \n",
       "1                       0.948436  \n",
       "1                       0.948436  \n",
       "3                       0.946345  \n",
       "4                       0.945844  \n",
       "5                       0.945257  \n",
       "6                       0.943329  \n",
       "7                       0.943283  \n",
       "8                       0.941216  \n",
       "9                       0.933405  \n",
       "9                       0.933405  \n",
       "9                       0.933405  \n",
       "12                      0.933097  "
      ]
     },
     "execution_count": 12,
     "metadata": {},
     "output_type": "execute_result"
    }
   ],
   "source": [
    "result = pd.DataFrame(GridAda.cv_results_)[['params','mean_test_score','rank_test_score']]\n",
    "\n",
    "result = result.sort_values('rank_test_score').dropna().set_index('rank_test_score')\n",
    "\n",
    "result"
   ]
  },
  {
   "cell_type": "code",
   "execution_count": 13,
   "id": "3fd2dc81",
   "metadata": {
    "execution": {
     "iopub.execute_input": "2023-03-29T08:59:19.807667Z",
     "iopub.status.busy": "2023-03-29T08:59:19.806171Z",
     "iopub.status.idle": "2023-03-29T08:59:19.813204Z",
     "shell.execute_reply": "2023-03-29T08:59:19.811933Z"
    },
    "papermill": {
     "duration": 0.018696,
     "end_time": "2023-03-29T08:59:19.815838",
     "exception": false,
     "start_time": "2023-03-29T08:59:19.797142",
     "status": "completed"
    },
    "tags": []
   },
   "outputs": [
    {
     "name": "stdout",
     "output_type": "stream",
     "text": [
      "Best hyperparmeter : {'algorithm': 'SAMME', 'learning_rate': 0.5, 'n_estimators': 500}\n"
     ]
    }
   ],
   "source": [
    "best_model = GridAda.best_estimator_\n",
    "\n",
    "print('Best hyperparmeter :', GridAda.best_params_)"
   ]
  },
  {
   "cell_type": "markdown",
   "id": "4cc875bb",
   "metadata": {
    "papermill": {
     "duration": 0.005641,
     "end_time": "2023-03-29T08:59:19.827462",
     "exception": false,
     "start_time": "2023-03-29T08:59:19.821821",
     "status": "completed"
    },
    "tags": []
   },
   "source": [
    "# Lets Find best Threshold"
   ]
  },
  {
   "cell_type": "code",
   "execution_count": 14,
   "id": "de40db63",
   "metadata": {
    "execution": {
     "iopub.execute_input": "2023-03-29T08:59:19.841477Z",
     "iopub.status.busy": "2023-03-29T08:59:19.841012Z",
     "iopub.status.idle": "2023-03-29T08:59:20.705121Z",
     "shell.execute_reply": "2023-03-29T08:59:20.703652Z"
    },
    "papermill": {
     "duration": 0.874908,
     "end_time": "2023-03-29T08:59:20.708247",
     "exception": false,
     "start_time": "2023-03-29T08:59:19.833339",
     "status": "completed"
    },
    "tags": []
   },
   "outputs": [
    {
     "name": "stdout",
     "output_type": "stream",
     "text": [
      "Best Threshold : 0.504\n"
     ]
    }
   ],
   "source": [
    "proba = best_model.predict_proba(x_test)[:,1]\n",
    "\n",
    "thr_list = np.arange(0,1,0.001)\n",
    "\n",
    "f1_list = []\n",
    "\n",
    "for thr in thr_list:\n",
    "    \n",
    "    result = np.where(proba > thr, 1, 0)\n",
    "    \n",
    "    f1_list.append(f1_score(y_test,result))\n",
    "    \n",
    "    \n",
    "idx = np.argmax(f1_list)\n",
    "\n",
    "print('Best Threshold :', thr_list[idx])"
   ]
  },
  {
   "cell_type": "code",
   "execution_count": 15,
   "id": "d640d54b",
   "metadata": {
    "execution": {
     "iopub.execute_input": "2023-03-29T08:59:20.723163Z",
     "iopub.status.busy": "2023-03-29T08:59:20.722698Z",
     "iopub.status.idle": "2023-03-29T08:59:21.457982Z",
     "shell.execute_reply": "2023-03-29T08:59:21.454137Z"
    },
    "papermill": {
     "duration": 0.746246,
     "end_time": "2023-03-29T08:59:21.460968",
     "exception": false,
     "start_time": "2023-03-29T08:59:20.714722",
     "status": "completed"
    },
    "tags": []
   },
   "outputs": [
    {
     "data": {
      "text/plain": [
       "<matplotlib.legend.Legend at 0x7f24b8f50b90>"
      ]
     },
     "execution_count": 15,
     "metadata": {},
     "output_type": "execute_result"
    },
    {
     "data": {
      "image/png": "[encoded data removed]",
      "text/plain": [
       "<Figure size 1000x500 with 2 Axes>"
      ]
     },
     "metadata": {},
     "output_type": "display_data"
    }
   ],
   "source": [
    "plt.figure(figsize = [10,5])\n",
    "\n",
    "plt.subplot(1,2,1)\n",
    "\n",
    "plt.plot(thr_list,f1_list, c = 'green')\n",
    "plt.plot([thr_list[idx],thr_list[idx]],[0,f1_list[idx]], c = 'r', ls = '--')\n",
    "plt.plot([0,thr_list[idx]],[f1_list[idx],f1_list[idx]], c = 'r', ls = '--', label = f'Best Threshold \\n {thr_list[idx]}')\n",
    "\n",
    "\n",
    "plt.xlabel('Threshold')\n",
    "plt.ylabel('F1 score')\n",
    "plt.xticks(ticks = np.arange(0,1,0.1))\n",
    "plt.yticks(ticks = np.arange(0,1,0.1))\n",
    "\n",
    "plt.title('F1 score changing according the Threshold')\n",
    "plt.legend(loc = 'upper right')\n",
    "\n",
    "plt.subplot(1,2,2)\n",
    "\n",
    "plt.plot(thr_list,f1_list, c = 'green')\n",
    "plt.plot([thr_list[idx],thr_list[idx]],[0,f1_list[idx]], c = 'r', ls = '--', lw = 0.5)\n",
    "plt.plot([0,thr_list[idx]],[f1_list[idx],f1_list[idx]], c = 'r', ls = '--', lw = 0.5,label = f'Best Threshold \\n {thr_list[idx]}')\n",
    "\n",
    "\n",
    "plt.xlabel('Threshold')\n",
    "plt.ylabel('F1 score')\n",
    "plt.xticks(ticks = np.arange(0,1,0.1))\n",
    "plt.yticks(ticks = np.arange(0,1,0.01))\n",
    "plt.ylim([0.8,1])\n",
    "\n",
    "\n",
    "plt.title('F1 score changing according the Threshold')\n",
    "plt.legend(loc = 'upper right')"
   ]
  },
  {
   "cell_type": "code",
   "execution_count": 16,
   "id": "88e6daca",
   "metadata": {
    "execution": {
     "iopub.execute_input": "2023-03-29T08:59:21.483931Z",
     "iopub.status.busy": "2023-03-29T08:59:21.482602Z",
     "iopub.status.idle": "2023-03-29T08:59:21.765019Z",
     "shell.execute_reply": "2023-03-29T08:59:21.763678Z"
    },
    "papermill": {
     "duration": 0.295147,
     "end_time": "2023-03-29T08:59:21.767957",
     "exception": false,
     "start_time": "2023-03-29T08:59:21.472810",
     "status": "completed"
    },
    "tags": []
   },
   "outputs": [
    {
     "data": {
      "text/plain": [
       "Text(0.5, 1.0, 'F1_score : 0.97')"
      ]
     },
     "execution_count": 16,
     "metadata": {},
     "output_type": "execute_result"
    },
    {
     "data": {
      "image/png": "[encoded data removed]",
      "text/plain": [
       "<Figure size 640x480 with 2 Axes>"
      ]
     },
     "metadata": {},
     "output_type": "display_data"
    }
   ],
   "source": [
    "pred = np.where(proba > thr_list[idx],1,0)\n",
    "f1 = round(f1_score(y_test,pred),2)\n",
    "confusion = pd.DataFrame(confusion_matrix(y_test,pred), columns = ['Real True','Real False'], index = ['Predict True','Predict Negative'])\n",
    "\n",
    "sns.heatmap(confusion, annot = True, cmap = 'Blues_r')\n",
    "plt.title(f'F1_score : {f1}')"
   ]
  }
 ],
 "metadata": {
  "kernelspec": {
   "display_name": "Python 3",
   "language": "python",
   "name": "python3"
  },
  "language_info": {
   "codemirror_mode": {
    "name": "ipython",
    "version": 3
   },
   "file_extension": ".py",
   "mimetype": "text/x-python",
   "name": "python",
   "nbconvert_exporter": "python",
   "pygments_lexer": "ipython3",
   "version": "3.7.12"
  },
  "papermill": {
   "default_parameters": {},
   "duration": 55.875745,
   "end_time": "2023-03-29T08:59:22.901941",
   "environment_variables": {},
   "exception": null,
   "input_path": "__notebook__.ipynb",
   "output_path": "__notebook__.ipynb",
   "parameters": {},
   "start_time": "2023-03-29T08:58:27.026196",
   "version": "2.4.0"
  }
 },
 "nbformat": 4,
 "nbformat_minor": 5
}

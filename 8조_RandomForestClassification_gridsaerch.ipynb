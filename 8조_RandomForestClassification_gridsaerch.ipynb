{
 "cells": [
  {
   "cell_type": "markdown",
   "id": "cbb85090",
   "metadata": {},
   "source": [
    "# 라이브러리 로드"
   ]
  },
  {
   "cell_type": "code",
   "execution_count": 1,
   "id": "e45afe1f",
   "metadata": {},
   "outputs": [],
   "source": [
    "import pandas as pd\n",
    "import numpy as np\n",
    "import matplotlib.pyplot as plt\n",
    "import seaborn as sns\n",
    "from sklearn.model_selection import train_test_split,GridSearchCV,cross_val_score\n",
    "from sklearn.tree import DecisionTreeClassifier\n",
    "from sklearn.ensemble import RandomForestClassifier\n",
    "from sklearn.metrics import confusion_matrix,plot_confusion_matrix\n",
    "from sklearn.metrics import accuracy_score,precision_score,recall_score\n",
    "\n",
    "import koreanize_matplotlib\n",
    "\n",
    "import warnings\n",
    "warnings.filterwarnings('ignore')"
   ]
  },
  {
   "cell_type": "markdown",
   "id": "a858e5fa",
   "metadata": {},
   "source": [
    "# RandomForest 최적의 하이퍼 파라미터 찾기"
   ]
  },
  {
   "cell_type": "code",
   "execution_count": 4,
   "id": "55398d81",
   "metadata": {},
   "outputs": [],
   "source": [
    "raw_x = raw_train.drop('전화해지여부', axis =1)\n",
    "raw_y = raw_train['전화해지여부']\n",
    "\n",
    "pre_x = pre_train.drop('전화해지여부', axis =1)\n",
    "pre_y = pre_train['전화해지여부']\n",
    "\n",
    "x_raw_train,x_raw_test,y_raw_train,y_raw_test = train_test_split(raw_x,\n",
    "                                                                 raw_y,\n",
    "                                                                random_state=42,\n",
    "                                                                test_size=0.2,\n",
    "                                                                stratify=raw_y)\n",
    "\n",
    "x_pre_train,x_pre_test,y_pre_train,y_pre_test = train_test_split(pre_x,\n",
    "                                                                 pre_y,\n",
    "                                                                random_state=42,\n",
    "                                                                test_size=0.2,\n",
    "                                                                stratify=pre_y)"
   ]
  },
  {
   "cell_type": "code",
   "execution_count": null,
   "id": "6d2128d3",
   "metadata": {},
   "outputs": [
    {
     "name": "stdout",
     "output_type": "stream",
     "text": [
      "Fitting 10 folds for each of 165 candidates, totalling 1650 fits\n",
      "Fitting 10 folds for each of 165 candidates, totalling 1650 fits\n"
     ]
    }
   ],
   "source": [
    "raw_forest = RandomForestClassifier()\n",
    "pre_forest = RandomForestClassifier()\n",
    "\n",
    "param_grid = {'max_depth' : [5, 10, 15, 20, 25],\n",
    "             'max_features' : ['auto', 'sqrt', 'log2'],\n",
    "             }\n",
    "\n",
    "raw_grid_forest = GridSearchCV(raw_forest, param_grid=param_grid, verbose=1, cv=10, scoring = 'f1_micro')\n",
    "pre_grid_forest = GridSearchCV(pre_forest, param_grid=param_grid, verbose=1, cv=10, scoring = 'f1_micro')\n",
    "\n",
    "raw_grid_forest.fit(x_raw_train,y_raw_train)\n",
    "pre_grid_forest.fit(x_pre_train,y_pre_train)\n",
    "\n",
    "print('원본 데이터의 최적의 랜덤포레스트 파라미터는 :',raw_grid_forest.best_params_)\n",
    "print('전처리한 데이터의 최적의 랜덤포레스트 파라미터는 :',pre_grid_forest.best_params_)\n",
    "\n",
    "raw_grid_forest = raw_grid_forest.best_estimator_\n",
    "pre_grid_forest = pre_grid_forest.best_estimator_"
   ]
  }
 ],
 "metadata": {
  "kernelspec": {
   "display_name": "Python 3 (ipykernel)",
   "language": "python",
   "name": "python3"
  },
  "language_info": {
   "codemirror_mode": {
    "name": "ipython",
    "version": 3
   },
   "file_extension": ".py",
   "mimetype": "text/x-python",
   "name": "python",
   "nbconvert_exporter": "python",
   "pygments_lexer": "ipython3",
   "version": "3.9.13"
  },
  "toc": {
   "base_numbering": 1,
   "nav_menu": {},
   "number_sections": true,
   "sideBar": true,
   "skip_h1_title": false,
   "title_cell": "Table of Contents",
   "title_sidebar": "Contents",
   "toc_cell": false,
   "toc_position": {},
   "toc_section_display": true,
   "toc_window_display": false
  }
 },
 "nbformat": 4,
 "nbformat_minor": 5
}

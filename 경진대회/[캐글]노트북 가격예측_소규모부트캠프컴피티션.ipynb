{
 "cells": [
  {
   "cell_type": "code",
   "execution_count": 510,
   "metadata": {},
   "outputs": [],
   "source": [
    "import pandas as pd\n",
    "import numpy as np\n",
    "import seaborn as sns\n",
    "import matplotlib.pyplot as plt\n",
    "import matplotlib.font_manager as fm\n",
    "import warnings\n",
    "from pprint import pprint"
   ]
  },
  {
   "cell_type": "code",
   "execution_count": 511,
   "metadata": {},
   "outputs": [],
   "source": [
    "font_path = 'C:/Windows/Fonts/KoPubBatangMedium.ttf'\n",
    "fontprop = fm.FontProperties(fname = font_path)\n",
    "\n",
    "rc = {\n",
    "    \"axes.facecolor\": \"#F6F6F6\",\n",
    "    \"figure.facecolor\": \"#F6F6F6\",\n",
    "    \"axes.edgecolor\": \"#000000\",\n",
    "    \"grid.color\": \"gray\",\n",
    "    \"grid.linestyle\": \"dashed\",\n",
    "    'grid.linewidth': '0.5',\n",
    "    \"axes.labelcolor\": \"#000000\",\n",
    "    \"font.family\":fontprop.get_name(),\n",
    "    \"xtick.color\": \"#000000\",\n",
    "    \"ytick.color\": \"#000000\",\n",
    "    \"grid.alpha\": 0.4\n",
    "}\n",
    "\n",
    "plt.rc('axes', unicode_minus = 'False')\n",
    "sns.set(rc=rc)"
   ]
  },
  {
   "cell_type": "code",
   "execution_count": 512,
   "metadata": {},
   "outputs": [],
   "source": [
    "train = pd.read_csv('C:/Users/whileduck/Desktop/kaggle/train.csv').drop('id',axis = 1)\n",
    "test = pd.read_csv('C:/Users/whileduck/Desktop/kaggle/test.csv').drop('id',axis = 1)\n",
    "sub = pd.read_csv('C:/Users/whileduck/Desktop/kaggle/sample_submission.csv')"
   ]
  },
  {
   "cell_type": "code",
   "execution_count": 513,
   "metadata": {},
   "outputs": [
    {
     "data": {
      "text/html": [
       "<div>\n",
       "<style scoped>\n",
       "    .dataframe tbody tr th:only-of-type {\n",
       "        vertical-align: middle;\n",
       "    }\n",
       "\n",
       "    .dataframe tbody tr th {\n",
       "        vertical-align: top;\n",
       "    }\n",
       "\n",
       "    .dataframe thead th {\n",
       "        text-align: right;\n",
       "    }\n",
       "</style>\n",
       "<table border=\"1\" class=\"dataframe\">\n",
       "  <thead>\n",
       "    <tr style=\"text-align: right;\">\n",
       "      <th></th>\n",
       "      <th>laptop_ID</th>\n",
       "      <th>Company</th>\n",
       "      <th>Product</th>\n",
       "      <th>TypeName</th>\n",
       "      <th>Inches</th>\n",
       "      <th>ScreenResolution</th>\n",
       "      <th>Cpu</th>\n",
       "      <th>Ram</th>\n",
       "      <th>Memory</th>\n",
       "      <th>Gpu</th>\n",
       "      <th>OpSys</th>\n",
       "      <th>Weight</th>\n",
       "      <th>Price_euros</th>\n",
       "    </tr>\n",
       "  </thead>\n",
       "  <tbody>\n",
       "    <tr>\n",
       "      <th>0</th>\n",
       "      <td>705</td>\n",
       "      <td>Asus</td>\n",
       "      <td>Chromebook Flip</td>\n",
       "      <td>2 in 1 Convertible</td>\n",
       "      <td>12.5</td>\n",
       "      <td>Full HD / Touchscreen 1920x1080</td>\n",
       "      <td>Intel Core M M3-6Y30 0.9GHz</td>\n",
       "      <td>4GB</td>\n",
       "      <td>64GB Flash Storage</td>\n",
       "      <td>Intel HD Graphics 515</td>\n",
       "      <td>Chrome OS</td>\n",
       "      <td>1.2kg</td>\n",
       "      <td>669.0</td>\n",
       "    </tr>\n",
       "    <tr>\n",
       "      <th>1</th>\n",
       "      <td>442</td>\n",
       "      <td>Asus</td>\n",
       "      <td>Rog Strix</td>\n",
       "      <td>Gaming</td>\n",
       "      <td>17.3</td>\n",
       "      <td>Full HD 1920x1080</td>\n",
       "      <td>AMD Ryzen 1600 3.2GHz</td>\n",
       "      <td>8GB</td>\n",
       "      <td>256GB SSD +  1TB HDD</td>\n",
       "      <td>AMD Radeon RX 580</td>\n",
       "      <td>Windows 10</td>\n",
       "      <td>3.2kg</td>\n",
       "      <td>1695.0</td>\n",
       "    </tr>\n",
       "    <tr>\n",
       "      <th>2</th>\n",
       "      <td>743</td>\n",
       "      <td>Lenovo</td>\n",
       "      <td>V310-15IKB (i7-7500U/4GB/1TB/FHD/W10)</td>\n",
       "      <td>Notebook</td>\n",
       "      <td>15.6</td>\n",
       "      <td>Full HD 1920x1080</td>\n",
       "      <td>Intel Core i7 7500U 2.7GHz</td>\n",
       "      <td>4GB</td>\n",
       "      <td>1TB HDD</td>\n",
       "      <td>Intel HD Graphics 620</td>\n",
       "      <td>Windows 10</td>\n",
       "      <td>1.85kg</td>\n",
       "      <td>779.0</td>\n",
       "    </tr>\n",
       "    <tr>\n",
       "      <th>3</th>\n",
       "      <td>875</td>\n",
       "      <td>Dell</td>\n",
       "      <td>XPS 13</td>\n",
       "      <td>Ultrabook</td>\n",
       "      <td>13.3</td>\n",
       "      <td>Quad HD+ / Touchscreen 3200x1800</td>\n",
       "      <td>Intel Core i7 7660U 2.5GHz</td>\n",
       "      <td>16GB</td>\n",
       "      <td>512GB SSD</td>\n",
       "      <td>Intel Iris Plus Graphics 640</td>\n",
       "      <td>Windows 10</td>\n",
       "      <td>1.29kg</td>\n",
       "      <td>2240.0</td>\n",
       "    </tr>\n",
       "    <tr>\n",
       "      <th>4</th>\n",
       "      <td>1194</td>\n",
       "      <td>Lenovo</td>\n",
       "      <td>B51-80 (i7-6500U/4GB/1008GB/FHD/W7)</td>\n",
       "      <td>Notebook</td>\n",
       "      <td>15.6</td>\n",
       "      <td>Full HD 1920x1080</td>\n",
       "      <td>Intel Core i7 6500U 2.5GHz</td>\n",
       "      <td>4GB</td>\n",
       "      <td>1.0TB Hybrid</td>\n",
       "      <td>Intel HD Graphics 520</td>\n",
       "      <td>Windows 7</td>\n",
       "      <td>2.32kg</td>\n",
       "      <td>825.0</td>\n",
       "    </tr>\n",
       "  </tbody>\n",
       "</table>\n",
       "</div>"
      ],
      "text/plain": [
       "   laptop_ID Company                                Product  \\\n",
       "0        705    Asus                        Chromebook Flip   \n",
       "1        442    Asus                              Rog Strix   \n",
       "2        743  Lenovo  V310-15IKB (i7-7500U/4GB/1TB/FHD/W10)   \n",
       "3        875    Dell                                 XPS 13   \n",
       "4       1194  Lenovo    B51-80 (i7-6500U/4GB/1008GB/FHD/W7)   \n",
       "\n",
       "             TypeName  Inches                  ScreenResolution  \\\n",
       "0  2 in 1 Convertible    12.5   Full HD / Touchscreen 1920x1080   \n",
       "1              Gaming    17.3                 Full HD 1920x1080   \n",
       "2            Notebook    15.6                 Full HD 1920x1080   \n",
       "3           Ultrabook    13.3  Quad HD+ / Touchscreen 3200x1800   \n",
       "4            Notebook    15.6                 Full HD 1920x1080   \n",
       "\n",
       "                           Cpu   Ram                Memory  \\\n",
       "0  Intel Core M M3-6Y30 0.9GHz   4GB    64GB Flash Storage   \n",
       "1        AMD Ryzen 1600 3.2GHz   8GB  256GB SSD +  1TB HDD   \n",
       "2   Intel Core i7 7500U 2.7GHz   4GB               1TB HDD   \n",
       "3   Intel Core i7 7660U 2.5GHz  16GB             512GB SSD   \n",
       "4   Intel Core i7 6500U 2.5GHz   4GB          1.0TB Hybrid   \n",
       "\n",
       "                            Gpu       OpSys  Weight  Price_euros  \n",
       "0         Intel HD Graphics 515   Chrome OS   1.2kg        669.0  \n",
       "1             AMD Radeon RX 580  Windows 10   3.2kg       1695.0  \n",
       "2         Intel HD Graphics 620  Windows 10  1.85kg        779.0  \n",
       "3  Intel Iris Plus Graphics 640  Windows 10  1.29kg       2240.0  \n",
       "4         Intel HD Graphics 520   Windows 7  2.32kg        825.0  "
      ]
     },
     "execution_count": 513,
     "metadata": {},
     "output_type": "execute_result"
    }
   ],
   "source": [
    "df = train.copy()\n",
    "df.head()"
   ]
  },
  {
   "attachments": {},
   "cell_type": "markdown",
   "metadata": {},
   "source": [
    "# **데이터 전처리**"
   ]
  },
  {
   "cell_type": "code",
   "execution_count": 514,
   "metadata": {},
   "outputs": [],
   "source": [
    "def summarize(data):\n",
    "    \n",
    "    result = pd.DataFrame()\n",
    "\n",
    "    result['Count'] = data.count()\n",
    "    result['Nunique'] = data.nunique().values\n",
    "    result['Missing value'] = data.isna().sum().values\n",
    "    result['Most Freq Value'] = data.mode().iloc[0]\n",
    "    result['Min'] = data.describe().T['min']\n",
    "    result['Max'] = data.describe().T['max']\n",
    "    result['Mean'] = data.describe().T['mean']\n",
    "    result['Median'] = data.describe().T['50%']\n",
    "\n",
    "    return result"
   ]
  },
  {
   "cell_type": "code",
   "execution_count": 515,
   "metadata": {},
   "outputs": [
    {
     "data": {
      "text/html": [
       "<div>\n",
       "<style scoped>\n",
       "    .dataframe tbody tr th:only-of-type {\n",
       "        vertical-align: middle;\n",
       "    }\n",
       "\n",
       "    .dataframe tbody tr th {\n",
       "        vertical-align: top;\n",
       "    }\n",
       "\n",
       "    .dataframe thead th {\n",
       "        text-align: right;\n",
       "    }\n",
       "</style>\n",
       "<table border=\"1\" class=\"dataframe\">\n",
       "  <thead>\n",
       "    <tr style=\"text-align: right;\">\n",
       "      <th></th>\n",
       "      <th>Count</th>\n",
       "      <th>Nunique</th>\n",
       "      <th>Missing value</th>\n",
       "      <th>Most Freq Value</th>\n",
       "      <th>Min</th>\n",
       "      <th>Max</th>\n",
       "      <th>Mean</th>\n",
       "      <th>Median</th>\n",
       "    </tr>\n",
       "  </thead>\n",
       "  <tbody>\n",
       "    <tr>\n",
       "      <th>laptop_ID</th>\n",
       "      <td>912</td>\n",
       "      <td>912</td>\n",
       "      <td>0</td>\n",
       "      <td>1</td>\n",
       "      <td>1.0</td>\n",
       "      <td>1319.0</td>\n",
       "      <td>661.273026</td>\n",
       "      <td>663.5</td>\n",
       "    </tr>\n",
       "    <tr>\n",
       "      <th>Company</th>\n",
       "      <td>912</td>\n",
       "      <td>19</td>\n",
       "      <td>0</td>\n",
       "      <td>Dell</td>\n",
       "      <td>NaN</td>\n",
       "      <td>NaN</td>\n",
       "      <td>NaN</td>\n",
       "      <td>NaN</td>\n",
       "    </tr>\n",
       "    <tr>\n",
       "      <th>Product</th>\n",
       "      <td>912</td>\n",
       "      <td>475</td>\n",
       "      <td>0</td>\n",
       "      <td>Inspiron 3567</td>\n",
       "      <td>NaN</td>\n",
       "      <td>NaN</td>\n",
       "      <td>NaN</td>\n",
       "      <td>NaN</td>\n",
       "    </tr>\n",
       "    <tr>\n",
       "      <th>TypeName</th>\n",
       "      <td>912</td>\n",
       "      <td>6</td>\n",
       "      <td>0</td>\n",
       "      <td>Notebook</td>\n",
       "      <td>NaN</td>\n",
       "      <td>NaN</td>\n",
       "      <td>NaN</td>\n",
       "      <td>NaN</td>\n",
       "    </tr>\n",
       "    <tr>\n",
       "      <th>Inches</th>\n",
       "      <td>912</td>\n",
       "      <td>17</td>\n",
       "      <td>0</td>\n",
       "      <td>15.6</td>\n",
       "      <td>10.1</td>\n",
       "      <td>18.4</td>\n",
       "      <td>15.060746</td>\n",
       "      <td>15.6</td>\n",
       "    </tr>\n",
       "    <tr>\n",
       "      <th>ScreenResolution</th>\n",
       "      <td>912</td>\n",
       "      <td>37</td>\n",
       "      <td>0</td>\n",
       "      <td>Full HD 1920x1080</td>\n",
       "      <td>NaN</td>\n",
       "      <td>NaN</td>\n",
       "      <td>NaN</td>\n",
       "      <td>NaN</td>\n",
       "    </tr>\n",
       "    <tr>\n",
       "      <th>Cpu</th>\n",
       "      <td>912</td>\n",
       "      <td>102</td>\n",
       "      <td>0</td>\n",
       "      <td>Intel Core i5 7200U 2.5GHz</td>\n",
       "      <td>NaN</td>\n",
       "      <td>NaN</td>\n",
       "      <td>NaN</td>\n",
       "      <td>NaN</td>\n",
       "    </tr>\n",
       "    <tr>\n",
       "      <th>Ram</th>\n",
       "      <td>912</td>\n",
       "      <td>9</td>\n",
       "      <td>0</td>\n",
       "      <td>8GB</td>\n",
       "      <td>NaN</td>\n",
       "      <td>NaN</td>\n",
       "      <td>NaN</td>\n",
       "      <td>NaN</td>\n",
       "    </tr>\n",
       "    <tr>\n",
       "      <th>Memory</th>\n",
       "      <td>912</td>\n",
       "      <td>36</td>\n",
       "      <td>0</td>\n",
       "      <td>256GB SSD</td>\n",
       "      <td>NaN</td>\n",
       "      <td>NaN</td>\n",
       "      <td>NaN</td>\n",
       "      <td>NaN</td>\n",
       "    </tr>\n",
       "    <tr>\n",
       "      <th>Gpu</th>\n",
       "      <td>912</td>\n",
       "      <td>94</td>\n",
       "      <td>0</td>\n",
       "      <td>Intel HD Graphics 620</td>\n",
       "      <td>NaN</td>\n",
       "      <td>NaN</td>\n",
       "      <td>NaN</td>\n",
       "      <td>NaN</td>\n",
       "    </tr>\n",
       "    <tr>\n",
       "      <th>OpSys</th>\n",
       "      <td>912</td>\n",
       "      <td>9</td>\n",
       "      <td>0</td>\n",
       "      <td>Windows 10</td>\n",
       "      <td>NaN</td>\n",
       "      <td>NaN</td>\n",
       "      <td>NaN</td>\n",
       "      <td>NaN</td>\n",
       "    </tr>\n",
       "    <tr>\n",
       "      <th>Weight</th>\n",
       "      <td>912</td>\n",
       "      <td>164</td>\n",
       "      <td>0</td>\n",
       "      <td>2.2kg</td>\n",
       "      <td>NaN</td>\n",
       "      <td>NaN</td>\n",
       "      <td>NaN</td>\n",
       "      <td>NaN</td>\n",
       "    </tr>\n",
       "    <tr>\n",
       "      <th>Price_euros</th>\n",
       "      <td>912</td>\n",
       "      <td>601</td>\n",
       "      <td>0</td>\n",
       "      <td>899.0</td>\n",
       "      <td>174.0</td>\n",
       "      <td>4899.0</td>\n",
       "      <td>1126.920340</td>\n",
       "      <td>952.0</td>\n",
       "    </tr>\n",
       "  </tbody>\n",
       "</table>\n",
       "</div>"
      ],
      "text/plain": [
       "                  Count  Nunique  Missing value             Most Freq Value  \\\n",
       "laptop_ID           912      912              0                           1   \n",
       "Company             912       19              0                        Dell   \n",
       "Product             912      475              0               Inspiron 3567   \n",
       "TypeName            912        6              0                    Notebook   \n",
       "Inches              912       17              0                        15.6   \n",
       "ScreenResolution    912       37              0           Full HD 1920x1080   \n",
       "Cpu                 912      102              0  Intel Core i5 7200U 2.5GHz   \n",
       "Ram                 912        9              0                         8GB   \n",
       "Memory              912       36              0                   256GB SSD   \n",
       "Gpu                 912       94              0       Intel HD Graphics 620   \n",
       "OpSys               912        9              0                  Windows 10   \n",
       "Weight              912      164              0                       2.2kg   \n",
       "Price_euros         912      601              0                       899.0   \n",
       "\n",
       "                    Min     Max         Mean  Median  \n",
       "laptop_ID           1.0  1319.0   661.273026   663.5  \n",
       "Company             NaN     NaN          NaN     NaN  \n",
       "Product             NaN     NaN          NaN     NaN  \n",
       "TypeName            NaN     NaN          NaN     NaN  \n",
       "Inches             10.1    18.4    15.060746    15.6  \n",
       "ScreenResolution    NaN     NaN          NaN     NaN  \n",
       "Cpu                 NaN     NaN          NaN     NaN  \n",
       "Ram                 NaN     NaN          NaN     NaN  \n",
       "Memory              NaN     NaN          NaN     NaN  \n",
       "Gpu                 NaN     NaN          NaN     NaN  \n",
       "OpSys               NaN     NaN          NaN     NaN  \n",
       "Weight              NaN     NaN          NaN     NaN  \n",
       "Price_euros       174.0  4899.0  1126.920340   952.0  "
      ]
     },
     "execution_count": 515,
     "metadata": {},
     "output_type": "execute_result"
    }
   ],
   "source": [
    "summarize(df)"
   ]
  },
  {
   "cell_type": "code",
   "execution_count": 516,
   "metadata": {},
   "outputs": [
    {
     "data": {
      "text/html": [
       "<div>\n",
       "<style scoped>\n",
       "    .dataframe tbody tr th:only-of-type {\n",
       "        vertical-align: middle;\n",
       "    }\n",
       "\n",
       "    .dataframe tbody tr th {\n",
       "        vertical-align: top;\n",
       "    }\n",
       "\n",
       "    .dataframe thead th {\n",
       "        text-align: right;\n",
       "    }\n",
       "</style>\n",
       "<table border=\"1\" class=\"dataframe\">\n",
       "  <thead>\n",
       "    <tr style=\"text-align: right;\">\n",
       "      <th></th>\n",
       "      <th>laptop_ID</th>\n",
       "      <th>Company</th>\n",
       "      <th>Product</th>\n",
       "      <th>TypeName</th>\n",
       "      <th>Inches</th>\n",
       "      <th>ScreenResolution</th>\n",
       "      <th>Cpu</th>\n",
       "      <th>Ram</th>\n",
       "      <th>Memory</th>\n",
       "      <th>Gpu</th>\n",
       "      <th>OpSys</th>\n",
       "      <th>Weight</th>\n",
       "      <th>Price_euros</th>\n",
       "    </tr>\n",
       "  </thead>\n",
       "  <tbody>\n",
       "    <tr>\n",
       "      <th>0</th>\n",
       "      <td>705</td>\n",
       "      <td>Asus</td>\n",
       "      <td>Chromebook Flip</td>\n",
       "      <td>2 in 1 Convertible</td>\n",
       "      <td>12.5</td>\n",
       "      <td>Full HD / Touchscreen 1920x1080</td>\n",
       "      <td>Intel Core M M3-6Y30 0.9GHz</td>\n",
       "      <td>4GB</td>\n",
       "      <td>64GB Flash Storage</td>\n",
       "      <td>Intel HD Graphics 515</td>\n",
       "      <td>Chrome OS</td>\n",
       "      <td>1.2kg</td>\n",
       "      <td>669.0</td>\n",
       "    </tr>\n",
       "    <tr>\n",
       "      <th>1</th>\n",
       "      <td>442</td>\n",
       "      <td>Asus</td>\n",
       "      <td>Rog Strix</td>\n",
       "      <td>Gaming</td>\n",
       "      <td>17.3</td>\n",
       "      <td>Full HD 1920x1080</td>\n",
       "      <td>AMD Ryzen 1600 3.2GHz</td>\n",
       "      <td>8GB</td>\n",
       "      <td>256GB SSD +  1TB HDD</td>\n",
       "      <td>AMD Radeon RX 580</td>\n",
       "      <td>Windows 10</td>\n",
       "      <td>3.2kg</td>\n",
       "      <td>1695.0</td>\n",
       "    </tr>\n",
       "    <tr>\n",
       "      <th>2</th>\n",
       "      <td>743</td>\n",
       "      <td>Lenovo</td>\n",
       "      <td>V310-15IKB (i7-7500U/4GB/1TB/FHD/W10)</td>\n",
       "      <td>Notebook</td>\n",
       "      <td>15.6</td>\n",
       "      <td>Full HD 1920x1080</td>\n",
       "      <td>Intel Core i7 7500U 2.7GHz</td>\n",
       "      <td>4GB</td>\n",
       "      <td>1TB HDD</td>\n",
       "      <td>Intel HD Graphics 620</td>\n",
       "      <td>Windows 10</td>\n",
       "      <td>1.85kg</td>\n",
       "      <td>779.0</td>\n",
       "    </tr>\n",
       "    <tr>\n",
       "      <th>3</th>\n",
       "      <td>875</td>\n",
       "      <td>Dell</td>\n",
       "      <td>XPS 13</td>\n",
       "      <td>Ultrabook</td>\n",
       "      <td>13.3</td>\n",
       "      <td>Quad HD+ / Touchscreen 3200x1800</td>\n",
       "      <td>Intel Core i7 7660U 2.5GHz</td>\n",
       "      <td>16GB</td>\n",
       "      <td>512GB SSD</td>\n",
       "      <td>Intel Iris Plus Graphics 640</td>\n",
       "      <td>Windows 10</td>\n",
       "      <td>1.29kg</td>\n",
       "      <td>2240.0</td>\n",
       "    </tr>\n",
       "    <tr>\n",
       "      <th>4</th>\n",
       "      <td>1194</td>\n",
       "      <td>Lenovo</td>\n",
       "      <td>B51-80 (i7-6500U/4GB/1008GB/FHD/W7)</td>\n",
       "      <td>Notebook</td>\n",
       "      <td>15.6</td>\n",
       "      <td>Full HD 1920x1080</td>\n",
       "      <td>Intel Core i7 6500U 2.5GHz</td>\n",
       "      <td>4GB</td>\n",
       "      <td>1.0TB Hybrid</td>\n",
       "      <td>Intel HD Graphics 520</td>\n",
       "      <td>Windows 7</td>\n",
       "      <td>2.32kg</td>\n",
       "      <td>825.0</td>\n",
       "    </tr>\n",
       "  </tbody>\n",
       "</table>\n",
       "</div>"
      ],
      "text/plain": [
       "   laptop_ID Company                                Product  \\\n",
       "0        705    Asus                        Chromebook Flip   \n",
       "1        442    Asus                              Rog Strix   \n",
       "2        743  Lenovo  V310-15IKB (i7-7500U/4GB/1TB/FHD/W10)   \n",
       "3        875    Dell                                 XPS 13   \n",
       "4       1194  Lenovo    B51-80 (i7-6500U/4GB/1008GB/FHD/W7)   \n",
       "\n",
       "             TypeName  Inches                  ScreenResolution  \\\n",
       "0  2 in 1 Convertible    12.5   Full HD / Touchscreen 1920x1080   \n",
       "1              Gaming    17.3                 Full HD 1920x1080   \n",
       "2            Notebook    15.6                 Full HD 1920x1080   \n",
       "3           Ultrabook    13.3  Quad HD+ / Touchscreen 3200x1800   \n",
       "4            Notebook    15.6                 Full HD 1920x1080   \n",
       "\n",
       "                           Cpu   Ram                Memory  \\\n",
       "0  Intel Core M M3-6Y30 0.9GHz   4GB    64GB Flash Storage   \n",
       "1        AMD Ryzen 1600 3.2GHz   8GB  256GB SSD +  1TB HDD   \n",
       "2   Intel Core i7 7500U 2.7GHz   4GB               1TB HDD   \n",
       "3   Intel Core i7 7660U 2.5GHz  16GB             512GB SSD   \n",
       "4   Intel Core i7 6500U 2.5GHz   4GB          1.0TB Hybrid   \n",
       "\n",
       "                            Gpu       OpSys  Weight  Price_euros  \n",
       "0         Intel HD Graphics 515   Chrome OS   1.2kg        669.0  \n",
       "1             AMD Radeon RX 580  Windows 10   3.2kg       1695.0  \n",
       "2         Intel HD Graphics 620  Windows 10  1.85kg        779.0  \n",
       "3  Intel Iris Plus Graphics 640  Windows 10  1.29kg       2240.0  \n",
       "4         Intel HD Graphics 520   Windows 7  2.32kg        825.0  "
      ]
     },
     "execution_count": 516,
     "metadata": {},
     "output_type": "execute_result"
    }
   ],
   "source": [
    "df.head()"
   ]
  },
  {
   "attachments": {},
   "cell_type": "markdown",
   "metadata": {},
   "source": [
    "**고민해야할 것**\n",
    "\n",
    "- product, gpu , weight 를 범주형 변수로 처리 할 것인가  ?\n",
    "    - train set 과 test set 의 프로덕트들이 동일해야 범주형 변수가 의미가 있다 "
   ]
  },
  {
   "cell_type": "code",
   "execution_count": 517,
   "metadata": {},
   "outputs": [
    {
     "name": "stdout",
     "output_type": "stream",
     "text": [
      "Company\t0\n",
      "Product\t143\n",
      "TypeName\t0\n",
      "ScreenResolution\t3\n",
      "Cpu\t16\n",
      "Ram\t0\n",
      "Memory\t3\n",
      "Gpu\t16\n",
      "OpSys\t0\n",
      "Weight\t15\n"
     ]
    }
   ],
   "source": [
    "# test set 과 train set 의 범주형 변수들은 같을까 ? 같다면 더미변수화 해도 되고 다르다면 더미변수화를 하면 안된다 \n",
    "\n",
    "obj_value = df.describe(include = 'O').columns\n",
    "\n",
    "need_processing = []\n",
    "\n",
    "for col in obj_value:\n",
    "    \n",
    "    test_un = set(test[col].unique())\n",
    "    train_un = set(train[col].unique())\n",
    "    \n",
    "    num = len(test_un - train_un)    \n",
    "    print(col, num, sep = '\\t')\n",
    "    \n",
    "    if num > 0:\n",
    "        need_processing.append(col)"
   ]
  },
  {
   "cell_type": "code",
   "execution_count": 518,
   "metadata": {},
   "outputs": [
    {
     "data": {
      "text/html": [
       "<div>\n",
       "<style scoped>\n",
       "    .dataframe tbody tr th:only-of-type {\n",
       "        vertical-align: middle;\n",
       "    }\n",
       "\n",
       "    .dataframe tbody tr th {\n",
       "        vertical-align: top;\n",
       "    }\n",
       "\n",
       "    .dataframe thead th {\n",
       "        text-align: right;\n",
       "    }\n",
       "</style>\n",
       "<table border=\"1\" class=\"dataframe\">\n",
       "  <thead>\n",
       "    <tr style=\"text-align: right;\">\n",
       "      <th></th>\n",
       "      <th>Product</th>\n",
       "      <th>ScreenResolution</th>\n",
       "      <th>Cpu</th>\n",
       "      <th>Memory</th>\n",
       "      <th>Gpu</th>\n",
       "      <th>Weight</th>\n",
       "    </tr>\n",
       "  </thead>\n",
       "  <tbody>\n",
       "    <tr>\n",
       "      <th>0</th>\n",
       "      <td>Chromebook Flip</td>\n",
       "      <td>Full HD / Touchscreen 1920x1080</td>\n",
       "      <td>Intel Core M M3-6Y30 0.9GHz</td>\n",
       "      <td>64GB Flash Storage</td>\n",
       "      <td>Intel HD Graphics 515</td>\n",
       "      <td>1.2kg</td>\n",
       "    </tr>\n",
       "    <tr>\n",
       "      <th>1</th>\n",
       "      <td>Rog Strix</td>\n",
       "      <td>Full HD 1920x1080</td>\n",
       "      <td>AMD Ryzen 1600 3.2GHz</td>\n",
       "      <td>256GB SSD +  1TB HDD</td>\n",
       "      <td>AMD Radeon RX 580</td>\n",
       "      <td>3.2kg</td>\n",
       "    </tr>\n",
       "    <tr>\n",
       "      <th>2</th>\n",
       "      <td>V310-15IKB (i7-7500U/4GB/1TB/FHD/W10)</td>\n",
       "      <td>Full HD 1920x1080</td>\n",
       "      <td>Intel Core i7 7500U 2.7GHz</td>\n",
       "      <td>1TB HDD</td>\n",
       "      <td>Intel HD Graphics 620</td>\n",
       "      <td>1.85kg</td>\n",
       "    </tr>\n",
       "    <tr>\n",
       "      <th>3</th>\n",
       "      <td>XPS 13</td>\n",
       "      <td>Quad HD+ / Touchscreen 3200x1800</td>\n",
       "      <td>Intel Core i7 7660U 2.5GHz</td>\n",
       "      <td>512GB SSD</td>\n",
       "      <td>Intel Iris Plus Graphics 640</td>\n",
       "      <td>1.29kg</td>\n",
       "    </tr>\n",
       "    <tr>\n",
       "      <th>4</th>\n",
       "      <td>B51-80 (i7-6500U/4GB/1008GB/FHD/W7)</td>\n",
       "      <td>Full HD 1920x1080</td>\n",
       "      <td>Intel Core i7 6500U 2.5GHz</td>\n",
       "      <td>1.0TB Hybrid</td>\n",
       "      <td>Intel HD Graphics 520</td>\n",
       "      <td>2.32kg</td>\n",
       "    </tr>\n",
       "  </tbody>\n",
       "</table>\n",
       "</div>"
      ],
      "text/plain": [
       "                                 Product                  ScreenResolution  \\\n",
       "0                        Chromebook Flip   Full HD / Touchscreen 1920x1080   \n",
       "1                              Rog Strix                 Full HD 1920x1080   \n",
       "2  V310-15IKB (i7-7500U/4GB/1TB/FHD/W10)                 Full HD 1920x1080   \n",
       "3                                 XPS 13  Quad HD+ / Touchscreen 3200x1800   \n",
       "4    B51-80 (i7-6500U/4GB/1008GB/FHD/W7)                 Full HD 1920x1080   \n",
       "\n",
       "                           Cpu                Memory  \\\n",
       "0  Intel Core M M3-6Y30 0.9GHz    64GB Flash Storage   \n",
       "1        AMD Ryzen 1600 3.2GHz  256GB SSD +  1TB HDD   \n",
       "2   Intel Core i7 7500U 2.7GHz               1TB HDD   \n",
       "3   Intel Core i7 7660U 2.5GHz             512GB SSD   \n",
       "4   Intel Core i7 6500U 2.5GHz          1.0TB Hybrid   \n",
       "\n",
       "                            Gpu  Weight  \n",
       "0         Intel HD Graphics 515   1.2kg  \n",
       "1             AMD Radeon RX 580   3.2kg  \n",
       "2         Intel HD Graphics 620  1.85kg  \n",
       "3  Intel Iris Plus Graphics 640  1.29kg  \n",
       "4         Intel HD Graphics 520  2.32kg  "
      ]
     },
     "execution_count": 518,
     "metadata": {},
     "output_type": "execute_result"
    }
   ],
   "source": [
    "df[need_processing].head()"
   ]
  },
  {
   "attachments": {},
   "cell_type": "markdown",
   "metadata": {},
   "source": [
    "**계획**\n",
    "\n",
    "> 1. product 는 어떻게 할지 모르겠다 좀 더 생각해보자 \n",
    "> 2. 화면 비율은 숫자로 시작하는 것들만 추출하자 1920 x 1080 과 같은 것을 말이다.\n",
    "> 3. CPU 는 intel 과 AMD 만 있는 것 같은데 해당 경우의 표기법들을 보자 \n",
    "> 4. Memory 는 SSD 냐 HDD냐에 따라 다를 수 있을 것이다. 그리고 용량을 TB,GB를 통일 시켜줄 필요가 있다.\n",
    "> 5. weight 는 수치형 변수로 처리하자 \n"
   ]
  },
  {
   "attachments": {},
   "cell_type": "markdown",
   "metadata": {},
   "source": [
    "# **ScreenResolution**"
   ]
  },
  {
   "cell_type": "code",
   "execution_count": 519,
   "metadata": {},
   "outputs": [
    {
     "name": "stdout",
     "output_type": "stream",
     "text": [
      "Test set 에는 있고 Train set에는 없는 경우 \n",
      "{'IPS Panel Full HD 1366x768',\n",
      " 'IPS Panel Touchscreen 2400x1600',\n",
      " 'Touchscreen / 4K Ultra HD 3840x2160'}\n"
     ]
    }
   ],
   "source": [
    "# 맨 처음 화면 비율은 숫자로만 생각하려 했으나 Full HD 인지 OLED 인지 터치 스크린인지 등 다양한 것이 고려되어야 한다 \n",
    "# Test set 과 Train set 에서 다른 변수가 3개 밖에 없었으니 그 변수 3개를 수정을 하는 것이 나을 것 같다 \n",
    "\n",
    "\n",
    "train_screen = set(df['ScreenResolution'].unique())\n",
    "test_screen = set(test['ScreenResolution'].unique())\n",
    "\n",
    "print('Test set 에는 있고 Train set에는 없는 경우 ')\n",
    "\n",
    "pprint(\n",
    "    test_screen - train_screen\n",
    ")"
   ]
  },
  {
   "cell_type": "code",
   "execution_count": 520,
   "metadata": {},
   "outputs": [
    {
     "name": "stdout",
     "output_type": "stream",
     "text": [
      "array(['IPS Panel Full HD 1920x1080', 'IPS Panel Full HD 2560x1440',\n",
      "       'IPS Panel 2560x1440', 'IPS Panel Full HD / Touchscreen 1920x1080',\n",
      "       'IPS Panel 1366x768', 'IPS Panel Quad HD+ 2560x1440',\n",
      "       'IPS Panel Quad HD+ / Touchscreen 3200x1800',\n",
      "       'IPS Panel Retina Display 2560x1600',\n",
      "       'IPS Panel Retina Display 2304x1440',\n",
      "       'IPS Panel 4K Ultra HD / Touchscreen 3840x2160',\n",
      "       'IPS Panel Retina Display 2736x1824',\n",
      "       'IPS Panel Touchscreen 2560x1440',\n",
      "       'IPS Panel 4K Ultra HD 3840x2160',\n",
      "       'IPS Panel Touchscreen 1366x768',\n",
      "       'IPS Panel Touchscreen / 4K Ultra HD 3840x2160',\n",
      "       'IPS Panel Retina Display 2880x1800',\n",
      "       'IPS Panel Full HD 2160x1440', 'IPS Panel Touchscreen 1920x1200',\n",
      "       'IPS Panel Quad HD+ 3200x1800', 'IPS Panel Full HD 1920x1200'],\n",
      "      dtype=object)\n"
     ]
    }
   ],
   "source": [
    "cond = df['ScreenResolution'].map(lambda x: x.split(' ')[0]) == 'IPS' # IPS로 시작하는 경우들\n",
    "\n",
    "pprint(df.loc[cond,'ScreenResolution'].unique())\n",
    "\n",
    "# 바꿔줄 변수 목록 \n",
    "\n",
    "# 'IPS Panel Full HD 1366x768' -> 'IPS Panel 1366x768' "
   ]
  },
  {
   "cell_type": "code",
   "execution_count": 521,
   "metadata": {},
   "outputs": [],
   "source": [
    "cond = test['ScreenResolution'] == 'IPS Panel Full HD 1366x768'\n",
    "\n",
    "test.loc[cond,'ScreenResolution'] = 'IPS Panel 1366x768' "
   ]
  },
  {
   "attachments": {},
   "cell_type": "markdown",
   "metadata": {},
   "source": [
    "* 터치 스크린 유무가 가격 차이에 유의미 할까 ? "
   ]
  },
  {
   "cell_type": "code",
   "execution_count": 522,
   "metadata": {},
   "outputs": [],
   "source": [
    "cond = df['ScreenResolution'].map(lambda x:x.split()[-2] if len(x.split()) >= 2 else x) == 'Touchscreen'\n",
    "\n",
    "df['Size'] = df['ScreenResolution'].map(lambda x: x.split()[-1])\n",
    "\n",
    "df['Touchscreen'] = 0\n",
    "\n",
    "df.loc[cond,'Touchscreen'] = 1"
   ]
  },
  {
   "cell_type": "code",
   "execution_count": 523,
   "metadata": {},
   "outputs": [
    {
     "data": {
      "text/plain": [
       "Text(0.5, 1.0, 'Touch screen 유무에 따른 가격 차이')"
      ]
     },
     "execution_count": 523,
     "metadata": {},
     "output_type": "execute_result"
    },
    {
     "data": {
      "image/png": "[encoded data removed]",
      "text/plain": [
       "<Figure size 2000x500 with 1 Axes>"
      ]
     },
     "metadata": {},
     "output_type": "display_data"
    }
   ],
   "source": [
    "plt.figure(figsize = (20,5))\n",
    "\n",
    "sns.boxplot(data = df,\n",
    "            x = 'Size',\n",
    "            y = 'Price_euros',\n",
    "            hue = 'Touchscreen')\n",
    "\n",
    "plt.title('Touch screen 유무에 따른 가격 차이')"
   ]
  },
  {
   "attachments": {},
   "cell_type": "markdown",
   "metadata": {},
   "source": [
    "* 그렇게 큰 차이가 나는 거 같지는 않다. 컴퓨터의 사양이 더 중요한거니까 .. \n",
    "* 사이즈가 가장 비슷한 변수로 채우자 "
   ]
  },
  {
   "attachments": {},
   "cell_type": "markdown",
   "metadata": {},
   "source": [
    "* 'IPS Panel Touchscreen 2400x1600',\n",
    "* 'Touchscreen / 4K Ultra HD 3840x2160'"
   ]
  },
  {
   "cell_type": "code",
   "execution_count": 524,
   "metadata": {},
   "outputs": [],
   "source": [
    "cond = df['ScreenResolution'].map(lambda x : x.split()[-1]) == '2400x1600'\n",
    "\n",
    "test.loc[test['ScreenResolution'] == 'IPS Panel Touchscreen 2400x1600', 'ScreenResolution'] = df.loc[cond,'ScreenResolution'].values[0]"
   ]
  },
  {
   "cell_type": "code",
   "execution_count": 525,
   "metadata": {},
   "outputs": [],
   "source": [
    "cond = df['ScreenResolution'].map(lambda x : x.split()[-1]) == '3840x2160'\n",
    "\n",
    "\n",
    "test.loc[test['ScreenResolution'] == 'Touchscreen / 4K Ultra HD 3840x2160', 'ScreenResolution'] = 'IPS Panel 4K Ultra HD / Touchscreen 3840x2160'"
   ]
  },
  {
   "attachments": {},
   "cell_type": "markdown",
   "metadata": {},
   "source": [
    "**CPU**"
   ]
  },
  {
   "cell_type": "code",
   "execution_count": 526,
   "metadata": {},
   "outputs": [
    {
     "name": "stdout",
     "output_type": "stream",
     "text": [
      "Test set 에는 있고 Train set에는 없는 경우 \n",
      "{'AMD A12-Series 9700P 2.5GHz',\n",
      " 'AMD E-Series E2-9000e 1.5GHz',\n",
      " 'AMD FX 8800P 2.1GHz',\n",
      " 'AMD FX 9830P 3GHz',\n",
      " 'Intel Atom x5-Z8300 1.44GHz',\n",
      " 'Intel Celeron Dual Core N3060 1.60GHz',\n",
      " 'Intel Core M 1.1GHz',\n",
      " 'Intel Core M 6Y54 1.1GHz',\n",
      " 'Intel Core M 7Y30 1.0GHz',\n",
      " 'Intel Core M m3-7Y30 2.2GHz',\n",
      " 'Intel Core i5 6440HQ 2.6GHz',\n",
      " 'Intel Core i5 7500U 2.7GHz',\n",
      " 'Intel Core i5 7Y57 1.2GHz',\n",
      " 'Intel Core i7 2.7GHz',\n",
      " 'Intel Core i7 6560U 2.2GHz',\n",
      " 'Samsung Cortex A72&A53 2.0GHz'}\n"
     ]
    }
   ],
   "source": [
    "train_cpu = set(df['Cpu'])\n",
    "test_cpu = set(test['Cpu'])\n",
    "\n",
    "print('Test set 에는 있고 Train set에는 없는 경우 ')\n",
    "\n",
    "pprint(\n",
    "    test_cpu - train_cpu\n",
    ")"
   ]
  },
  {
   "cell_type": "code",
   "execution_count": 527,
   "metadata": {},
   "outputs": [],
   "source": [
    "intel_m_idx_list = []\n",
    "intel_i5_idx_list = []\n",
    "intel_i7_idx_list = []\n",
    "\n",
    "amd_idx_list = []\n",
    "\n",
    "for num,var in enumerate(df['Cpu'].map(lambda x: x.split()[:3])):\n",
    "    \n",
    "    if var[0] == 'Intel':\n",
    "        if var[1] == 'Core':\n",
    "            if var[2] == 'M':\n",
    "                intel_m_idx_list.append(num)\n",
    "            if var[2] == 'i5':\n",
    "                intel_i5_idx_list.append(num)\n",
    "            if var[2] == 'i7':\n",
    "                intel_i7_idx_list.append(num)\n",
    "                \n",
    "    if var[0] == 'AMD':\n",
    "        amd_idx_list.append(num)"
   ]
  },
  {
   "cell_type": "code",
   "execution_count": 528,
   "metadata": {},
   "outputs": [],
   "source": [
    "need_update = [\n",
    "    'Intel Core M 1.1GHz',\n",
    "    'Intel Core M 6Y54 1.1GHz',\n",
    "    'Intel Core M 7Y30 1.0GHz',\n",
    "    'Intel Core M m3-7Y30 2.2GHz',\n",
    "]\n",
    "\n",
    "for up in need_update:\n",
    "\n",
    "    test.loc[test['Cpu'] == up, 'Cpu'] = df.loc[intel_m_idx_list].mode()['Cpu'][0] "
   ]
  },
  {
   "cell_type": "code",
   "execution_count": 529,
   "metadata": {},
   "outputs": [
    {
     "data": {
      "text/plain": [
       "array(['Intel Core i7 7500U 2.7GHz', 'Intel Core i7 7660U 2.5GHz',\n",
       "       'Intel Core i7 6500U 2.5GHz', 'Intel Core i7 7700HQ 2.8GHz',\n",
       "       'Intel Core i7 7820HK 2.9GHz', 'Intel Core i7 8550U 1.8GHz',\n",
       "       'Intel Core i7 6600U 2.6GHz', 'Intel Core i7 6820HK 2.7GHz',\n",
       "       'Intel Core i7 6700HQ 2.6GHz', 'Intel Core i7 7600U 2.8GHz',\n",
       "       'Intel Core i7 7Y75 1.3GHz', 'Intel Core i7 8650U 1.9GHz',\n",
       "       'Intel Core i7 6920HQ 2.9GHz', 'Intel Core i7 6820HQ 2.7GHz',\n",
       "       'Intel Core i7 7560U 2.4GHz', 'Intel Core i7 2.2GHz',\n",
       "       'Intel Core i7 7820HQ 2.9GHz', 'Intel Core i7 6500U 2.50GHz',\n",
       "       'Intel Core i7 2.8GHz', 'Intel Core i7 7500U 2.5GHz',\n",
       "       'Intel Core i7 2.9GHz', 'Intel Core i7 7700HQ 2.7GHz'],\n",
       "      dtype=object)"
      ]
     },
     "execution_count": 529,
     "metadata": {},
     "output_type": "execute_result"
    }
   ],
   "source": [
    "df.loc[intel_i7_idx_list]['Cpu'].unique()"
   ]
  },
  {
   "cell_type": "code",
   "execution_count": 530,
   "metadata": {},
   "outputs": [],
   "source": [
    "need_update = [\n",
    "    'Intel Core i5 6440HQ 2.6GHz',\n",
    "    'Intel Core i5 7500U 2.7GHz',\n",
    "    'Intel Core i5 7Y57 1.2GHz',\n",
    "    'Intel Core i7 2.7GHz',\n",
    "    'Intel Core i7 6560U 2.2GHz'\n",
    "]\n",
    "\n",
    "test.loc[test['Cpu'] == need_update[0], 'Cpu'] = 'Intel Core i5 6300U 2.4GHz'\n",
    "test.loc[test['Cpu'] == need_update[1], 'Cpu'] = 'Intel Core i5 7300HQ 2.5GHz'\n",
    "test.loc[test['Cpu'] == need_update[2], 'Cpu'] = 'Intel Core i5 7Y54 1.2GHz'\n",
    "test.loc[test['Cpu'] == need_update[3], 'Cpu'] = 'Intel Core i7 6820HK 2.7GHz'\n",
    "test.loc[test['Cpu'] == need_update[4], 'Cpu'] = 'Intel Core i7 6500U 2.50GHz'\n"
   ]
  },
  {
   "cell_type": "code",
   "execution_count": 531,
   "metadata": {},
   "outputs": [],
   "source": [
    "need_update = [\n",
    "    'AMD A12-Series 9700P 2.5GHz',\n",
    "    'AMD E-Series E2-9000e 1.5GHz',\n",
    "    'AMD FX 8800P 2.1GHz',\n",
    "    'AMD FX 9830P 3GHz'\n",
    "]\n",
    "\n",
    "# 비슷한 제품으로 변경하기 \n",
    "test.loc[test['Cpu'] == need_update[0], 'Cpu'] = 'AMD A12-Series 9720P 2.7GHz'\n",
    "test.loc[test['Cpu'] == need_update[1], 'Cpu'] = 'AMD E-Series E2-9000 2.2GHz'\n",
    "\n",
    "# 웹서핑을 통해 비슷한 제품으로 변경 \n",
    "test.loc[test['Cpu'] == need_update[2], 'Cpu'] = 'AMD A8-Series 7410 2.2GHz'\n",
    "test.loc[test['Cpu'] == need_update[3], 'Cpu'] = 'AMD A9-Series 9420 2.9GHz'"
   ]
  },
  {
   "cell_type": "code",
   "execution_count": 532,
   "metadata": {},
   "outputs": [
    {
     "name": "stdout",
     "output_type": "stream",
     "text": [
      "{'Intel Atom x5-Z8300 1.44GHz',\n",
      " 'Intel Celeron Dual Core N3060 1.60GHz',\n",
      " 'Samsung Cortex A72&A53 2.0GHz'}\n"
     ]
    }
   ],
   "source": [
    "pprint(set(test['Cpu']) - set(df['Cpu']))"
   ]
  },
  {
   "cell_type": "code",
   "execution_count": 533,
   "metadata": {},
   "outputs": [
    {
     "data": {
      "text/plain": [
       "Intel Core i5 7200U 2.5GHz     143\n",
       "Intel Core i5 8250U 1.6GHz      45\n",
       "Intel Core i5 6200U 2.3GHz      43\n",
       "Intel Core i5 7300HQ 2.5GHz     21\n",
       "Intel Core i5 7300U 2.6GHz      11\n",
       "Intel Core i5 6300U 2.4GHz       9\n",
       "Intel Core i5 6300HQ 2.3GHz      4\n",
       "Intel Core i5 1.6GHz             3\n",
       "Intel Core i5 7Y54 1.2GHz        3\n",
       "Intel Core i5 3.1GHz             2\n",
       "Intel Core i5 2.3GHz             2\n",
       "Intel Core i5 6260U 1.8GHz       1\n",
       "Intel Core i5 7200U 2.70GHz      1\n",
       "Intel Core i5 7440HQ 2.8GHz      1\n",
       "Intel Core i5 1.8GHz             1\n",
       "Intel Core i5 2.9GHz             1\n",
       "Intel Core i5 7200U 2.50GHz      1\n",
       "Intel Core i5 2.0GHz             1\n",
       "Intel Core i5 7200U 2.7GHz       1\n",
       "Intel Core i5 1.3GHz             1\n",
       "Name: Cpu, dtype: int64"
      ]
     },
     "execution_count": 533,
     "metadata": {},
     "output_type": "execute_result"
    }
   ],
   "source": [
    "df.loc[intel_i5_idx_list]['Cpu'].value_counts()"
   ]
  },
  {
   "cell_type": "code",
   "execution_count": 534,
   "metadata": {},
   "outputs": [],
   "source": [
    "test.loc[test['Cpu'] == 'Intel Atom x5-Z8300 1.44GHz','Cpu'] ='Intel Core i5 7200U 2.5GHz'\n",
    "test.loc[test['Cpu'] == 'Intel Celeron Dual Core N3060 1.60GHz','Cpu'] ='Intel Core i5 7200U 2.5GHz'\n",
    "test.loc[test['Cpu'] == 'Samsung Cortex A72&A53 2.0GHz','Cpu'] ='Intel Core i5 7200U 2.5GHz'"
   ]
  },
  {
   "attachments": {},
   "cell_type": "markdown",
   "metadata": {},
   "source": [
    "# **Memory**"
   ]
  },
  {
   "cell_type": "code",
   "execution_count": 535,
   "metadata": {},
   "outputs": [
    {
     "name": "stdout",
     "output_type": "stream",
     "text": [
      "{'512GB SSD +  1.0TB Hybrid', '1.0TB HDD', '16GB SSD'}\n"
     ]
    }
   ],
   "source": [
    "pprint(set(test['Memory']) - set(df['Memory']))"
   ]
  },
  {
   "cell_type": "code",
   "execution_count": 536,
   "metadata": {},
   "outputs": [
    {
     "name": "stdout",
     "output_type": "stream",
     "text": [
      "array(['64GB Flash Storage', '256GB SSD +  1TB HDD', '1TB HDD',\n",
      "       '512GB SSD', '1.0TB Hybrid', '32GB SSD', '500GB HDD', '256GB SSD',\n",
      "       '128GB SSD +  1TB HDD', '128GB SSD', '32GB Flash Storage',\n",
      "       '128GB Flash Storage', '180GB SSD', '512GB SSD +  1TB HDD',\n",
      "       '16GB Flash Storage', '512GB Flash Storage', '2TB HDD',\n",
      "       '256GB SSD +  2TB HDD', '512GB SSD +  256GB SSD', '1TB SSD',\n",
      "       '256GB SSD +  256GB SSD', '508GB Hybrid', '256GB Flash Storage',\n",
      "       '128GB HDD', '256GB SSD +  1.0TB Hybrid', '512GB SSD +  512GB SSD',\n",
      "       '128GB SSD +  2TB HDD', '64GB Flash Storage +  1TB HDD',\n",
      "       '512GB SSD +  2TB HDD', '64GB SSD', '240GB SSD',\n",
      "       '1TB HDD +  1TB HDD', '1TB SSD +  1TB HDD',\n",
      "       '256GB SSD +  500GB HDD', '32GB HDD', '8GB SSD'], dtype=object)\n"
     ]
    }
   ],
   "source": [
    "pprint(df['Memory'].unique())"
   ]
  },
  {
   "cell_type": "code",
   "execution_count": 537,
   "metadata": {},
   "outputs": [],
   "source": [
    "test.loc[test['Memory'] == '512GB SSD +  1.0TB Hybrid', 'Memory'] = '512GB SSD +  1TB HDD'\n",
    "test.loc[test['Memory'] == '1.0TB HDD', 'Memory'] = '1TB HDD'\n",
    "test.loc[test['Memory'] == '16GB SSD', 'Memory'] = '16GB Flash Storage'"
   ]
  },
  {
   "attachments": {},
   "cell_type": "markdown",
   "metadata": {},
   "source": [
    "# **GPU**"
   ]
  },
  {
   "cell_type": "code",
   "execution_count": 538,
   "metadata": {},
   "outputs": [
    {
     "name": "stdout",
     "output_type": "stream",
     "text": [
      "{'AMD FirePro W5130M',\n",
      " 'AMD R4 Graphics',\n",
      " 'AMD Radeon Pro 455',\n",
      " 'AMD Radeon R7 Graphics',\n",
      " 'AMD Radeon R7 M360',\n",
      " 'AMD Radeon R7 M365X',\n",
      " 'AMD Radeon R7 M465',\n",
      " 'AMD Radeon R9 M385',\n",
      " 'AMD Radeon RX 560',\n",
      " 'ARM Mali T860 MP4',\n",
      " 'Intel HD Graphics 530',\n",
      " 'Nvidia GeForce 920',\n",
      " 'Nvidia GeForce 940M',\n",
      " 'Nvidia GeForce GTX 1070M',\n",
      " 'Nvidia GeForce GTX 930MX',\n",
      " 'Nvidia GeForce GTX 940M'}\n"
     ]
    }
   ],
   "source": [
    "pprint(\n",
    "    set(test['Gpu']) - set(df['Gpu'])\n",
    ")"
   ]
  },
  {
   "cell_type": "code",
   "execution_count": 539,
   "metadata": {},
   "outputs": [],
   "source": [
    "amd_cond = df['Gpu'].map(lambda x: x.split()[0]) == 'AMD'\n",
    "intel_cond = df['Gpu'].map(lambda x: x.split()[0]) == 'Intel'\n",
    "Nvidia_cond = df['Gpu'].map(lambda x: x.split()[0]) == 'Nvidia'"
   ]
  },
  {
   "cell_type": "code",
   "execution_count": 540,
   "metadata": {},
   "outputs": [
    {
     "name": "stdout",
     "output_type": "stream",
     "text": [
      "array(['AMD Radeon RX 580', 'AMD Radeon 520', 'AMD Radeon 530',\n",
      "       'AMD Radeon RX 540', 'AMD Radeon R5 M430', 'AMD R17M-M1-70',\n",
      "       'AMD Radeon R2', 'AMD Radeon R7 M440', 'AMD Radeon R7',\n",
      "       'AMD Radeon R5 M330', 'AMD Radeon R7 M445', 'AMD Radeon R5',\n",
      "       'AMD Radeon R4', 'AMD Radeon R5 M420X', 'AMD Radeon R5 M420',\n",
      "       'AMD Radeon 540', 'AMD Radeon RX 550', 'AMD Radeon R3',\n",
      "       'AMD Radeon R2 Graphics', 'AMD Radeon R4 Graphics',\n",
      "       'AMD Radeon R5 M315', 'AMD Radeon R7 M460', 'AMD Radeon R5 520',\n",
      "       'AMD FirePro W4190M ', 'AMD FirePro W6150M', 'AMD Radeon Pro 555',\n",
      "       'AMD FirePro W4190M', 'AMD Radeon Pro 560', 'AMD Radeon R5 430'],\n",
      "      dtype=object)\n"
     ]
    }
   ],
   "source": [
    "pprint(df[amd_cond]['Gpu'].unique())\n",
    "\n",
    "test.loc[test['Gpu'] == 'AMD FirePro W5130M' , 'Gpu'] = 'AMD FirePro W4190M'\n",
    "test.loc[test['Gpu'] == 'AMD R4 Graphics' , 'Gpu'] = 'AMD Radeon R4'\n",
    "test.loc[test['Gpu'] == 'AMD Radeon Pro 455' , 'Gpu'] = 'AMD Radeon Pro 560'\n",
    "test.loc[test['Gpu'] == 'AMD Radeon R7 Graphics' , 'Gpu'] = 'AMD Radeon R7'\n",
    "test.loc[test['Gpu'] == 'AMD Radeon R7 M360' , 'Gpu'] = 'AMD Radeon R7 M440'\n",
    "test.loc[test['Gpu'] == 'AMD Radeon R7 M365X' , 'Gpu'] = 'AMD Radeon R7 M440'\n",
    "test.loc[test['Gpu'] == 'AMD Radeon R7 M465' , 'Gpu'] = 'AMD Radeon R7 M445'\n",
    "test.loc[test['Gpu'] == 'AMD Radeon R9 M385' , 'Gpu'] = 'AMD Radeon Pro 560'\n",
    "test.loc[test['Gpu'] == 'AMD Radeon RX 560' , 'Gpu'] = 'AMD Radeon RX 580'\n",
    "test.loc[test['Gpu'] == 'ARM Mali T860 MP4' , 'Gpu'] = 'AMD Radeon R3'"
   ]
  },
  {
   "cell_type": "code",
   "execution_count": 541,
   "metadata": {},
   "outputs": [],
   "source": [
    "test.loc[test['Gpu'] == 'Intel HD Graphics 530', 'Gpu'] = 'Intel HD Graphics 520'"
   ]
  },
  {
   "cell_type": "code",
   "execution_count": 542,
   "metadata": {},
   "outputs": [
    {
     "name": "stdout",
     "output_type": "stream",
     "text": [
      "array(['Nvidia GeForce GTX 1060', 'Nvidia GeForce GT 940MX',\n",
      "       'Nvidia GeForce GTX 1070', 'Nvidia GeForce GTX 1050 Ti',\n",
      "       'Nvidia GeForce 930MX ', 'Nvidia GeForce GTX 1050Ti',\n",
      "       'Nvidia GeForce GTX 1050', 'Nvidia Quadro M520M',\n",
      "       'Nvidia GeForce 930MX', 'Nvidia GeForce 940MX',\n",
      "       'Nvidia GeForce GTX 980M', 'Nvidia GeForce GTX 950M',\n",
      "       'Nvidia GeForce GTX1080', 'Nvidia GeForce GTX 1080',\n",
      "       'Nvidia GeForce GTX 1050M', 'Nvidia Quadro M1000M',\n",
      "       'Nvidia Quadro M1200', 'Nvidia GeForce MX150',\n",
      "       'Nvidia Quadro M2200', 'Nvidia GeForce 920MX',\n",
      "       'Nvidia GeForce MX130', 'Nvidia Quadro M620M',\n",
      "       'Nvidia GTX 980 SLI', 'Nvidia GeForce GTX1060',\n",
      "       'Nvidia GeForce GTX 960M', 'Nvidia Quadro M620',\n",
      "       'Nvidia GeForce 920MX ', 'Nvidia GeForce 150MX',\n",
      "       'Nvidia GeForce 930M', 'Nvidia GeForce 960M',\n",
      "       'Nvidia GeForce 920M', 'Nvidia GeForce GTX 940MX',\n",
      "       'Nvidia Quadro M2200M', 'Nvidia GeForce GTX 960<U+039C>',\n",
      "       'Nvidia Quadro M500M', 'Nvidia GeForce GTX1050 Ti',\n",
      "       'Nvidia GeForce GTX 965M', 'Nvidia Quadro 3000M',\n",
      "       'Nvidia GeForce GTX 970M', 'Nvidia Quadro M3000M',\n",
      "       'Nvidia GeForce GTX 980 ', 'Nvidia Quadro M2000M',\n",
      "       'Nvidia GeForce GTX 960'], dtype=object)\n"
     ]
    }
   ],
   "source": [
    "pprint(df[Nvidia_cond]['Gpu'].unique())\n",
    "\n",
    "test.loc[test['Gpu'] == 'Nvidia GeForce 920', 'Gpu'] = 'Nvidia GeForce 920MX'\n",
    "test.loc[test['Gpu'] == 'Nvidia GeForce 940M', 'Gpu'] = 'Nvidia GeForce GT 940MX'\n",
    "test.loc[test['Gpu'] == 'Nvidia GeForce GTX 1070M', 'Gpu'] = 'Nvidia GeForce GTX 1080'\n",
    "test.loc[test['Gpu'] == 'Nvidia GeForce GTX 930MX', 'Gpu'] = 'Nvidia GeForce 920MX'\n",
    "test.loc[test['Gpu'] == 'Nvidia GeForce GTX 940M', 'Gpu'] = 'Nvidia GeForce GTX 940MX'"
   ]
  },
  {
   "attachments": {},
   "cell_type": "markdown",
   "metadata": {},
   "source": [
    "# **Weight**"
   ]
  },
  {
   "cell_type": "code",
   "execution_count": 543,
   "metadata": {},
   "outputs": [],
   "source": [
    "df['Weight'] = df['Weight'].map(lambda x: float(x[:-2]))\n",
    "test['Weight'] = test['Weight'].map(lambda x: float(x[:-2]))"
   ]
  },
  {
   "cell_type": "code",
   "execution_count": 544,
   "metadata": {},
   "outputs": [],
   "source": [
    "del df['Size'],df['Touchscreen']"
   ]
  },
  {
   "cell_type": "code",
   "execution_count": 545,
   "metadata": {},
   "outputs": [
    {
     "name": "stdout",
     "output_type": "stream",
     "text": [
      "Company\t0\n",
      "Product\t143\n",
      "TypeName\t0\n",
      "ScreenResolution\t0\n",
      "Cpu\t0\n",
      "Ram\t0\n",
      "Memory\t0\n",
      "Gpu\t0\n",
      "OpSys\t0\n"
     ]
    }
   ],
   "source": [
    "obj_value = df.describe(include = 'O').columns\n",
    "\n",
    "need_processing = []\n",
    "\n",
    "for col in obj_value:\n",
    "    \n",
    "    test_un = set(test[col].unique())\n",
    "    train_un = set(train[col].unique())\n",
    "    \n",
    "    num = len(test_un - train_un)    \n",
    "    print(col, num, sep = '\\t')\n",
    "    \n",
    "    if num > 0:\n",
    "        need_processing.append(col)"
   ]
  },
  {
   "cell_type": "code",
   "execution_count": 548,
   "metadata": {},
   "outputs": [],
   "source": [
    "df = df.drop(['laptop_ID','Product'],axis = 1)\n",
    "test = test.drop(['laptop_ID','Product'],axis = 1)"
   ]
  },
  {
   "attachments": {},
   "cell_type": "markdown",
   "metadata": {},
   "source": [
    "# Modeling"
   ]
  },
  {
   "cell_type": "code",
   "execution_count": 559,
   "metadata": {},
   "outputs": [],
   "source": [
    "from sklearn.preprocessing import LabelEncoder\n",
    "\n",
    "obj_cols = df.describe(include = 'O').columns\n",
    "\n",
    "for col in obj_cols:\n",
    "    \n",
    "    scaler = LabelEncoder()\n",
    "    \n",
    "    df[col] = scaler.fit_transform(df[col])\n",
    "    test[col] = scaler.transform(test[col])"
   ]
  },
  {
   "cell_type": "code",
   "execution_count": 583,
   "metadata": {},
   "outputs": [],
   "source": [
    "from tqdm import tqdm \n",
    "\n",
    "from sklearn.model_selection import train_test_split,GridSearchCV,KFold\n",
    "from sklearn.metrics import mean_absolute_error\n",
    "\n",
    "from sklearn.ensemble import RandomForestRegressor,ExtraTreesRegressor\n",
    "from xgboost import XGBRegressor\n",
    "from lightgbm import LGBMRegressor\n",
    "from catboost import CatBoostRegressor"
   ]
  },
  {
   "cell_type": "code",
   "execution_count": 564,
   "metadata": {},
   "outputs": [],
   "source": [
    "X = df.drop('Price_euros',axis = 1)\n",
    "y = df['Price_euros']\n",
    "\n",
    "x_train,x_test,y_train,y_test = train_test_split(X,y,test_size = 0.2, random_state = 42)"
   ]
  },
  {
   "cell_type": "code",
   "execution_count": 576,
   "metadata": {},
   "outputs": [],
   "source": [
    "rf_param_grid = {\n",
    "    'n_estimators': [100, 200, 500],\n",
    "    'max_features': ['auto', 'sqrt'],\n",
    "    'max_depth': [None, 5, 10],\n",
    "    'min_samples_split': [2, 5, 10],\n",
    "    'min_samples_leaf': [1, 2, 4],\n",
    "    'bootstrap': [True, False]\n",
    "}\n",
    "\n",
    "et_param_grid = {\n",
    "    'n_estimators': [100, 200, 500],\n",
    "    'max_features': ['auto', 'sqrt'],\n",
    "    'max_depth': [None, 5, 10],\n",
    "    'min_samples_split': [2, 5, 10],\n",
    "    'min_samples_leaf': [1, 2, 4],\n",
    "    'bootstrap': [True, False]\n",
    "}\n",
    "\n",
    "xgb_param_grid = {\n",
    "    'n_estimators': [100, 200, 500],\n",
    "    'max_depth': [3, 5, 7],\n",
    "    'learning_rate': [0.01, 0.1, 0.2],\n",
    "    'subsample': [0.8, 1.0],\n",
    "    'colsample_bytree': [0.8, 1.0]\n",
    "}\n",
    "\n",
    "lgbm_param_grid = {\n",
    "    'n_estimators': [100, 200, 500],\n",
    "    'max_depth': [3, 5, 7],\n",
    "    'learning_rate': [0.01, 0.1, 0.2],\n",
    "    'subsample': [0.8, 1.0],\n",
    "    'colsample_bytree': [0.8, 1.0]\n",
    "}\n",
    "\n",
    "catboost_param_grid = {\n",
    "    'iterations': [100, 200, 500],\n",
    "    'depth': [3, 5, 7],\n",
    "    'learning_rate': [0.01, 0.1, 0.2],\n",
    "    'subsample': [0.8, 1.0],\n",
    "    'colsample_bylevel': [0.8, 1.0]\n",
    "}"
   ]
  },
  {
   "cell_type": "code",
   "execution_count": 597,
   "metadata": {},
   "outputs": [],
   "source": [
    "models = [RandomForestRegressor(),ExtraTreesRegressor(), XGBRegressor(), LGBMRegressor(verbose = -1), CatBoostRegressor(verbose = 0)]\n",
    "params = [rf_param_grid,et_param_grid,xgb_param_grid,lgbm_param_grid,catboost_param_grid]\n",
    "names = ['RandomForestRegressor','ExtraTreesRegressor', 'XGBRegressor', 'LGBMRegressor', 'CatBoostRegressor']\n"
   ]
  },
  {
   "cell_type": "code",
   "execution_count": 603,
   "metadata": {},
   "outputs": [
    {
     "name": "stderr",
     "output_type": "stream",
     "text": [
      "0it [00:00, ?it/s]"
     ]
    },
    {
     "name": "stdout",
     "output_type": "stream",
     "text": [
      "----------------------------------------\n",
      "RandomForestRegressor 진행중\n"
     ]
    },
    {
     "name": "stderr",
     "output_type": "stream",
     "text": [
      "1it [07:51, 471.69s/it]"
     ]
    },
    {
     "name": "stdout",
     "output_type": "stream",
     "text": [
      "5 FOLD 평균 점수\t198.33\n",
      "단일 모델 OOF 점수\t193.35\n",
      "----------------------------------------\n",
      "ExtraTreesRegressor 진행중\n"
     ]
    },
    {
     "name": "stderr",
     "output_type": "stream",
     "text": [
      "2it [13:32, 394.48s/it]"
     ]
    },
    {
     "name": "stdout",
     "output_type": "stream",
     "text": [
      "5 FOLD 평균 점수\t208.0\n",
      "단일 모델 OOF 점수\t192.78\n",
      "----------------------------------------\n",
      "XGBRegressor 진행중\n"
     ]
    },
    {
     "name": "stderr",
     "output_type": "stream",
     "text": [
      "3it [15:20, 263.98s/it]"
     ]
    },
    {
     "name": "stdout",
     "output_type": "stream",
     "text": [
      "5 FOLD 평균 점수\t188.07\n",
      "단일 모델 OOF 점수\t187.91\n",
      "----------------------------------------\n",
      "LGBMRegressor 진행중\n"
     ]
    },
    {
     "name": "stderr",
     "output_type": "stream",
     "text": [
      "4it [16:45, 193.30s/it]"
     ]
    },
    {
     "name": "stdout",
     "output_type": "stream",
     "text": [
      "5 FOLD 평균 점수\t206.21\n",
      "단일 모델 OOF 점수\t190.76\n",
      "----------------------------------------\n",
      "CatBoostRegressor 진행중\n"
     ]
    },
    {
     "name": "stderr",
     "output_type": "stream",
     "text": [
      "5it [18:37, 223.52s/it]"
     ]
    },
    {
     "name": "stdout",
     "output_type": "stream",
     "text": [
      "5 FOLD 평균 점수\t191.52\n",
      "단일 모델 OOF 점수\t186.85\n"
     ]
    },
    {
     "name": "stderr",
     "output_type": "stream",
     "text": [
      "\n"
     ]
    }
   ],
   "source": [
    "cv = KFold(n_splits = 5, random_state = 42, shuffle = True)\n",
    "\n",
    "best_models = []\n",
    "\n",
    "pred_list = []\n",
    "\n",
    "for model_idx,model in tqdm(enumerate(models)):\n",
    "\n",
    "    name = names[model_idx]\n",
    "    \n",
    "    print('--' * 20)\n",
    "    print(name,'진행중')\n",
    "        \n",
    "    param_grid = params[model_idx]\n",
    "    \n",
    "    grid_model = GridSearchCV(model, param_grid = param_grid, cv = cv, scoring = 'neg_mean_absolute_error')\n",
    "    \n",
    "    grid_model.fit(x_train,y_train)\n",
    "    \n",
    "    best_models.append(grid_model.best_estimator_)\n",
    "    \n",
    "    print('5 FOLD 평균 점수',round(np.abs(grid_model.best_score_),2),sep = '\\t')\n",
    "    \n",
    "    pred = grid_model.best_estimator_.predict(x_test)\n",
    "    pred_list.append(pred)\n",
    "    score = mean_absolute_error(y_test,pred)\n",
    "\n",
    "    print('단일 모델 OOF 점수',round(score,2),sep = '\\t')"
   ]
  },
  {
   "cell_type": "code",
   "execution_count": 613,
   "metadata": {},
   "outputs": [
    {
     "name": "stdout",
     "output_type": "stream",
     "text": [
      "앙상블 모델 점수\t178.56\n"
     ]
    }
   ],
   "source": [
    "ensemble_pred = np.mean(pred_list,axis = 0)\n",
    "\n",
    "ensemble_score = round(mean_absolute_error(y_test,ensemble_pred),2)\n",
    "\n",
    "print('앙상블 모델 점수', ensemble_score, sep = '\\t')"
   ]
  },
  {
   "cell_type": "code",
   "execution_count": 622,
   "metadata": {},
   "outputs": [],
   "source": [
    "pred_list = []\n",
    "\n",
    "for model in best_models:\n",
    "    model.fit(X,y)\n",
    "    pred_list.append(model.predict(test))"
   ]
  },
  {
   "cell_type": "code",
   "execution_count": 623,
   "metadata": {},
   "outputs": [],
   "source": [
    "result = np.mean(pred_list,axis = 0)\n",
    "\n",
    "sub['Price_euros'] = result "
   ]
  },
  {
   "cell_type": "code",
   "execution_count": 624,
   "metadata": {},
   "outputs": [],
   "source": [
    "sub.to_csv('ensemble_2.csv',index = False)"
   ]
  },
  {
   "attachments": {},
   "cell_type": "markdown",
   "metadata": {},
   "source": [
    "# **OOF PRED**"
   ]
  },
  {
   "cell_type": "code",
   "execution_count": 631,
   "metadata": {},
   "outputs": [],
   "source": [
    "split = 5 \n",
    "\n",
    "result = np.zeros((len(test)))\n",
    "\n",
    "for i,num in enumerate(range(split)):\n",
    "    \n",
    "    pred_list = np.zeros((len(test)))\n",
    "    \n",
    "    for model in best_models:\n",
    "        \n",
    "        x_train,x_test,y_train,y_test = train_test_split(X,y,random_state = 42 + i)\n",
    "        \n",
    "        model.fit(x_train,y_train)\n",
    "        pred_list += model.predict(test) / len(best_models)\n",
    "        \n",
    "    result += pred_list / split"
   ]
  },
  {
   "cell_type": "code",
   "execution_count": 633,
   "metadata": {},
   "outputs": [],
   "source": [
    "sub['Price_euros'] = result \n",
    "\n",
    "sub.to_csv('OOF.csv',index = False)"
   ]
  },
  {
   "cell_type": "code",
   "execution_count": 634,
   "metadata": {},
   "outputs": [
    {
     "data": {
      "text/html": [
       "<div>\n",
       "<style scoped>\n",
       "    .dataframe tbody tr th:only-of-type {\n",
       "        vertical-align: middle;\n",
       "    }\n",
       "\n",
       "    .dataframe tbody tr th {\n",
       "        vertical-align: top;\n",
       "    }\n",
       "\n",
       "    .dataframe thead th {\n",
       "        text-align: right;\n",
       "    }\n",
       "</style>\n",
       "<table border=\"1\" class=\"dataframe\">\n",
       "  <thead>\n",
       "    <tr style=\"text-align: right;\">\n",
       "      <th></th>\n",
       "      <th>id</th>\n",
       "      <th>Price_euros</th>\n",
       "    </tr>\n",
       "  </thead>\n",
       "  <tbody>\n",
       "    <tr>\n",
       "      <th>0</th>\n",
       "      <td>824</td>\n",
       "      <td>1709.947212</td>\n",
       "    </tr>\n",
       "    <tr>\n",
       "      <th>1</th>\n",
       "      <td>101</td>\n",
       "      <td>428.811636</td>\n",
       "    </tr>\n",
       "    <tr>\n",
       "      <th>2</th>\n",
       "      <td>1157</td>\n",
       "      <td>1960.648400</td>\n",
       "    </tr>\n",
       "    <tr>\n",
       "      <th>3</th>\n",
       "      <td>940</td>\n",
       "      <td>1299.367404</td>\n",
       "    </tr>\n",
       "    <tr>\n",
       "      <th>4</th>\n",
       "      <td>853</td>\n",
       "      <td>1505.325968</td>\n",
       "    </tr>\n",
       "    <tr>\n",
       "      <th>...</th>\n",
       "      <td>...</td>\n",
       "      <td>...</td>\n",
       "    </tr>\n",
       "    <tr>\n",
       "      <th>386</th>\n",
       "      <td>292</td>\n",
       "      <td>592.425976</td>\n",
       "    </tr>\n",
       "    <tr>\n",
       "      <th>387</th>\n",
       "      <td>688</td>\n",
       "      <td>652.995817</td>\n",
       "    </tr>\n",
       "    <tr>\n",
       "      <th>388</th>\n",
       "      <td>910</td>\n",
       "      <td>1122.497079</td>\n",
       "    </tr>\n",
       "    <tr>\n",
       "      <th>389</th>\n",
       "      <td>54</td>\n",
       "      <td>437.599208</td>\n",
       "    </tr>\n",
       "    <tr>\n",
       "      <th>390</th>\n",
       "      <td>1167</td>\n",
       "      <td>540.931684</td>\n",
       "    </tr>\n",
       "  </tbody>\n",
       "</table>\n",
       "<p>391 rows × 2 columns</p>\n",
       "</div>"
      ],
      "text/plain": [
       "       id  Price_euros\n",
       "0     824  1709.947212\n",
       "1     101   428.811636\n",
       "2    1157  1960.648400\n",
       "3     940  1299.367404\n",
       "4     853  1505.325968\n",
       "..    ...          ...\n",
       "386   292   592.425976\n",
       "387   688   652.995817\n",
       "388   910  1122.497079\n",
       "389    54   437.599208\n",
       "390  1167   540.931684\n",
       "\n",
       "[391 rows x 2 columns]"
      ]
     },
     "execution_count": 634,
     "metadata": {},
     "output_type": "execute_result"
    }
   ],
   "source": [
    "sub"
   ]
  }
 ],
 "metadata": {
  "kernelspec": {
   "display_name": "base",
   "language": "python",
   "name": "python3"
  },
  "language_info": {
   "codemirror_mode": {
    "name": "ipython",
    "version": 3
   },
   "file_extension": ".py",
   "mimetype": "text/x-python",
   "name": "python",
   "nbconvert_exporter": "python",
   "pygments_lexer": "ipython3",
   "version": "3.9.13"
  },
  "orig_nbformat": 4
 },
 "nbformat": 4,
 "nbformat_minor": 2
}

{
 "cells": [
  {
   "cell_type": "code",
   "execution_count": 1,
   "id": "ad20666c",
   "metadata": {
    "_cell_guid": "b1076dfc-b9ad-4769-8c92-a6c4dae69d19",
    "_uuid": "8f2839f25d086af736a60e9eeb907d3b93b6e0e5",
    "execution": {
     "iopub.execute_input": "2023-03-06T14:21:52.836328Z",
     "iopub.status.busy": "2023-03-06T14:21:52.835889Z",
     "iopub.status.idle": "2023-03-06T14:21:52.856901Z",
     "shell.execute_reply": "2023-03-06T14:21:52.855890Z"
    },
    "papermill": {
     "duration": 0.037696,
     "end_time": "2023-03-06T14:21:52.859668",
     "exception": false,
     "start_time": "2023-03-06T14:21:52.821972",
     "status": "completed"
    },
    "tags": []
   },
   "outputs": [
    {
     "name": "stdout",
     "output_type": "stream",
     "text": [
      "/kaggle/input/heart-disease-prediction-using-logistic-regression/framingham.csv\n"
     ]
    }
   ],
   "source": [
    "# This Python 3 environment comes with many helpful analytics libraries installed\n",
    "# It is defined by the kaggle/python Docker image: https://github.com/kaggle/docker-python\n",
    "# For example, here's several helpful packages to load\n",
    "\n",
    "import numpy as np # linear algebra\n",
    "import pandas as pd # data processing, CSV file I/O (e.g. pd.read_csv)\n",
    "\n",
    "# Input data files are available in the read-only \"../input/\" directory\n",
    "# For example, running this (by clicking run or pressing Shift+Enter) will list all files under the input directory\n",
    "\n",
    "import os\n",
    "for dirname, _, filenames in os.walk('/kaggle/input'):\n",
    "    for filename in filenames:\n",
    "        print(os.path.join(dirname, filename))\n",
    "\n",
    "# You can write up to 20GB to the current directory (/kaggle/working/) that gets preserved as output when you create a version using \"Save & Run All\" \n",
    "# You can also write temporary files to /kaggle/temp/, but they won't be saved outside of the current session"
   ]
  },
  {
   "cell_type": "code",
   "execution_count": 2,
   "id": "4887952d",
   "metadata": {
    "execution": {
     "iopub.execute_input": "2023-03-06T14:21:52.883439Z",
     "iopub.status.busy": "2023-03-06T14:21:52.882575Z",
     "iopub.status.idle": "2023-03-06T14:21:54.473545Z",
     "shell.execute_reply": "2023-03-06T14:21:54.471720Z"
    },
    "papermill": {
     "duration": 1.606559,
     "end_time": "2023-03-06T14:21:54.476972",
     "exception": false,
     "start_time": "2023-03-06T14:21:52.870413",
     "status": "completed"
    },
    "tags": []
   },
   "outputs": [],
   "source": [
    "import matplotlib.pyplot as plt\n",
    "import seaborn as sns\n",
    "import warnings\n",
    "from sklearn.model_selection import train_test_split"
   ]
  },
  {
   "cell_type": "code",
   "execution_count": 3,
   "id": "0796f2ee",
   "metadata": {
    "execution": {
     "iopub.execute_input": "2023-03-06T14:21:54.499984Z",
     "iopub.status.busy": "2023-03-06T14:21:54.499527Z",
     "iopub.status.idle": "2023-03-06T14:21:54.505379Z",
     "shell.execute_reply": "2023-03-06T14:21:54.503930Z"
    },
    "papermill": {
     "duration": 0.020316,
     "end_time": "2023-03-06T14:21:54.507956",
     "exception": false,
     "start_time": "2023-03-06T14:21:54.487640",
     "status": "completed"
    },
    "tags": []
   },
   "outputs": [],
   "source": [
    "warnings.filterwarnings(action = 'ignore')\n",
    "plt.rc('font',family = 'malgun gothic')"
   ]
  },
  {
   "cell_type": "markdown",
   "id": "bcc0e62e",
   "metadata": {
    "papermill": {
     "duration": 0.011877,
     "end_time": "2023-03-06T14:21:54.530691",
     "exception": false,
     "start_time": "2023-03-06T14:21:54.518814",
     "status": "completed"
    },
    "tags": []
   },
   "source": [
    "* BP Meds: whether or not the patient was on blood pressure medication (Nominal)\n",
    "* Prevalent Stroke: whether or not the patient had previously had a stroke (Nominal)\n",
    "* Prevalent Hyp: whether or not the patient was hypertensive (Nominal)\n",
    "* Diabetes: whether or not the patient had diabetes (Nominal)\n",
    "Medical(current)\n",
    "* Tot Chol: total cholesterol level (Continuous)\n",
    "* Sys BP: systolic blood pressure (Continuous)\n",
    "* Dia BP: diastolic blood pressure (Continuous)\n",
    "* BMI: Body Mass Index (Continuous)\n",
    "* Heart Rate: heart rate (Continuous - In medical research, variables such as heart rate though in fact discrete, yet are considered continuous because of large number of possible values.)\n",
    "* Glucose: glucose level (Continuous)\n",
    "Predict variable (desired target)\n",
    "* 10 year risk of coronary heart disease CHD (binary: “1”, means “Yes”, “0” means “No”)"
   ]
  },
  {
   "cell_type": "code",
   "execution_count": 4,
   "id": "396cf1dc",
   "metadata": {
    "execution": {
     "iopub.execute_input": "2023-03-06T14:21:54.554649Z",
     "iopub.status.busy": "2023-03-06T14:21:54.554204Z",
     "iopub.status.idle": "2023-03-06T14:21:54.587937Z",
     "shell.execute_reply": "2023-03-06T14:21:54.586863Z"
    },
    "papermill": {
     "duration": 0.049648,
     "end_time": "2023-03-06T14:21:54.590783",
     "exception": false,
     "start_time": "2023-03-06T14:21:54.541135",
     "status": "completed"
    },
    "tags": []
   },
   "outputs": [],
   "source": [
    "data = pd.read_csv('/kaggle/input/heart-disease-prediction-using-logistic-regression/framingham.csv')"
   ]
  },
  {
   "cell_type": "code",
   "execution_count": 5,
   "id": "0a24bdb3",
   "metadata": {
    "execution": {
     "iopub.execute_input": "2023-03-06T14:21:54.615553Z",
     "iopub.status.busy": "2023-03-06T14:21:54.614634Z",
     "iopub.status.idle": "2023-03-06T14:21:54.620161Z",
     "shell.execute_reply": "2023-03-06T14:21:54.619174Z"
    },
    "papermill": {
     "duration": 0.020759,
     "end_time": "2023-03-06T14:21:54.622545",
     "exception": false,
     "start_time": "2023-03-06T14:21:54.601786",
     "status": "completed"
    },
    "tags": []
   },
   "outputs": [],
   "source": [
    "df = data.copy()"
   ]
  },
  {
   "cell_type": "code",
   "execution_count": 6,
   "id": "25a807c5",
   "metadata": {
    "execution": {
     "iopub.execute_input": "2023-03-06T14:21:54.646815Z",
     "iopub.status.busy": "2023-03-06T14:21:54.645927Z",
     "iopub.status.idle": "2023-03-06T14:21:54.684609Z",
     "shell.execute_reply": "2023-03-06T14:21:54.682714Z"
    },
    "papermill": {
     "duration": 0.055676,
     "end_time": "2023-03-06T14:21:54.689011",
     "exception": false,
     "start_time": "2023-03-06T14:21:54.633335",
     "status": "completed"
    },
    "tags": []
   },
   "outputs": [
    {
     "name": "stdout",
     "output_type": "stream",
     "text": [
      "<class 'pandas.core.frame.DataFrame'>\n",
      "RangeIndex: 4238 entries, 0 to 4237\n",
      "Data columns (total 16 columns):\n",
      " #   Column           Non-Null Count  Dtype  \n",
      "---  ------           --------------  -----  \n",
      " 0   male             4238 non-null   int64  \n",
      " 1   age              4238 non-null   int64  \n",
      " 2   education        4133 non-null   float64\n",
      " 3   currentSmoker    4238 non-null   int64  \n",
      " 4   cigsPerDay       4209 non-null   float64\n",
      " 5   BPMeds           4185 non-null   float64\n",
      " 6   prevalentStroke  4238 non-null   int64  \n",
      " 7   prevalentHyp     4238 non-null   int64  \n",
      " 8   diabetes         4238 non-null   int64  \n",
      " 9   totChol          4188 non-null   float64\n",
      " 10  sysBP            4238 non-null   float64\n",
      " 11  diaBP            4238 non-null   float64\n",
      " 12  BMI              4219 non-null   float64\n",
      " 13  heartRate        4237 non-null   float64\n",
      " 14  glucose          3850 non-null   float64\n",
      " 15  TenYearCHD       4238 non-null   int64  \n",
      "dtypes: float64(9), int64(7)\n",
      "memory usage: 529.9 KB\n"
     ]
    }
   ],
   "source": [
    "df.info()"
   ]
  },
  {
   "cell_type": "code",
   "execution_count": 7,
   "id": "5b2badef",
   "metadata": {
    "execution": {
     "iopub.execute_input": "2023-03-06T14:21:54.713030Z",
     "iopub.status.busy": "2023-03-06T14:21:54.712574Z",
     "iopub.status.idle": "2023-03-06T14:21:54.752285Z",
     "shell.execute_reply": "2023-03-06T14:21:54.750897Z"
    },
    "papermill": {
     "duration": 0.055229,
     "end_time": "2023-03-06T14:21:54.755471",
     "exception": false,
     "start_time": "2023-03-06T14:21:54.700242",
     "status": "completed"
    },
    "tags": []
   },
   "outputs": [
    {
     "data": {
      "text/html": [
       "<div>\n",
       "<style scoped>\n",
       "    .dataframe tbody tr th:only-of-type {\n",
       "        vertical-align: middle;\n",
       "    }\n",
       "\n",
       "    .dataframe tbody tr th {\n",
       "        vertical-align: top;\n",
       "    }\n",
       "\n",
       "    .dataframe thead th {\n",
       "        text-align: right;\n",
       "    }\n",
       "</style>\n",
       "<table border=\"1\" class=\"dataframe\">\n",
       "  <thead>\n",
       "    <tr style=\"text-align: right;\">\n",
       "      <th></th>\n",
       "      <th>male</th>\n",
       "      <th>age</th>\n",
       "      <th>education</th>\n",
       "      <th>currentSmoker</th>\n",
       "      <th>cigsPerDay</th>\n",
       "      <th>BPMeds</th>\n",
       "      <th>prevalentStroke</th>\n",
       "      <th>prevalentHyp</th>\n",
       "      <th>diabetes</th>\n",
       "      <th>totChol</th>\n",
       "      <th>sysBP</th>\n",
       "      <th>diaBP</th>\n",
       "      <th>BMI</th>\n",
       "      <th>heartRate</th>\n",
       "      <th>glucose</th>\n",
       "      <th>TenYearCHD</th>\n",
       "    </tr>\n",
       "  </thead>\n",
       "  <tbody>\n",
       "    <tr>\n",
       "      <th>0</th>\n",
       "      <td>1</td>\n",
       "      <td>39</td>\n",
       "      <td>4.0</td>\n",
       "      <td>0</td>\n",
       "      <td>0.0</td>\n",
       "      <td>0.0</td>\n",
       "      <td>0</td>\n",
       "      <td>0</td>\n",
       "      <td>0</td>\n",
       "      <td>195.0</td>\n",
       "      <td>106.0</td>\n",
       "      <td>70.0</td>\n",
       "      <td>26.97</td>\n",
       "      <td>80.0</td>\n",
       "      <td>77.0</td>\n",
       "      <td>0</td>\n",
       "    </tr>\n",
       "    <tr>\n",
       "      <th>1</th>\n",
       "      <td>0</td>\n",
       "      <td>46</td>\n",
       "      <td>2.0</td>\n",
       "      <td>0</td>\n",
       "      <td>0.0</td>\n",
       "      <td>0.0</td>\n",
       "      <td>0</td>\n",
       "      <td>0</td>\n",
       "      <td>0</td>\n",
       "      <td>250.0</td>\n",
       "      <td>121.0</td>\n",
       "      <td>81.0</td>\n",
       "      <td>28.73</td>\n",
       "      <td>95.0</td>\n",
       "      <td>76.0</td>\n",
       "      <td>0</td>\n",
       "    </tr>\n",
       "    <tr>\n",
       "      <th>2</th>\n",
       "      <td>1</td>\n",
       "      <td>48</td>\n",
       "      <td>1.0</td>\n",
       "      <td>1</td>\n",
       "      <td>20.0</td>\n",
       "      <td>0.0</td>\n",
       "      <td>0</td>\n",
       "      <td>0</td>\n",
       "      <td>0</td>\n",
       "      <td>245.0</td>\n",
       "      <td>127.5</td>\n",
       "      <td>80.0</td>\n",
       "      <td>25.34</td>\n",
       "      <td>75.0</td>\n",
       "      <td>70.0</td>\n",
       "      <td>0</td>\n",
       "    </tr>\n",
       "    <tr>\n",
       "      <th>3</th>\n",
       "      <td>0</td>\n",
       "      <td>61</td>\n",
       "      <td>3.0</td>\n",
       "      <td>1</td>\n",
       "      <td>30.0</td>\n",
       "      <td>0.0</td>\n",
       "      <td>0</td>\n",
       "      <td>1</td>\n",
       "      <td>0</td>\n",
       "      <td>225.0</td>\n",
       "      <td>150.0</td>\n",
       "      <td>95.0</td>\n",
       "      <td>28.58</td>\n",
       "      <td>65.0</td>\n",
       "      <td>103.0</td>\n",
       "      <td>1</td>\n",
       "    </tr>\n",
       "    <tr>\n",
       "      <th>4</th>\n",
       "      <td>0</td>\n",
       "      <td>46</td>\n",
       "      <td>3.0</td>\n",
       "      <td>1</td>\n",
       "      <td>23.0</td>\n",
       "      <td>0.0</td>\n",
       "      <td>0</td>\n",
       "      <td>0</td>\n",
       "      <td>0</td>\n",
       "      <td>285.0</td>\n",
       "      <td>130.0</td>\n",
       "      <td>84.0</td>\n",
       "      <td>23.10</td>\n",
       "      <td>85.0</td>\n",
       "      <td>85.0</td>\n",
       "      <td>0</td>\n",
       "    </tr>\n",
       "  </tbody>\n",
       "</table>\n",
       "</div>"
      ],
      "text/plain": [
       "   male  age  education  currentSmoker  cigsPerDay  BPMeds  prevalentStroke  \\\n",
       "0     1   39        4.0              0         0.0     0.0                0   \n",
       "1     0   46        2.0              0         0.0     0.0                0   \n",
       "2     1   48        1.0              1        20.0     0.0                0   \n",
       "3     0   61        3.0              1        30.0     0.0                0   \n",
       "4     0   46        3.0              1        23.0     0.0                0   \n",
       "\n",
       "   prevalentHyp  diabetes  totChol  sysBP  diaBP    BMI  heartRate  glucose  \\\n",
       "0             0         0    195.0  106.0   70.0  26.97       80.0     77.0   \n",
       "1             0         0    250.0  121.0   81.0  28.73       95.0     76.0   \n",
       "2             0         0    245.0  127.5   80.0  25.34       75.0     70.0   \n",
       "3             1         0    225.0  150.0   95.0  28.58       65.0    103.0   \n",
       "4             0         0    285.0  130.0   84.0  23.10       85.0     85.0   \n",
       "\n",
       "   TenYearCHD  \n",
       "0           0  \n",
       "1           0  \n",
       "2           0  \n",
       "3           1  \n",
       "4           0  "
      ]
     },
     "execution_count": 7,
     "metadata": {},
     "output_type": "execute_result"
    }
   ],
   "source": [
    "df.head()"
   ]
  },
  {
   "cell_type": "markdown",
   "id": "9be70da0",
   "metadata": {
    "papermill": {
     "duration": 0.012452,
     "end_time": "2023-03-06T14:21:54.779059",
     "exception": false,
     "start_time": "2023-03-06T14:21:54.766607",
     "status": "completed"
    },
    "tags": []
   },
   "source": [
    "# 결측값 확인 "
   ]
  },
  {
   "cell_type": "code",
   "execution_count": 8,
   "id": "d63b0c38",
   "metadata": {
    "execution": {
     "iopub.execute_input": "2023-03-06T14:21:54.804769Z",
     "iopub.status.busy": "2023-03-06T14:21:54.804312Z",
     "iopub.status.idle": "2023-03-06T14:21:54.816199Z",
     "shell.execute_reply": "2023-03-06T14:21:54.814856Z"
    },
    "papermill": {
     "duration": 0.028532,
     "end_time": "2023-03-06T14:21:54.819019",
     "exception": false,
     "start_time": "2023-03-06T14:21:54.790487",
     "status": "completed"
    },
    "tags": []
   },
   "outputs": [],
   "source": [
    "cols = df.columns\n",
    "\n",
    "na_cols = []\n",
    "\n",
    "for _ in cols:\n",
    "    if df[_].isna().sum() > 1:\n",
    "        na_cols.append(_)        "
   ]
  },
  {
   "cell_type": "markdown",
   "id": "148ec16b",
   "metadata": {
    "papermill": {
     "duration": 0.011406,
     "end_time": "2023-03-06T14:21:54.841515",
     "exception": false,
     "start_time": "2023-03-06T14:21:54.830109",
     "status": "completed"
    },
    "tags": []
   },
   "source": [
    "# 결측치 처리 "
   ]
  },
  {
   "cell_type": "code",
   "execution_count": 9,
   "id": "d98fab80",
   "metadata": {
    "execution": {
     "iopub.execute_input": "2023-03-06T14:21:54.869292Z",
     "iopub.status.busy": "2023-03-06T14:21:54.868842Z",
     "iopub.status.idle": "2023-03-06T14:21:54.881255Z",
     "shell.execute_reply": "2023-03-06T14:21:54.879908Z"
    },
    "papermill": {
     "duration": 0.030166,
     "end_time": "2023-03-06T14:21:54.883810",
     "exception": false,
     "start_time": "2023-03-06T14:21:54.853644",
     "status": "completed"
    },
    "tags": []
   },
   "outputs": [
    {
     "data": {
      "text/plain": [
       "education     105\n",
       "cigsPerDay     29\n",
       "BPMeds         53\n",
       "totChol        50\n",
       "BMI            19\n",
       "glucose       388\n",
       "dtype: int64"
      ]
     },
     "execution_count": 9,
     "metadata": {},
     "output_type": "execute_result"
    }
   ],
   "source": [
    "df[na_cols].isna().sum()"
   ]
  },
  {
   "cell_type": "code",
   "execution_count": 10,
   "id": "274009f9",
   "metadata": {
    "execution": {
     "iopub.execute_input": "2023-03-06T14:21:54.908267Z",
     "iopub.status.busy": "2023-03-06T14:21:54.907870Z",
     "iopub.status.idle": "2023-03-06T14:21:56.878297Z",
     "shell.execute_reply": "2023-03-06T14:21:56.876984Z"
    },
    "papermill": {
     "duration": 1.986582,
     "end_time": "2023-03-06T14:21:56.881409",
     "exception": false,
     "start_time": "2023-03-06T14:21:54.894827",
     "status": "completed"
    },
    "tags": []
   },
   "outputs": [
    {
     "data": {
      "image/png": "[encoded data removed]",
      "text/plain": [
       "<Figure size 1000x1000 with 6 Axes>"
      ]
     },
     "metadata": {},
     "output_type": "display_data"
    }
   ],
   "source": [
    "plt.figure(figsize = [10,10])\n",
    "plt.subplots_adjust(hspace = 0.5)\n",
    "\n",
    "i = 1\n",
    "\n",
    "for _ in na_cols:\n",
    "    \n",
    "    plt.subplot(3,2,i)\n",
    "    \n",
    "    sns.histplot(data = df,\n",
    "                 x = _)\n",
    "    \n",
    "    plt.title(f'{_} histplot')\n",
    "    \n",
    "    i += 1"
   ]
  },
  {
   "cell_type": "markdown",
   "id": "ba993431",
   "metadata": {
    "papermill": {
     "duration": 0.011676,
     "end_time": "2023-03-06T14:21:56.905489",
     "exception": false,
     "start_time": "2023-03-06T14:21:56.893813",
     "status": "completed"
    },
    "tags": []
   },
   "source": [
    "* BMI , glucose 같은 경우는 오른쪽으로 꼬리가 긴 형태기 때문에 평균값보다 중앙값으로 대치해줘야겠다.\n",
    "* cigsperday 같은 경우는 담배를 피는 경우엔 흡연자들의 평균값으로, 담배를 피지 않는 경우엔 0으로 변경해주자 \n",
    "* education 과 BP med 같은 경우는 최빈값으로 대치하자 "
   ]
  },
  {
   "cell_type": "markdown",
   "id": "6e34e048",
   "metadata": {
    "papermill": {
     "duration": 0.011753,
     "end_time": "2023-03-06T14:21:56.929320",
     "exception": false,
     "start_time": "2023-03-06T14:21:56.917567",
     "status": "completed"
    },
    "tags": []
   },
   "source": [
    "* 결측값은 최빈값으로 처리 "
   ]
  },
  {
   "cell_type": "code",
   "execution_count": 11,
   "id": "07d385e2",
   "metadata": {
    "execution": {
     "iopub.execute_input": "2023-03-06T14:21:56.955242Z",
     "iopub.status.busy": "2023-03-06T14:21:56.954822Z",
     "iopub.status.idle": "2023-03-06T14:21:56.962987Z",
     "shell.execute_reply": "2023-03-06T14:21:56.961514Z"
    },
    "papermill": {
     "duration": 0.024291,
     "end_time": "2023-03-06T14:21:56.965731",
     "exception": false,
     "start_time": "2023-03-06T14:21:56.941440",
     "status": "completed"
    },
    "tags": []
   },
   "outputs": [],
   "source": [
    "freq_edu = df['education'].value_counts().sort_values().index[-1]\n",
    "freq_BPmed= df['BPMeds'].value_counts().sort_values().index[-1]"
   ]
  },
  {
   "cell_type": "code",
   "execution_count": 12,
   "id": "e80b91bf",
   "metadata": {
    "execution": {
     "iopub.execute_input": "2023-03-06T14:21:56.993127Z",
     "iopub.status.busy": "2023-03-06T14:21:56.992296Z",
     "iopub.status.idle": "2023-03-06T14:21:56.998701Z",
     "shell.execute_reply": "2023-03-06T14:21:56.997788Z"
    },
    "papermill": {
     "duration": 0.022776,
     "end_time": "2023-03-06T14:21:57.001213",
     "exception": false,
     "start_time": "2023-03-06T14:21:56.978437",
     "status": "completed"
    },
    "tags": []
   },
   "outputs": [],
   "source": [
    "df['education'].fillna(freq_edu,inplace = True)\n",
    "df['BPMeds'].fillna(freq_BPmed,inplace = True)"
   ]
  },
  {
   "cell_type": "code",
   "execution_count": 13,
   "id": "7424aca6",
   "metadata": {
    "execution": {
     "iopub.execute_input": "2023-03-06T14:21:57.027631Z",
     "iopub.status.busy": "2023-03-06T14:21:57.026796Z",
     "iopub.status.idle": "2023-03-06T14:21:57.043610Z",
     "shell.execute_reply": "2023-03-06T14:21:57.042329Z"
    },
    "papermill": {
     "duration": 0.032913,
     "end_time": "2023-03-06T14:21:57.046174",
     "exception": false,
     "start_time": "2023-03-06T14:21:57.013261",
     "status": "completed"
    },
    "tags": []
   },
   "outputs": [
    {
     "data": {
      "text/html": [
       "<div>\n",
       "<style scoped>\n",
       "    .dataframe tbody tr th:only-of-type {\n",
       "        vertical-align: middle;\n",
       "    }\n",
       "\n",
       "    .dataframe tbody tr th {\n",
       "        vertical-align: top;\n",
       "    }\n",
       "\n",
       "    .dataframe thead th {\n",
       "        text-align: right;\n",
       "    }\n",
       "</style>\n",
       "<table border=\"1\" class=\"dataframe\">\n",
       "  <thead>\n",
       "    <tr style=\"text-align: right;\">\n",
       "      <th></th>\n",
       "      <th>currentSmoker</th>\n",
       "      <th>cigsPerDay</th>\n",
       "    </tr>\n",
       "  </thead>\n",
       "  <tbody>\n",
       "    <tr>\n",
       "      <th>131</th>\n",
       "      <td>1</td>\n",
       "      <td>NaN</td>\n",
       "    </tr>\n",
       "    <tr>\n",
       "      <th>139</th>\n",
       "      <td>1</td>\n",
       "      <td>NaN</td>\n",
       "    </tr>\n",
       "    <tr>\n",
       "      <th>1046</th>\n",
       "      <td>1</td>\n",
       "      <td>NaN</td>\n",
       "    </tr>\n",
       "    <tr>\n",
       "      <th>1292</th>\n",
       "      <td>1</td>\n",
       "      <td>NaN</td>\n",
       "    </tr>\n",
       "    <tr>\n",
       "      <th>1347</th>\n",
       "      <td>1</td>\n",
       "      <td>NaN</td>\n",
       "    </tr>\n",
       "    <tr>\n",
       "      <th>1451</th>\n",
       "      <td>1</td>\n",
       "      <td>NaN</td>\n",
       "    </tr>\n",
       "    <tr>\n",
       "      <th>1497</th>\n",
       "      <td>1</td>\n",
       "      <td>NaN</td>\n",
       "    </tr>\n",
       "    <tr>\n",
       "      <th>1610</th>\n",
       "      <td>1</td>\n",
       "      <td>NaN</td>\n",
       "    </tr>\n",
       "    <tr>\n",
       "      <th>1625</th>\n",
       "      <td>1</td>\n",
       "      <td>NaN</td>\n",
       "    </tr>\n",
       "    <tr>\n",
       "      <th>1870</th>\n",
       "      <td>1</td>\n",
       "      <td>NaN</td>\n",
       "    </tr>\n",
       "    <tr>\n",
       "      <th>1963</th>\n",
       "      <td>1</td>\n",
       "      <td>NaN</td>\n",
       "    </tr>\n",
       "    <tr>\n",
       "      <th>1980</th>\n",
       "      <td>1</td>\n",
       "      <td>NaN</td>\n",
       "    </tr>\n",
       "    <tr>\n",
       "      <th>2405</th>\n",
       "      <td>1</td>\n",
       "      <td>NaN</td>\n",
       "    </tr>\n",
       "    <tr>\n",
       "      <th>2513</th>\n",
       "      <td>1</td>\n",
       "      <td>NaN</td>\n",
       "    </tr>\n",
       "    <tr>\n",
       "      <th>2542</th>\n",
       "      <td>1</td>\n",
       "      <td>NaN</td>\n",
       "    </tr>\n",
       "    <tr>\n",
       "      <th>3021</th>\n",
       "      <td>1</td>\n",
       "      <td>NaN</td>\n",
       "    </tr>\n",
       "    <tr>\n",
       "      <th>3034</th>\n",
       "      <td>1</td>\n",
       "      <td>NaN</td>\n",
       "    </tr>\n",
       "    <tr>\n",
       "      <th>3094</th>\n",
       "      <td>1</td>\n",
       "      <td>NaN</td>\n",
       "    </tr>\n",
       "    <tr>\n",
       "      <th>3106</th>\n",
       "      <td>1</td>\n",
       "      <td>NaN</td>\n",
       "    </tr>\n",
       "    <tr>\n",
       "      <th>3108</th>\n",
       "      <td>1</td>\n",
       "      <td>NaN</td>\n",
       "    </tr>\n",
       "    <tr>\n",
       "      <th>3156</th>\n",
       "      <td>1</td>\n",
       "      <td>NaN</td>\n",
       "    </tr>\n",
       "    <tr>\n",
       "      <th>3177</th>\n",
       "      <td>1</td>\n",
       "      <td>NaN</td>\n",
       "    </tr>\n",
       "    <tr>\n",
       "      <th>3309</th>\n",
       "      <td>1</td>\n",
       "      <td>NaN</td>\n",
       "    </tr>\n",
       "    <tr>\n",
       "      <th>3432</th>\n",
       "      <td>1</td>\n",
       "      <td>NaN</td>\n",
       "    </tr>\n",
       "    <tr>\n",
       "      <th>3579</th>\n",
       "      <td>1</td>\n",
       "      <td>NaN</td>\n",
       "    </tr>\n",
       "    <tr>\n",
       "      <th>3715</th>\n",
       "      <td>1</td>\n",
       "      <td>NaN</td>\n",
       "    </tr>\n",
       "    <tr>\n",
       "      <th>3847</th>\n",
       "      <td>1</td>\n",
       "      <td>NaN</td>\n",
       "    </tr>\n",
       "    <tr>\n",
       "      <th>3924</th>\n",
       "      <td>1</td>\n",
       "      <td>NaN</td>\n",
       "    </tr>\n",
       "    <tr>\n",
       "      <th>3942</th>\n",
       "      <td>1</td>\n",
       "      <td>NaN</td>\n",
       "    </tr>\n",
       "  </tbody>\n",
       "</table>\n",
       "</div>"
      ],
      "text/plain": [
       "      currentSmoker  cigsPerDay\n",
       "131               1         NaN\n",
       "139               1         NaN\n",
       "1046              1         NaN\n",
       "1292              1         NaN\n",
       "1347              1         NaN\n",
       "1451              1         NaN\n",
       "1497              1         NaN\n",
       "1610              1         NaN\n",
       "1625              1         NaN\n",
       "1870              1         NaN\n",
       "1963              1         NaN\n",
       "1980              1         NaN\n",
       "2405              1         NaN\n",
       "2513              1         NaN\n",
       "2542              1         NaN\n",
       "3021              1         NaN\n",
       "3034              1         NaN\n",
       "3094              1         NaN\n",
       "3106              1         NaN\n",
       "3108              1         NaN\n",
       "3156              1         NaN\n",
       "3177              1         NaN\n",
       "3309              1         NaN\n",
       "3432              1         NaN\n",
       "3579              1         NaN\n",
       "3715              1         NaN\n",
       "3847              1         NaN\n",
       "3924              1         NaN\n",
       "3942              1         NaN"
      ]
     },
     "execution_count": 13,
     "metadata": {},
     "output_type": "execute_result"
    }
   ],
   "source": [
    "df.loc[df['cigsPerDay'].isna(),['currentSmoker','cigsPerDay']] #전부 담배는 피는데 얼마나 피는지 체크를 안했네 "
   ]
  },
  {
   "cell_type": "code",
   "execution_count": 14,
   "id": "e7e5903e",
   "metadata": {
    "execution": {
     "iopub.execute_input": "2023-03-06T14:21:57.074173Z",
     "iopub.status.busy": "2023-03-06T14:21:57.073734Z",
     "iopub.status.idle": "2023-03-06T14:21:57.081830Z",
     "shell.execute_reply": "2023-03-06T14:21:57.080706Z"
    },
    "papermill": {
     "duration": 0.025158,
     "end_time": "2023-03-06T14:21:57.084609",
     "exception": false,
     "start_time": "2023-03-06T14:21:57.059451",
     "status": "completed"
    },
    "tags": []
   },
   "outputs": [],
   "source": [
    "df['cigsPerDay'].fillna(df.loc[df['cigsPerDay']>0,'cigsPerDay'].median(),inplace = True)"
   ]
  },
  {
   "cell_type": "code",
   "execution_count": 15,
   "id": "f422f1a7",
   "metadata": {
    "execution": {
     "iopub.execute_input": "2023-03-06T14:21:57.112753Z",
     "iopub.status.busy": "2023-03-06T14:21:57.112337Z",
     "iopub.status.idle": "2023-03-06T14:21:57.121311Z",
     "shell.execute_reply": "2023-03-06T14:21:57.120144Z"
    },
    "papermill": {
     "duration": 0.026929,
     "end_time": "2023-03-06T14:21:57.124578",
     "exception": false,
     "start_time": "2023-03-06T14:21:57.097649",
     "status": "completed"
    },
    "tags": []
   },
   "outputs": [],
   "source": [
    "for _ in ['totChol', 'BMI', 'glucose','heartRate']:\n",
    "    df[_].fillna(df[_].median(),inplace = True)"
   ]
  },
  {
   "cell_type": "code",
   "execution_count": 16,
   "id": "8ee0df9f",
   "metadata": {
    "execution": {
     "iopub.execute_input": "2023-03-06T14:21:57.153669Z",
     "iopub.status.busy": "2023-03-06T14:21:57.153215Z",
     "iopub.status.idle": "2023-03-06T14:21:57.162979Z",
     "shell.execute_reply": "2023-03-06T14:21:57.161931Z"
    },
    "papermill": {
     "duration": 0.027025,
     "end_time": "2023-03-06T14:21:57.165502",
     "exception": false,
     "start_time": "2023-03-06T14:21:57.138477",
     "status": "completed"
    },
    "tags": []
   },
   "outputs": [
    {
     "data": {
      "text/plain": [
       "male               0\n",
       "age                0\n",
       "education          0\n",
       "currentSmoker      0\n",
       "cigsPerDay         0\n",
       "BPMeds             0\n",
       "prevalentStroke    0\n",
       "prevalentHyp       0\n",
       "diabetes           0\n",
       "totChol            0\n",
       "sysBP              0\n",
       "diaBP              0\n",
       "BMI                0\n",
       "heartRate          0\n",
       "glucose            0\n",
       "TenYearCHD         0\n",
       "dtype: int64"
      ]
     },
     "execution_count": 16,
     "metadata": {},
     "output_type": "execute_result"
    }
   ],
   "source": [
    "df.isna().sum()"
   ]
  },
  {
   "cell_type": "markdown",
   "id": "771fabf2",
   "metadata": {
    "papermill": {
     "duration": 0.012249,
     "end_time": "2023-03-06T14:21:57.192273",
     "exception": false,
     "start_time": "2023-03-06T14:21:57.180024",
     "status": "completed"
    },
    "tags": []
   },
   "source": [
    "# 간단한 시각화(EDA)"
   ]
  },
  {
   "cell_type": "code",
   "execution_count": 17,
   "id": "1e655e3d",
   "metadata": {
    "execution": {
     "iopub.execute_input": "2023-03-06T14:21:57.219185Z",
     "iopub.status.busy": "2023-03-06T14:21:57.218791Z",
     "iopub.status.idle": "2023-03-06T14:21:59.750942Z",
     "shell.execute_reply": "2023-03-06T14:21:59.749614Z"
    },
    "papermill": {
     "duration": 2.55081,
     "end_time": "2023-03-06T14:21:59.755584",
     "exception": false,
     "start_time": "2023-03-06T14:21:57.204774",
     "status": "completed"
    },
    "tags": []
   },
   "outputs": [
    {
     "data": {
      "image/png": "[encoded data removed]",
      "text/plain": [
       "<Figure size 2000x2000 with 15 Axes>"
      ]
     },
     "metadata": {},
     "output_type": "display_data"
    }
   ],
   "source": [
    "cols = df.columns[:-1]\n",
    "plt.figure(figsize = [20,20])\n",
    "\n",
    "i = 1\n",
    "\n",
    "for _ in cols:\n",
    "    \n",
    "    plt.subplot(int(len(cols)/3),3,i)\n",
    "    \n",
    "    sns.boxplot(data = df,\n",
    "                x = 'TenYearCHD',\n",
    "                y = _)\n",
    "    \n",
    "    plt.title(_,size = 15,weight = 'bold')\n",
    "    plt.xlabel('')\n",
    "    \n",
    "    i += 1"
   ]
  },
  {
   "cell_type": "markdown",
   "id": "f7a58aba",
   "metadata": {
    "execution": {
     "iopub.execute_input": "2023-03-06T12:23:17.232399Z",
     "iopub.status.busy": "2023-03-06T12:23:17.231926Z",
     "iopub.status.idle": "2023-03-06T12:23:17.239738Z",
     "shell.execute_reply": "2023-03-06T12:23:17.238613Z",
     "shell.execute_reply.started": "2023-03-06T12:23:17.232357Z"
    },
    "papermill": {
     "duration": 0.014867,
     "end_time": "2023-03-06T14:21:59.785818",
     "exception": false,
     "start_time": "2023-03-06T14:21:59.770951",
     "status": "completed"
    },
    "tags": []
   },
   "source": [
    "* 심부전 환자와 심부전이 아닌 환자 간의 특징적인 차이를 보지 못하겠다. "
   ]
  },
  {
   "cell_type": "markdown",
   "id": "d892db23",
   "metadata": {
    "papermill": {
     "duration": 0.014802,
     "end_time": "2023-03-06T14:21:59.815665",
     "exception": false,
     "start_time": "2023-03-06T14:21:59.800863",
     "status": "completed"
    },
    "tags": []
   },
   "source": [
    "# 모델링(Modeling)"
   ]
  },
  {
   "cell_type": "code",
   "execution_count": 18,
   "id": "eed79e5c",
   "metadata": {
    "execution": {
     "iopub.execute_input": "2023-03-06T14:21:59.848770Z",
     "iopub.status.busy": "2023-03-06T14:21:59.848351Z",
     "iopub.status.idle": "2023-03-06T14:21:59.853692Z",
     "shell.execute_reply": "2023-03-06T14:21:59.852735Z"
    },
    "papermill": {
     "duration": 0.024442,
     "end_time": "2023-03-06T14:21:59.855786",
     "exception": false,
     "start_time": "2023-03-06T14:21:59.831344",
     "status": "completed"
    },
    "tags": []
   },
   "outputs": [],
   "source": [
    "def min_max_scaler(df,cols):\n",
    "    \n",
    "    return (df[cols]- np.min(df[cols])) / (np.max(df[cols]) - np.min(df[cols]))"
   ]
  },
  {
   "cell_type": "code",
   "execution_count": 19,
   "id": "6083ec9b",
   "metadata": {
    "execution": {
     "iopub.execute_input": "2023-03-06T14:21:59.888863Z",
     "iopub.status.busy": "2023-03-06T14:21:59.887928Z",
     "iopub.status.idle": "2023-03-06T14:21:59.912121Z",
     "shell.execute_reply": "2023-03-06T14:21:59.910692Z"
    },
    "papermill": {
     "duration": 0.044041,
     "end_time": "2023-03-06T14:21:59.914972",
     "exception": false,
     "start_time": "2023-03-06T14:21:59.870931",
     "status": "completed"
    },
    "tags": []
   },
   "outputs": [
    {
     "data": {
      "text/html": [
       "<div>\n",
       "<style scoped>\n",
       "    .dataframe tbody tr th:only-of-type {\n",
       "        vertical-align: middle;\n",
       "    }\n",
       "\n",
       "    .dataframe tbody tr th {\n",
       "        vertical-align: top;\n",
       "    }\n",
       "\n",
       "    .dataframe thead th {\n",
       "        text-align: right;\n",
       "    }\n",
       "</style>\n",
       "<table border=\"1\" class=\"dataframe\">\n",
       "  <thead>\n",
       "    <tr style=\"text-align: right;\">\n",
       "      <th></th>\n",
       "      <th>male</th>\n",
       "      <th>age</th>\n",
       "      <th>education</th>\n",
       "      <th>currentSmoker</th>\n",
       "      <th>cigsPerDay</th>\n",
       "      <th>BPMeds</th>\n",
       "      <th>prevalentStroke</th>\n",
       "      <th>prevalentHyp</th>\n",
       "      <th>diabetes</th>\n",
       "      <th>totChol</th>\n",
       "      <th>sysBP</th>\n",
       "      <th>diaBP</th>\n",
       "      <th>BMI</th>\n",
       "      <th>heartRate</th>\n",
       "      <th>glucose</th>\n",
       "      <th>TenYearCHD</th>\n",
       "    </tr>\n",
       "  </thead>\n",
       "  <tbody>\n",
       "    <tr>\n",
       "      <th>0</th>\n",
       "      <td>1</td>\n",
       "      <td>39</td>\n",
       "      <td>4.0</td>\n",
       "      <td>0</td>\n",
       "      <td>0.0</td>\n",
       "      <td>0.0</td>\n",
       "      <td>0</td>\n",
       "      <td>0</td>\n",
       "      <td>0</td>\n",
       "      <td>195.0</td>\n",
       "      <td>106.0</td>\n",
       "      <td>70.0</td>\n",
       "      <td>26.97</td>\n",
       "      <td>80.0</td>\n",
       "      <td>77.0</td>\n",
       "      <td>0</td>\n",
       "    </tr>\n",
       "    <tr>\n",
       "      <th>1</th>\n",
       "      <td>0</td>\n",
       "      <td>46</td>\n",
       "      <td>2.0</td>\n",
       "      <td>0</td>\n",
       "      <td>0.0</td>\n",
       "      <td>0.0</td>\n",
       "      <td>0</td>\n",
       "      <td>0</td>\n",
       "      <td>0</td>\n",
       "      <td>250.0</td>\n",
       "      <td>121.0</td>\n",
       "      <td>81.0</td>\n",
       "      <td>28.73</td>\n",
       "      <td>95.0</td>\n",
       "      <td>76.0</td>\n",
       "      <td>0</td>\n",
       "    </tr>\n",
       "    <tr>\n",
       "      <th>2</th>\n",
       "      <td>1</td>\n",
       "      <td>48</td>\n",
       "      <td>1.0</td>\n",
       "      <td>1</td>\n",
       "      <td>20.0</td>\n",
       "      <td>0.0</td>\n",
       "      <td>0</td>\n",
       "      <td>0</td>\n",
       "      <td>0</td>\n",
       "      <td>245.0</td>\n",
       "      <td>127.5</td>\n",
       "      <td>80.0</td>\n",
       "      <td>25.34</td>\n",
       "      <td>75.0</td>\n",
       "      <td>70.0</td>\n",
       "      <td>0</td>\n",
       "    </tr>\n",
       "    <tr>\n",
       "      <th>3</th>\n",
       "      <td>0</td>\n",
       "      <td>61</td>\n",
       "      <td>3.0</td>\n",
       "      <td>1</td>\n",
       "      <td>30.0</td>\n",
       "      <td>0.0</td>\n",
       "      <td>0</td>\n",
       "      <td>1</td>\n",
       "      <td>0</td>\n",
       "      <td>225.0</td>\n",
       "      <td>150.0</td>\n",
       "      <td>95.0</td>\n",
       "      <td>28.58</td>\n",
       "      <td>65.0</td>\n",
       "      <td>103.0</td>\n",
       "      <td>1</td>\n",
       "    </tr>\n",
       "    <tr>\n",
       "      <th>4</th>\n",
       "      <td>0</td>\n",
       "      <td>46</td>\n",
       "      <td>3.0</td>\n",
       "      <td>1</td>\n",
       "      <td>23.0</td>\n",
       "      <td>0.0</td>\n",
       "      <td>0</td>\n",
       "      <td>0</td>\n",
       "      <td>0</td>\n",
       "      <td>285.0</td>\n",
       "      <td>130.0</td>\n",
       "      <td>84.0</td>\n",
       "      <td>23.10</td>\n",
       "      <td>85.0</td>\n",
       "      <td>85.0</td>\n",
       "      <td>0</td>\n",
       "    </tr>\n",
       "  </tbody>\n",
       "</table>\n",
       "</div>"
      ],
      "text/plain": [
       "   male  age  education  currentSmoker  cigsPerDay  BPMeds  prevalentStroke  \\\n",
       "0     1   39        4.0              0         0.0     0.0                0   \n",
       "1     0   46        2.0              0         0.0     0.0                0   \n",
       "2     1   48        1.0              1        20.0     0.0                0   \n",
       "3     0   61        3.0              1        30.0     0.0                0   \n",
       "4     0   46        3.0              1        23.0     0.0                0   \n",
       "\n",
       "   prevalentHyp  diabetes  totChol  sysBP  diaBP    BMI  heartRate  glucose  \\\n",
       "0             0         0    195.0  106.0   70.0  26.97       80.0     77.0   \n",
       "1             0         0    250.0  121.0   81.0  28.73       95.0     76.0   \n",
       "2             0         0    245.0  127.5   80.0  25.34       75.0     70.0   \n",
       "3             1         0    225.0  150.0   95.0  28.58       65.0    103.0   \n",
       "4             0         0    285.0  130.0   84.0  23.10       85.0     85.0   \n",
       "\n",
       "   TenYearCHD  \n",
       "0           0  \n",
       "1           0  \n",
       "2           0  \n",
       "3           1  \n",
       "4           0  "
      ]
     },
     "execution_count": 19,
     "metadata": {},
     "output_type": "execute_result"
    }
   ],
   "source": [
    "df.head()"
   ]
  },
  {
   "cell_type": "markdown",
   "id": "e2b6e686",
   "metadata": {
    "papermill": {
     "duration": 0.015125,
     "end_time": "2023-03-06T14:21:59.945614",
     "exception": false,
     "start_time": "2023-03-06T14:21:59.930489",
     "status": "completed"
    },
    "tags": []
   },
   "source": [
    "### min-max scaling 은 데이터의 범위를 제한 시켜 모델링의 속도를 증가 시켜주는 장점도 있지만\n",
    "### 데이터의 분포를 변경시키지 않는 장점이 있다."
   ]
  },
  {
   "cell_type": "code",
   "execution_count": 20,
   "id": "3588736c",
   "metadata": {
    "execution": {
     "iopub.execute_input": "2023-03-06T14:21:59.979416Z",
     "iopub.status.busy": "2023-03-06T14:21:59.978541Z",
     "iopub.status.idle": "2023-03-06T14:21:59.994422Z",
     "shell.execute_reply": "2023-03-06T14:21:59.993392Z"
    },
    "papermill": {
     "duration": 0.035728,
     "end_time": "2023-03-06T14:21:59.997194",
     "exception": false,
     "start_time": "2023-03-06T14:21:59.961466",
     "status": "completed"
    },
    "tags": []
   },
   "outputs": [],
   "source": [
    "cols = df.max()[df.max() > 4].index.tolist() #범주형 변수를 제외하고 모두 min_max_scaling\n",
    "\n",
    "for _ in cols:\n",
    "    df[_] = min_max_scaler(df,_)"
   ]
  },
  {
   "cell_type": "code",
   "execution_count": 21,
   "id": "8e083840",
   "metadata": {
    "execution": {
     "iopub.execute_input": "2023-03-06T14:22:00.030660Z",
     "iopub.status.busy": "2023-03-06T14:22:00.029981Z",
     "iopub.status.idle": "2023-03-06T14:22:00.041550Z",
     "shell.execute_reply": "2023-03-06T14:22:00.040454Z"
    },
    "papermill": {
     "duration": 0.031707,
     "end_time": "2023-03-06T14:22:00.044279",
     "exception": false,
     "start_time": "2023-03-06T14:22:00.012572",
     "status": "completed"
    },
    "tags": []
   },
   "outputs": [],
   "source": [
    "x_train,y_train,x_test,y_test = train_test_split(df.drop('TenYearCHD',axis = 1),df['TenYearCHD'],\n",
    "                                                test_size = 0.2,random_state = 2023)"
   ]
  },
  {
   "cell_type": "code",
   "execution_count": 22,
   "id": "ffe62c30",
   "metadata": {
    "execution": {
     "iopub.execute_input": "2023-03-06T14:22:00.077855Z",
     "iopub.status.busy": "2023-03-06T14:22:00.077397Z",
     "iopub.status.idle": "2023-03-06T14:22:00.084139Z",
     "shell.execute_reply": "2023-03-06T14:22:00.082920Z"
    },
    "papermill": {
     "duration": 0.0271,
     "end_time": "2023-03-06T14:22:00.086940",
     "exception": false,
     "start_time": "2023-03-06T14:22:00.059840",
     "status": "completed"
    },
    "tags": []
   },
   "outputs": [],
   "source": [
    "x = np.array(x_train)\n",
    "result = np.array(x_test).reshape(-1,1)"
   ]
  },
  {
   "cell_type": "markdown",
   "id": "2f29ea1e",
   "metadata": {
    "papermill": {
     "duration": 0.015666,
     "end_time": "2023-03-06T14:22:00.118227",
     "exception": false,
     "start_time": "2023-03-06T14:22:00.102561",
     "status": "completed"
    },
    "tags": []
   },
   "source": [
    "* 모델링을 위해 상수항 추가 "
   ]
  },
  {
   "cell_type": "code",
   "execution_count": 23,
   "id": "520b5e8a",
   "metadata": {
    "execution": {
     "iopub.execute_input": "2023-03-06T14:22:00.151737Z",
     "iopub.status.busy": "2023-03-06T14:22:00.151266Z",
     "iopub.status.idle": "2023-03-06T14:22:00.160669Z",
     "shell.execute_reply": "2023-03-06T14:22:00.159020Z"
    },
    "papermill": {
     "duration": 0.03089,
     "end_time": "2023-03-06T14:22:00.164900",
     "exception": false,
     "start_time": "2023-03-06T14:22:00.134010",
     "status": "completed"
    },
    "tags": []
   },
   "outputs": [
    {
     "name": "stdout",
     "output_type": "stream",
     "text": [
      "x_new의 shape : (3390, 16)\n",
      "theta의 shape : (16, 1)\n",
      "result의 shape: (3390, 1)\n"
     ]
    }
   ],
   "source": [
    "constant = np.ones(x.shape[0]).reshape(-1,1)\n",
    "\n",
    "x_new = np.c_[constant,x] # 상수항 추가 \n",
    "\n",
    "theta = np.zeros(x_new.shape[1]).reshape(-1,1)\n",
    "\n",
    "print('x_new의 shape :',x_new.shape)\n",
    "print('theta의 shape :',theta.shape)\n",
    "print('result의 shape:',result.shape)"
   ]
  },
  {
   "cell_type": "markdown",
   "id": "714ad1bb",
   "metadata": {
    "papermill": {
     "duration": 0.015542,
     "end_time": "2023-03-06T14:22:00.197025",
     "exception": false,
     "start_time": "2023-03-06T14:22:00.181483",
     "status": "completed"
    },
    "tags": []
   },
   "source": [
    "* 시그모이드 함수 생성"
   ]
  },
  {
   "cell_type": "code",
   "execution_count": 24,
   "id": "1d0ee96f",
   "metadata": {
    "execution": {
     "iopub.execute_input": "2023-03-06T14:22:00.231434Z",
     "iopub.status.busy": "2023-03-06T14:22:00.230314Z",
     "iopub.status.idle": "2023-03-06T14:22:00.236093Z",
     "shell.execute_reply": "2023-03-06T14:22:00.235047Z"
    },
    "papermill": {
     "duration": 0.025726,
     "end_time": "2023-03-06T14:22:00.238634",
     "exception": false,
     "start_time": "2023-03-06T14:22:00.212908",
     "status": "completed"
    },
    "tags": []
   },
   "outputs": [],
   "source": [
    "def sigmoid(x):\n",
    "    return 1 / (1+np.exp(-x))"
   ]
  },
  {
   "cell_type": "markdown",
   "id": "7e5ccc46",
   "metadata": {
    "papermill": {
     "duration": 0.015439,
     "end_time": "2023-03-06T14:22:00.270059",
     "exception": false,
     "start_time": "2023-03-06T14:22:00.254620",
     "status": "completed"
    },
    "tags": []
   },
   "source": [
    "* 크로스엔트로피, 크로스엔트로피 미분값 생성 "
   ]
  },
  {
   "cell_type": "code",
   "execution_count": 25,
   "id": "26969f1f",
   "metadata": {
    "execution": {
     "iopub.execute_input": "2023-03-06T14:22:00.303477Z",
     "iopub.status.busy": "2023-03-06T14:22:00.302732Z",
     "iopub.status.idle": "2023-03-06T14:22:00.308056Z",
     "shell.execute_reply": "2023-03-06T14:22:00.307129Z"
    },
    "papermill": {
     "duration": 0.024736,
     "end_time": "2023-03-06T14:22:00.310366",
     "exception": false,
     "start_time": "2023-03-06T14:22:00.285630",
     "status": "completed"
    },
    "tags": []
   },
   "outputs": [],
   "source": [
    "def cross_entropy(X,Y,theta):\n",
    "    return np.mean(-Y*np.log(sigmoid(X@theta)) - (1-Y)*np.log(1 - sigmoid(X@theta)))"
   ]
  },
  {
   "cell_type": "code",
   "execution_count": 26,
   "id": "7ea3f199",
   "metadata": {
    "execution": {
     "iopub.execute_input": "2023-03-06T14:22:00.343993Z",
     "iopub.status.busy": "2023-03-06T14:22:00.343252Z",
     "iopub.status.idle": "2023-03-06T14:22:00.348021Z",
     "shell.execute_reply": "2023-03-06T14:22:00.347071Z"
    },
    "papermill": {
     "duration": 0.024112,
     "end_time": "2023-03-06T14:22:00.350262",
     "exception": false,
     "start_time": "2023-03-06T14:22:00.326150",
     "status": "completed"
    },
    "tags": []
   },
   "outputs": [],
   "source": [
    "def gradient(X,Y,theta):\n",
    "    return X.T@(sigmoid(X@theta) - Y)"
   ]
  },
  {
   "cell_type": "code",
   "execution_count": 27,
   "id": "d10e2ae7",
   "metadata": {
    "execution": {
     "iopub.execute_input": "2023-03-06T14:22:00.383908Z",
     "iopub.status.busy": "2023-03-06T14:22:00.383168Z",
     "iopub.status.idle": "2023-03-06T14:24:00.285162Z",
     "shell.execute_reply": "2023-03-06T14:24:00.283846Z"
    },
    "papermill": {
     "duration": 119.926345,
     "end_time": "2023-03-06T14:24:00.292125",
     "exception": false,
     "start_time": "2023-03-06T14:22:00.365780",
     "status": "completed"
    },
    "tags": []
   },
   "outputs": [
    {
     "name": "stdout",
     "output_type": "stream",
     "text": [
      "0번째|entropy :0.6931471805599453|gradient:7160.537368501542\n",
      "10000번째|entropy :0.39070721287573695|gradient:-20.763417429227868\n",
      "20000번째|entropy :0.3861228618020915|gradient:-12.681115191324626\n",
      "30000번째|entropy :0.3845599222547212|gradient:-8.638480568136668\n",
      "40000번째|entropy :0.3838194694059537|gradient:-6.111461220636837\n",
      "50000번째|entropy :0.38340829575666446|gradient:-4.446711960436243\n",
      "60000번째|entropy :0.383152177766799|gradient:-3.323755171789699\n",
      "70000번째|entropy :0.3829790846355269|gradient:-2.5487809271072255\n",
      "80000번째|entropy :0.3828558206714446|gradient:-2.0004388871777685\n",
      "90000번째|entropy :0.38276523652793276|gradient:-1.6021723427993442\n",
      "100000번째|entropy :0.38269741455215933|gradient:-1.3052835687443318\n"
     ]
    }
   ],
   "source": [
    "iteration = 100000\n",
    "\n",
    "alpha = 0.00001\n",
    "\n",
    "entropy_list = []\n",
    "cost_list = []\n",
    "\n",
    "theta = np.zeros(x_new.shape[1]).reshape(-1,1)\n",
    "\n",
    "for _ in range(iteration+1):\n",
    "    \n",
    "    predicted = sigmoid(x_new@theta)\n",
    "    \n",
    "    error = np.sum(result - predicted)\n",
    "    \n",
    "    entropy = cross_entropy(x_new,result,theta)\n",
    "    cost = gradient(x_new,result,theta)\n",
    "    \n",
    "    entropy_list.append(entropy)\n",
    "    cost_list.append(np.sum(cost))\n",
    "    \n",
    "    theta -= alpha * cost\n",
    "    \n",
    "    if _ % 10000 == 0:\n",
    "        print(f'{_}번째',f'entropy :{entropy}',f'gradient:{np.sum(cost)}',sep = '|')"
   ]
  },
  {
   "cell_type": "code",
   "execution_count": 28,
   "id": "b41732e0",
   "metadata": {
    "execution": {
     "iopub.execute_input": "2023-03-06T14:24:00.377411Z",
     "iopub.status.busy": "2023-03-06T14:24:00.376716Z",
     "iopub.status.idle": "2023-03-06T14:24:00.837156Z",
     "shell.execute_reply": "2023-03-06T14:24:00.835954Z"
    },
    "papermill": {
     "duration": 0.506359,
     "end_time": "2023-03-06T14:24:00.840186",
     "exception": false,
     "start_time": "2023-03-06T14:24:00.333827",
     "status": "completed"
    },
    "tags": []
   },
   "outputs": [
    {
     "data": {
      "text/plain": [
       "Text(0.5, 1.0, 'gradient')"
      ]
     },
     "execution_count": 28,
     "metadata": {},
     "output_type": "execute_result"
    },
    {
     "data": {
      "image/png": "[encoded data removed]",
      "text/plain": [
       "<Figure size 1000x500 with 2 Axes>"
      ]
     },
     "metadata": {},
     "output_type": "display_data"
    }
   ],
   "source": [
    "fig = plt.figure(figsize = [10,5])\n",
    "\n",
    "ax1 = fig.add_subplot(211)\n",
    "ax2 = fig.add_subplot(212)\n",
    "\n",
    "ax1.plot(range(len(entropy_list)),entropy_list)\n",
    "ax2.plot(range(len(cost_list)),cost_list)\n",
    "\n",
    "ax1.set_title('cross_entropy')\n",
    "ax2.set_title('gradient')"
   ]
  },
  {
   "cell_type": "code",
   "execution_count": 29,
   "id": "5b944eef",
   "metadata": {
    "execution": {
     "iopub.execute_input": "2023-03-06T14:24:00.876883Z",
     "iopub.status.busy": "2023-03-06T14:24:00.875787Z",
     "iopub.status.idle": "2023-03-06T14:24:00.892783Z",
     "shell.execute_reply": "2023-03-06T14:24:00.891016Z"
    },
    "papermill": {
     "duration": 0.041936,
     "end_time": "2023-03-06T14:24:00.899480",
     "exception": false,
     "start_time": "2023-03-06T14:24:00.857544",
     "status": "completed"
    },
    "tags": []
   },
   "outputs": [
    {
     "name": "stdout",
     "output_type": "stream",
     "text": [
      "[[0.09916383]\n",
      " [0.10733268]\n",
      " [0.20422631]\n",
      " [0.20589065]\n",
      " [0.39694106]\n",
      " [0.16324051]\n",
      " [0.11116181]\n",
      " [0.12891801]\n",
      " [0.0792737 ]\n",
      " [0.02620165]]\n"
     ]
    }
   ],
   "source": [
    "prob = sigmoid(x_new@theta) # x 값이 1일 확률 \n",
    "print(prob[:10])\n",
    "#이제 적절한 threshold 를 찾아야 한다."
   ]
  },
  {
   "cell_type": "code",
   "execution_count": 30,
   "id": "aa87686a",
   "metadata": {
    "execution": {
     "iopub.execute_input": "2023-03-06T14:24:00.987774Z",
     "iopub.status.busy": "2023-03-06T14:24:00.987002Z",
     "iopub.status.idle": "2023-03-06T14:24:01.007702Z",
     "shell.execute_reply": "2023-03-06T14:24:01.006377Z"
    },
    "papermill": {
     "duration": 0.068867,
     "end_time": "2023-03-06T14:24:01.010834",
     "exception": false,
     "start_time": "2023-03-06T14:24:00.941967",
     "status": "completed"
    },
    "tags": []
   },
   "outputs": [
    {
     "name": "stdout",
     "output_type": "stream",
     "text": [
      "Threshold 0.0: 0.1546\n",
      "Threshold 0.1: 0.5133\n",
      "Threshold 0.2: 0.7481\n",
      "Threshold 0.3: 0.8215\n",
      "Threshold 0.4: 0.844\n",
      "Threshold 0.5: 0.8531\n",
      "Threshold 0.6: 0.8496\n",
      "Threshold 0.7: 0.8463\n",
      "Threshold 0.8: 0.8454\n",
      "Threshold 0.9: 0.8454\n",
      "Threshold 1.0: 0.8454\n"
     ]
    }
   ],
   "source": [
    "threshold = np.arange(0,1.01,0.01)\n",
    "\n",
    "score_list = []\n",
    "\n",
    "for _ in threshold:\n",
    "    \n",
    "    prediction = (prob > _).astype(int)\n",
    "    \n",
    "    score = np.sum(result == prediction) / len(result)\n",
    "    \n",
    "    score_list.append(score)\n",
    "    \n",
    "    if round(_,2) * 100 % 10 == 0:\n",
    "        print(f'Threshold {round(_,2)}:',round(score,4))"
   ]
  },
  {
   "cell_type": "code",
   "execution_count": 31,
   "id": "e45ae4b4",
   "metadata": {
    "execution": {
     "iopub.execute_input": "2023-03-06T14:24:01.047440Z",
     "iopub.status.busy": "2023-03-06T14:24:01.046554Z",
     "iopub.status.idle": "2023-03-06T14:24:01.353675Z",
     "shell.execute_reply": "2023-03-06T14:24:01.352370Z"
    },
    "papermill": {
     "duration": 0.328614,
     "end_time": "2023-03-06T14:24:01.356624",
     "exception": false,
     "start_time": "2023-03-06T14:24:01.028010",
     "status": "completed"
    },
    "tags": []
   },
   "outputs": [
    {
     "data": {
      "image/png": "[encoded data removed]",
      "text/plain": [
       "<Figure size 640x480 with 1 Axes>"
      ]
     },
     "metadata": {},
     "output_type": "display_data"
    }
   ],
   "source": [
    "idx = np.argmax(score_list)\n",
    "\n",
    "plt.plot(threshold,score_list,c = 'orange')\n",
    "plt.plot([0,threshold[idx]],[score_list[idx],score_list[idx]],'k--',c = 'red')\n",
    "plt.plot([threshold[idx],threshold[idx]],[0,score_list[idx]],'k--', c = 'red')\n",
    "\n",
    "plt.title(f'best Threshold & score\\n Threshold : {threshold[idx]} \\n socre = {score_list[idx]}')\n",
    "\n",
    "plt.yticks(ticks = np.arange(0,1,0.05));"
   ]
  },
  {
   "cell_type": "markdown",
   "id": "863c81ed",
   "metadata": {
    "papermill": {
     "duration": 0.017313,
     "end_time": "2023-03-06T14:24:01.391529",
     "exception": false,
     "start_time": "2023-03-06T14:24:01.374216",
     "status": "completed"
    },
    "tags": []
   },
   "source": [
    "# 테스트 세트에 검증 "
   ]
  },
  {
   "cell_type": "code",
   "execution_count": 32,
   "id": "79d351e6",
   "metadata": {
    "execution": {
     "iopub.execute_input": "2023-03-06T14:24:01.428902Z",
     "iopub.status.busy": "2023-03-06T14:24:01.428455Z",
     "iopub.status.idle": "2023-03-06T14:24:01.433947Z",
     "shell.execute_reply": "2023-03-06T14:24:01.432680Z"
    },
    "papermill": {
     "duration": 0.027358,
     "end_time": "2023-03-06T14:24:01.436495",
     "exception": false,
     "start_time": "2023-03-06T14:24:01.409137",
     "status": "completed"
    },
    "tags": []
   },
   "outputs": [],
   "source": [
    "Y = np.array(y_train)"
   ]
  },
  {
   "cell_type": "code",
   "execution_count": 33,
   "id": "dbc86783",
   "metadata": {
    "execution": {
     "iopub.execute_input": "2023-03-06T14:24:01.474258Z",
     "iopub.status.busy": "2023-03-06T14:24:01.473824Z",
     "iopub.status.idle": "2023-03-06T14:24:01.480581Z",
     "shell.execute_reply": "2023-03-06T14:24:01.479171Z"
    },
    "papermill": {
     "duration": 0.029243,
     "end_time": "2023-03-06T14:24:01.483261",
     "exception": false,
     "start_time": "2023-03-06T14:24:01.454018",
     "status": "completed"
    },
    "tags": []
   },
   "outputs": [],
   "source": [
    "constant = np.ones(Y.shape[0]).reshape(-1,1)\n",
    "\n",
    "Y = np.c_[constant,Y]\n",
    "y_test = np.array(y_test).reshape(-1,1)"
   ]
  },
  {
   "cell_type": "code",
   "execution_count": 34,
   "id": "1c1e59a1",
   "metadata": {
    "execution": {
     "iopub.execute_input": "2023-03-06T14:24:01.521915Z",
     "iopub.status.busy": "2023-03-06T14:24:01.520818Z",
     "iopub.status.idle": "2023-03-06T14:24:01.533581Z",
     "shell.execute_reply": "2023-03-06T14:24:01.531556Z"
    },
    "papermill": {
     "duration": 0.038157,
     "end_time": "2023-03-06T14:24:01.539345",
     "exception": false,
     "start_time": "2023-03-06T14:24:01.501188",
     "status": "completed"
    },
    "tags": []
   },
   "outputs": [
    {
     "name": "stdout",
     "output_type": "stream",
     "text": [
      "0.8632075471698113\n"
     ]
    }
   ],
   "source": [
    "prediction= (sigmoid(Y@theta)>0.49).astype(int)\n",
    "\n",
    "print(np.sum(prediction == y_test)/ len(y_test))\n",
    "\n",
    "#예측률 86% "
   ]
  }
 ],
 "metadata": {
  "kernelspec": {
   "display_name": "Python 3",
   "language": "python",
   "name": "python3"
  },
  "language_info": {
   "codemirror_mode": {
    "name": "ipython",
    "version": 3
   },
   "file_extension": ".py",
   "mimetype": "text/x-python",
   "name": "python",
   "nbconvert_exporter": "python",
   "pygments_lexer": "ipython3",
   "version": "3.7.12"
  },
  "papermill": {
   "default_parameters": {},
   "duration": 141.8679,
   "end_time": "2023-03-06T14:24:02.516029",
   "environment_variables": {},
   "exception": null,
   "input_path": "__notebook__.ipynb",
   "output_path": "__notebook__.ipynb",
   "parameters": {},
   "start_time": "2023-03-06T14:21:40.648129",
   "version": "2.4.0"
  }
 },
 "nbformat": 4,
 "nbformat_minor": 5
}
